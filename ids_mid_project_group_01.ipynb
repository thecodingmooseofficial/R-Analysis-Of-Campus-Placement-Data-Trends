{
  "nbformat": 4,
  "nbformat_minor": 0,
  "metadata": {
    "colab": {
      "provenance": []
    },
    "kernelspec": {
      "name": "ir",
      "display_name": "R"
    },
    "language_info": {
      "name": "R"
    }
  },
  "cells": [
    {
      "cell_type": "markdown",
      "source": [
        "# **Placement Intelligence Platform**"
      ],
      "metadata": {
        "id": "XirXSt8MH9bQ"
      }
    },
    {
      "cell_type": "markdown",
      "source": [
        "## 1. Load the Dataset"
      ],
      "metadata": {
        "id": "nL5WCNAc_UpO"
      }
    },
    {
      "cell_type": "code",
      "execution_count": 1,
      "metadata": {
        "id": "V9ztXzW4U92J",
        "colab": {
          "base_uri": "https://localhost:8080/",
          "height": 1000
        },
        "outputId": "ca7d0583-ffd5-4858-8d15-0c77bd48526b"
      },
      "outputs": [
        {
          "output_type": "display_data",
          "data": {
            "text/html": [
              "<table class=\"dataframe\">\n",
              "<caption>A data.frame: 216 × 16</caption>\n",
              "<thead>\n",
              "\t<tr><th scope=col>sl_no</th><th scope=col>gender</th><th scope=col>ssc_p</th><th scope=col>ssc_b</th><th scope=col>hsc_p</th><th scope=col>hsc_b</th><th scope=col>hsc_s</th><th scope=col>degree_p</th><th scope=col>degree_t</th><th scope=col>workex</th><th scope=col>etest_p</th><th scope=col>specialisation</th><th scope=col>mba_p</th><th scope=col>status</th><th scope=col>salary</th><th scope=col>class</th></tr>\n",
              "\t<tr><th scope=col>&lt;int&gt;</th><th scope=col>&lt;chr&gt;</th><th scope=col>&lt;dbl&gt;</th><th scope=col>&lt;chr&gt;</th><th scope=col>&lt;dbl&gt;</th><th scope=col>&lt;chr&gt;</th><th scope=col>&lt;chr&gt;</th><th scope=col>&lt;dbl&gt;</th><th scope=col>&lt;chr&gt;</th><th scope=col>&lt;int&gt;</th><th scope=col>&lt;dbl&gt;</th><th scope=col>&lt;chr&gt;</th><th scope=col>&lt;dbl&gt;</th><th scope=col>&lt;chr&gt;</th><th scope=col>&lt;int&gt;</th><th scope=col>&lt;int&gt;</th></tr>\n",
              "</thead>\n",
              "<tbody>\n",
              "\t<tr><td> 1</td><td>M</td><td>67.00</td><td>Others </td><td>91.00</td><td>Others </td><td>Commerce</td><td>58.00</td><td>Sci&amp;Tech </td><td>0</td><td>55.00</td><td>Mkt&amp;HR </td><td>58.80</td><td><span style=white-space:pre-wrap>Placed    </span></td><td>270000</td><td>0</td></tr>\n",
              "\t<tr><td> 2</td><td>M</td><td>79.33</td><td>Central</td><td>78.33</td><td>Others </td><td>Science </td><td>77.48</td><td>Sci&amp;Tech </td><td>1</td><td>86.50</td><td>Mkt&amp;Fin</td><td>66.28</td><td><span style=white-space:pre-wrap>Placed    </span></td><td>200000</td><td>0</td></tr>\n",
              "\t<tr><td> 3</td><td>M</td><td>65.00</td><td>Central</td><td>68.00</td><td>Central</td><td><span style=white-space:pre-wrap>Arts    </span></td><td>64.00</td><td>Comm&amp;Mgmt</td><td>0</td><td>75.00</td><td>Mkt&amp;Fin</td><td>57.80</td><td><span style=white-space:pre-wrap>Placed    </span></td><td>250000</td><td>0</td></tr>\n",
              "\t<tr><td> 4</td><td>M</td><td>56.00</td><td>Central</td><td>52.00</td><td>Central</td><td>Science </td><td>52.00</td><td>Sci&amp;Tech </td><td>0</td><td>66.00</td><td>Mkt&amp;HR </td><td>59.43</td><td>Not Placed</td><td><span style=white-space:pre-wrap>    NA</span></td><td>0</td></tr>\n",
              "\t<tr><td> 5</td><td>M</td><td>85.80</td><td>Central</td><td>73.60</td><td>Central</td><td>Commerce</td><td>73.30</td><td>Comm&amp;Mgmt</td><td>0</td><td>96.80</td><td>Mkt&amp;Fin</td><td>55.50</td><td><span style=white-space:pre-wrap>Placed    </span></td><td>425000</td><td>1</td></tr>\n",
              "\t<tr><td> 6</td><td>M</td><td>55.00</td><td>Others </td><td>49.80</td><td>Others </td><td>Science </td><td>67.25</td><td>Sci&amp;Tech </td><td>1</td><td>55.00</td><td>Mkt&amp;Fin</td><td>51.58</td><td>Not Placed</td><td><span style=white-space:pre-wrap>    NA</span></td><td>1</td></tr>\n",
              "\t<tr><td> 7</td><td>F</td><td>46.00</td><td>Others </td><td>49.20</td><td>Others </td><td>Commerce</td><td>79.00</td><td>Comm&amp;Mgmt</td><td>0</td><td>74.28</td><td>Mkt&amp;Fin</td><td>53.29</td><td>Not Placed</td><td><span style=white-space:pre-wrap>    NA</span></td><td>1</td></tr>\n",
              "\t<tr><td> 8</td><td>M</td><td>82.00</td><td>Central</td><td>64.00</td><td>Central</td><td>Science </td><td>66.00</td><td>Sci&amp;Tech </td><td>1</td><td>67.00</td><td>Mkt&amp;Fin</td><td>62.14</td><td><span style=white-space:pre-wrap>Placed    </span></td><td>252000</td><td>0</td></tr>\n",
              "\t<tr><td> 9</td><td>M</td><td>73.00</td><td>Central</td><td>79.00</td><td>Central</td><td>Commerce</td><td>72.00</td><td>Comm&amp;Mgmt</td><td>0</td><td>91.34</td><td>Mkt&amp;Fin</td><td>61.29</td><td><span style=white-space:pre-wrap>Placed    </span></td><td>231000</td><td>0</td></tr>\n",
              "\t<tr><td>10</td><td>M</td><td>58.00</td><td>Central</td><td>70.00</td><td>Central</td><td>Commerce</td><td>61.00</td><td>Comm&amp;Mgmt</td><td>0</td><td>54.00</td><td>Mkt&amp;Fin</td><td>52.21</td><td>Not Placed</td><td><span style=white-space:pre-wrap>    NA</span></td><td>0</td></tr>\n",
              "\t<tr><td>11</td><td>M</td><td>58.00</td><td>Central</td><td>61.00</td><td>Central</td><td>Commerce</td><td>60.00</td><td>Comm&amp;Mgmt</td><td>1</td><td>62.00</td><td>Mkt&amp;HR </td><td>60.85</td><td><span style=white-space:pre-wrap>Placed    </span></td><td>260000</td><td>0</td></tr>\n",
              "\t<tr><td>12</td><td>M</td><td>69.60</td><td>Central</td><td>68.40</td><td>Central</td><td>Commerce</td><td>78.30</td><td>Comm&amp;Mgmt</td><td>1</td><td>60.00</td><td>Mkt&amp;Fin</td><td>63.70</td><td><span style=white-space:pre-wrap>Placed    </span></td><td>250000</td><td>0</td></tr>\n",
              "\t<tr><td>13</td><td>F</td><td>47.00</td><td>Central</td><td>55.00</td><td>Others </td><td>Science </td><td>65.00</td><td>Comm&amp;Mgmt</td><td>0</td><td>62.00</td><td>Mkt&amp;HR </td><td>65.04</td><td>Not Placed</td><td><span style=white-space:pre-wrap>    NA</span></td><td>0</td></tr>\n",
              "\t<tr><td>14</td><td>F</td><td>77.00</td><td>Central</td><td>87.00</td><td>Central</td><td>Commerce</td><td>59.00</td><td>Comm&amp;Mgmt</td><td>0</td><td>68.00</td><td>Mkt&amp;Fin</td><td>68.63</td><td><span style=white-space:pre-wrap>Placed    </span></td><td>218000</td><td>0</td></tr>\n",
              "\t<tr><td>15</td><td>M</td><td>62.00</td><td>Central</td><td>47.00</td><td>Central</td><td>Commerce</td><td>50.00</td><td>Comm&amp;Mgmt</td><td>0</td><td>76.00</td><td>Mkt&amp;HR </td><td>54.96</td><td>Not Placed</td><td><span style=white-space:pre-wrap>    NA</span></td><td>0</td></tr>\n",
              "\t<tr><td>16</td><td>F</td><td>65.00</td><td>Central</td><td>75.00</td><td>Central</td><td>Commerce</td><td>69.00</td><td>Comm&amp;Mgmt</td><td>1</td><td>72.00</td><td>Mkt&amp;Fin</td><td>64.66</td><td><span style=white-space:pre-wrap>Placed    </span></td><td>200000</td><td>0</td></tr>\n",
              "\t<tr><td>17</td><td>M</td><td>63.00</td><td>Central</td><td>66.20</td><td>Central</td><td>Commerce</td><td>65.60</td><td>Comm&amp;Mgmt</td><td>1</td><td>60.00</td><td>Mkt&amp;Fin</td><td>62.54</td><td><span style=white-space:pre-wrap>Placed    </span></td><td>300000</td><td>1</td></tr>\n",
              "\t<tr><td>18</td><td>F</td><td>55.00</td><td>Central</td><td>67.00</td><td>Central</td><td>Commerce</td><td>64.00</td><td>Comm&amp;Mgmt</td><td>0</td><td>60.00</td><td>Mkt&amp;Fin</td><td>67.28</td><td>Not Placed</td><td><span style=white-space:pre-wrap>    NA</span></td><td>1</td></tr>\n",
              "\t<tr><td>19</td><td>F</td><td>63.00</td><td>Central</td><td>66.00</td><td>Central</td><td>Commerce</td><td>64.00</td><td>Comm&amp;Mgmt</td><td>0</td><td>68.00</td><td>Mkt&amp;HR </td><td>64.08</td><td>Not Placed</td><td><span style=white-space:pre-wrap>    NA</span></td><td>1</td></tr>\n",
              "\t<tr><td>20</td><td>M</td><td>60.00</td><td>Others </td><td>67.00</td><td>Others </td><td><span style=white-space:pre-wrap>Arts    </span></td><td>70.00</td><td>Comm&amp;Mgmt</td><td>1</td><td>50.48</td><td>Mkt&amp;Fin</td><td>77.89</td><td><span style=white-space:pre-wrap>Placed    </span></td><td>236000</td><td>0</td></tr>\n",
              "\t<tr><td>21</td><td>M</td><td>62.00</td><td>Others </td><td>65.00</td><td>Others </td><td>Commerce</td><td>66.00</td><td>Comm&amp;Mgmt</td><td>0</td><td>50.00</td><td>Mkt&amp;HR </td><td>56.70</td><td><span style=white-space:pre-wrap>Placed    </span></td><td>265000</td><td>1</td></tr>\n",
              "\t<tr><td>22</td><td>F</td><td>79.00</td><td>Others </td><td>76.00</td><td>Others </td><td>Commerce</td><td>85.00</td><td>Comm&amp;Mgmt</td><td>0</td><td>95.00</td><td>Mkt&amp;Fin</td><td>69.06</td><td><span style=white-space:pre-wrap>Placed    </span></td><td>393000</td><td>1</td></tr>\n",
              "\t<tr><td>23</td><td>F</td><td>69.80</td><td>Others </td><td>60.80</td><td>Others </td><td>Science </td><td>72.23</td><td>Sci&amp;Tech </td><td>0</td><td>55.53</td><td>Mkt&amp;HR </td><td>68.81</td><td><span style=white-space:pre-wrap>Placed    </span></td><td>360000</td><td>1</td></tr>\n",
              "\t<tr><td>24</td><td>F</td><td>77.40</td><td>Others </td><td>60.00</td><td>Others </td><td>Science </td><td>64.74</td><td>Sci&amp;Tech </td><td>1</td><td>92.00</td><td>Mkt&amp;Fin</td><td>63.62</td><td><span style=white-space:pre-wrap>Placed    </span></td><td>300000</td><td>1</td></tr>\n",
              "\t<tr><td>25</td><td>M</td><td>76.50</td><td>Others </td><td>97.70</td><td>Others </td><td>Science </td><td>78.86</td><td>Sci&amp;Tech </td><td>0</td><td>97.40</td><td>Mkt&amp;Fin</td><td>74.01</td><td><span style=white-space:pre-wrap>Placed    </span></td><td>360000</td><td>1</td></tr>\n",
              "\t<tr><td>26</td><td>F</td><td>52.58</td><td>Others </td><td>54.60</td><td>Central</td><td>Commerce</td><td>50.20</td><td>Comm&amp;Mgmt</td><td>1</td><td>76.00</td><td>Mkt&amp;Fin</td><td>65.33</td><td>Not Placed</td><td><span style=white-space:pre-wrap>    NA</span></td><td>1</td></tr>\n",
              "\t<tr><td>27</td><td>M</td><td>71.00</td><td>Others </td><td>79.00</td><td>Others </td><td>Commerce</td><td>66.00</td><td>Comm&amp;Mgmt</td><td>1</td><td>94.00</td><td>Mkt&amp;Fin</td><td>57.55</td><td><span style=white-space:pre-wrap>Placed    </span></td><td>240000</td><td>0</td></tr>\n",
              "\t<tr><td>28</td><td>M</td><td>63.00</td><td>Others </td><td>67.00</td><td>Others </td><td>Commerce</td><td>66.00</td><td>Comm&amp;Mgmt</td><td>0</td><td>68.00</td><td>Mkt&amp;HR </td><td>57.69</td><td><span style=white-space:pre-wrap>Placed    </span></td><td>265000</td><td>1</td></tr>\n",
              "\t<tr><td>29</td><td>M</td><td>76.76</td><td>Others </td><td>76.50</td><td>Others </td><td>Commerce</td><td>67.50</td><td>Comm&amp;Mgmt</td><td>1</td><td>73.35</td><td>Mkt&amp;Fin</td><td>64.15</td><td><span style=white-space:pre-wrap>Placed    </span></td><td>350000</td><td>1</td></tr>\n",
              "\t<tr><td>30</td><td>M</td><td>62.00</td><td>Central</td><td>67.00</td><td>Central</td><td>Commerce</td><td>58.00</td><td>Comm&amp;Mgmt</td><td>0</td><td>77.00</td><td>Mkt&amp;Fin</td><td>51.29</td><td>Not Placed</td><td><span style=white-space:pre-wrap>    NA</span></td><td>1</td></tr>\n",
              "\t<tr><td>⋮</td><td>⋮</td><td>⋮</td><td>⋮</td><td>⋮</td><td>⋮</td><td>⋮</td><td>⋮</td><td>⋮</td><td>⋮</td><td>⋮</td><td>⋮</td><td>⋮</td><td>⋮</td><td>⋮</td><td>⋮</td></tr>\n",
              "\t<tr><td>187</td><td>F</td><td>52.00</td><td>Central</td><td>64.00</td><td>Central</td><td>Commerce</td><td>61.00</td><td>Comm&amp;Mgmt</td><td>0</td><td>55.00</td><td>Mkt&amp;Fin</td><td>62.93</td><td>Not Placed</td><td><span style=white-space:pre-wrap>    NA</span></td><td>0</td></tr>\n",
              "\t<tr><td>188</td><td>M</td><td>78.50</td><td>Central</td><td>65.50</td><td>Central</td><td>Science </td><td>67.00</td><td>Sci&amp;Tech </td><td>1</td><td>95.00</td><td>Mkt&amp;Fin</td><td>64.86</td><td><span style=white-space:pre-wrap>Placed    </span></td><td>280000</td><td>1</td></tr>\n",
              "\t<tr><td>189</td><td>M</td><td>61.80</td><td>Others </td><td>47.00</td><td>Others </td><td>Commerce</td><td>54.38</td><td>Comm&amp;Mgmt</td><td>0</td><td>57.00</td><td>Mkt&amp;Fin</td><td>56.13</td><td>Not Placed</td><td><span style=white-space:pre-wrap>    NA</span></td><td>1</td></tr>\n",
              "\t<tr><td>190</td><td>F</td><td>54.00</td><td>Central</td><td>77.60</td><td>Others </td><td>Commerce</td><td>69.20</td><td>Comm&amp;Mgmt</td><td>0</td><td>95.65</td><td>Mkt&amp;Fin</td><td>66.94</td><td>Not Placed</td><td><span style=white-space:pre-wrap>    NA</span></td><td>1</td></tr>\n",
              "\t<tr><td>191</td><td>F</td><td>64.00</td><td>Others </td><td>70.20</td><td>Central</td><td>Commerce</td><td>61.00</td><td>Comm&amp;Mgmt</td><td>0</td><td>50.00</td><td>Mkt&amp;Fin</td><td>62.50</td><td>Not Placed</td><td><span style=white-space:pre-wrap>    NA</span></td><td>1</td></tr>\n",
              "\t<tr><td>192</td><td>M</td><td>67.00</td><td>Others </td><td>61.00</td><td>Central</td><td>Science </td><td>72.00</td><td>Comm&amp;Mgmt</td><td>0</td><td>72.00</td><td>Mkt&amp;Fin</td><td>61.01</td><td><span style=white-space:pre-wrap>Placed    </span></td><td>264000</td><td>1</td></tr>\n",
              "\t<tr><td>193</td><td>M</td><td>65.20</td><td>Central</td><td>61.40</td><td>Central</td><td>Commerce</td><td>64.80</td><td>Comm&amp;Mgmt</td><td>1</td><td>93.40</td><td>Mkt&amp;Fin</td><td>57.34</td><td><span style=white-space:pre-wrap>Placed    </span></td><td>270000</td><td>1</td></tr>\n",
              "\t<tr><td>194</td><td>F</td><td>60.00</td><td>Central</td><td>63.00</td><td>Central</td><td><span style=white-space:pre-wrap>Arts    </span></td><td>56.00</td><td><span style=white-space:pre-wrap>Others   </span></td><td>1</td><td>80.00</td><td>Mkt&amp;HR </td><td>56.63</td><td><span style=white-space:pre-wrap>Placed    </span></td><td>300000</td><td>1</td></tr>\n",
              "\t<tr><td>195</td><td>M</td><td>52.00</td><td>Others </td><td>55.00</td><td>Others </td><td>Commerce</td><td>56.30</td><td>Comm&amp;Mgmt</td><td>0</td><td>59.00</td><td>Mkt&amp;Fin</td><td>64.74</td><td>Not Placed</td><td><span style=white-space:pre-wrap>    NA</span></td><td>1</td></tr>\n",
              "\t<tr><td>196</td><td>M</td><td>66.00</td><td>Central</td><td>76.00</td><td>Central</td><td>Commerce</td><td>72.00</td><td>Comm&amp;Mgmt</td><td>1</td><td>84.00</td><td>Mkt&amp;HR </td><td>58.95</td><td><span style=white-space:pre-wrap>Placed    </span></td><td>275000</td><td>1</td></tr>\n",
              "\t<tr><td>197</td><td>M</td><td>72.00</td><td>Others </td><td>63.00</td><td>Others </td><td>Science </td><td>77.50</td><td>Sci&amp;Tech </td><td>1</td><td>78.00</td><td>Mkt&amp;Fin</td><td>54.48</td><td><span style=white-space:pre-wrap>Placed    </span></td><td>250000</td><td>0</td></tr>\n",
              "\t<tr><td>198</td><td>F</td><td>83.96</td><td>Others </td><td>53.00</td><td>Others </td><td>Science </td><td>91.00</td><td>Sci&amp;Tech </td><td>0</td><td>59.32</td><td>Mkt&amp;HR </td><td>69.71</td><td><span style=white-space:pre-wrap>Placed    </span></td><td>260000</td><td>1</td></tr>\n",
              "\t<tr><td>199</td><td>F</td><td>67.00</td><td>Central</td><td>70.00</td><td>Central</td><td>Commerce</td><td>65.00</td><td><span style=white-space:pre-wrap>Others   </span></td><td>0</td><td>88.00</td><td>Mkt&amp;HR </td><td>71.96</td><td>Not Placed</td><td><span style=white-space:pre-wrap>    NA</span></td><td>1</td></tr>\n",
              "\t<tr><td>200</td><td>M</td><td>69.00</td><td>Others </td><td>65.00</td><td>Others </td><td>Commerce</td><td>57.00</td><td>Comm&amp;Mgmt</td><td>0</td><td>73.00</td><td>Mkt&amp;HR </td><td>55.80</td><td><span style=white-space:pre-wrap>Placed    </span></td><td>265000</td><td>1</td></tr>\n",
              "\t<tr><td>201</td><td>M</td><td>69.00</td><td>Others </td><td>60.00</td><td>Others </td><td>Commerce</td><td>65.00</td><td>Comm&amp;Mgmt</td><td>0</td><td>87.55</td><td>Mkt&amp;Fin</td><td>52.81</td><td><span style=white-space:pre-wrap>Placed    </span></td><td>300000</td><td>1</td></tr>\n",
              "\t<tr><td>202</td><td>M</td><td>54.20</td><td>Central</td><td>63.00</td><td>Others </td><td>Science </td><td>58.00</td><td>Comm&amp;Mgmt</td><td>0</td><td>79.00</td><td>Mkt&amp;HR </td><td>58.44</td><td>Not Placed</td><td><span style=white-space:pre-wrap>    NA</span></td><td>1</td></tr>\n",
              "\t<tr><td>203</td><td>M</td><td>70.00</td><td>Central</td><td>63.00</td><td>Central</td><td>Science </td><td>66.00</td><td>Sci&amp;Tech </td><td>0</td><td>61.28</td><td>Mkt&amp;HR </td><td>60.11</td><td><span style=white-space:pre-wrap>Placed    </span></td><td>240000</td><td>0</td></tr>\n",
              "\t<tr><td>204</td><td>M</td><td>55.68</td><td>Others </td><td>61.33</td><td>Others </td><td>Commerce</td><td>56.87</td><td>Comm&amp;Mgmt</td><td>0</td><td>66.00</td><td>Mkt&amp;HR </td><td>58.30</td><td><span style=white-space:pre-wrap>Placed    </span></td><td>260000</td><td>1</td></tr>\n",
              "\t<tr><td>205</td><td>F</td><td>74.00</td><td>Others </td><td>73.00</td><td>Others </td><td>Commerce</td><td>73.00</td><td>Comm&amp;Mgmt</td><td>1</td><td>80.00</td><td>Mkt&amp;Fin</td><td>67.69</td><td><span style=white-space:pre-wrap>Placed    </span></td><td>210000</td><td>0</td></tr>\n",
              "\t<tr><td>206</td><td>M</td><td>61.00</td><td>Others </td><td>62.00</td><td>Others </td><td>Commerce</td><td>65.00</td><td>Comm&amp;Mgmt</td><td>0</td><td>62.00</td><td>Mkt&amp;Fin</td><td>56.81</td><td><span style=white-space:pre-wrap>Placed    </span></td><td>250000</td><td>0</td></tr>\n",
              "\t<tr><td>207</td><td>M</td><td>41.00</td><td>Central</td><td>42.00</td><td>Central</td><td>Science </td><td>60.00</td><td>Comm&amp;Mgmt</td><td>0</td><td>97.00</td><td>Mkt&amp;Fin</td><td>53.39</td><td>Not Placed</td><td><span style=white-space:pre-wrap>    NA</span></td><td>0</td></tr>\n",
              "\t<tr><td>208</td><td>M</td><td>83.33</td><td>Central</td><td>78.00</td><td>Others </td><td>Commerce</td><td>61.00</td><td>Comm&amp;Mgmt</td><td>1</td><td>88.56</td><td>Mkt&amp;Fin</td><td>71.55</td><td><span style=white-space:pre-wrap>Placed    </span></td><td>300000</td><td>1</td></tr>\n",
              "\t<tr><td>209</td><td>F</td><td>43.00</td><td>Central</td><td>60.00</td><td>Others </td><td>Science </td><td>65.00</td><td>Comm&amp;Mgmt</td><td>0</td><td>92.66</td><td>Mkt&amp;HR </td><td>62.92</td><td>Not Placed</td><td><span style=white-space:pre-wrap>    NA</span></td><td>1</td></tr>\n",
              "\t<tr><td>210</td><td>M</td><td>62.00</td><td>Central</td><td>72.00</td><td>Central</td><td>Commerce</td><td>65.00</td><td>Comm&amp;Mgmt</td><td>0</td><td>67.00</td><td>Mkt&amp;Fin</td><td>56.49</td><td><span style=white-space:pre-wrap>Placed    </span></td><td>216000</td><td>0</td></tr>\n",
              "\t<tr><td>211</td><td>M</td><td>80.60</td><td>Others </td><td>82.00</td><td>Others </td><td>Commerce</td><td>77.60</td><td>Comm&amp;Mgmt</td><td>0</td><td>91.00</td><td>Mkt&amp;Fin</td><td>74.49</td><td><span style=white-space:pre-wrap>Placed    </span></td><td>400000</td><td>1</td></tr>\n",
              "\t<tr><td>212</td><td>M</td><td>58.00</td><td>Others </td><td>60.00</td><td>Others </td><td>Science </td><td>72.00</td><td>Sci&amp;Tech </td><td>0</td><td>74.00</td><td>Mkt&amp;Fin</td><td>53.62</td><td><span style=white-space:pre-wrap>Placed    </span></td><td>275000</td><td>1</td></tr>\n",
              "\t<tr><td>213</td><td>M</td><td>67.00</td><td>Others </td><td>67.00</td><td>Others </td><td>Commerce</td><td>73.00</td><td>Comm&amp;Mgmt</td><td>1</td><td>59.00</td><td>Mkt&amp;Fin</td><td>69.72</td><td><span style=white-space:pre-wrap>Placed    </span></td><td>295000</td><td>1</td></tr>\n",
              "\t<tr><td>214</td><td>F</td><td>74.00</td><td>Others </td><td>66.00</td><td>Others </td><td>Commerce</td><td>58.00</td><td>Comm&amp;Mgmt</td><td>0</td><td>70.00</td><td>Mkt&amp;HR </td><td>60.23</td><td><span style=white-space:pre-wrap>Placed    </span></td><td>204000</td><td>0</td></tr>\n",
              "\t<tr><td>215</td><td>M</td><td>62.00</td><td>Central</td><td>58.00</td><td>Others </td><td>Science </td><td>53.00</td><td>Comm&amp;Mgmt</td><td>0</td><td>89.00</td><td>Mkt&amp;HR </td><td>60.22</td><td>Not Placed</td><td><span style=white-space:pre-wrap>    NA</span></td><td>0</td></tr>\n",
              "\t<tr><td>216</td><td>M</td><td>67.00</td><td>Others </td><td>91.00</td><td>Others </td><td>Commerce</td><td>58.00</td><td>Sci&amp;Tech </td><td>0</td><td>55.00</td><td>Mkt&amp;HR </td><td>58.80</td><td><span style=white-space:pre-wrap>Placed    </span></td><td>270000</td><td>1</td></tr>\n",
              "</tbody>\n",
              "</table>\n"
            ],
            "text/markdown": "\nA data.frame: 216 × 16\n\n| sl_no &lt;int&gt; | gender &lt;chr&gt; | ssc_p &lt;dbl&gt; | ssc_b &lt;chr&gt; | hsc_p &lt;dbl&gt; | hsc_b &lt;chr&gt; | hsc_s &lt;chr&gt; | degree_p &lt;dbl&gt; | degree_t &lt;chr&gt; | workex &lt;int&gt; | etest_p &lt;dbl&gt; | specialisation &lt;chr&gt; | mba_p &lt;dbl&gt; | status &lt;chr&gt; | salary &lt;int&gt; | class &lt;int&gt; |\n|---|---|---|---|---|---|---|---|---|---|---|---|---|---|---|---|\n|  1 | M | 67.00 | Others  | 91.00 | Others  | Commerce | 58.00 | Sci&amp;Tech  | 0 | 55.00 | Mkt&amp;HR  | 58.80 | Placed     | 270000 | 0 |\n|  2 | M | 79.33 | Central | 78.33 | Others  | Science  | 77.48 | Sci&amp;Tech  | 1 | 86.50 | Mkt&amp;Fin | 66.28 | Placed     | 200000 | 0 |\n|  3 | M | 65.00 | Central | 68.00 | Central | Arts     | 64.00 | Comm&amp;Mgmt | 0 | 75.00 | Mkt&amp;Fin | 57.80 | Placed     | 250000 | 0 |\n|  4 | M | 56.00 | Central | 52.00 | Central | Science  | 52.00 | Sci&amp;Tech  | 0 | 66.00 | Mkt&amp;HR  | 59.43 | Not Placed |     NA | 0 |\n|  5 | M | 85.80 | Central | 73.60 | Central | Commerce | 73.30 | Comm&amp;Mgmt | 0 | 96.80 | Mkt&amp;Fin | 55.50 | Placed     | 425000 | 1 |\n|  6 | M | 55.00 | Others  | 49.80 | Others  | Science  | 67.25 | Sci&amp;Tech  | 1 | 55.00 | Mkt&amp;Fin | 51.58 | Not Placed |     NA | 1 |\n|  7 | F | 46.00 | Others  | 49.20 | Others  | Commerce | 79.00 | Comm&amp;Mgmt | 0 | 74.28 | Mkt&amp;Fin | 53.29 | Not Placed |     NA | 1 |\n|  8 | M | 82.00 | Central | 64.00 | Central | Science  | 66.00 | Sci&amp;Tech  | 1 | 67.00 | Mkt&amp;Fin | 62.14 | Placed     | 252000 | 0 |\n|  9 | M | 73.00 | Central | 79.00 | Central | Commerce | 72.00 | Comm&amp;Mgmt | 0 | 91.34 | Mkt&amp;Fin | 61.29 | Placed     | 231000 | 0 |\n| 10 | M | 58.00 | Central | 70.00 | Central | Commerce | 61.00 | Comm&amp;Mgmt | 0 | 54.00 | Mkt&amp;Fin | 52.21 | Not Placed |     NA | 0 |\n| 11 | M | 58.00 | Central | 61.00 | Central | Commerce | 60.00 | Comm&amp;Mgmt | 1 | 62.00 | Mkt&amp;HR  | 60.85 | Placed     | 260000 | 0 |\n| 12 | M | 69.60 | Central | 68.40 | Central | Commerce | 78.30 | Comm&amp;Mgmt | 1 | 60.00 | Mkt&amp;Fin | 63.70 | Placed     | 250000 | 0 |\n| 13 | F | 47.00 | Central | 55.00 | Others  | Science  | 65.00 | Comm&amp;Mgmt | 0 | 62.00 | Mkt&amp;HR  | 65.04 | Not Placed |     NA | 0 |\n| 14 | F | 77.00 | Central | 87.00 | Central | Commerce | 59.00 | Comm&amp;Mgmt | 0 | 68.00 | Mkt&amp;Fin | 68.63 | Placed     | 218000 | 0 |\n| 15 | M | 62.00 | Central | 47.00 | Central | Commerce | 50.00 | Comm&amp;Mgmt | 0 | 76.00 | Mkt&amp;HR  | 54.96 | Not Placed |     NA | 0 |\n| 16 | F | 65.00 | Central | 75.00 | Central | Commerce | 69.00 | Comm&amp;Mgmt | 1 | 72.00 | Mkt&amp;Fin | 64.66 | Placed     | 200000 | 0 |\n| 17 | M | 63.00 | Central | 66.20 | Central | Commerce | 65.60 | Comm&amp;Mgmt | 1 | 60.00 | Mkt&amp;Fin | 62.54 | Placed     | 300000 | 1 |\n| 18 | F | 55.00 | Central | 67.00 | Central | Commerce | 64.00 | Comm&amp;Mgmt | 0 | 60.00 | Mkt&amp;Fin | 67.28 | Not Placed |     NA | 1 |\n| 19 | F | 63.00 | Central | 66.00 | Central | Commerce | 64.00 | Comm&amp;Mgmt | 0 | 68.00 | Mkt&amp;HR  | 64.08 | Not Placed |     NA | 1 |\n| 20 | M | 60.00 | Others  | 67.00 | Others  | Arts     | 70.00 | Comm&amp;Mgmt | 1 | 50.48 | Mkt&amp;Fin | 77.89 | Placed     | 236000 | 0 |\n| 21 | M | 62.00 | Others  | 65.00 | Others  | Commerce | 66.00 | Comm&amp;Mgmt | 0 | 50.00 | Mkt&amp;HR  | 56.70 | Placed     | 265000 | 1 |\n| 22 | F | 79.00 | Others  | 76.00 | Others  | Commerce | 85.00 | Comm&amp;Mgmt | 0 | 95.00 | Mkt&amp;Fin | 69.06 | Placed     | 393000 | 1 |\n| 23 | F | 69.80 | Others  | 60.80 | Others  | Science  | 72.23 | Sci&amp;Tech  | 0 | 55.53 | Mkt&amp;HR  | 68.81 | Placed     | 360000 | 1 |\n| 24 | F | 77.40 | Others  | 60.00 | Others  | Science  | 64.74 | Sci&amp;Tech  | 1 | 92.00 | Mkt&amp;Fin | 63.62 | Placed     | 300000 | 1 |\n| 25 | M | 76.50 | Others  | 97.70 | Others  | Science  | 78.86 | Sci&amp;Tech  | 0 | 97.40 | Mkt&amp;Fin | 74.01 | Placed     | 360000 | 1 |\n| 26 | F | 52.58 | Others  | 54.60 | Central | Commerce | 50.20 | Comm&amp;Mgmt | 1 | 76.00 | Mkt&amp;Fin | 65.33 | Not Placed |     NA | 1 |\n| 27 | M | 71.00 | Others  | 79.00 | Others  | Commerce | 66.00 | Comm&amp;Mgmt | 1 | 94.00 | Mkt&amp;Fin | 57.55 | Placed     | 240000 | 0 |\n| 28 | M | 63.00 | Others  | 67.00 | Others  | Commerce | 66.00 | Comm&amp;Mgmt | 0 | 68.00 | Mkt&amp;HR  | 57.69 | Placed     | 265000 | 1 |\n| 29 | M | 76.76 | Others  | 76.50 | Others  | Commerce | 67.50 | Comm&amp;Mgmt | 1 | 73.35 | Mkt&amp;Fin | 64.15 | Placed     | 350000 | 1 |\n| 30 | M | 62.00 | Central | 67.00 | Central | Commerce | 58.00 | Comm&amp;Mgmt | 0 | 77.00 | Mkt&amp;Fin | 51.29 | Not Placed |     NA | 1 |\n| ⋮ | ⋮ | ⋮ | ⋮ | ⋮ | ⋮ | ⋮ | ⋮ | ⋮ | ⋮ | ⋮ | ⋮ | ⋮ | ⋮ | ⋮ | ⋮ |\n| 187 | F | 52.00 | Central | 64.00 | Central | Commerce | 61.00 | Comm&amp;Mgmt | 0 | 55.00 | Mkt&amp;Fin | 62.93 | Not Placed |     NA | 0 |\n| 188 | M | 78.50 | Central | 65.50 | Central | Science  | 67.00 | Sci&amp;Tech  | 1 | 95.00 | Mkt&amp;Fin | 64.86 | Placed     | 280000 | 1 |\n| 189 | M | 61.80 | Others  | 47.00 | Others  | Commerce | 54.38 | Comm&amp;Mgmt | 0 | 57.00 | Mkt&amp;Fin | 56.13 | Not Placed |     NA | 1 |\n| 190 | F | 54.00 | Central | 77.60 | Others  | Commerce | 69.20 | Comm&amp;Mgmt | 0 | 95.65 | Mkt&amp;Fin | 66.94 | Not Placed |     NA | 1 |\n| 191 | F | 64.00 | Others  | 70.20 | Central | Commerce | 61.00 | Comm&amp;Mgmt | 0 | 50.00 | Mkt&amp;Fin | 62.50 | Not Placed |     NA | 1 |\n| 192 | M | 67.00 | Others  | 61.00 | Central | Science  | 72.00 | Comm&amp;Mgmt | 0 | 72.00 | Mkt&amp;Fin | 61.01 | Placed     | 264000 | 1 |\n| 193 | M | 65.20 | Central | 61.40 | Central | Commerce | 64.80 | Comm&amp;Mgmt | 1 | 93.40 | Mkt&amp;Fin | 57.34 | Placed     | 270000 | 1 |\n| 194 | F | 60.00 | Central | 63.00 | Central | Arts     | 56.00 | Others    | 1 | 80.00 | Mkt&amp;HR  | 56.63 | Placed     | 300000 | 1 |\n| 195 | M | 52.00 | Others  | 55.00 | Others  | Commerce | 56.30 | Comm&amp;Mgmt | 0 | 59.00 | Mkt&amp;Fin | 64.74 | Not Placed |     NA | 1 |\n| 196 | M | 66.00 | Central | 76.00 | Central | Commerce | 72.00 | Comm&amp;Mgmt | 1 | 84.00 | Mkt&amp;HR  | 58.95 | Placed     | 275000 | 1 |\n| 197 | M | 72.00 | Others  | 63.00 | Others  | Science  | 77.50 | Sci&amp;Tech  | 1 | 78.00 | Mkt&amp;Fin | 54.48 | Placed     | 250000 | 0 |\n| 198 | F | 83.96 | Others  | 53.00 | Others  | Science  | 91.00 | Sci&amp;Tech  | 0 | 59.32 | Mkt&amp;HR  | 69.71 | Placed     | 260000 | 1 |\n| 199 | F | 67.00 | Central | 70.00 | Central | Commerce | 65.00 | Others    | 0 | 88.00 | Mkt&amp;HR  | 71.96 | Not Placed |     NA | 1 |\n| 200 | M | 69.00 | Others  | 65.00 | Others  | Commerce | 57.00 | Comm&amp;Mgmt | 0 | 73.00 | Mkt&amp;HR  | 55.80 | Placed     | 265000 | 1 |\n| 201 | M | 69.00 | Others  | 60.00 | Others  | Commerce | 65.00 | Comm&amp;Mgmt | 0 | 87.55 | Mkt&amp;Fin | 52.81 | Placed     | 300000 | 1 |\n| 202 | M | 54.20 | Central | 63.00 | Others  | Science  | 58.00 | Comm&amp;Mgmt | 0 | 79.00 | Mkt&amp;HR  | 58.44 | Not Placed |     NA | 1 |\n| 203 | M | 70.00 | Central | 63.00 | Central | Science  | 66.00 | Sci&amp;Tech  | 0 | 61.28 | Mkt&amp;HR  | 60.11 | Placed     | 240000 | 0 |\n| 204 | M | 55.68 | Others  | 61.33 | Others  | Commerce | 56.87 | Comm&amp;Mgmt | 0 | 66.00 | Mkt&amp;HR  | 58.30 | Placed     | 260000 | 1 |\n| 205 | F | 74.00 | Others  | 73.00 | Others  | Commerce | 73.00 | Comm&amp;Mgmt | 1 | 80.00 | Mkt&amp;Fin | 67.69 | Placed     | 210000 | 0 |\n| 206 | M | 61.00 | Others  | 62.00 | Others  | Commerce | 65.00 | Comm&amp;Mgmt | 0 | 62.00 | Mkt&amp;Fin | 56.81 | Placed     | 250000 | 0 |\n| 207 | M | 41.00 | Central | 42.00 | Central | Science  | 60.00 | Comm&amp;Mgmt | 0 | 97.00 | Mkt&amp;Fin | 53.39 | Not Placed |     NA | 0 |\n| 208 | M | 83.33 | Central | 78.00 | Others  | Commerce | 61.00 | Comm&amp;Mgmt | 1 | 88.56 | Mkt&amp;Fin | 71.55 | Placed     | 300000 | 1 |\n| 209 | F | 43.00 | Central | 60.00 | Others  | Science  | 65.00 | Comm&amp;Mgmt | 0 | 92.66 | Mkt&amp;HR  | 62.92 | Not Placed |     NA | 1 |\n| 210 | M | 62.00 | Central | 72.00 | Central | Commerce | 65.00 | Comm&amp;Mgmt | 0 | 67.00 | Mkt&amp;Fin | 56.49 | Placed     | 216000 | 0 |\n| 211 | M | 80.60 | Others  | 82.00 | Others  | Commerce | 77.60 | Comm&amp;Mgmt | 0 | 91.00 | Mkt&amp;Fin | 74.49 | Placed     | 400000 | 1 |\n| 212 | M | 58.00 | Others  | 60.00 | Others  | Science  | 72.00 | Sci&amp;Tech  | 0 | 74.00 | Mkt&amp;Fin | 53.62 | Placed     | 275000 | 1 |\n| 213 | M | 67.00 | Others  | 67.00 | Others  | Commerce | 73.00 | Comm&amp;Mgmt | 1 | 59.00 | Mkt&amp;Fin | 69.72 | Placed     | 295000 | 1 |\n| 214 | F | 74.00 | Others  | 66.00 | Others  | Commerce | 58.00 | Comm&amp;Mgmt | 0 | 70.00 | Mkt&amp;HR  | 60.23 | Placed     | 204000 | 0 |\n| 215 | M | 62.00 | Central | 58.00 | Others  | Science  | 53.00 | Comm&amp;Mgmt | 0 | 89.00 | Mkt&amp;HR  | 60.22 | Not Placed |     NA | 0 |\n| 216 | M | 67.00 | Others  | 91.00 | Others  | Commerce | 58.00 | Sci&amp;Tech  | 0 | 55.00 | Mkt&amp;HR  | 58.80 | Placed     | 270000 | 1 |\n\n",
            "text/latex": "A data.frame: 216 × 16\n\\begin{tabular}{llllllllllllllll}\n sl\\_no & gender & ssc\\_p & ssc\\_b & hsc\\_p & hsc\\_b & hsc\\_s & degree\\_p & degree\\_t & workex & etest\\_p & specialisation & mba\\_p & status & salary & class\\\\\n <int> & <chr> & <dbl> & <chr> & <dbl> & <chr> & <chr> & <dbl> & <chr> & <int> & <dbl> & <chr> & <dbl> & <chr> & <int> & <int>\\\\\n\\hline\n\t  1 & M & 67.00 & Others  & 91.00 & Others  & Commerce & 58.00 & Sci\\&Tech  & 0 & 55.00 & Mkt\\&HR  & 58.80 & Placed     & 270000 & 0\\\\\n\t  2 & M & 79.33 & Central & 78.33 & Others  & Science  & 77.48 & Sci\\&Tech  & 1 & 86.50 & Mkt\\&Fin & 66.28 & Placed     & 200000 & 0\\\\\n\t  3 & M & 65.00 & Central & 68.00 & Central & Arts     & 64.00 & Comm\\&Mgmt & 0 & 75.00 & Mkt\\&Fin & 57.80 & Placed     & 250000 & 0\\\\\n\t  4 & M & 56.00 & Central & 52.00 & Central & Science  & 52.00 & Sci\\&Tech  & 0 & 66.00 & Mkt\\&HR  & 59.43 & Not Placed &     NA & 0\\\\\n\t  5 & M & 85.80 & Central & 73.60 & Central & Commerce & 73.30 & Comm\\&Mgmt & 0 & 96.80 & Mkt\\&Fin & 55.50 & Placed     & 425000 & 1\\\\\n\t  6 & M & 55.00 & Others  & 49.80 & Others  & Science  & 67.25 & Sci\\&Tech  & 1 & 55.00 & Mkt\\&Fin & 51.58 & Not Placed &     NA & 1\\\\\n\t  7 & F & 46.00 & Others  & 49.20 & Others  & Commerce & 79.00 & Comm\\&Mgmt & 0 & 74.28 & Mkt\\&Fin & 53.29 & Not Placed &     NA & 1\\\\\n\t  8 & M & 82.00 & Central & 64.00 & Central & Science  & 66.00 & Sci\\&Tech  & 1 & 67.00 & Mkt\\&Fin & 62.14 & Placed     & 252000 & 0\\\\\n\t  9 & M & 73.00 & Central & 79.00 & Central & Commerce & 72.00 & Comm\\&Mgmt & 0 & 91.34 & Mkt\\&Fin & 61.29 & Placed     & 231000 & 0\\\\\n\t 10 & M & 58.00 & Central & 70.00 & Central & Commerce & 61.00 & Comm\\&Mgmt & 0 & 54.00 & Mkt\\&Fin & 52.21 & Not Placed &     NA & 0\\\\\n\t 11 & M & 58.00 & Central & 61.00 & Central & Commerce & 60.00 & Comm\\&Mgmt & 1 & 62.00 & Mkt\\&HR  & 60.85 & Placed     & 260000 & 0\\\\\n\t 12 & M & 69.60 & Central & 68.40 & Central & Commerce & 78.30 & Comm\\&Mgmt & 1 & 60.00 & Mkt\\&Fin & 63.70 & Placed     & 250000 & 0\\\\\n\t 13 & F & 47.00 & Central & 55.00 & Others  & Science  & 65.00 & Comm\\&Mgmt & 0 & 62.00 & Mkt\\&HR  & 65.04 & Not Placed &     NA & 0\\\\\n\t 14 & F & 77.00 & Central & 87.00 & Central & Commerce & 59.00 & Comm\\&Mgmt & 0 & 68.00 & Mkt\\&Fin & 68.63 & Placed     & 218000 & 0\\\\\n\t 15 & M & 62.00 & Central & 47.00 & Central & Commerce & 50.00 & Comm\\&Mgmt & 0 & 76.00 & Mkt\\&HR  & 54.96 & Not Placed &     NA & 0\\\\\n\t 16 & F & 65.00 & Central & 75.00 & Central & Commerce & 69.00 & Comm\\&Mgmt & 1 & 72.00 & Mkt\\&Fin & 64.66 & Placed     & 200000 & 0\\\\\n\t 17 & M & 63.00 & Central & 66.20 & Central & Commerce & 65.60 & Comm\\&Mgmt & 1 & 60.00 & Mkt\\&Fin & 62.54 & Placed     & 300000 & 1\\\\\n\t 18 & F & 55.00 & Central & 67.00 & Central & Commerce & 64.00 & Comm\\&Mgmt & 0 & 60.00 & Mkt\\&Fin & 67.28 & Not Placed &     NA & 1\\\\\n\t 19 & F & 63.00 & Central & 66.00 & Central & Commerce & 64.00 & Comm\\&Mgmt & 0 & 68.00 & Mkt\\&HR  & 64.08 & Not Placed &     NA & 1\\\\\n\t 20 & M & 60.00 & Others  & 67.00 & Others  & Arts     & 70.00 & Comm\\&Mgmt & 1 & 50.48 & Mkt\\&Fin & 77.89 & Placed     & 236000 & 0\\\\\n\t 21 & M & 62.00 & Others  & 65.00 & Others  & Commerce & 66.00 & Comm\\&Mgmt & 0 & 50.00 & Mkt\\&HR  & 56.70 & Placed     & 265000 & 1\\\\\n\t 22 & F & 79.00 & Others  & 76.00 & Others  & Commerce & 85.00 & Comm\\&Mgmt & 0 & 95.00 & Mkt\\&Fin & 69.06 & Placed     & 393000 & 1\\\\\n\t 23 & F & 69.80 & Others  & 60.80 & Others  & Science  & 72.23 & Sci\\&Tech  & 0 & 55.53 & Mkt\\&HR  & 68.81 & Placed     & 360000 & 1\\\\\n\t 24 & F & 77.40 & Others  & 60.00 & Others  & Science  & 64.74 & Sci\\&Tech  & 1 & 92.00 & Mkt\\&Fin & 63.62 & Placed     & 300000 & 1\\\\\n\t 25 & M & 76.50 & Others  & 97.70 & Others  & Science  & 78.86 & Sci\\&Tech  & 0 & 97.40 & Mkt\\&Fin & 74.01 & Placed     & 360000 & 1\\\\\n\t 26 & F & 52.58 & Others  & 54.60 & Central & Commerce & 50.20 & Comm\\&Mgmt & 1 & 76.00 & Mkt\\&Fin & 65.33 & Not Placed &     NA & 1\\\\\n\t 27 & M & 71.00 & Others  & 79.00 & Others  & Commerce & 66.00 & Comm\\&Mgmt & 1 & 94.00 & Mkt\\&Fin & 57.55 & Placed     & 240000 & 0\\\\\n\t 28 & M & 63.00 & Others  & 67.00 & Others  & Commerce & 66.00 & Comm\\&Mgmt & 0 & 68.00 & Mkt\\&HR  & 57.69 & Placed     & 265000 & 1\\\\\n\t 29 & M & 76.76 & Others  & 76.50 & Others  & Commerce & 67.50 & Comm\\&Mgmt & 1 & 73.35 & Mkt\\&Fin & 64.15 & Placed     & 350000 & 1\\\\\n\t 30 & M & 62.00 & Central & 67.00 & Central & Commerce & 58.00 & Comm\\&Mgmt & 0 & 77.00 & Mkt\\&Fin & 51.29 & Not Placed &     NA & 1\\\\\n\t ⋮ & ⋮ & ⋮ & ⋮ & ⋮ & ⋮ & ⋮ & ⋮ & ⋮ & ⋮ & ⋮ & ⋮ & ⋮ & ⋮ & ⋮ & ⋮\\\\\n\t 187 & F & 52.00 & Central & 64.00 & Central & Commerce & 61.00 & Comm\\&Mgmt & 0 & 55.00 & Mkt\\&Fin & 62.93 & Not Placed &     NA & 0\\\\\n\t 188 & M & 78.50 & Central & 65.50 & Central & Science  & 67.00 & Sci\\&Tech  & 1 & 95.00 & Mkt\\&Fin & 64.86 & Placed     & 280000 & 1\\\\\n\t 189 & M & 61.80 & Others  & 47.00 & Others  & Commerce & 54.38 & Comm\\&Mgmt & 0 & 57.00 & Mkt\\&Fin & 56.13 & Not Placed &     NA & 1\\\\\n\t 190 & F & 54.00 & Central & 77.60 & Others  & Commerce & 69.20 & Comm\\&Mgmt & 0 & 95.65 & Mkt\\&Fin & 66.94 & Not Placed &     NA & 1\\\\\n\t 191 & F & 64.00 & Others  & 70.20 & Central & Commerce & 61.00 & Comm\\&Mgmt & 0 & 50.00 & Mkt\\&Fin & 62.50 & Not Placed &     NA & 1\\\\\n\t 192 & M & 67.00 & Others  & 61.00 & Central & Science  & 72.00 & Comm\\&Mgmt & 0 & 72.00 & Mkt\\&Fin & 61.01 & Placed     & 264000 & 1\\\\\n\t 193 & M & 65.20 & Central & 61.40 & Central & Commerce & 64.80 & Comm\\&Mgmt & 1 & 93.40 & Mkt\\&Fin & 57.34 & Placed     & 270000 & 1\\\\\n\t 194 & F & 60.00 & Central & 63.00 & Central & Arts     & 56.00 & Others    & 1 & 80.00 & Mkt\\&HR  & 56.63 & Placed     & 300000 & 1\\\\\n\t 195 & M & 52.00 & Others  & 55.00 & Others  & Commerce & 56.30 & Comm\\&Mgmt & 0 & 59.00 & Mkt\\&Fin & 64.74 & Not Placed &     NA & 1\\\\\n\t 196 & M & 66.00 & Central & 76.00 & Central & Commerce & 72.00 & Comm\\&Mgmt & 1 & 84.00 & Mkt\\&HR  & 58.95 & Placed     & 275000 & 1\\\\\n\t 197 & M & 72.00 & Others  & 63.00 & Others  & Science  & 77.50 & Sci\\&Tech  & 1 & 78.00 & Mkt\\&Fin & 54.48 & Placed     & 250000 & 0\\\\\n\t 198 & F & 83.96 & Others  & 53.00 & Others  & Science  & 91.00 & Sci\\&Tech  & 0 & 59.32 & Mkt\\&HR  & 69.71 & Placed     & 260000 & 1\\\\\n\t 199 & F & 67.00 & Central & 70.00 & Central & Commerce & 65.00 & Others    & 0 & 88.00 & Mkt\\&HR  & 71.96 & Not Placed &     NA & 1\\\\\n\t 200 & M & 69.00 & Others  & 65.00 & Others  & Commerce & 57.00 & Comm\\&Mgmt & 0 & 73.00 & Mkt\\&HR  & 55.80 & Placed     & 265000 & 1\\\\\n\t 201 & M & 69.00 & Others  & 60.00 & Others  & Commerce & 65.00 & Comm\\&Mgmt & 0 & 87.55 & Mkt\\&Fin & 52.81 & Placed     & 300000 & 1\\\\\n\t 202 & M & 54.20 & Central & 63.00 & Others  & Science  & 58.00 & Comm\\&Mgmt & 0 & 79.00 & Mkt\\&HR  & 58.44 & Not Placed &     NA & 1\\\\\n\t 203 & M & 70.00 & Central & 63.00 & Central & Science  & 66.00 & Sci\\&Tech  & 0 & 61.28 & Mkt\\&HR  & 60.11 & Placed     & 240000 & 0\\\\\n\t 204 & M & 55.68 & Others  & 61.33 & Others  & Commerce & 56.87 & Comm\\&Mgmt & 0 & 66.00 & Mkt\\&HR  & 58.30 & Placed     & 260000 & 1\\\\\n\t 205 & F & 74.00 & Others  & 73.00 & Others  & Commerce & 73.00 & Comm\\&Mgmt & 1 & 80.00 & Mkt\\&Fin & 67.69 & Placed     & 210000 & 0\\\\\n\t 206 & M & 61.00 & Others  & 62.00 & Others  & Commerce & 65.00 & Comm\\&Mgmt & 0 & 62.00 & Mkt\\&Fin & 56.81 & Placed     & 250000 & 0\\\\\n\t 207 & M & 41.00 & Central & 42.00 & Central & Science  & 60.00 & Comm\\&Mgmt & 0 & 97.00 & Mkt\\&Fin & 53.39 & Not Placed &     NA & 0\\\\\n\t 208 & M & 83.33 & Central & 78.00 & Others  & Commerce & 61.00 & Comm\\&Mgmt & 1 & 88.56 & Mkt\\&Fin & 71.55 & Placed     & 300000 & 1\\\\\n\t 209 & F & 43.00 & Central & 60.00 & Others  & Science  & 65.00 & Comm\\&Mgmt & 0 & 92.66 & Mkt\\&HR  & 62.92 & Not Placed &     NA & 1\\\\\n\t 210 & M & 62.00 & Central & 72.00 & Central & Commerce & 65.00 & Comm\\&Mgmt & 0 & 67.00 & Mkt\\&Fin & 56.49 & Placed     & 216000 & 0\\\\\n\t 211 & M & 80.60 & Others  & 82.00 & Others  & Commerce & 77.60 & Comm\\&Mgmt & 0 & 91.00 & Mkt\\&Fin & 74.49 & Placed     & 400000 & 1\\\\\n\t 212 & M & 58.00 & Others  & 60.00 & Others  & Science  & 72.00 & Sci\\&Tech  & 0 & 74.00 & Mkt\\&Fin & 53.62 & Placed     & 275000 & 1\\\\\n\t 213 & M & 67.00 & Others  & 67.00 & Others  & Commerce & 73.00 & Comm\\&Mgmt & 1 & 59.00 & Mkt\\&Fin & 69.72 & Placed     & 295000 & 1\\\\\n\t 214 & F & 74.00 & Others  & 66.00 & Others  & Commerce & 58.00 & Comm\\&Mgmt & 0 & 70.00 & Mkt\\&HR  & 60.23 & Placed     & 204000 & 0\\\\\n\t 215 & M & 62.00 & Central & 58.00 & Others  & Science  & 53.00 & Comm\\&Mgmt & 0 & 89.00 & Mkt\\&HR  & 60.22 & Not Placed &     NA & 0\\\\\n\t 216 & M & 67.00 & Others  & 91.00 & Others  & Commerce & 58.00 & Sci\\&Tech  & 0 & 55.00 & Mkt\\&HR  & 58.80 & Placed     & 270000 & 1\\\\\n\\end{tabular}\n",
            "text/plain": [
              "    sl_no gender ssc_p ssc_b   hsc_p hsc_b   hsc_s    degree_p degree_t  workex\n",
              "1    1    M      67.00 Others  91.00 Others  Commerce 58.00    Sci&Tech  0     \n",
              "2    2    M      79.33 Central 78.33 Others  Science  77.48    Sci&Tech  1     \n",
              "3    3    M      65.00 Central 68.00 Central Arts     64.00    Comm&Mgmt 0     \n",
              "4    4    M      56.00 Central 52.00 Central Science  52.00    Sci&Tech  0     \n",
              "5    5    M      85.80 Central 73.60 Central Commerce 73.30    Comm&Mgmt 0     \n",
              "6    6    M      55.00 Others  49.80 Others  Science  67.25    Sci&Tech  1     \n",
              "7    7    F      46.00 Others  49.20 Others  Commerce 79.00    Comm&Mgmt 0     \n",
              "8    8    M      82.00 Central 64.00 Central Science  66.00    Sci&Tech  1     \n",
              "9    9    M      73.00 Central 79.00 Central Commerce 72.00    Comm&Mgmt 0     \n",
              "10  10    M      58.00 Central 70.00 Central Commerce 61.00    Comm&Mgmt 0     \n",
              "11  11    M      58.00 Central 61.00 Central Commerce 60.00    Comm&Mgmt 1     \n",
              "12  12    M      69.60 Central 68.40 Central Commerce 78.30    Comm&Mgmt 1     \n",
              "13  13    F      47.00 Central 55.00 Others  Science  65.00    Comm&Mgmt 0     \n",
              "14  14    F      77.00 Central 87.00 Central Commerce 59.00    Comm&Mgmt 0     \n",
              "15  15    M      62.00 Central 47.00 Central Commerce 50.00    Comm&Mgmt 0     \n",
              "16  16    F      65.00 Central 75.00 Central Commerce 69.00    Comm&Mgmt 1     \n",
              "17  17    M      63.00 Central 66.20 Central Commerce 65.60    Comm&Mgmt 1     \n",
              "18  18    F      55.00 Central 67.00 Central Commerce 64.00    Comm&Mgmt 0     \n",
              "19  19    F      63.00 Central 66.00 Central Commerce 64.00    Comm&Mgmt 0     \n",
              "20  20    M      60.00 Others  67.00 Others  Arts     70.00    Comm&Mgmt 1     \n",
              "21  21    M      62.00 Others  65.00 Others  Commerce 66.00    Comm&Mgmt 0     \n",
              "22  22    F      79.00 Others  76.00 Others  Commerce 85.00    Comm&Mgmt 0     \n",
              "23  23    F      69.80 Others  60.80 Others  Science  72.23    Sci&Tech  0     \n",
              "24  24    F      77.40 Others  60.00 Others  Science  64.74    Sci&Tech  1     \n",
              "25  25    M      76.50 Others  97.70 Others  Science  78.86    Sci&Tech  0     \n",
              "26  26    F      52.58 Others  54.60 Central Commerce 50.20    Comm&Mgmt 1     \n",
              "27  27    M      71.00 Others  79.00 Others  Commerce 66.00    Comm&Mgmt 1     \n",
              "28  28    M      63.00 Others  67.00 Others  Commerce 66.00    Comm&Mgmt 0     \n",
              "29  29    M      76.76 Others  76.50 Others  Commerce 67.50    Comm&Mgmt 1     \n",
              "30  30    M      62.00 Central 67.00 Central Commerce 58.00    Comm&Mgmt 0     \n",
              "⋮   ⋮     ⋮      ⋮     ⋮       ⋮     ⋮       ⋮        ⋮        ⋮         ⋮     \n",
              "187 187   F      52.00 Central 64.00 Central Commerce 61.00    Comm&Mgmt 0     \n",
              "188 188   M      78.50 Central 65.50 Central Science  67.00    Sci&Tech  1     \n",
              "189 189   M      61.80 Others  47.00 Others  Commerce 54.38    Comm&Mgmt 0     \n",
              "190 190   F      54.00 Central 77.60 Others  Commerce 69.20    Comm&Mgmt 0     \n",
              "191 191   F      64.00 Others  70.20 Central Commerce 61.00    Comm&Mgmt 0     \n",
              "192 192   M      67.00 Others  61.00 Central Science  72.00    Comm&Mgmt 0     \n",
              "193 193   M      65.20 Central 61.40 Central Commerce 64.80    Comm&Mgmt 1     \n",
              "194 194   F      60.00 Central 63.00 Central Arts     56.00    Others    1     \n",
              "195 195   M      52.00 Others  55.00 Others  Commerce 56.30    Comm&Mgmt 0     \n",
              "196 196   M      66.00 Central 76.00 Central Commerce 72.00    Comm&Mgmt 1     \n",
              "197 197   M      72.00 Others  63.00 Others  Science  77.50    Sci&Tech  1     \n",
              "198 198   F      83.96 Others  53.00 Others  Science  91.00    Sci&Tech  0     \n",
              "199 199   F      67.00 Central 70.00 Central Commerce 65.00    Others    0     \n",
              "200 200   M      69.00 Others  65.00 Others  Commerce 57.00    Comm&Mgmt 0     \n",
              "201 201   M      69.00 Others  60.00 Others  Commerce 65.00    Comm&Mgmt 0     \n",
              "202 202   M      54.20 Central 63.00 Others  Science  58.00    Comm&Mgmt 0     \n",
              "203 203   M      70.00 Central 63.00 Central Science  66.00    Sci&Tech  0     \n",
              "204 204   M      55.68 Others  61.33 Others  Commerce 56.87    Comm&Mgmt 0     \n",
              "205 205   F      74.00 Others  73.00 Others  Commerce 73.00    Comm&Mgmt 1     \n",
              "206 206   M      61.00 Others  62.00 Others  Commerce 65.00    Comm&Mgmt 0     \n",
              "207 207   M      41.00 Central 42.00 Central Science  60.00    Comm&Mgmt 0     \n",
              "208 208   M      83.33 Central 78.00 Others  Commerce 61.00    Comm&Mgmt 1     \n",
              "209 209   F      43.00 Central 60.00 Others  Science  65.00    Comm&Mgmt 0     \n",
              "210 210   M      62.00 Central 72.00 Central Commerce 65.00    Comm&Mgmt 0     \n",
              "211 211   M      80.60 Others  82.00 Others  Commerce 77.60    Comm&Mgmt 0     \n",
              "212 212   M      58.00 Others  60.00 Others  Science  72.00    Sci&Tech  0     \n",
              "213 213   M      67.00 Others  67.00 Others  Commerce 73.00    Comm&Mgmt 1     \n",
              "214 214   F      74.00 Others  66.00 Others  Commerce 58.00    Comm&Mgmt 0     \n",
              "215 215   M      62.00 Central 58.00 Others  Science  53.00    Comm&Mgmt 0     \n",
              "216 216   M      67.00 Others  91.00 Others  Commerce 58.00    Sci&Tech  0     \n",
              "    etest_p specialisation mba_p status     salary class\n",
              "1   55.00   Mkt&HR         58.80 Placed     270000 0    \n",
              "2   86.50   Mkt&Fin        66.28 Placed     200000 0    \n",
              "3   75.00   Mkt&Fin        57.80 Placed     250000 0    \n",
              "4   66.00   Mkt&HR         59.43 Not Placed     NA 0    \n",
              "5   96.80   Mkt&Fin        55.50 Placed     425000 1    \n",
              "6   55.00   Mkt&Fin        51.58 Not Placed     NA 1    \n",
              "7   74.28   Mkt&Fin        53.29 Not Placed     NA 1    \n",
              "8   67.00   Mkt&Fin        62.14 Placed     252000 0    \n",
              "9   91.34   Mkt&Fin        61.29 Placed     231000 0    \n",
              "10  54.00   Mkt&Fin        52.21 Not Placed     NA 0    \n",
              "11  62.00   Mkt&HR         60.85 Placed     260000 0    \n",
              "12  60.00   Mkt&Fin        63.70 Placed     250000 0    \n",
              "13  62.00   Mkt&HR         65.04 Not Placed     NA 0    \n",
              "14  68.00   Mkt&Fin        68.63 Placed     218000 0    \n",
              "15  76.00   Mkt&HR         54.96 Not Placed     NA 0    \n",
              "16  72.00   Mkt&Fin        64.66 Placed     200000 0    \n",
              "17  60.00   Mkt&Fin        62.54 Placed     300000 1    \n",
              "18  60.00   Mkt&Fin        67.28 Not Placed     NA 1    \n",
              "19  68.00   Mkt&HR         64.08 Not Placed     NA 1    \n",
              "20  50.48   Mkt&Fin        77.89 Placed     236000 0    \n",
              "21  50.00   Mkt&HR         56.70 Placed     265000 1    \n",
              "22  95.00   Mkt&Fin        69.06 Placed     393000 1    \n",
              "23  55.53   Mkt&HR         68.81 Placed     360000 1    \n",
              "24  92.00   Mkt&Fin        63.62 Placed     300000 1    \n",
              "25  97.40   Mkt&Fin        74.01 Placed     360000 1    \n",
              "26  76.00   Mkt&Fin        65.33 Not Placed     NA 1    \n",
              "27  94.00   Mkt&Fin        57.55 Placed     240000 0    \n",
              "28  68.00   Mkt&HR         57.69 Placed     265000 1    \n",
              "29  73.35   Mkt&Fin        64.15 Placed     350000 1    \n",
              "30  77.00   Mkt&Fin        51.29 Not Placed     NA 1    \n",
              "⋮   ⋮       ⋮              ⋮     ⋮          ⋮      ⋮    \n",
              "187 55.00   Mkt&Fin        62.93 Not Placed     NA 0    \n",
              "188 95.00   Mkt&Fin        64.86 Placed     280000 1    \n",
              "189 57.00   Mkt&Fin        56.13 Not Placed     NA 1    \n",
              "190 95.65   Mkt&Fin        66.94 Not Placed     NA 1    \n",
              "191 50.00   Mkt&Fin        62.50 Not Placed     NA 1    \n",
              "192 72.00   Mkt&Fin        61.01 Placed     264000 1    \n",
              "193 93.40   Mkt&Fin        57.34 Placed     270000 1    \n",
              "194 80.00   Mkt&HR         56.63 Placed     300000 1    \n",
              "195 59.00   Mkt&Fin        64.74 Not Placed     NA 1    \n",
              "196 84.00   Mkt&HR         58.95 Placed     275000 1    \n",
              "197 78.00   Mkt&Fin        54.48 Placed     250000 0    \n",
              "198 59.32   Mkt&HR         69.71 Placed     260000 1    \n",
              "199 88.00   Mkt&HR         71.96 Not Placed     NA 1    \n",
              "200 73.00   Mkt&HR         55.80 Placed     265000 1    \n",
              "201 87.55   Mkt&Fin        52.81 Placed     300000 1    \n",
              "202 79.00   Mkt&HR         58.44 Not Placed     NA 1    \n",
              "203 61.28   Mkt&HR         60.11 Placed     240000 0    \n",
              "204 66.00   Mkt&HR         58.30 Placed     260000 1    \n",
              "205 80.00   Mkt&Fin        67.69 Placed     210000 0    \n",
              "206 62.00   Mkt&Fin        56.81 Placed     250000 0    \n",
              "207 97.00   Mkt&Fin        53.39 Not Placed     NA 0    \n",
              "208 88.56   Mkt&Fin        71.55 Placed     300000 1    \n",
              "209 92.66   Mkt&HR         62.92 Not Placed     NA 1    \n",
              "210 67.00   Mkt&Fin        56.49 Placed     216000 0    \n",
              "211 91.00   Mkt&Fin        74.49 Placed     400000 1    \n",
              "212 74.00   Mkt&Fin        53.62 Placed     275000 1    \n",
              "213 59.00   Mkt&Fin        69.72 Placed     295000 1    \n",
              "214 70.00   Mkt&HR         60.23 Placed     204000 0    \n",
              "215 89.00   Mkt&HR         60.22 Not Placed     NA 0    \n",
              "216 55.00   Mkt&HR         58.80 Placed     270000 1    "
            ]
          },
          "metadata": {}
        }
      ],
      "source": [
        "MyData <- read.csv(\"/Placement_Data_Full_Class.csv\", header = TRUE, sep = \",\")\n",
        "MyData"
      ]
    },
    {
      "cell_type": "code",
      "source": [
        "names(MyData)"
      ],
      "metadata": {
        "colab": {
          "base_uri": "https://localhost:8080/",
          "height": 34
        },
        "id": "R3Ni7sjwZa3C",
        "outputId": "58ff91dc-32ea-4b45-839d-5dbe1c782c41"
      },
      "execution_count": 2,
      "outputs": [
        {
          "output_type": "display_data",
          "data": {
            "text/html": [
              "<style>\n",
              ".list-inline {list-style: none; margin:0; padding: 0}\n",
              ".list-inline>li {display: inline-block}\n",
              ".list-inline>li:not(:last-child)::after {content: \"\\00b7\"; padding: 0 .5ex}\n",
              "</style>\n",
              "<ol class=list-inline><li>'sl_no'</li><li>'gender'</li><li>'ssc_p'</li><li>'ssc_b'</li><li>'hsc_p'</li><li>'hsc_b'</li><li>'hsc_s'</li><li>'degree_p'</li><li>'degree_t'</li><li>'workex'</li><li>'etest_p'</li><li>'specialisation'</li><li>'mba_p'</li><li>'status'</li><li>'salary'</li><li>'class'</li></ol>\n"
            ],
            "text/markdown": "1. 'sl_no'\n2. 'gender'\n3. 'ssc_p'\n4. 'ssc_b'\n5. 'hsc_p'\n6. 'hsc_b'\n7. 'hsc_s'\n8. 'degree_p'\n9. 'degree_t'\n10. 'workex'\n11. 'etest_p'\n12. 'specialisation'\n13. 'mba_p'\n14. 'status'\n15. 'salary'\n16. 'class'\n\n\n",
            "text/latex": "\\begin{enumerate*}\n\\item 'sl\\_no'\n\\item 'gender'\n\\item 'ssc\\_p'\n\\item 'ssc\\_b'\n\\item 'hsc\\_p'\n\\item 'hsc\\_b'\n\\item 'hsc\\_s'\n\\item 'degree\\_p'\n\\item 'degree\\_t'\n\\item 'workex'\n\\item 'etest\\_p'\n\\item 'specialisation'\n\\item 'mba\\_p'\n\\item 'status'\n\\item 'salary'\n\\item 'class'\n\\end{enumerate*}\n",
            "text/plain": [
              " [1] \"sl_no\"          \"gender\"         \"ssc_p\"          \"ssc_b\"         \n",
              " [5] \"hsc_p\"          \"hsc_b\"          \"hsc_s\"          \"degree_p\"      \n",
              " [9] \"degree_t\"       \"workex\"         \"etest_p\"        \"specialisation\"\n",
              "[13] \"mba_p\"          \"status\"         \"salary\"         \"class\"         "
            ]
          },
          "metadata": {}
        }
      ]
    },
    {
      "cell_type": "code",
      "source": [
        "head(MyData)"
      ],
      "metadata": {
        "colab": {
          "base_uri": "https://localhost:8080/",
          "height": 286
        },
        "id": "NUwg0LXiBPwN",
        "outputId": "6a21cd3c-8178-45e9-a7c9-7e52e7ceefb1"
      },
      "execution_count": 3,
      "outputs": [
        {
          "output_type": "display_data",
          "data": {
            "text/html": [
              "<table class=\"dataframe\">\n",
              "<caption>A data.frame: 6 × 16</caption>\n",
              "<thead>\n",
              "\t<tr><th></th><th scope=col>sl_no</th><th scope=col>gender</th><th scope=col>ssc_p</th><th scope=col>ssc_b</th><th scope=col>hsc_p</th><th scope=col>hsc_b</th><th scope=col>hsc_s</th><th scope=col>degree_p</th><th scope=col>degree_t</th><th scope=col>workex</th><th scope=col>etest_p</th><th scope=col>specialisation</th><th scope=col>mba_p</th><th scope=col>status</th><th scope=col>salary</th><th scope=col>class</th></tr>\n",
              "\t<tr><th></th><th scope=col>&lt;int&gt;</th><th scope=col>&lt;chr&gt;</th><th scope=col>&lt;dbl&gt;</th><th scope=col>&lt;chr&gt;</th><th scope=col>&lt;dbl&gt;</th><th scope=col>&lt;chr&gt;</th><th scope=col>&lt;chr&gt;</th><th scope=col>&lt;dbl&gt;</th><th scope=col>&lt;chr&gt;</th><th scope=col>&lt;int&gt;</th><th scope=col>&lt;dbl&gt;</th><th scope=col>&lt;chr&gt;</th><th scope=col>&lt;dbl&gt;</th><th scope=col>&lt;chr&gt;</th><th scope=col>&lt;int&gt;</th><th scope=col>&lt;int&gt;</th></tr>\n",
              "</thead>\n",
              "<tbody>\n",
              "\t<tr><th scope=row>1</th><td>1</td><td>M</td><td>67.00</td><td>Others </td><td>91.00</td><td>Others </td><td>Commerce</td><td>58.00</td><td>Sci&amp;Tech </td><td>0</td><td>55.0</td><td>Mkt&amp;HR </td><td>58.80</td><td><span style=white-space:pre-wrap>Placed    </span></td><td>270000</td><td>0</td></tr>\n",
              "\t<tr><th scope=row>2</th><td>2</td><td>M</td><td>79.33</td><td>Central</td><td>78.33</td><td>Others </td><td>Science </td><td>77.48</td><td>Sci&amp;Tech </td><td>1</td><td>86.5</td><td>Mkt&amp;Fin</td><td>66.28</td><td><span style=white-space:pre-wrap>Placed    </span></td><td>200000</td><td>0</td></tr>\n",
              "\t<tr><th scope=row>3</th><td>3</td><td>M</td><td>65.00</td><td>Central</td><td>68.00</td><td>Central</td><td><span style=white-space:pre-wrap>Arts    </span></td><td>64.00</td><td>Comm&amp;Mgmt</td><td>0</td><td>75.0</td><td>Mkt&amp;Fin</td><td>57.80</td><td><span style=white-space:pre-wrap>Placed    </span></td><td>250000</td><td>0</td></tr>\n",
              "\t<tr><th scope=row>4</th><td>4</td><td>M</td><td>56.00</td><td>Central</td><td>52.00</td><td>Central</td><td>Science </td><td>52.00</td><td>Sci&amp;Tech </td><td>0</td><td>66.0</td><td>Mkt&amp;HR </td><td>59.43</td><td>Not Placed</td><td><span style=white-space:pre-wrap>    NA</span></td><td>0</td></tr>\n",
              "\t<tr><th scope=row>5</th><td>5</td><td>M</td><td>85.80</td><td>Central</td><td>73.60</td><td>Central</td><td>Commerce</td><td>73.30</td><td>Comm&amp;Mgmt</td><td>0</td><td>96.8</td><td>Mkt&amp;Fin</td><td>55.50</td><td><span style=white-space:pre-wrap>Placed    </span></td><td>425000</td><td>1</td></tr>\n",
              "\t<tr><th scope=row>6</th><td>6</td><td>M</td><td>55.00</td><td>Others </td><td>49.80</td><td>Others </td><td>Science </td><td>67.25</td><td>Sci&amp;Tech </td><td>1</td><td>55.0</td><td>Mkt&amp;Fin</td><td>51.58</td><td>Not Placed</td><td><span style=white-space:pre-wrap>    NA</span></td><td>1</td></tr>\n",
              "</tbody>\n",
              "</table>\n"
            ],
            "text/markdown": "\nA data.frame: 6 × 16\n\n| <!--/--> | sl_no &lt;int&gt; | gender &lt;chr&gt; | ssc_p &lt;dbl&gt; | ssc_b &lt;chr&gt; | hsc_p &lt;dbl&gt; | hsc_b &lt;chr&gt; | hsc_s &lt;chr&gt; | degree_p &lt;dbl&gt; | degree_t &lt;chr&gt; | workex &lt;int&gt; | etest_p &lt;dbl&gt; | specialisation &lt;chr&gt; | mba_p &lt;dbl&gt; | status &lt;chr&gt; | salary &lt;int&gt; | class &lt;int&gt; |\n|---|---|---|---|---|---|---|---|---|---|---|---|---|---|---|---|---|\n| 1 | 1 | M | 67.00 | Others  | 91.00 | Others  | Commerce | 58.00 | Sci&amp;Tech  | 0 | 55.0 | Mkt&amp;HR  | 58.80 | Placed     | 270000 | 0 |\n| 2 | 2 | M | 79.33 | Central | 78.33 | Others  | Science  | 77.48 | Sci&amp;Tech  | 1 | 86.5 | Mkt&amp;Fin | 66.28 | Placed     | 200000 | 0 |\n| 3 | 3 | M | 65.00 | Central | 68.00 | Central | Arts     | 64.00 | Comm&amp;Mgmt | 0 | 75.0 | Mkt&amp;Fin | 57.80 | Placed     | 250000 | 0 |\n| 4 | 4 | M | 56.00 | Central | 52.00 | Central | Science  | 52.00 | Sci&amp;Tech  | 0 | 66.0 | Mkt&amp;HR  | 59.43 | Not Placed |     NA | 0 |\n| 5 | 5 | M | 85.80 | Central | 73.60 | Central | Commerce | 73.30 | Comm&amp;Mgmt | 0 | 96.8 | Mkt&amp;Fin | 55.50 | Placed     | 425000 | 1 |\n| 6 | 6 | M | 55.00 | Others  | 49.80 | Others  | Science  | 67.25 | Sci&amp;Tech  | 1 | 55.0 | Mkt&amp;Fin | 51.58 | Not Placed |     NA | 1 |\n\n",
            "text/latex": "A data.frame: 6 × 16\n\\begin{tabular}{r|llllllllllllllll}\n  & sl\\_no & gender & ssc\\_p & ssc\\_b & hsc\\_p & hsc\\_b & hsc\\_s & degree\\_p & degree\\_t & workex & etest\\_p & specialisation & mba\\_p & status & salary & class\\\\\n  & <int> & <chr> & <dbl> & <chr> & <dbl> & <chr> & <chr> & <dbl> & <chr> & <int> & <dbl> & <chr> & <dbl> & <chr> & <int> & <int>\\\\\n\\hline\n\t1 & 1 & M & 67.00 & Others  & 91.00 & Others  & Commerce & 58.00 & Sci\\&Tech  & 0 & 55.0 & Mkt\\&HR  & 58.80 & Placed     & 270000 & 0\\\\\n\t2 & 2 & M & 79.33 & Central & 78.33 & Others  & Science  & 77.48 & Sci\\&Tech  & 1 & 86.5 & Mkt\\&Fin & 66.28 & Placed     & 200000 & 0\\\\\n\t3 & 3 & M & 65.00 & Central & 68.00 & Central & Arts     & 64.00 & Comm\\&Mgmt & 0 & 75.0 & Mkt\\&Fin & 57.80 & Placed     & 250000 & 0\\\\\n\t4 & 4 & M & 56.00 & Central & 52.00 & Central & Science  & 52.00 & Sci\\&Tech  & 0 & 66.0 & Mkt\\&HR  & 59.43 & Not Placed &     NA & 0\\\\\n\t5 & 5 & M & 85.80 & Central & 73.60 & Central & Commerce & 73.30 & Comm\\&Mgmt & 0 & 96.8 & Mkt\\&Fin & 55.50 & Placed     & 425000 & 1\\\\\n\t6 & 6 & M & 55.00 & Others  & 49.80 & Others  & Science  & 67.25 & Sci\\&Tech  & 1 & 55.0 & Mkt\\&Fin & 51.58 & Not Placed &     NA & 1\\\\\n\\end{tabular}\n",
            "text/plain": [
              "  sl_no gender ssc_p ssc_b   hsc_p hsc_b   hsc_s    degree_p degree_t  workex\n",
              "1 1     M      67.00 Others  91.00 Others  Commerce 58.00    Sci&Tech  0     \n",
              "2 2     M      79.33 Central 78.33 Others  Science  77.48    Sci&Tech  1     \n",
              "3 3     M      65.00 Central 68.00 Central Arts     64.00    Comm&Mgmt 0     \n",
              "4 4     M      56.00 Central 52.00 Central Science  52.00    Sci&Tech  0     \n",
              "5 5     M      85.80 Central 73.60 Central Commerce 73.30    Comm&Mgmt 0     \n",
              "6 6     M      55.00 Others  49.80 Others  Science  67.25    Sci&Tech  1     \n",
              "  etest_p specialisation mba_p status     salary class\n",
              "1 55.0    Mkt&HR         58.80 Placed     270000 0    \n",
              "2 86.5    Mkt&Fin        66.28 Placed     200000 0    \n",
              "3 75.0    Mkt&Fin        57.80 Placed     250000 0    \n",
              "4 66.0    Mkt&HR         59.43 Not Placed     NA 0    \n",
              "5 96.8    Mkt&Fin        55.50 Placed     425000 1    \n",
              "6 55.0    Mkt&Fin        51.58 Not Placed     NA 1    "
            ]
          },
          "metadata": {}
        }
      ]
    },
    {
      "cell_type": "code",
      "source": [
        "summary(MyData)"
      ],
      "metadata": {
        "id": "oOLPhZy5Zj9x",
        "colab": {
          "base_uri": "https://localhost:8080/",
          "height": 573
        },
        "outputId": "209a0158-f5b1-4449-d33e-6b2d8a892718"
      },
      "execution_count": 4,
      "outputs": [
        {
          "output_type": "display_data",
          "data": {
            "text/plain": [
              "     sl_no           gender              ssc_p          ssc_b          \n",
              " Min.   :  1.00   Length:216         Min.   : 0.76   Length:216        \n",
              " 1st Qu.: 54.75   Class :character   1st Qu.:60.36   Class :character  \n",
              " Median :108.50   Mode  :character   Median :67.00   Mode  :character  \n",
              " Mean   :108.50                      Mean   :66.95                     \n",
              " 3rd Qu.:162.25                      3rd Qu.:75.25                     \n",
              " Max.   :216.00                      Max.   :89.40                     \n",
              "                                                                       \n",
              "     hsc_p            hsc_b              hsc_s              degree_p    \n",
              " Min.   :  37.00   Length:216         Length:216         Min.   :50.00  \n",
              " 1st Qu.:  60.95   Class :character   Class :character   1st Qu.:61.00  \n",
              " Median :  65.00   Mode  :character   Mode  :character   Median :66.00  \n",
              " Mean   :  97.06                                         Mean   :66.33  \n",
              " 3rd Qu.:  73.05                                         3rd Qu.:72.00  \n",
              " Max.   :6680.00                                         Max.   :91.00  \n",
              "                                                                        \n",
              "   degree_t             workex          etest_p      specialisation    \n",
              " Length:216         Min.   :0.0000   Min.   :50.00   Length:216        \n",
              " Class :character   1st Qu.:0.0000   1st Qu.:60.00   Class :character  \n",
              " Mode  :character   Median :0.0000   Median :70.50   Mode  :character  \n",
              "                    Mean   :0.3442   Mean   :72.02                     \n",
              "                    3rd Qu.:1.0000   3rd Qu.:83.25                     \n",
              "                    Max.   :1.0000   Max.   :98.00                     \n",
              "                    NA's   :1                                          \n",
              "     mba_p          status              salary           class       \n",
              " Min.   :51.21   Length:216         Min.   :200000   Min.   :0.0000  \n",
              " 1st Qu.:57.97   Class :character   1st Qu.:240000   1st Qu.:0.0000  \n",
              " Median :61.95   Mode  :character   Median :265000   Median :1.0000  \n",
              " Mean   :62.26                      Mean   :288530   Mean   :0.5556  \n",
              " 3rd Qu.:66.24                      3rd Qu.:300000   3rd Qu.:1.0000  \n",
              " Max.   :77.89                      Max.   :940000   Max.   :1.0000  \n",
              "                                    NA's   :67                       "
            ]
          },
          "metadata": {}
        }
      ]
    },
    {
      "cell_type": "code",
      "source": [
        "nrow(MyData)\n",
        "ncol(MyData)\n",
        "dim(MyData)"
      ],
      "metadata": {
        "colab": {
          "base_uri": "https://localhost:8080/",
          "height": 69
        },
        "id": "-Lv4VMczEZht",
        "outputId": "11be9249-8510-47b5-b4ed-f8c012ce3102"
      },
      "execution_count": 5,
      "outputs": [
        {
          "output_type": "display_data",
          "data": {
            "text/html": [
              "216"
            ],
            "text/markdown": "216",
            "text/latex": "216",
            "text/plain": [
              "[1] 216"
            ]
          },
          "metadata": {}
        },
        {
          "output_type": "display_data",
          "data": {
            "text/html": [
              "16"
            ],
            "text/markdown": "16",
            "text/latex": "16",
            "text/plain": [
              "[1] 16"
            ]
          },
          "metadata": {}
        },
        {
          "output_type": "display_data",
          "data": {
            "text/html": [
              "<style>\n",
              ".list-inline {list-style: none; margin:0; padding: 0}\n",
              ".list-inline>li {display: inline-block}\n",
              ".list-inline>li:not(:last-child)::after {content: \"\\00b7\"; padding: 0 .5ex}\n",
              "</style>\n",
              "<ol class=list-inline><li>216</li><li>16</li></ol>\n"
            ],
            "text/markdown": "1. 216\n2. 16\n\n\n",
            "text/latex": "\\begin{enumerate*}\n\\item 216\n\\item 16\n\\end{enumerate*}\n",
            "text/plain": [
              "[1] 216  16"
            ]
          },
          "metadata": {}
        }
      ]
    },
    {
      "cell_type": "markdown",
      "source": [
        "## 2. View missing values and handle them"
      ],
      "metadata": {
        "id": "SGX-FHQeDRIw"
      }
    },
    {
      "cell_type": "code",
      "source": [
        "is.na(MyData)"
      ],
      "metadata": {
        "colab": {
          "base_uri": "https://localhost:8080/",
          "height": 1000
        },
        "id": "IHUfhkGcn6a2",
        "outputId": "27f8bc76-8cce-4cbd-8d3d-e6ef1567bfa9"
      },
      "execution_count": 6,
      "outputs": [
        {
          "output_type": "display_data",
          "data": {
            "text/html": [
              "<table class=\"dataframe\">\n",
              "<caption>A matrix: 216 × 16 of type lgl</caption>\n",
              "<thead>\n",
              "\t<tr><th scope=col>sl_no</th><th scope=col>gender</th><th scope=col>ssc_p</th><th scope=col>ssc_b</th><th scope=col>hsc_p</th><th scope=col>hsc_b</th><th scope=col>hsc_s</th><th scope=col>degree_p</th><th scope=col>degree_t</th><th scope=col>workex</th><th scope=col>etest_p</th><th scope=col>specialisation</th><th scope=col>mba_p</th><th scope=col>status</th><th scope=col>salary</th><th scope=col>class</th></tr>\n",
              "</thead>\n",
              "<tbody>\n",
              "\t<tr><td>FALSE</td><td>FALSE</td><td>FALSE</td><td>FALSE</td><td>FALSE</td><td>FALSE</td><td>FALSE</td><td>FALSE</td><td>FALSE</td><td>FALSE</td><td>FALSE</td><td>FALSE</td><td>FALSE</td><td>FALSE</td><td>FALSE</td><td>FALSE</td></tr>\n",
              "\t<tr><td>FALSE</td><td>FALSE</td><td>FALSE</td><td>FALSE</td><td>FALSE</td><td>FALSE</td><td>FALSE</td><td>FALSE</td><td>FALSE</td><td>FALSE</td><td>FALSE</td><td>FALSE</td><td>FALSE</td><td>FALSE</td><td>FALSE</td><td>FALSE</td></tr>\n",
              "\t<tr><td>FALSE</td><td>FALSE</td><td>FALSE</td><td>FALSE</td><td>FALSE</td><td>FALSE</td><td>FALSE</td><td>FALSE</td><td>FALSE</td><td>FALSE</td><td>FALSE</td><td>FALSE</td><td>FALSE</td><td>FALSE</td><td>FALSE</td><td>FALSE</td></tr>\n",
              "\t<tr><td>FALSE</td><td>FALSE</td><td>FALSE</td><td>FALSE</td><td>FALSE</td><td>FALSE</td><td>FALSE</td><td>FALSE</td><td>FALSE</td><td>FALSE</td><td>FALSE</td><td>FALSE</td><td>FALSE</td><td>FALSE</td><td> TRUE</td><td>FALSE</td></tr>\n",
              "\t<tr><td>FALSE</td><td>FALSE</td><td>FALSE</td><td>FALSE</td><td>FALSE</td><td>FALSE</td><td>FALSE</td><td>FALSE</td><td>FALSE</td><td>FALSE</td><td>FALSE</td><td>FALSE</td><td>FALSE</td><td>FALSE</td><td>FALSE</td><td>FALSE</td></tr>\n",
              "\t<tr><td>FALSE</td><td>FALSE</td><td>FALSE</td><td>FALSE</td><td>FALSE</td><td>FALSE</td><td>FALSE</td><td>FALSE</td><td>FALSE</td><td>FALSE</td><td>FALSE</td><td>FALSE</td><td>FALSE</td><td>FALSE</td><td> TRUE</td><td>FALSE</td></tr>\n",
              "\t<tr><td>FALSE</td><td>FALSE</td><td>FALSE</td><td>FALSE</td><td>FALSE</td><td>FALSE</td><td>FALSE</td><td>FALSE</td><td>FALSE</td><td>FALSE</td><td>FALSE</td><td>FALSE</td><td>FALSE</td><td>FALSE</td><td> TRUE</td><td>FALSE</td></tr>\n",
              "\t<tr><td>FALSE</td><td>FALSE</td><td>FALSE</td><td>FALSE</td><td>FALSE</td><td>FALSE</td><td>FALSE</td><td>FALSE</td><td>FALSE</td><td>FALSE</td><td>FALSE</td><td>FALSE</td><td>FALSE</td><td>FALSE</td><td>FALSE</td><td>FALSE</td></tr>\n",
              "\t<tr><td>FALSE</td><td>FALSE</td><td>FALSE</td><td>FALSE</td><td>FALSE</td><td>FALSE</td><td>FALSE</td><td>FALSE</td><td>FALSE</td><td>FALSE</td><td>FALSE</td><td>FALSE</td><td>FALSE</td><td>FALSE</td><td>FALSE</td><td>FALSE</td></tr>\n",
              "\t<tr><td>FALSE</td><td>FALSE</td><td>FALSE</td><td>FALSE</td><td>FALSE</td><td>FALSE</td><td>FALSE</td><td>FALSE</td><td>FALSE</td><td>FALSE</td><td>FALSE</td><td>FALSE</td><td>FALSE</td><td>FALSE</td><td> TRUE</td><td>FALSE</td></tr>\n",
              "\t<tr><td>FALSE</td><td>FALSE</td><td>FALSE</td><td>FALSE</td><td>FALSE</td><td>FALSE</td><td>FALSE</td><td>FALSE</td><td>FALSE</td><td>FALSE</td><td>FALSE</td><td>FALSE</td><td>FALSE</td><td>FALSE</td><td>FALSE</td><td>FALSE</td></tr>\n",
              "\t<tr><td>FALSE</td><td>FALSE</td><td>FALSE</td><td>FALSE</td><td>FALSE</td><td>FALSE</td><td>FALSE</td><td>FALSE</td><td>FALSE</td><td>FALSE</td><td>FALSE</td><td>FALSE</td><td>FALSE</td><td>FALSE</td><td>FALSE</td><td>FALSE</td></tr>\n",
              "\t<tr><td>FALSE</td><td>FALSE</td><td>FALSE</td><td>FALSE</td><td>FALSE</td><td>FALSE</td><td>FALSE</td><td>FALSE</td><td>FALSE</td><td>FALSE</td><td>FALSE</td><td>FALSE</td><td>FALSE</td><td>FALSE</td><td> TRUE</td><td>FALSE</td></tr>\n",
              "\t<tr><td>FALSE</td><td>FALSE</td><td>FALSE</td><td>FALSE</td><td>FALSE</td><td>FALSE</td><td>FALSE</td><td>FALSE</td><td>FALSE</td><td>FALSE</td><td>FALSE</td><td>FALSE</td><td>FALSE</td><td>FALSE</td><td>FALSE</td><td>FALSE</td></tr>\n",
              "\t<tr><td>FALSE</td><td>FALSE</td><td>FALSE</td><td>FALSE</td><td>FALSE</td><td>FALSE</td><td>FALSE</td><td>FALSE</td><td>FALSE</td><td>FALSE</td><td>FALSE</td><td>FALSE</td><td>FALSE</td><td>FALSE</td><td> TRUE</td><td>FALSE</td></tr>\n",
              "\t<tr><td>FALSE</td><td>FALSE</td><td>FALSE</td><td>FALSE</td><td>FALSE</td><td>FALSE</td><td>FALSE</td><td>FALSE</td><td>FALSE</td><td>FALSE</td><td>FALSE</td><td>FALSE</td><td>FALSE</td><td>FALSE</td><td>FALSE</td><td>FALSE</td></tr>\n",
              "\t<tr><td>FALSE</td><td>FALSE</td><td>FALSE</td><td>FALSE</td><td>FALSE</td><td>FALSE</td><td>FALSE</td><td>FALSE</td><td>FALSE</td><td>FALSE</td><td>FALSE</td><td>FALSE</td><td>FALSE</td><td>FALSE</td><td>FALSE</td><td>FALSE</td></tr>\n",
              "\t<tr><td>FALSE</td><td>FALSE</td><td>FALSE</td><td>FALSE</td><td>FALSE</td><td>FALSE</td><td>FALSE</td><td>FALSE</td><td>FALSE</td><td>FALSE</td><td>FALSE</td><td>FALSE</td><td>FALSE</td><td>FALSE</td><td> TRUE</td><td>FALSE</td></tr>\n",
              "\t<tr><td>FALSE</td><td>FALSE</td><td>FALSE</td><td>FALSE</td><td>FALSE</td><td>FALSE</td><td>FALSE</td><td>FALSE</td><td>FALSE</td><td>FALSE</td><td>FALSE</td><td>FALSE</td><td>FALSE</td><td>FALSE</td><td> TRUE</td><td>FALSE</td></tr>\n",
              "\t<tr><td>FALSE</td><td>FALSE</td><td>FALSE</td><td>FALSE</td><td>FALSE</td><td>FALSE</td><td>FALSE</td><td>FALSE</td><td>FALSE</td><td>FALSE</td><td>FALSE</td><td>FALSE</td><td>FALSE</td><td>FALSE</td><td>FALSE</td><td>FALSE</td></tr>\n",
              "\t<tr><td>FALSE</td><td>FALSE</td><td>FALSE</td><td>FALSE</td><td>FALSE</td><td>FALSE</td><td>FALSE</td><td>FALSE</td><td>FALSE</td><td>FALSE</td><td>FALSE</td><td>FALSE</td><td>FALSE</td><td>FALSE</td><td>FALSE</td><td>FALSE</td></tr>\n",
              "\t<tr><td>FALSE</td><td>FALSE</td><td>FALSE</td><td>FALSE</td><td>FALSE</td><td>FALSE</td><td>FALSE</td><td>FALSE</td><td>FALSE</td><td>FALSE</td><td>FALSE</td><td>FALSE</td><td>FALSE</td><td>FALSE</td><td>FALSE</td><td>FALSE</td></tr>\n",
              "\t<tr><td>FALSE</td><td>FALSE</td><td>FALSE</td><td>FALSE</td><td>FALSE</td><td>FALSE</td><td>FALSE</td><td>FALSE</td><td>FALSE</td><td>FALSE</td><td>FALSE</td><td>FALSE</td><td>FALSE</td><td>FALSE</td><td>FALSE</td><td>FALSE</td></tr>\n",
              "\t<tr><td>FALSE</td><td>FALSE</td><td>FALSE</td><td>FALSE</td><td>FALSE</td><td>FALSE</td><td>FALSE</td><td>FALSE</td><td>FALSE</td><td>FALSE</td><td>FALSE</td><td>FALSE</td><td>FALSE</td><td>FALSE</td><td>FALSE</td><td>FALSE</td></tr>\n",
              "\t<tr><td>FALSE</td><td>FALSE</td><td>FALSE</td><td>FALSE</td><td>FALSE</td><td>FALSE</td><td>FALSE</td><td>FALSE</td><td>FALSE</td><td>FALSE</td><td>FALSE</td><td>FALSE</td><td>FALSE</td><td>FALSE</td><td>FALSE</td><td>FALSE</td></tr>\n",
              "\t<tr><td>FALSE</td><td>FALSE</td><td>FALSE</td><td>FALSE</td><td>FALSE</td><td>FALSE</td><td>FALSE</td><td>FALSE</td><td>FALSE</td><td>FALSE</td><td>FALSE</td><td>FALSE</td><td>FALSE</td><td>FALSE</td><td> TRUE</td><td>FALSE</td></tr>\n",
              "\t<tr><td>FALSE</td><td>FALSE</td><td>FALSE</td><td>FALSE</td><td>FALSE</td><td>FALSE</td><td>FALSE</td><td>FALSE</td><td>FALSE</td><td>FALSE</td><td>FALSE</td><td>FALSE</td><td>FALSE</td><td>FALSE</td><td>FALSE</td><td>FALSE</td></tr>\n",
              "\t<tr><td>FALSE</td><td>FALSE</td><td>FALSE</td><td>FALSE</td><td>FALSE</td><td>FALSE</td><td>FALSE</td><td>FALSE</td><td>FALSE</td><td>FALSE</td><td>FALSE</td><td>FALSE</td><td>FALSE</td><td>FALSE</td><td>FALSE</td><td>FALSE</td></tr>\n",
              "\t<tr><td>FALSE</td><td>FALSE</td><td>FALSE</td><td>FALSE</td><td>FALSE</td><td>FALSE</td><td>FALSE</td><td>FALSE</td><td>FALSE</td><td>FALSE</td><td>FALSE</td><td>FALSE</td><td>FALSE</td><td>FALSE</td><td>FALSE</td><td>FALSE</td></tr>\n",
              "\t<tr><td>FALSE</td><td>FALSE</td><td>FALSE</td><td>FALSE</td><td>FALSE</td><td>FALSE</td><td>FALSE</td><td>FALSE</td><td>FALSE</td><td>FALSE</td><td>FALSE</td><td>FALSE</td><td>FALSE</td><td>FALSE</td><td> TRUE</td><td>FALSE</td></tr>\n",
              "\t<tr><td>⋮</td><td>⋮</td><td>⋮</td><td>⋮</td><td>⋮</td><td>⋮</td><td>⋮</td><td>⋮</td><td>⋮</td><td>⋮</td><td>⋮</td><td>⋮</td><td>⋮</td><td>⋮</td><td>⋮</td><td>⋮</td></tr>\n",
              "\t<tr><td>FALSE</td><td>FALSE</td><td>FALSE</td><td>FALSE</td><td>FALSE</td><td>FALSE</td><td>FALSE</td><td>FALSE</td><td>FALSE</td><td>FALSE</td><td>FALSE</td><td>FALSE</td><td>FALSE</td><td>FALSE</td><td> TRUE</td><td>FALSE</td></tr>\n",
              "\t<tr><td>FALSE</td><td>FALSE</td><td>FALSE</td><td>FALSE</td><td>FALSE</td><td>FALSE</td><td>FALSE</td><td>FALSE</td><td>FALSE</td><td>FALSE</td><td>FALSE</td><td>FALSE</td><td>FALSE</td><td>FALSE</td><td>FALSE</td><td>FALSE</td></tr>\n",
              "\t<tr><td>FALSE</td><td>FALSE</td><td>FALSE</td><td>FALSE</td><td>FALSE</td><td>FALSE</td><td>FALSE</td><td>FALSE</td><td>FALSE</td><td>FALSE</td><td>FALSE</td><td>FALSE</td><td>FALSE</td><td>FALSE</td><td> TRUE</td><td>FALSE</td></tr>\n",
              "\t<tr><td>FALSE</td><td>FALSE</td><td>FALSE</td><td>FALSE</td><td>FALSE</td><td>FALSE</td><td>FALSE</td><td>FALSE</td><td>FALSE</td><td>FALSE</td><td>FALSE</td><td>FALSE</td><td>FALSE</td><td>FALSE</td><td> TRUE</td><td>FALSE</td></tr>\n",
              "\t<tr><td>FALSE</td><td>FALSE</td><td>FALSE</td><td>FALSE</td><td>FALSE</td><td>FALSE</td><td>FALSE</td><td>FALSE</td><td>FALSE</td><td>FALSE</td><td>FALSE</td><td>FALSE</td><td>FALSE</td><td>FALSE</td><td> TRUE</td><td>FALSE</td></tr>\n",
              "\t<tr><td>FALSE</td><td>FALSE</td><td>FALSE</td><td>FALSE</td><td>FALSE</td><td>FALSE</td><td>FALSE</td><td>FALSE</td><td>FALSE</td><td>FALSE</td><td>FALSE</td><td>FALSE</td><td>FALSE</td><td>FALSE</td><td>FALSE</td><td>FALSE</td></tr>\n",
              "\t<tr><td>FALSE</td><td>FALSE</td><td>FALSE</td><td>FALSE</td><td>FALSE</td><td>FALSE</td><td>FALSE</td><td>FALSE</td><td>FALSE</td><td>FALSE</td><td>FALSE</td><td>FALSE</td><td>FALSE</td><td>FALSE</td><td>FALSE</td><td>FALSE</td></tr>\n",
              "\t<tr><td>FALSE</td><td>FALSE</td><td>FALSE</td><td>FALSE</td><td>FALSE</td><td>FALSE</td><td>FALSE</td><td>FALSE</td><td>FALSE</td><td>FALSE</td><td>FALSE</td><td>FALSE</td><td>FALSE</td><td>FALSE</td><td>FALSE</td><td>FALSE</td></tr>\n",
              "\t<tr><td>FALSE</td><td>FALSE</td><td>FALSE</td><td>FALSE</td><td>FALSE</td><td>FALSE</td><td>FALSE</td><td>FALSE</td><td>FALSE</td><td>FALSE</td><td>FALSE</td><td>FALSE</td><td>FALSE</td><td>FALSE</td><td> TRUE</td><td>FALSE</td></tr>\n",
              "\t<tr><td>FALSE</td><td>FALSE</td><td>FALSE</td><td>FALSE</td><td>FALSE</td><td>FALSE</td><td>FALSE</td><td>FALSE</td><td>FALSE</td><td>FALSE</td><td>FALSE</td><td>FALSE</td><td>FALSE</td><td>FALSE</td><td>FALSE</td><td>FALSE</td></tr>\n",
              "\t<tr><td>FALSE</td><td>FALSE</td><td>FALSE</td><td>FALSE</td><td>FALSE</td><td>FALSE</td><td>FALSE</td><td>FALSE</td><td>FALSE</td><td>FALSE</td><td>FALSE</td><td>FALSE</td><td>FALSE</td><td>FALSE</td><td>FALSE</td><td>FALSE</td></tr>\n",
              "\t<tr><td>FALSE</td><td>FALSE</td><td>FALSE</td><td>FALSE</td><td>FALSE</td><td>FALSE</td><td>FALSE</td><td>FALSE</td><td>FALSE</td><td>FALSE</td><td>FALSE</td><td>FALSE</td><td>FALSE</td><td>FALSE</td><td>FALSE</td><td>FALSE</td></tr>\n",
              "\t<tr><td>FALSE</td><td>FALSE</td><td>FALSE</td><td>FALSE</td><td>FALSE</td><td>FALSE</td><td>FALSE</td><td>FALSE</td><td>FALSE</td><td>FALSE</td><td>FALSE</td><td>FALSE</td><td>FALSE</td><td>FALSE</td><td> TRUE</td><td>FALSE</td></tr>\n",
              "\t<tr><td>FALSE</td><td>FALSE</td><td>FALSE</td><td>FALSE</td><td>FALSE</td><td>FALSE</td><td>FALSE</td><td>FALSE</td><td>FALSE</td><td>FALSE</td><td>FALSE</td><td>FALSE</td><td>FALSE</td><td>FALSE</td><td>FALSE</td><td>FALSE</td></tr>\n",
              "\t<tr><td>FALSE</td><td>FALSE</td><td>FALSE</td><td>FALSE</td><td>FALSE</td><td>FALSE</td><td>FALSE</td><td>FALSE</td><td>FALSE</td><td>FALSE</td><td>FALSE</td><td>FALSE</td><td>FALSE</td><td>FALSE</td><td>FALSE</td><td>FALSE</td></tr>\n",
              "\t<tr><td>FALSE</td><td>FALSE</td><td>FALSE</td><td>FALSE</td><td>FALSE</td><td>FALSE</td><td>FALSE</td><td>FALSE</td><td>FALSE</td><td>FALSE</td><td>FALSE</td><td>FALSE</td><td>FALSE</td><td>FALSE</td><td> TRUE</td><td>FALSE</td></tr>\n",
              "\t<tr><td>FALSE</td><td>FALSE</td><td>FALSE</td><td>FALSE</td><td>FALSE</td><td>FALSE</td><td>FALSE</td><td>FALSE</td><td>FALSE</td><td>FALSE</td><td>FALSE</td><td>FALSE</td><td>FALSE</td><td>FALSE</td><td>FALSE</td><td>FALSE</td></tr>\n",
              "\t<tr><td>FALSE</td><td>FALSE</td><td>FALSE</td><td>FALSE</td><td>FALSE</td><td>FALSE</td><td>FALSE</td><td>FALSE</td><td>FALSE</td><td>FALSE</td><td>FALSE</td><td>FALSE</td><td>FALSE</td><td>FALSE</td><td>FALSE</td><td>FALSE</td></tr>\n",
              "\t<tr><td>FALSE</td><td>FALSE</td><td>FALSE</td><td>FALSE</td><td>FALSE</td><td>FALSE</td><td>FALSE</td><td>FALSE</td><td>FALSE</td><td>FALSE</td><td>FALSE</td><td>FALSE</td><td>FALSE</td><td>FALSE</td><td>FALSE</td><td>FALSE</td></tr>\n",
              "\t<tr><td>FALSE</td><td>FALSE</td><td>FALSE</td><td>FALSE</td><td>FALSE</td><td>FALSE</td><td>FALSE</td><td>FALSE</td><td>FALSE</td><td>FALSE</td><td>FALSE</td><td>FALSE</td><td>FALSE</td><td>FALSE</td><td>FALSE</td><td>FALSE</td></tr>\n",
              "\t<tr><td>FALSE</td><td>FALSE</td><td>FALSE</td><td>FALSE</td><td>FALSE</td><td>FALSE</td><td>FALSE</td><td>FALSE</td><td>FALSE</td><td>FALSE</td><td>FALSE</td><td>FALSE</td><td>FALSE</td><td>FALSE</td><td> TRUE</td><td>FALSE</td></tr>\n",
              "\t<tr><td>FALSE</td><td>FALSE</td><td>FALSE</td><td>FALSE</td><td>FALSE</td><td>FALSE</td><td>FALSE</td><td>FALSE</td><td>FALSE</td><td>FALSE</td><td>FALSE</td><td>FALSE</td><td>FALSE</td><td>FALSE</td><td>FALSE</td><td>FALSE</td></tr>\n",
              "\t<tr><td>FALSE</td><td>FALSE</td><td>FALSE</td><td>FALSE</td><td>FALSE</td><td>FALSE</td><td>FALSE</td><td>FALSE</td><td>FALSE</td><td>FALSE</td><td>FALSE</td><td>FALSE</td><td>FALSE</td><td>FALSE</td><td> TRUE</td><td>FALSE</td></tr>\n",
              "\t<tr><td>FALSE</td><td>FALSE</td><td>FALSE</td><td>FALSE</td><td>FALSE</td><td>FALSE</td><td>FALSE</td><td>FALSE</td><td>FALSE</td><td>FALSE</td><td>FALSE</td><td>FALSE</td><td>FALSE</td><td>FALSE</td><td>FALSE</td><td>FALSE</td></tr>\n",
              "\t<tr><td>FALSE</td><td>FALSE</td><td>FALSE</td><td>FALSE</td><td>FALSE</td><td>FALSE</td><td>FALSE</td><td>FALSE</td><td>FALSE</td><td>FALSE</td><td>FALSE</td><td>FALSE</td><td>FALSE</td><td>FALSE</td><td>FALSE</td><td>FALSE</td></tr>\n",
              "\t<tr><td>FALSE</td><td>FALSE</td><td>FALSE</td><td>FALSE</td><td>FALSE</td><td>FALSE</td><td>FALSE</td><td>FALSE</td><td>FALSE</td><td>FALSE</td><td>FALSE</td><td>FALSE</td><td>FALSE</td><td>FALSE</td><td>FALSE</td><td>FALSE</td></tr>\n",
              "\t<tr><td>FALSE</td><td>FALSE</td><td>FALSE</td><td>FALSE</td><td>FALSE</td><td>FALSE</td><td>FALSE</td><td>FALSE</td><td>FALSE</td><td>FALSE</td><td>FALSE</td><td>FALSE</td><td>FALSE</td><td>FALSE</td><td>FALSE</td><td>FALSE</td></tr>\n",
              "\t<tr><td>FALSE</td><td>FALSE</td><td>FALSE</td><td>FALSE</td><td>FALSE</td><td>FALSE</td><td>FALSE</td><td>FALSE</td><td>FALSE</td><td>FALSE</td><td>FALSE</td><td>FALSE</td><td>FALSE</td><td>FALSE</td><td>FALSE</td><td>FALSE</td></tr>\n",
              "\t<tr><td>FALSE</td><td>FALSE</td><td>FALSE</td><td>FALSE</td><td>FALSE</td><td>FALSE</td><td>FALSE</td><td>FALSE</td><td>FALSE</td><td>FALSE</td><td>FALSE</td><td>FALSE</td><td>FALSE</td><td>FALSE</td><td> TRUE</td><td>FALSE</td></tr>\n",
              "\t<tr><td>FALSE</td><td>FALSE</td><td>FALSE</td><td>FALSE</td><td>FALSE</td><td>FALSE</td><td>FALSE</td><td>FALSE</td><td>FALSE</td><td>FALSE</td><td>FALSE</td><td>FALSE</td><td>FALSE</td><td>FALSE</td><td>FALSE</td><td>FALSE</td></tr>\n",
              "</tbody>\n",
              "</table>\n"
            ],
            "text/markdown": "\nA matrix: 216 × 16 of type lgl\n\n| sl_no | gender | ssc_p | ssc_b | hsc_p | hsc_b | hsc_s | degree_p | degree_t | workex | etest_p | specialisation | mba_p | status | salary | class |\n|---|---|---|---|---|---|---|---|---|---|---|---|---|---|---|---|\n| FALSE | FALSE | FALSE | FALSE | FALSE | FALSE | FALSE | FALSE | FALSE | FALSE | FALSE | FALSE | FALSE | FALSE | FALSE | FALSE |\n| FALSE | FALSE | FALSE | FALSE | FALSE | FALSE | FALSE | FALSE | FALSE | FALSE | FALSE | FALSE | FALSE | FALSE | FALSE | FALSE |\n| FALSE | FALSE | FALSE | FALSE | FALSE | FALSE | FALSE | FALSE | FALSE | FALSE | FALSE | FALSE | FALSE | FALSE | FALSE | FALSE |\n| FALSE | FALSE | FALSE | FALSE | FALSE | FALSE | FALSE | FALSE | FALSE | FALSE | FALSE | FALSE | FALSE | FALSE |  TRUE | FALSE |\n| FALSE | FALSE | FALSE | FALSE | FALSE | FALSE | FALSE | FALSE | FALSE | FALSE | FALSE | FALSE | FALSE | FALSE | FALSE | FALSE |\n| FALSE | FALSE | FALSE | FALSE | FALSE | FALSE | FALSE | FALSE | FALSE | FALSE | FALSE | FALSE | FALSE | FALSE |  TRUE | FALSE |\n| FALSE | FALSE | FALSE | FALSE | FALSE | FALSE | FALSE | FALSE | FALSE | FALSE | FALSE | FALSE | FALSE | FALSE |  TRUE | FALSE |\n| FALSE | FALSE | FALSE | FALSE | FALSE | FALSE | FALSE | FALSE | FALSE | FALSE | FALSE | FALSE | FALSE | FALSE | FALSE | FALSE |\n| FALSE | FALSE | FALSE | FALSE | FALSE | FALSE | FALSE | FALSE | FALSE | FALSE | FALSE | FALSE | FALSE | FALSE | FALSE | FALSE |\n| FALSE | FALSE | FALSE | FALSE | FALSE | FALSE | FALSE | FALSE | FALSE | FALSE | FALSE | FALSE | FALSE | FALSE |  TRUE | FALSE |\n| FALSE | FALSE | FALSE | FALSE | FALSE | FALSE | FALSE | FALSE | FALSE | FALSE | FALSE | FALSE | FALSE | FALSE | FALSE | FALSE |\n| FALSE | FALSE | FALSE | FALSE | FALSE | FALSE | FALSE | FALSE | FALSE | FALSE | FALSE | FALSE | FALSE | FALSE | FALSE | FALSE |\n| FALSE | FALSE | FALSE | FALSE | FALSE | FALSE | FALSE | FALSE | FALSE | FALSE | FALSE | FALSE | FALSE | FALSE |  TRUE | FALSE |\n| FALSE | FALSE | FALSE | FALSE | FALSE | FALSE | FALSE | FALSE | FALSE | FALSE | FALSE | FALSE | FALSE | FALSE | FALSE | FALSE |\n| FALSE | FALSE | FALSE | FALSE | FALSE | FALSE | FALSE | FALSE | FALSE | FALSE | FALSE | FALSE | FALSE | FALSE |  TRUE | FALSE |\n| FALSE | FALSE | FALSE | FALSE | FALSE | FALSE | FALSE | FALSE | FALSE | FALSE | FALSE | FALSE | FALSE | FALSE | FALSE | FALSE |\n| FALSE | FALSE | FALSE | FALSE | FALSE | FALSE | FALSE | FALSE | FALSE | FALSE | FALSE | FALSE | FALSE | FALSE | FALSE | FALSE |\n| FALSE | FALSE | FALSE | FALSE | FALSE | FALSE | FALSE | FALSE | FALSE | FALSE | FALSE | FALSE | FALSE | FALSE |  TRUE | FALSE |\n| FALSE | FALSE | FALSE | FALSE | FALSE | FALSE | FALSE | FALSE | FALSE | FALSE | FALSE | FALSE | FALSE | FALSE |  TRUE | FALSE |\n| FALSE | FALSE | FALSE | FALSE | FALSE | FALSE | FALSE | FALSE | FALSE | FALSE | FALSE | FALSE | FALSE | FALSE | FALSE | FALSE |\n| FALSE | FALSE | FALSE | FALSE | FALSE | FALSE | FALSE | FALSE | FALSE | FALSE | FALSE | FALSE | FALSE | FALSE | FALSE | FALSE |\n| FALSE | FALSE | FALSE | FALSE | FALSE | FALSE | FALSE | FALSE | FALSE | FALSE | FALSE | FALSE | FALSE | FALSE | FALSE | FALSE |\n| FALSE | FALSE | FALSE | FALSE | FALSE | FALSE | FALSE | FALSE | FALSE | FALSE | FALSE | FALSE | FALSE | FALSE | FALSE | FALSE |\n| FALSE | FALSE | FALSE | FALSE | FALSE | FALSE | FALSE | FALSE | FALSE | FALSE | FALSE | FALSE | FALSE | FALSE | FALSE | FALSE |\n| FALSE | FALSE | FALSE | FALSE | FALSE | FALSE | FALSE | FALSE | FALSE | FALSE | FALSE | FALSE | FALSE | FALSE | FALSE | FALSE |\n| FALSE | FALSE | FALSE | FALSE | FALSE | FALSE | FALSE | FALSE | FALSE | FALSE | FALSE | FALSE | FALSE | FALSE |  TRUE | FALSE |\n| FALSE | FALSE | FALSE | FALSE | FALSE | FALSE | FALSE | FALSE | FALSE | FALSE | FALSE | FALSE | FALSE | FALSE | FALSE | FALSE |\n| FALSE | FALSE | FALSE | FALSE | FALSE | FALSE | FALSE | FALSE | FALSE | FALSE | FALSE | FALSE | FALSE | FALSE | FALSE | FALSE |\n| FALSE | FALSE | FALSE | FALSE | FALSE | FALSE | FALSE | FALSE | FALSE | FALSE | FALSE | FALSE | FALSE | FALSE | FALSE | FALSE |\n| FALSE | FALSE | FALSE | FALSE | FALSE | FALSE | FALSE | FALSE | FALSE | FALSE | FALSE | FALSE | FALSE | FALSE |  TRUE | FALSE |\n| ⋮ | ⋮ | ⋮ | ⋮ | ⋮ | ⋮ | ⋮ | ⋮ | ⋮ | ⋮ | ⋮ | ⋮ | ⋮ | ⋮ | ⋮ | ⋮ |\n| FALSE | FALSE | FALSE | FALSE | FALSE | FALSE | FALSE | FALSE | FALSE | FALSE | FALSE | FALSE | FALSE | FALSE |  TRUE | FALSE |\n| FALSE | FALSE | FALSE | FALSE | FALSE | FALSE | FALSE | FALSE | FALSE | FALSE | FALSE | FALSE | FALSE | FALSE | FALSE | FALSE |\n| FALSE | FALSE | FALSE | FALSE | FALSE | FALSE | FALSE | FALSE | FALSE | FALSE | FALSE | FALSE | FALSE | FALSE |  TRUE | FALSE |\n| FALSE | FALSE | FALSE | FALSE | FALSE | FALSE | FALSE | FALSE | FALSE | FALSE | FALSE | FALSE | FALSE | FALSE |  TRUE | FALSE |\n| FALSE | FALSE | FALSE | FALSE | FALSE | FALSE | FALSE | FALSE | FALSE | FALSE | FALSE | FALSE | FALSE | FALSE |  TRUE | FALSE |\n| FALSE | FALSE | FALSE | FALSE | FALSE | FALSE | FALSE | FALSE | FALSE | FALSE | FALSE | FALSE | FALSE | FALSE | FALSE | FALSE |\n| FALSE | FALSE | FALSE | FALSE | FALSE | FALSE | FALSE | FALSE | FALSE | FALSE | FALSE | FALSE | FALSE | FALSE | FALSE | FALSE |\n| FALSE | FALSE | FALSE | FALSE | FALSE | FALSE | FALSE | FALSE | FALSE | FALSE | FALSE | FALSE | FALSE | FALSE | FALSE | FALSE |\n| FALSE | FALSE | FALSE | FALSE | FALSE | FALSE | FALSE | FALSE | FALSE | FALSE | FALSE | FALSE | FALSE | FALSE |  TRUE | FALSE |\n| FALSE | FALSE | FALSE | FALSE | FALSE | FALSE | FALSE | FALSE | FALSE | FALSE | FALSE | FALSE | FALSE | FALSE | FALSE | FALSE |\n| FALSE | FALSE | FALSE | FALSE | FALSE | FALSE | FALSE | FALSE | FALSE | FALSE | FALSE | FALSE | FALSE | FALSE | FALSE | FALSE |\n| FALSE | FALSE | FALSE | FALSE | FALSE | FALSE | FALSE | FALSE | FALSE | FALSE | FALSE | FALSE | FALSE | FALSE | FALSE | FALSE |\n| FALSE | FALSE | FALSE | FALSE | FALSE | FALSE | FALSE | FALSE | FALSE | FALSE | FALSE | FALSE | FALSE | FALSE |  TRUE | FALSE |\n| FALSE | FALSE | FALSE | FALSE | FALSE | FALSE | FALSE | FALSE | FALSE | FALSE | FALSE | FALSE | FALSE | FALSE | FALSE | FALSE |\n| FALSE | FALSE | FALSE | FALSE | FALSE | FALSE | FALSE | FALSE | FALSE | FALSE | FALSE | FALSE | FALSE | FALSE | FALSE | FALSE |\n| FALSE | FALSE | FALSE | FALSE | FALSE | FALSE | FALSE | FALSE | FALSE | FALSE | FALSE | FALSE | FALSE | FALSE |  TRUE | FALSE |\n| FALSE | FALSE | FALSE | FALSE | FALSE | FALSE | FALSE | FALSE | FALSE | FALSE | FALSE | FALSE | FALSE | FALSE | FALSE | FALSE |\n| FALSE | FALSE | FALSE | FALSE | FALSE | FALSE | FALSE | FALSE | FALSE | FALSE | FALSE | FALSE | FALSE | FALSE | FALSE | FALSE |\n| FALSE | FALSE | FALSE | FALSE | FALSE | FALSE | FALSE | FALSE | FALSE | FALSE | FALSE | FALSE | FALSE | FALSE | FALSE | FALSE |\n| FALSE | FALSE | FALSE | FALSE | FALSE | FALSE | FALSE | FALSE | FALSE | FALSE | FALSE | FALSE | FALSE | FALSE | FALSE | FALSE |\n| FALSE | FALSE | FALSE | FALSE | FALSE | FALSE | FALSE | FALSE | FALSE | FALSE | FALSE | FALSE | FALSE | FALSE |  TRUE | FALSE |\n| FALSE | FALSE | FALSE | FALSE | FALSE | FALSE | FALSE | FALSE | FALSE | FALSE | FALSE | FALSE | FALSE | FALSE | FALSE | FALSE |\n| FALSE | FALSE | FALSE | FALSE | FALSE | FALSE | FALSE | FALSE | FALSE | FALSE | FALSE | FALSE | FALSE | FALSE |  TRUE | FALSE |\n| FALSE | FALSE | FALSE | FALSE | FALSE | FALSE | FALSE | FALSE | FALSE | FALSE | FALSE | FALSE | FALSE | FALSE | FALSE | FALSE |\n| FALSE | FALSE | FALSE | FALSE | FALSE | FALSE | FALSE | FALSE | FALSE | FALSE | FALSE | FALSE | FALSE | FALSE | FALSE | FALSE |\n| FALSE | FALSE | FALSE | FALSE | FALSE | FALSE | FALSE | FALSE | FALSE | FALSE | FALSE | FALSE | FALSE | FALSE | FALSE | FALSE |\n| FALSE | FALSE | FALSE | FALSE | FALSE | FALSE | FALSE | FALSE | FALSE | FALSE | FALSE | FALSE | FALSE | FALSE | FALSE | FALSE |\n| FALSE | FALSE | FALSE | FALSE | FALSE | FALSE | FALSE | FALSE | FALSE | FALSE | FALSE | FALSE | FALSE | FALSE | FALSE | FALSE |\n| FALSE | FALSE | FALSE | FALSE | FALSE | FALSE | FALSE | FALSE | FALSE | FALSE | FALSE | FALSE | FALSE | FALSE |  TRUE | FALSE |\n| FALSE | FALSE | FALSE | FALSE | FALSE | FALSE | FALSE | FALSE | FALSE | FALSE | FALSE | FALSE | FALSE | FALSE | FALSE | FALSE |\n\n",
            "text/latex": "A matrix: 216 × 16 of type lgl\n\\begin{tabular}{llllllllllllllll}\n sl\\_no & gender & ssc\\_p & ssc\\_b & hsc\\_p & hsc\\_b & hsc\\_s & degree\\_p & degree\\_t & workex & etest\\_p & specialisation & mba\\_p & status & salary & class\\\\\n\\hline\n\t FALSE & FALSE & FALSE & FALSE & FALSE & FALSE & FALSE & FALSE & FALSE & FALSE & FALSE & FALSE & FALSE & FALSE & FALSE & FALSE\\\\\n\t FALSE & FALSE & FALSE & FALSE & FALSE & FALSE & FALSE & FALSE & FALSE & FALSE & FALSE & FALSE & FALSE & FALSE & FALSE & FALSE\\\\\n\t FALSE & FALSE & FALSE & FALSE & FALSE & FALSE & FALSE & FALSE & FALSE & FALSE & FALSE & FALSE & FALSE & FALSE & FALSE & FALSE\\\\\n\t FALSE & FALSE & FALSE & FALSE & FALSE & FALSE & FALSE & FALSE & FALSE & FALSE & FALSE & FALSE & FALSE & FALSE &  TRUE & FALSE\\\\\n\t FALSE & FALSE & FALSE & FALSE & FALSE & FALSE & FALSE & FALSE & FALSE & FALSE & FALSE & FALSE & FALSE & FALSE & FALSE & FALSE\\\\\n\t FALSE & FALSE & FALSE & FALSE & FALSE & FALSE & FALSE & FALSE & FALSE & FALSE & FALSE & FALSE & FALSE & FALSE &  TRUE & FALSE\\\\\n\t FALSE & FALSE & FALSE & FALSE & FALSE & FALSE & FALSE & FALSE & FALSE & FALSE & FALSE & FALSE & FALSE & FALSE &  TRUE & FALSE\\\\\n\t FALSE & FALSE & FALSE & FALSE & FALSE & FALSE & FALSE & FALSE & FALSE & FALSE & FALSE & FALSE & FALSE & FALSE & FALSE & FALSE\\\\\n\t FALSE & FALSE & FALSE & FALSE & FALSE & FALSE & FALSE & FALSE & FALSE & FALSE & FALSE & FALSE & FALSE & FALSE & FALSE & FALSE\\\\\n\t FALSE & FALSE & FALSE & FALSE & FALSE & FALSE & FALSE & FALSE & FALSE & FALSE & FALSE & FALSE & FALSE & FALSE &  TRUE & FALSE\\\\\n\t FALSE & FALSE & FALSE & FALSE & FALSE & FALSE & FALSE & FALSE & FALSE & FALSE & FALSE & FALSE & FALSE & FALSE & FALSE & FALSE\\\\\n\t FALSE & FALSE & FALSE & FALSE & FALSE & FALSE & FALSE & FALSE & FALSE & FALSE & FALSE & FALSE & FALSE & FALSE & FALSE & FALSE\\\\\n\t FALSE & FALSE & FALSE & FALSE & FALSE & FALSE & FALSE & FALSE & FALSE & FALSE & FALSE & FALSE & FALSE & FALSE &  TRUE & FALSE\\\\\n\t FALSE & FALSE & FALSE & FALSE & FALSE & FALSE & FALSE & FALSE & FALSE & FALSE & FALSE & FALSE & FALSE & FALSE & FALSE & FALSE\\\\\n\t FALSE & FALSE & FALSE & FALSE & FALSE & FALSE & FALSE & FALSE & FALSE & FALSE & FALSE & FALSE & FALSE & FALSE &  TRUE & FALSE\\\\\n\t FALSE & FALSE & FALSE & FALSE & FALSE & FALSE & FALSE & FALSE & FALSE & FALSE & FALSE & FALSE & FALSE & FALSE & FALSE & FALSE\\\\\n\t FALSE & FALSE & FALSE & FALSE & FALSE & FALSE & FALSE & FALSE & FALSE & FALSE & FALSE & FALSE & FALSE & FALSE & FALSE & FALSE\\\\\n\t FALSE & FALSE & FALSE & FALSE & FALSE & FALSE & FALSE & FALSE & FALSE & FALSE & FALSE & FALSE & FALSE & FALSE &  TRUE & FALSE\\\\\n\t FALSE & FALSE & FALSE & FALSE & FALSE & FALSE & FALSE & FALSE & FALSE & FALSE & FALSE & FALSE & FALSE & FALSE &  TRUE & FALSE\\\\\n\t FALSE & FALSE & FALSE & FALSE & FALSE & FALSE & FALSE & FALSE & FALSE & FALSE & FALSE & FALSE & FALSE & FALSE & FALSE & FALSE\\\\\n\t FALSE & FALSE & FALSE & FALSE & FALSE & FALSE & FALSE & FALSE & FALSE & FALSE & FALSE & FALSE & FALSE & FALSE & FALSE & FALSE\\\\\n\t FALSE & FALSE & FALSE & FALSE & FALSE & FALSE & FALSE & FALSE & FALSE & FALSE & FALSE & FALSE & FALSE & FALSE & FALSE & FALSE\\\\\n\t FALSE & FALSE & FALSE & FALSE & FALSE & FALSE & FALSE & FALSE & FALSE & FALSE & FALSE & FALSE & FALSE & FALSE & FALSE & FALSE\\\\\n\t FALSE & FALSE & FALSE & FALSE & FALSE & FALSE & FALSE & FALSE & FALSE & FALSE & FALSE & FALSE & FALSE & FALSE & FALSE & FALSE\\\\\n\t FALSE & FALSE & FALSE & FALSE & FALSE & FALSE & FALSE & FALSE & FALSE & FALSE & FALSE & FALSE & FALSE & FALSE & FALSE & FALSE\\\\\n\t FALSE & FALSE & FALSE & FALSE & FALSE & FALSE & FALSE & FALSE & FALSE & FALSE & FALSE & FALSE & FALSE & FALSE &  TRUE & FALSE\\\\\n\t FALSE & FALSE & FALSE & FALSE & FALSE & FALSE & FALSE & FALSE & FALSE & FALSE & FALSE & FALSE & FALSE & FALSE & FALSE & FALSE\\\\\n\t FALSE & FALSE & FALSE & FALSE & FALSE & FALSE & FALSE & FALSE & FALSE & FALSE & FALSE & FALSE & FALSE & FALSE & FALSE & FALSE\\\\\n\t FALSE & FALSE & FALSE & FALSE & FALSE & FALSE & FALSE & FALSE & FALSE & FALSE & FALSE & FALSE & FALSE & FALSE & FALSE & FALSE\\\\\n\t FALSE & FALSE & FALSE & FALSE & FALSE & FALSE & FALSE & FALSE & FALSE & FALSE & FALSE & FALSE & FALSE & FALSE &  TRUE & FALSE\\\\\n\t ⋮ & ⋮ & ⋮ & ⋮ & ⋮ & ⋮ & ⋮ & ⋮ & ⋮ & ⋮ & ⋮ & ⋮ & ⋮ & ⋮ & ⋮ & ⋮\\\\\n\t FALSE & FALSE & FALSE & FALSE & FALSE & FALSE & FALSE & FALSE & FALSE & FALSE & FALSE & FALSE & FALSE & FALSE &  TRUE & FALSE\\\\\n\t FALSE & FALSE & FALSE & FALSE & FALSE & FALSE & FALSE & FALSE & FALSE & FALSE & FALSE & FALSE & FALSE & FALSE & FALSE & FALSE\\\\\n\t FALSE & FALSE & FALSE & FALSE & FALSE & FALSE & FALSE & FALSE & FALSE & FALSE & FALSE & FALSE & FALSE & FALSE &  TRUE & FALSE\\\\\n\t FALSE & FALSE & FALSE & FALSE & FALSE & FALSE & FALSE & FALSE & FALSE & FALSE & FALSE & FALSE & FALSE & FALSE &  TRUE & FALSE\\\\\n\t FALSE & FALSE & FALSE & FALSE & FALSE & FALSE & FALSE & FALSE & FALSE & FALSE & FALSE & FALSE & FALSE & FALSE &  TRUE & FALSE\\\\\n\t FALSE & FALSE & FALSE & FALSE & FALSE & FALSE & FALSE & FALSE & FALSE & FALSE & FALSE & FALSE & FALSE & FALSE & FALSE & FALSE\\\\\n\t FALSE & FALSE & FALSE & FALSE & FALSE & FALSE & FALSE & FALSE & FALSE & FALSE & FALSE & FALSE & FALSE & FALSE & FALSE & FALSE\\\\\n\t FALSE & FALSE & FALSE & FALSE & FALSE & FALSE & FALSE & FALSE & FALSE & FALSE & FALSE & FALSE & FALSE & FALSE & FALSE & FALSE\\\\\n\t FALSE & FALSE & FALSE & FALSE & FALSE & FALSE & FALSE & FALSE & FALSE & FALSE & FALSE & FALSE & FALSE & FALSE &  TRUE & FALSE\\\\\n\t FALSE & FALSE & FALSE & FALSE & FALSE & FALSE & FALSE & FALSE & FALSE & FALSE & FALSE & FALSE & FALSE & FALSE & FALSE & FALSE\\\\\n\t FALSE & FALSE & FALSE & FALSE & FALSE & FALSE & FALSE & FALSE & FALSE & FALSE & FALSE & FALSE & FALSE & FALSE & FALSE & FALSE\\\\\n\t FALSE & FALSE & FALSE & FALSE & FALSE & FALSE & FALSE & FALSE & FALSE & FALSE & FALSE & FALSE & FALSE & FALSE & FALSE & FALSE\\\\\n\t FALSE & FALSE & FALSE & FALSE & FALSE & FALSE & FALSE & FALSE & FALSE & FALSE & FALSE & FALSE & FALSE & FALSE &  TRUE & FALSE\\\\\n\t FALSE & FALSE & FALSE & FALSE & FALSE & FALSE & FALSE & FALSE & FALSE & FALSE & FALSE & FALSE & FALSE & FALSE & FALSE & FALSE\\\\\n\t FALSE & FALSE & FALSE & FALSE & FALSE & FALSE & FALSE & FALSE & FALSE & FALSE & FALSE & FALSE & FALSE & FALSE & FALSE & FALSE\\\\\n\t FALSE & FALSE & FALSE & FALSE & FALSE & FALSE & FALSE & FALSE & FALSE & FALSE & FALSE & FALSE & FALSE & FALSE &  TRUE & FALSE\\\\\n\t FALSE & FALSE & FALSE & FALSE & FALSE & FALSE & FALSE & FALSE & FALSE & FALSE & FALSE & FALSE & FALSE & FALSE & FALSE & FALSE\\\\\n\t FALSE & FALSE & FALSE & FALSE & FALSE & FALSE & FALSE & FALSE & FALSE & FALSE & FALSE & FALSE & FALSE & FALSE & FALSE & FALSE\\\\\n\t FALSE & FALSE & FALSE & FALSE & FALSE & FALSE & FALSE & FALSE & FALSE & FALSE & FALSE & FALSE & FALSE & FALSE & FALSE & FALSE\\\\\n\t FALSE & FALSE & FALSE & FALSE & FALSE & FALSE & FALSE & FALSE & FALSE & FALSE & FALSE & FALSE & FALSE & FALSE & FALSE & FALSE\\\\\n\t FALSE & FALSE & FALSE & FALSE & FALSE & FALSE & FALSE & FALSE & FALSE & FALSE & FALSE & FALSE & FALSE & FALSE &  TRUE & FALSE\\\\\n\t FALSE & FALSE & FALSE & FALSE & FALSE & FALSE & FALSE & FALSE & FALSE & FALSE & FALSE & FALSE & FALSE & FALSE & FALSE & FALSE\\\\\n\t FALSE & FALSE & FALSE & FALSE & FALSE & FALSE & FALSE & FALSE & FALSE & FALSE & FALSE & FALSE & FALSE & FALSE &  TRUE & FALSE\\\\\n\t FALSE & FALSE & FALSE & FALSE & FALSE & FALSE & FALSE & FALSE & FALSE & FALSE & FALSE & FALSE & FALSE & FALSE & FALSE & FALSE\\\\\n\t FALSE & FALSE & FALSE & FALSE & FALSE & FALSE & FALSE & FALSE & FALSE & FALSE & FALSE & FALSE & FALSE & FALSE & FALSE & FALSE\\\\\n\t FALSE & FALSE & FALSE & FALSE & FALSE & FALSE & FALSE & FALSE & FALSE & FALSE & FALSE & FALSE & FALSE & FALSE & FALSE & FALSE\\\\\n\t FALSE & FALSE & FALSE & FALSE & FALSE & FALSE & FALSE & FALSE & FALSE & FALSE & FALSE & FALSE & FALSE & FALSE & FALSE & FALSE\\\\\n\t FALSE & FALSE & FALSE & FALSE & FALSE & FALSE & FALSE & FALSE & FALSE & FALSE & FALSE & FALSE & FALSE & FALSE & FALSE & FALSE\\\\\n\t FALSE & FALSE & FALSE & FALSE & FALSE & FALSE & FALSE & FALSE & FALSE & FALSE & FALSE & FALSE & FALSE & FALSE &  TRUE & FALSE\\\\\n\t FALSE & FALSE & FALSE & FALSE & FALSE & FALSE & FALSE & FALSE & FALSE & FALSE & FALSE & FALSE & FALSE & FALSE & FALSE & FALSE\\\\\n\\end{tabular}\n",
            "text/plain": [
              "      sl_no gender ssc_p ssc_b hsc_p hsc_b hsc_s degree_p degree_t workex\n",
              " [1,] FALSE FALSE  FALSE FALSE FALSE FALSE FALSE FALSE    FALSE    FALSE \n",
              " [2,] FALSE FALSE  FALSE FALSE FALSE FALSE FALSE FALSE    FALSE    FALSE \n",
              " [3,] FALSE FALSE  FALSE FALSE FALSE FALSE FALSE FALSE    FALSE    FALSE \n",
              " [4,] FALSE FALSE  FALSE FALSE FALSE FALSE FALSE FALSE    FALSE    FALSE \n",
              " [5,] FALSE FALSE  FALSE FALSE FALSE FALSE FALSE FALSE    FALSE    FALSE \n",
              " [6,] FALSE FALSE  FALSE FALSE FALSE FALSE FALSE FALSE    FALSE    FALSE \n",
              " [7,] FALSE FALSE  FALSE FALSE FALSE FALSE FALSE FALSE    FALSE    FALSE \n",
              " [8,] FALSE FALSE  FALSE FALSE FALSE FALSE FALSE FALSE    FALSE    FALSE \n",
              " [9,] FALSE FALSE  FALSE FALSE FALSE FALSE FALSE FALSE    FALSE    FALSE \n",
              "[10,] FALSE FALSE  FALSE FALSE FALSE FALSE FALSE FALSE    FALSE    FALSE \n",
              "[11,] FALSE FALSE  FALSE FALSE FALSE FALSE FALSE FALSE    FALSE    FALSE \n",
              "[12,] FALSE FALSE  FALSE FALSE FALSE FALSE FALSE FALSE    FALSE    FALSE \n",
              "[13,] FALSE FALSE  FALSE FALSE FALSE FALSE FALSE FALSE    FALSE    FALSE \n",
              "[14,] FALSE FALSE  FALSE FALSE FALSE FALSE FALSE FALSE    FALSE    FALSE \n",
              "[15,] FALSE FALSE  FALSE FALSE FALSE FALSE FALSE FALSE    FALSE    FALSE \n",
              "[16,] FALSE FALSE  FALSE FALSE FALSE FALSE FALSE FALSE    FALSE    FALSE \n",
              "[17,] FALSE FALSE  FALSE FALSE FALSE FALSE FALSE FALSE    FALSE    FALSE \n",
              "[18,] FALSE FALSE  FALSE FALSE FALSE FALSE FALSE FALSE    FALSE    FALSE \n",
              "[19,] FALSE FALSE  FALSE FALSE FALSE FALSE FALSE FALSE    FALSE    FALSE \n",
              "[20,] FALSE FALSE  FALSE FALSE FALSE FALSE FALSE FALSE    FALSE    FALSE \n",
              "[21,] FALSE FALSE  FALSE FALSE FALSE FALSE FALSE FALSE    FALSE    FALSE \n",
              "[22,] FALSE FALSE  FALSE FALSE FALSE FALSE FALSE FALSE    FALSE    FALSE \n",
              "[23,] FALSE FALSE  FALSE FALSE FALSE FALSE FALSE FALSE    FALSE    FALSE \n",
              "[24,] FALSE FALSE  FALSE FALSE FALSE FALSE FALSE FALSE    FALSE    FALSE \n",
              "[25,] FALSE FALSE  FALSE FALSE FALSE FALSE FALSE FALSE    FALSE    FALSE \n",
              "[26,] FALSE FALSE  FALSE FALSE FALSE FALSE FALSE FALSE    FALSE    FALSE \n",
              "[27,] FALSE FALSE  FALSE FALSE FALSE FALSE FALSE FALSE    FALSE    FALSE \n",
              "[28,] FALSE FALSE  FALSE FALSE FALSE FALSE FALSE FALSE    FALSE    FALSE \n",
              "[29,] FALSE FALSE  FALSE FALSE FALSE FALSE FALSE FALSE    FALSE    FALSE \n",
              "[30,] FALSE FALSE  FALSE FALSE FALSE FALSE FALSE FALSE    FALSE    FALSE \n",
              "[31,] ⋮     ⋮      ⋮     ⋮     ⋮     ⋮     ⋮     ⋮        ⋮        ⋮     \n",
              "[32,] FALSE FALSE  FALSE FALSE FALSE FALSE FALSE FALSE    FALSE    FALSE \n",
              "[33,] FALSE FALSE  FALSE FALSE FALSE FALSE FALSE FALSE    FALSE    FALSE \n",
              "[34,] FALSE FALSE  FALSE FALSE FALSE FALSE FALSE FALSE    FALSE    FALSE \n",
              "[35,] FALSE FALSE  FALSE FALSE FALSE FALSE FALSE FALSE    FALSE    FALSE \n",
              "[36,] FALSE FALSE  FALSE FALSE FALSE FALSE FALSE FALSE    FALSE    FALSE \n",
              "[37,] FALSE FALSE  FALSE FALSE FALSE FALSE FALSE FALSE    FALSE    FALSE \n",
              "[38,] FALSE FALSE  FALSE FALSE FALSE FALSE FALSE FALSE    FALSE    FALSE \n",
              "[39,] FALSE FALSE  FALSE FALSE FALSE FALSE FALSE FALSE    FALSE    FALSE \n",
              "[40,] FALSE FALSE  FALSE FALSE FALSE FALSE FALSE FALSE    FALSE    FALSE \n",
              "[41,] FALSE FALSE  FALSE FALSE FALSE FALSE FALSE FALSE    FALSE    FALSE \n",
              "[42,] FALSE FALSE  FALSE FALSE FALSE FALSE FALSE FALSE    FALSE    FALSE \n",
              "[43,] FALSE FALSE  FALSE FALSE FALSE FALSE FALSE FALSE    FALSE    FALSE \n",
              "[44,] FALSE FALSE  FALSE FALSE FALSE FALSE FALSE FALSE    FALSE    FALSE \n",
              "[45,] FALSE FALSE  FALSE FALSE FALSE FALSE FALSE FALSE    FALSE    FALSE \n",
              "[46,] FALSE FALSE  FALSE FALSE FALSE FALSE FALSE FALSE    FALSE    FALSE \n",
              "[47,] FALSE FALSE  FALSE FALSE FALSE FALSE FALSE FALSE    FALSE    FALSE \n",
              "[48,] FALSE FALSE  FALSE FALSE FALSE FALSE FALSE FALSE    FALSE    FALSE \n",
              "[49,] FALSE FALSE  FALSE FALSE FALSE FALSE FALSE FALSE    FALSE    FALSE \n",
              "[50,] FALSE FALSE  FALSE FALSE FALSE FALSE FALSE FALSE    FALSE    FALSE \n",
              "[51,] FALSE FALSE  FALSE FALSE FALSE FALSE FALSE FALSE    FALSE    FALSE \n",
              "[52,] FALSE FALSE  FALSE FALSE FALSE FALSE FALSE FALSE    FALSE    FALSE \n",
              "[53,] FALSE FALSE  FALSE FALSE FALSE FALSE FALSE FALSE    FALSE    FALSE \n",
              "[54,] FALSE FALSE  FALSE FALSE FALSE FALSE FALSE FALSE    FALSE    FALSE \n",
              "[55,] FALSE FALSE  FALSE FALSE FALSE FALSE FALSE FALSE    FALSE    FALSE \n",
              "[56,] FALSE FALSE  FALSE FALSE FALSE FALSE FALSE FALSE    FALSE    FALSE \n",
              "[57,] FALSE FALSE  FALSE FALSE FALSE FALSE FALSE FALSE    FALSE    FALSE \n",
              "[58,] FALSE FALSE  FALSE FALSE FALSE FALSE FALSE FALSE    FALSE    FALSE \n",
              "[59,] FALSE FALSE  FALSE FALSE FALSE FALSE FALSE FALSE    FALSE    FALSE \n",
              "[60,] FALSE FALSE  FALSE FALSE FALSE FALSE FALSE FALSE    FALSE    FALSE \n",
              "[61,] FALSE FALSE  FALSE FALSE FALSE FALSE FALSE FALSE    FALSE    FALSE \n",
              "      etest_p specialisation mba_p status salary class\n",
              " [1,] FALSE   FALSE          FALSE FALSE  FALSE  FALSE\n",
              " [2,] FALSE   FALSE          FALSE FALSE  FALSE  FALSE\n",
              " [3,] FALSE   FALSE          FALSE FALSE  FALSE  FALSE\n",
              " [4,] FALSE   FALSE          FALSE FALSE   TRUE  FALSE\n",
              " [5,] FALSE   FALSE          FALSE FALSE  FALSE  FALSE\n",
              " [6,] FALSE   FALSE          FALSE FALSE   TRUE  FALSE\n",
              " [7,] FALSE   FALSE          FALSE FALSE   TRUE  FALSE\n",
              " [8,] FALSE   FALSE          FALSE FALSE  FALSE  FALSE\n",
              " [9,] FALSE   FALSE          FALSE FALSE  FALSE  FALSE\n",
              "[10,] FALSE   FALSE          FALSE FALSE   TRUE  FALSE\n",
              "[11,] FALSE   FALSE          FALSE FALSE  FALSE  FALSE\n",
              "[12,] FALSE   FALSE          FALSE FALSE  FALSE  FALSE\n",
              "[13,] FALSE   FALSE          FALSE FALSE   TRUE  FALSE\n",
              "[14,] FALSE   FALSE          FALSE FALSE  FALSE  FALSE\n",
              "[15,] FALSE   FALSE          FALSE FALSE   TRUE  FALSE\n",
              "[16,] FALSE   FALSE          FALSE FALSE  FALSE  FALSE\n",
              "[17,] FALSE   FALSE          FALSE FALSE  FALSE  FALSE\n",
              "[18,] FALSE   FALSE          FALSE FALSE   TRUE  FALSE\n",
              "[19,] FALSE   FALSE          FALSE FALSE   TRUE  FALSE\n",
              "[20,] FALSE   FALSE          FALSE FALSE  FALSE  FALSE\n",
              "[21,] FALSE   FALSE          FALSE FALSE  FALSE  FALSE\n",
              "[22,] FALSE   FALSE          FALSE FALSE  FALSE  FALSE\n",
              "[23,] FALSE   FALSE          FALSE FALSE  FALSE  FALSE\n",
              "[24,] FALSE   FALSE          FALSE FALSE  FALSE  FALSE\n",
              "[25,] FALSE   FALSE          FALSE FALSE  FALSE  FALSE\n",
              "[26,] FALSE   FALSE          FALSE FALSE   TRUE  FALSE\n",
              "[27,] FALSE   FALSE          FALSE FALSE  FALSE  FALSE\n",
              "[28,] FALSE   FALSE          FALSE FALSE  FALSE  FALSE\n",
              "[29,] FALSE   FALSE          FALSE FALSE  FALSE  FALSE\n",
              "[30,] FALSE   FALSE          FALSE FALSE   TRUE  FALSE\n",
              "[31,] ⋮       ⋮              ⋮     ⋮      ⋮      ⋮    \n",
              "[32,] FALSE   FALSE          FALSE FALSE   TRUE  FALSE\n",
              "[33,] FALSE   FALSE          FALSE FALSE  FALSE  FALSE\n",
              "[34,] FALSE   FALSE          FALSE FALSE   TRUE  FALSE\n",
              "[35,] FALSE   FALSE          FALSE FALSE   TRUE  FALSE\n",
              "[36,] FALSE   FALSE          FALSE FALSE   TRUE  FALSE\n",
              "[37,] FALSE   FALSE          FALSE FALSE  FALSE  FALSE\n",
              "[38,] FALSE   FALSE          FALSE FALSE  FALSE  FALSE\n",
              "[39,] FALSE   FALSE          FALSE FALSE  FALSE  FALSE\n",
              "[40,] FALSE   FALSE          FALSE FALSE   TRUE  FALSE\n",
              "[41,] FALSE   FALSE          FALSE FALSE  FALSE  FALSE\n",
              "[42,] FALSE   FALSE          FALSE FALSE  FALSE  FALSE\n",
              "[43,] FALSE   FALSE          FALSE FALSE  FALSE  FALSE\n",
              "[44,] FALSE   FALSE          FALSE FALSE   TRUE  FALSE\n",
              "[45,] FALSE   FALSE          FALSE FALSE  FALSE  FALSE\n",
              "[46,] FALSE   FALSE          FALSE FALSE  FALSE  FALSE\n",
              "[47,] FALSE   FALSE          FALSE FALSE   TRUE  FALSE\n",
              "[48,] FALSE   FALSE          FALSE FALSE  FALSE  FALSE\n",
              "[49,] FALSE   FALSE          FALSE FALSE  FALSE  FALSE\n",
              "[50,] FALSE   FALSE          FALSE FALSE  FALSE  FALSE\n",
              "[51,] FALSE   FALSE          FALSE FALSE  FALSE  FALSE\n",
              "[52,] FALSE   FALSE          FALSE FALSE   TRUE  FALSE\n",
              "[53,] FALSE   FALSE          FALSE FALSE  FALSE  FALSE\n",
              "[54,] FALSE   FALSE          FALSE FALSE   TRUE  FALSE\n",
              "[55,] FALSE   FALSE          FALSE FALSE  FALSE  FALSE\n",
              "[56,] FALSE   FALSE          FALSE FALSE  FALSE  FALSE\n",
              "[57,] FALSE   FALSE          FALSE FALSE  FALSE  FALSE\n",
              "[58,] FALSE   FALSE          FALSE FALSE  FALSE  FALSE\n",
              "[59,] FALSE   FALSE          FALSE FALSE  FALSE  FALSE\n",
              "[60,] FALSE   FALSE          FALSE FALSE   TRUE  FALSE\n",
              "[61,] FALSE   FALSE          FALSE FALSE  FALSE  FALSE"
            ]
          },
          "metadata": {}
        }
      ]
    },
    {
      "cell_type": "code",
      "source": [
        "cat(\"Missing values in each column:\")\n",
        "colSums(is.na(MyData))"
      ],
      "metadata": {
        "colab": {
          "base_uri": "https://localhost:8080/",
          "height": 69
        },
        "id": "TWY_5nwH-zyo",
        "outputId": "d7fd6fce-c639-4b50-8120-72c8b315a19e"
      },
      "execution_count": 7,
      "outputs": [
        {
          "output_type": "stream",
          "name": "stdout",
          "text": [
            "Missing values in each column:"
          ]
        },
        {
          "output_type": "display_data",
          "data": {
            "text/html": [
              "<style>\n",
              ".dl-inline {width: auto; margin:0; padding: 0}\n",
              ".dl-inline>dt, .dl-inline>dd {float: none; width: auto; display: inline-block}\n",
              ".dl-inline>dt::after {content: \":\\0020\"; padding-right: .5ex}\n",
              ".dl-inline>dt:not(:first-of-type) {padding-left: .5ex}\n",
              "</style><dl class=dl-inline><dt>sl_no</dt><dd>0</dd><dt>gender</dt><dd>0</dd><dt>ssc_p</dt><dd>0</dd><dt>ssc_b</dt><dd>0</dd><dt>hsc_p</dt><dd>0</dd><dt>hsc_b</dt><dd>0</dd><dt>hsc_s</dt><dd>0</dd><dt>degree_p</dt><dd>0</dd><dt>degree_t</dt><dd>0</dd><dt>workex</dt><dd>1</dd><dt>etest_p</dt><dd>0</dd><dt>specialisation</dt><dd>0</dd><dt>mba_p</dt><dd>0</dd><dt>status</dt><dd>0</dd><dt>salary</dt><dd>67</dd><dt>class</dt><dd>0</dd></dl>\n"
            ],
            "text/markdown": "sl_no\n:   0gender\n:   0ssc_p\n:   0ssc_b\n:   0hsc_p\n:   0hsc_b\n:   0hsc_s\n:   0degree_p\n:   0degree_t\n:   0workex\n:   1etest_p\n:   0specialisation\n:   0mba_p\n:   0status\n:   0salary\n:   67class\n:   0\n\n",
            "text/latex": "\\begin{description*}\n\\item[sl\\textbackslash{}\\_no] 0\n\\item[gender] 0\n\\item[ssc\\textbackslash{}\\_p] 0\n\\item[ssc\\textbackslash{}\\_b] 0\n\\item[hsc\\textbackslash{}\\_p] 0\n\\item[hsc\\textbackslash{}\\_b] 0\n\\item[hsc\\textbackslash{}\\_s] 0\n\\item[degree\\textbackslash{}\\_p] 0\n\\item[degree\\textbackslash{}\\_t] 0\n\\item[workex] 1\n\\item[etest\\textbackslash{}\\_p] 0\n\\item[specialisation] 0\n\\item[mba\\textbackslash{}\\_p] 0\n\\item[status] 0\n\\item[salary] 67\n\\item[class] 0\n\\end{description*}\n",
            "text/plain": [
              "         sl_no         gender          ssc_p          ssc_b          hsc_p \n",
              "             0              0              0              0              0 \n",
              "         hsc_b          hsc_s       degree_p       degree_t         workex \n",
              "             0              0              0              0              1 \n",
              "       etest_p specialisation          mba_p         status         salary \n",
              "             0              0              0              0             67 \n",
              "         class \n",
              "             0 "
            ]
          },
          "metadata": {}
        }
      ]
    },
    {
      "cell_type": "code",
      "source": [
        "which(is.na(MyData$workex))\n",
        "which(is.na(MyData$salary))"
      ],
      "metadata": {
        "colab": {
          "base_uri": "https://localhost:8080/",
          "height": 69
        },
        "id": "e0XtUG5GGNJJ",
        "outputId": "c86a6d4c-cc90-4175-8a51-8dc3e9b96aad"
      },
      "execution_count": 8,
      "outputs": [
        {
          "output_type": "display_data",
          "data": {
            "text/html": [
              "80"
            ],
            "text/markdown": "80",
            "text/latex": "80",
            "text/plain": [
              "[1] 80"
            ]
          },
          "metadata": {}
        },
        {
          "output_type": "display_data",
          "data": {
            "text/html": [
              "<style>\n",
              ".list-inline {list-style: none; margin:0; padding: 0}\n",
              ".list-inline>li {display: inline-block}\n",
              ".list-inline>li:not(:last-child)::after {content: \"\\00b7\"; padding: 0 .5ex}\n",
              "</style>\n",
              "<ol class=list-inline><li>4</li><li>6</li><li>7</li><li>10</li><li>13</li><li>15</li><li>18</li><li>19</li><li>26</li><li>30</li><li>32</li><li>35</li><li>37</li><li>42</li><li>43</li><li>46</li><li>47</li><li>50</li><li>52</li><li>53</li><li>64</li><li>66</li><li>69</li><li>76</li><li>80</li><li>83</li><li>88</li><li>92</li><li>94</li><li>98</li><li>100</li><li>101</li><li>106</li><li>107</li><li>110</li><li>112</li><li>121</li><li>131</li><li>137</li><li>142</li><li>145</li><li>150</li><li>156</li><li>159</li><li>160</li><li>162</li><li>166</li><li>168</li><li>169</li><li>170</li><li>171</li><li>174</li><li>176</li><li>180</li><li>182</li><li>183</li><li>185</li><li>187</li><li>189</li><li>190</li><li>191</li><li>195</li><li>199</li><li>202</li><li>207</li><li>209</li><li>215</li></ol>\n"
            ],
            "text/markdown": "1. 4\n2. 6\n3. 7\n4. 10\n5. 13\n6. 15\n7. 18\n8. 19\n9. 26\n10. 30\n11. 32\n12. 35\n13. 37\n14. 42\n15. 43\n16. 46\n17. 47\n18. 50\n19. 52\n20. 53\n21. 64\n22. 66\n23. 69\n24. 76\n25. 80\n26. 83\n27. 88\n28. 92\n29. 94\n30. 98\n31. 100\n32. 101\n33. 106\n34. 107\n35. 110\n36. 112\n37. 121\n38. 131\n39. 137\n40. 142\n41. 145\n42. 150\n43. 156\n44. 159\n45. 160\n46. 162\n47. 166\n48. 168\n49. 169\n50. 170\n51. 171\n52. 174\n53. 176\n54. 180\n55. 182\n56. 183\n57. 185\n58. 187\n59. 189\n60. 190\n61. 191\n62. 195\n63. 199\n64. 202\n65. 207\n66. 209\n67. 215\n\n\n",
            "text/latex": "\\begin{enumerate*}\n\\item 4\n\\item 6\n\\item 7\n\\item 10\n\\item 13\n\\item 15\n\\item 18\n\\item 19\n\\item 26\n\\item 30\n\\item 32\n\\item 35\n\\item 37\n\\item 42\n\\item 43\n\\item 46\n\\item 47\n\\item 50\n\\item 52\n\\item 53\n\\item 64\n\\item 66\n\\item 69\n\\item 76\n\\item 80\n\\item 83\n\\item 88\n\\item 92\n\\item 94\n\\item 98\n\\item 100\n\\item 101\n\\item 106\n\\item 107\n\\item 110\n\\item 112\n\\item 121\n\\item 131\n\\item 137\n\\item 142\n\\item 145\n\\item 150\n\\item 156\n\\item 159\n\\item 160\n\\item 162\n\\item 166\n\\item 168\n\\item 169\n\\item 170\n\\item 171\n\\item 174\n\\item 176\n\\item 180\n\\item 182\n\\item 183\n\\item 185\n\\item 187\n\\item 189\n\\item 190\n\\item 191\n\\item 195\n\\item 199\n\\item 202\n\\item 207\n\\item 209\n\\item 215\n\\end{enumerate*}\n",
            "text/plain": [
              " [1]   4   6   7  10  13  15  18  19  26  30  32  35  37  42  43  46  47  50  52\n",
              "[20]  53  64  66  69  76  80  83  88  92  94  98 100 101 106 107 110 112 121 131\n",
              "[39] 137 142 145 150 156 159 160 162 166 168 169 170 171 174 176 180 182 183 185\n",
              "[58] 187 189 190 191 195 199 202 207 209 215"
            ]
          },
          "metadata": {}
        }
      ]
    },
    {
      "cell_type": "markdown",
      "source": [
        "---"
      ],
      "metadata": {
        "id": "BBWk4nsho1Fw"
      }
    },
    {
      "cell_type": "code",
      "source": [
        "# Check missing values in a numeric column (e.g., salary)\n",
        "missing_salary <- sum(is.na(MyData$salary))  # Count NA\n",
        "print(paste(\"Missing values in salary:\", missing_salary))"
      ],
      "metadata": {
        "colab": {
          "base_uri": "https://localhost:8080/"
        },
        "id": "gb9FjnvAo0ni",
        "outputId": "8964ce3c-fb1f-47ca-9605-6a13612a7d1e"
      },
      "execution_count": 9,
      "outputs": [
        {
          "output_type": "stream",
          "name": "stdout",
          "text": [
            "[1] \"Missing values in salary: 67\"\n"
          ]
        }
      ]
    },
    {
      "cell_type": "code",
      "source": [
        "# Replace NA with median (manual calculation)\n",
        "salary_non_na <- MyData$salary[!is.na(MyData$salary)]  # Exclude NA\n",
        "median_salary <- median(salary_non_na)\n",
        "MyData$salary[is.na(MyData$salary)] <- median_salary"
      ],
      "metadata": {
        "id": "uJsAyXwqtgI-"
      },
      "execution_count": 10,
      "outputs": []
    },
    {
      "cell_type": "code",
      "source": [
        "colSums(is.na(MyData[\"salary\"]))"
      ],
      "metadata": {
        "colab": {
          "base_uri": "https://localhost:8080/",
          "height": 34
        },
        "id": "YLD1BaZKusNk",
        "outputId": "bd383359-6401-49d1-f984-c82b0f23bb93"
      },
      "execution_count": 11,
      "outputs": [
        {
          "output_type": "display_data",
          "data": {
            "text/html": [
              "<strong>salary:</strong> 0"
            ],
            "text/markdown": "**salary:** 0",
            "text/latex": "\\textbf{salary:} 0",
            "text/plain": [
              "salary \n",
              "     0 "
            ]
          },
          "metadata": {}
        }
      ]
    },
    {
      "cell_type": "code",
      "source": [
        "workex_clean <- MyData$workex[!is.na(MyData$workex)]\n",
        "class1_count <- sum(workex_clean == \"0\")\n",
        "class2_count <- sum(workex_clean == \"1\")\n",
        "\n",
        "if (class1_count > class2_count) {\n",
        "  mode_value <- \"1\"\n",
        "} else {\n",
        "  mode_value <- \"0\"\n",
        "}\n",
        "\n",
        "MyData$workex[is.na(MyData$workex)] <- mode_value"
      ],
      "metadata": {
        "id": "aR3usr2kGlef"
      },
      "execution_count": 12,
      "outputs": []
    },
    {
      "cell_type": "code",
      "source": [
        "colSums(is.na(MyData[\"workex\"]))"
      ],
      "metadata": {
        "colab": {
          "base_uri": "https://localhost:8080/",
          "height": 34
        },
        "id": "wHUL0fp9ujgG",
        "outputId": "c8f6e40a-6135-455f-8b2f-d1f2cf94c177"
      },
      "execution_count": 13,
      "outputs": [
        {
          "output_type": "display_data",
          "data": {
            "text/html": [
              "<strong>workex:</strong> 0"
            ],
            "text/markdown": "**workex:** 0",
            "text/latex": "\\textbf{workex:} 0",
            "text/plain": [
              "workex \n",
              "     0 "
            ]
          },
          "metadata": {}
        }
      ]
    },
    {
      "cell_type": "code",
      "source": [
        "MyData$workex[80]"
      ],
      "metadata": {
        "colab": {
          "base_uri": "https://localhost:8080/",
          "height": 34
        },
        "id": "v7S0V1VeHnP8",
        "outputId": "fbd8151b-2ce3-4abc-986d-07a21b4b4338"
      },
      "execution_count": 14,
      "outputs": [
        {
          "output_type": "display_data",
          "data": {
            "text/html": [
              "'1'"
            ],
            "text/markdown": "'1'",
            "text/latex": "'1'",
            "text/plain": [
              "[1] \"1\""
            ]
          },
          "metadata": {}
        }
      ]
    },
    {
      "cell_type": "markdown",
      "source": [
        "### Identifying empty values from character columns"
      ],
      "metadata": {
        "id": "z3Dw_0_JAIXH"
      }
    },
    {
      "cell_type": "code",
      "source": [
        "# Step 1: Identify character columns\n",
        "char_columns <- c()  # Empty vector to store names\n",
        "column_names <- names(MyData)  # Get column names (L05)\n",
        "\n",
        "for (i in 1:length(column_names)) {\n",
        "  if (is.character(MyData[[i]])) {\n",
        "    char_columns <- c(char_columns, column_names[i])\n",
        "  }\n",
        "}\n",
        "\n",
        "# Print character columns (manual concatenation)\n",
        "output <- \"Character columns: \"\n",
        "for (col in char_columns) {\n",
        "  output <- paste(output, col, sep = \", \")\n",
        "}\n",
        "print(output)"
      ],
      "metadata": {
        "colab": {
          "base_uri": "https://localhost:8080/"
        },
        "id": "yShoo5thAFnU",
        "outputId": "481065f4-aa04-4d8a-e742-2eb87acc588e"
      },
      "execution_count": 15,
      "outputs": [
        {
          "output_type": "stream",
          "name": "stdout",
          "text": [
            "[1] \"Character columns: , gender, ssc_b, hsc_b, hsc_s, degree_t, workex, specialisation, status\"\n"
          ]
        }
      ]
    },
    {
      "cell_type": "code",
      "source": [
        "# Step 2: Check for empty strings\n",
        "for (col in char_columns) {\n",
        "  empty_rows <- which(MyData[[col]] == \"\")  # L05: which() for indices\n",
        "\n",
        "  if (length(empty_rows) > 0) {\n",
        "    # Manual concatenation of row numbers\n",
        "    row_msg <- \"Rows with empty strings: \"\n",
        "    for (row in empty_rows) {\n",
        "      row_msg <- paste(row_msg, row, sep = \", \")\n",
        "    }\n",
        "    print(paste(\"Column\", col, \"has empty strings at\", row_msg))\n",
        "  }\n",
        "}"
      ],
      "metadata": {
        "colab": {
          "base_uri": "https://localhost:8080/"
        },
        "id": "DBhkGrP-AdiJ",
        "outputId": "7a6ec7c7-a219-45dc-ff37-199585c283a1"
      },
      "execution_count": 16,
      "outputs": [
        {
          "output_type": "stream",
          "name": "stdout",
          "text": [
            "[1] \"Column degree_t has empty strings at Rows with empty strings: , 103\"\n"
          ]
        }
      ]
    },
    {
      "cell_type": "code",
      "source": [
        "# Categorical column - find mode manually\n",
        "mode <- names(sort(table(MyData$degree_t), decreasing = TRUE)[1])\n",
        "mode"
      ],
      "metadata": {
        "colab": {
          "base_uri": "https://localhost:8080/",
          "height": 34
        },
        "id": "jN65iryot-Nt",
        "outputId": "7bf34652-ef9c-44ed-c9da-f4f683916a9d"
      },
      "execution_count": 17,
      "outputs": [
        {
          "output_type": "display_data",
          "data": {
            "text/html": [
              "'Comm&amp;Mgmt'"
            ],
            "text/markdown": "'Comm&amp;Mgmt'",
            "text/latex": "'Comm\\&Mgmt'",
            "text/plain": [
              "[1] \"Comm&Mgmt\""
            ]
          },
          "metadata": {}
        }
      ]
    },
    {
      "cell_type": "code",
      "source": [
        "MyData$degree_t[103] <- mode\n",
        "MyData$degree_t[103]"
      ],
      "metadata": {
        "colab": {
          "base_uri": "https://localhost:8080/",
          "height": 34
        },
        "id": "hkISHx_XAnP4",
        "outputId": "9cc44304-0474-4c3d-c96f-294ba58ebc92"
      },
      "execution_count": 18,
      "outputs": [
        {
          "output_type": "display_data",
          "data": {
            "text/html": [
              "'Comm&amp;Mgmt'"
            ],
            "text/markdown": "'Comm&amp;Mgmt'",
            "text/latex": "'Comm\\&Mgmt'",
            "text/plain": [
              "[1] \"Comm&Mgmt\""
            ]
          },
          "metadata": {}
        }
      ]
    },
    {
      "cell_type": "markdown",
      "source": [
        "___"
      ],
      "metadata": {
        "id": "YSlw7pZBvNZW"
      }
    },
    {
      "cell_type": "markdown",
      "source": [
        "## 3. Detect and handle outliers"
      ],
      "metadata": {
        "id": "-0EdKcLpLDAF"
      }
    },
    {
      "cell_type": "code",
      "source": [
        "# Calculate IQR and bounds\n",
        "Q1 <- quantile(MyData$ssc_p, 0.25)\n",
        "Q3 <- quantile(MyData$ssc_p, 0.75)\n",
        "IQR <- Q3 - Q1\n",
        "lower_bound <- Q1 - 1.5 * IQR\n",
        "upper_bound <- Q3 + 1.5 * IQR"
      ],
      "metadata": {
        "id": "HdFRczXAJwzG"
      },
      "execution_count": 19,
      "outputs": []
    },
    {
      "cell_type": "code",
      "source": [
        "Q1\n",
        "Q3\n",
        "IQR\n",
        "lower_bound\n",
        "upper_bound"
      ],
      "metadata": {
        "colab": {
          "base_uri": "https://localhost:8080/",
          "height": 104
        },
        "id": "vu9BjTRaFBxp",
        "outputId": "a239c916-8dbe-477e-a37f-23d61c2c0ef2"
      },
      "execution_count": 20,
      "outputs": [
        {
          "output_type": "display_data",
          "data": {
            "text/html": [
              "<strong>25%:</strong> 60.3575"
            ],
            "text/markdown": "**25%:** 60.3575",
            "text/latex": "\\textbf{25\\textbackslash{}\\%:} 60.3575",
            "text/plain": [
              "    25% \n",
              "60.3575 "
            ]
          },
          "metadata": {}
        },
        {
          "output_type": "display_data",
          "data": {
            "text/html": [
              "<strong>75%:</strong> 75.25"
            ],
            "text/markdown": "**75%:** 75.25",
            "text/latex": "\\textbf{75\\textbackslash{}\\%:} 75.25",
            "text/plain": [
              "  75% \n",
              "75.25 "
            ]
          },
          "metadata": {}
        },
        {
          "output_type": "display_data",
          "data": {
            "text/html": [
              "<strong>75%:</strong> 14.8925"
            ],
            "text/markdown": "**75%:** 14.8925",
            "text/latex": "\\textbf{75\\textbackslash{}\\%:} 14.8925",
            "text/plain": [
              "    75% \n",
              "14.8925 "
            ]
          },
          "metadata": {}
        },
        {
          "output_type": "display_data",
          "data": {
            "text/html": [
              "<strong>25%:</strong> 38.01875"
            ],
            "text/markdown": "**25%:** 38.01875",
            "text/latex": "\\textbf{25\\textbackslash{}\\%:} 38.01875",
            "text/plain": [
              "     25% \n",
              "38.01875 "
            ]
          },
          "metadata": {}
        },
        {
          "output_type": "display_data",
          "data": {
            "text/html": [
              "<strong>75%:</strong> 97.58875"
            ],
            "text/markdown": "**75%:** 97.58875",
            "text/latex": "\\textbf{75\\textbackslash{}\\%:} 97.58875",
            "text/plain": [
              "     75% \n",
              "97.58875 "
            ]
          },
          "metadata": {}
        }
      ]
    },
    {
      "cell_type": "code",
      "source": [
        "outliers <- which(MyData$ssc_p < lower_bound | MyData$ssc_p > upper_bound)\n",
        "outliers"
      ],
      "metadata": {
        "colab": {
          "base_uri": "https://localhost:8080/",
          "height": 34
        },
        "id": "xaUh06uvxDNH",
        "outputId": "9ce19191-3106-44eb-b683-f5a77f750ad1"
      },
      "execution_count": 21,
      "outputs": [
        {
          "output_type": "display_data",
          "data": {
            "text/html": [
              "46"
            ],
            "text/markdown": "46",
            "text/latex": "46",
            "text/plain": [
              "[1] 46"
            ]
          },
          "metadata": {}
        }
      ]
    },
    {
      "cell_type": "code",
      "source": [
        "cat(\"Outlier detection for ssc_p (Secondary School %):\\n\")\n",
        "cat(\"---------------------------------------------\\n\")\n",
        "cat(\"Lower bound (Q1 - 1.5*IQR):\", lower_bound, \"\\n\")\n",
        "cat(\"Upper bound (Q3 + 1.5*IQR):\", upper_bound, \"\\n\")\n",
        "cat(\"Number of outliers found:\", length(outliers), \"\\n\\n\")"
      ],
      "metadata": {
        "colab": {
          "base_uri": "https://localhost:8080/"
        },
        "id": "LBq9hzN3x2Dt",
        "outputId": "1bf0e34f-a23d-48b5-a468-220daeaf0d85"
      },
      "execution_count": 22,
      "outputs": [
        {
          "output_type": "stream",
          "name": "stdout",
          "text": [
            "Outlier detection for ssc_p (Secondary School %):\n",
            "---------------------------------------------\n",
            "Lower bound (Q1 - 1.5*IQR): 38.01875 \n",
            "Upper bound (Q3 + 1.5*IQR): 97.58875 \n",
            "Number of outliers found: 1 \n",
            "\n"
          ]
        }
      ]
    },
    {
      "cell_type": "code",
      "source": [
        "# Outlier detection and replacement for ssc_p\n",
        "outliers <- which(MyData$ssc_p < lower_bound | MyData$ssc_p > upper_bound)\n",
        "\n",
        "if (length(outliers) > 0) {\n",
        "  cat(\"Outlier values:\\n\")\n",
        "  print(MyData[outliers, c(\"sl_no\", \"ssc_p\")])\n",
        "  # Replace outliers with median (no na.rm)\n",
        "  median_ssc <- median(MyData$ssc_p)  # Removed na.rm\n",
        "  MyData$ssc_p[outliers] <- median_ssc\n",
        "  cat(\"\\nReplaced\", length(outliers),\n",
        "      \"outlier(s) with median value:\", median_ssc, \"\\n\")\n",
        "} else {\n",
        "  cat(\"No outliers detected in ssc_p\\n\")\n",
        "}"
      ],
      "metadata": {
        "colab": {
          "base_uri": "https://localhost:8080/"
        },
        "id": "uwwmythKyZTo",
        "outputId": "fc345ffb-2874-44ec-c930-fa56046786a5"
      },
      "execution_count": 23,
      "outputs": [
        {
          "output_type": "stream",
          "name": "stdout",
          "text": [
            "Outlier values:\n",
            "   sl_no ssc_p\n",
            "46    46  0.76\n",
            "\n",
            "Replaced 1 outlier(s) with median value: 67 \n"
          ]
        }
      ]
    },
    {
      "cell_type": "markdown",
      "source": [
        "## 4. Convert attributes (numeric ↔ categorical), only 2 variables max"
      ],
      "metadata": {
        "id": "rFhjK-__LI22"
      }
    },
    {
      "cell_type": "code",
      "source": [
        "summary(MyData$ssc_p)"
      ],
      "metadata": {
        "colab": {
          "base_uri": "https://localhost:8080/",
          "height": 52
        },
        "id": "ktpnFOScJvxe",
        "outputId": "ed4d5dfc-e282-44db-d987-ac34b9fedef3"
      },
      "execution_count": 24,
      "outputs": [
        {
          "output_type": "display_data",
          "data": {
            "text/plain": [
              "   Min. 1st Qu.  Median    Mean 3rd Qu.    Max. \n",
              "  40.89   60.70   67.00   67.26   75.25   89.40 "
            ]
          },
          "metadata": {}
        }
      ]
    },
    {
      "cell_type": "code",
      "source": [
        "# Numeric to Categorical (e.g., ssc_p to Grades)\n",
        "ssc_grade <- factor(\n",
        "  ifelse(MyData$ssc_p >= 75, \"A\",\n",
        "         ifelse(MyData$ssc_p >= 60, \"B\", \"C\")),\n",
        "  levels = c(\"A\", \"B\", \"C\")\n",
        ")"
      ],
      "metadata": {
        "id": "d-zs6HmzLIg9"
      },
      "execution_count": 25,
      "outputs": []
    },
    {
      "cell_type": "code",
      "source": [
        "ssc_grade"
      ],
      "metadata": {
        "colab": {
          "base_uri": "https://localhost:8080/",
          "height": 104
        },
        "id": "d3zq86fIKqLe",
        "outputId": "7e39a1dc-2e8a-4974-a0f4-2f9355c4a737"
      },
      "execution_count": 26,
      "outputs": [
        {
          "output_type": "display_data",
          "data": {
            "text/html": [
              "<style>\n",
              ".list-inline {list-style: none; margin:0; padding: 0}\n",
              ".list-inline>li {display: inline-block}\n",
              ".list-inline>li:not(:last-child)::after {content: \"\\00b7\"; padding: 0 .5ex}\n",
              "</style>\n",
              "<ol class=list-inline><li>B</li><li>A</li><li>B</li><li>C</li><li>A</li><li>C</li><li>C</li><li>A</li><li>B</li><li>C</li><li>C</li><li>B</li><li>C</li><li>A</li><li>B</li><li>B</li><li>B</li><li>C</li><li>B</li><li>B</li><li>B</li><li>A</li><li>B</li><li>A</li><li>A</li><li>C</li><li>B</li><li>B</li><li>A</li><li>B</li><li>B</li><li>B</li><li>B</li><li>A</li><li>B</li><li>B</li><li>C</li><li>A</li><li>B</li><li>A</li><li>A</li><li>B</li><li>C</li><li>A</li><li>A</li><li>B</li><li>B</li><li>B</li><li>B</li><li>C</li><li>A</li><li>C</li><li>C</li><li>A</li><li>B</li><li>B</li><li>B</li><li>B</li><li>B</li><li>C</li><li>B</li><li>A</li><li>A</li><li>B</li><li>A</li><li>C</li><li>A</li><li>A</li><li>B</li><li>B</li><li>A</li><li>A</li><li>A</li><li>B</li><li>C</li><li>C</li><li>B</li><li>B</li><li>A</li><li>B</li><li>B</li><li>A</li><li>B</li><li>A</li><li>B</li><li>A</li><li>B</li><li>C</li><li>B</li><li>A</li><li>A</li><li>C</li><li>B</li><li>C</li><li>C</li><li>B</li><li>A</li><li>B</li><li>B</li><li>C</li><li>C</li><li>B</li><li>A</li><li>B</li><li>B</li><li>C</li><li>B</li><li>A</li><li>B</li><li>C</li><li>B</li><li>C</li><li>C</li><li>B</li><li>B</li><li>B</li><li>B</li><li>A</li><li>A</li><li>B</li><li>C</li><li>B</li><li>B</li><li>B</li><li>B</li><li>A</li><li>A</li><li>B</li><li>A</li><li>A</li><li>B</li><li>B</li><li>B</li><li>B</li><li>A</li><li>B</li><li>C</li><li>B</li><li>A</li><li>A</li><li>B</li><li>B</li><li>A</li><li>A</li><li>C</li><li>A</li><li>B</li><li>B</li><li>A</li><li>C</li><li>B</li><li>B</li><li>A</li><li>C</li><li>C</li><li>C</li><li>A</li><li>B</li><li>B</li><li>C</li><li>A</li><li>C</li><li>B</li><li>B</li><li>B</li><li>B</li><li>B</li><li>B</li><li>C</li><li>C</li><li>B</li><li>A</li><li>B</li><li>C</li><li>B</li><li>B</li><li>C</li><li>B</li><li>B</li><li>A</li><li>B</li><li>B</li><li>C</li><li>B</li><li>C</li><li>A</li><li>C</li><li>A</li><li>B</li><li>C</li><li>B</li><li>B</li><li>B</li><li>B</li><li>C</li><li>B</li><li>B</li><li>A</li><li>B</li><li>B</li><li>B</li><li>C</li><li>B</li><li>C</li><li>B</li><li>B</li><li>C</li><li>A</li><li>C</li><li>B</li><li>A</li><li>C</li><li>B</li><li>B</li><li>B</li><li>B</li></ol>\n",
              "\n",
              "<details>\n",
              "\t<summary style=display:list-item;cursor:pointer>\n",
              "\t\t<strong>Levels</strong>:\n",
              "\t</summary>\n",
              "\t<style>\n",
              "\t.list-inline {list-style: none; margin:0; padding: 0}\n",
              "\t.list-inline>li {display: inline-block}\n",
              "\t.list-inline>li:not(:last-child)::after {content: \"\\00b7\"; padding: 0 .5ex}\n",
              "\t</style>\n",
              "\t<ol class=list-inline><li>'A'</li><li>'B'</li><li>'C'</li></ol>\n",
              "</details>"
            ],
            "text/markdown": "1. B\n2. A\n3. B\n4. C\n5. A\n6. C\n7. C\n8. A\n9. B\n10. C\n11. C\n12. B\n13. C\n14. A\n15. B\n16. B\n17. B\n18. C\n19. B\n20. B\n21. B\n22. A\n23. B\n24. A\n25. A\n26. C\n27. B\n28. B\n29. A\n30. B\n31. B\n32. B\n33. B\n34. A\n35. B\n36. B\n37. C\n38. A\n39. B\n40. A\n41. A\n42. B\n43. C\n44. A\n45. A\n46. B\n47. B\n48. B\n49. B\n50. C\n51. A\n52. C\n53. C\n54. A\n55. B\n56. B\n57. B\n58. B\n59. B\n60. C\n61. B\n62. A\n63. A\n64. B\n65. A\n66. C\n67. A\n68. A\n69. B\n70. B\n71. A\n72. A\n73. A\n74. B\n75. C\n76. C\n77. B\n78. B\n79. A\n80. B\n81. B\n82. A\n83. B\n84. A\n85. B\n86. A\n87. B\n88. C\n89. B\n90. A\n91. A\n92. C\n93. B\n94. C\n95. C\n96. B\n97. A\n98. B\n99. B\n100. C\n101. C\n102. B\n103. A\n104. B\n105. B\n106. C\n107. B\n108. A\n109. B\n110. C\n111. B\n112. C\n113. C\n114. B\n115. B\n116. B\n117. B\n118. A\n119. A\n120. B\n121. C\n122. B\n123. B\n124. B\n125. B\n126. A\n127. A\n128. B\n129. A\n130. A\n131. B\n132. B\n133. B\n134. B\n135. A\n136. B\n137. C\n138. B\n139. A\n140. A\n141. B\n142. B\n143. A\n144. A\n145. C\n146. A\n147. B\n148. B\n149. A\n150. C\n151. B\n152. B\n153. A\n154. C\n155. C\n156. C\n157. A\n158. B\n159. B\n160. C\n161. A\n162. C\n163. B\n164. B\n165. B\n166. B\n167. B\n168. B\n169. C\n170. C\n171. B\n172. A\n173. B\n174. C\n175. B\n176. B\n177. C\n178. B\n179. B\n180. A\n181. B\n182. B\n183. C\n184. B\n185. C\n186. A\n187. C\n188. A\n189. B\n190. C\n191. B\n192. B\n193. B\n194. B\n195. C\n196. B\n197. B\n198. A\n199. B\n200. B\n201. B\n202. C\n203. B\n204. C\n205. B\n206. B\n207. C\n208. A\n209. C\n210. B\n211. A\n212. C\n213. B\n214. B\n215. B\n216. B\n\n\n\n**Levels**: 1. 'A'\n2. 'B'\n3. 'C'\n\n\n",
            "text/latex": "\\begin{enumerate*}\n\\item B\n\\item A\n\\item B\n\\item C\n\\item A\n\\item C\n\\item C\n\\item A\n\\item B\n\\item C\n\\item C\n\\item B\n\\item C\n\\item A\n\\item B\n\\item B\n\\item B\n\\item C\n\\item B\n\\item B\n\\item B\n\\item A\n\\item B\n\\item A\n\\item A\n\\item C\n\\item B\n\\item B\n\\item A\n\\item B\n\\item B\n\\item B\n\\item B\n\\item A\n\\item B\n\\item B\n\\item C\n\\item A\n\\item B\n\\item A\n\\item A\n\\item B\n\\item C\n\\item A\n\\item A\n\\item B\n\\item B\n\\item B\n\\item B\n\\item C\n\\item A\n\\item C\n\\item C\n\\item A\n\\item B\n\\item B\n\\item B\n\\item B\n\\item B\n\\item C\n\\item B\n\\item A\n\\item A\n\\item B\n\\item A\n\\item C\n\\item A\n\\item A\n\\item B\n\\item B\n\\item A\n\\item A\n\\item A\n\\item B\n\\item C\n\\item C\n\\item B\n\\item B\n\\item A\n\\item B\n\\item B\n\\item A\n\\item B\n\\item A\n\\item B\n\\item A\n\\item B\n\\item C\n\\item B\n\\item A\n\\item A\n\\item C\n\\item B\n\\item C\n\\item C\n\\item B\n\\item A\n\\item B\n\\item B\n\\item C\n\\item C\n\\item B\n\\item A\n\\item B\n\\item B\n\\item C\n\\item B\n\\item A\n\\item B\n\\item C\n\\item B\n\\item C\n\\item C\n\\item B\n\\item B\n\\item B\n\\item B\n\\item A\n\\item A\n\\item B\n\\item C\n\\item B\n\\item B\n\\item B\n\\item B\n\\item A\n\\item A\n\\item B\n\\item A\n\\item A\n\\item B\n\\item B\n\\item B\n\\item B\n\\item A\n\\item B\n\\item C\n\\item B\n\\item A\n\\item A\n\\item B\n\\item B\n\\item A\n\\item A\n\\item C\n\\item A\n\\item B\n\\item B\n\\item A\n\\item C\n\\item B\n\\item B\n\\item A\n\\item C\n\\item C\n\\item C\n\\item A\n\\item B\n\\item B\n\\item C\n\\item A\n\\item C\n\\item B\n\\item B\n\\item B\n\\item B\n\\item B\n\\item B\n\\item C\n\\item C\n\\item B\n\\item A\n\\item B\n\\item C\n\\item B\n\\item B\n\\item C\n\\item B\n\\item B\n\\item A\n\\item B\n\\item B\n\\item C\n\\item B\n\\item C\n\\item A\n\\item C\n\\item A\n\\item B\n\\item C\n\\item B\n\\item B\n\\item B\n\\item B\n\\item C\n\\item B\n\\item B\n\\item A\n\\item B\n\\item B\n\\item B\n\\item C\n\\item B\n\\item C\n\\item B\n\\item B\n\\item C\n\\item A\n\\item C\n\\item B\n\\item A\n\\item C\n\\item B\n\\item B\n\\item B\n\\item B\n\\end{enumerate*}\n\n\\emph{Levels}: \\begin{enumerate*}\n\\item 'A'\n\\item 'B'\n\\item 'C'\n\\end{enumerate*}\n",
            "text/plain": [
              "  [1] B A B C A C C A B C C B C A B B B C B B B A B A A C B B A B B B B A B B C\n",
              " [38] A B A A B C A A B B B B C A C C A B B B B B C B A A B A C A A B B A A A B\n",
              " [75] C C B B A B B A B A B A B C B A A C B C C B A B B C C B A B B C B A B C B\n",
              "[112] C C B B B B A A B C B B B B A A B A A B B B B A B C B A A B B A A C A B B\n",
              "[149] A C B B A C C C A B B C A C B B B B B B C C B A B C B B C B B A B B C B C\n",
              "[186] A C A B C B B B B C B B A B B B C B C B B C A C B A C B B B B\n",
              "Levels: A B C"
            ]
          },
          "metadata": {}
        }
      ]
    },
    {
      "cell_type": "code",
      "source": [
        "MyData$ssc_p <- ssc_grade"
      ],
      "metadata": {
        "id": "etZzWXhOKYjq"
      },
      "execution_count": 27,
      "outputs": []
    },
    {
      "cell_type": "code",
      "source": [
        "names(MyData)"
      ],
      "metadata": {
        "colab": {
          "base_uri": "https://localhost:8080/",
          "height": 34
        },
        "id": "89DkBGczKyTo",
        "outputId": "55d7c951-468c-4fa1-9778-99b696abfaa1"
      },
      "execution_count": 28,
      "outputs": [
        {
          "output_type": "display_data",
          "data": {
            "text/html": [
              "<style>\n",
              ".list-inline {list-style: none; margin:0; padding: 0}\n",
              ".list-inline>li {display: inline-block}\n",
              ".list-inline>li:not(:last-child)::after {content: \"\\00b7\"; padding: 0 .5ex}\n",
              "</style>\n",
              "<ol class=list-inline><li>'sl_no'</li><li>'gender'</li><li>'ssc_p'</li><li>'ssc_b'</li><li>'hsc_p'</li><li>'hsc_b'</li><li>'hsc_s'</li><li>'degree_p'</li><li>'degree_t'</li><li>'workex'</li><li>'etest_p'</li><li>'specialisation'</li><li>'mba_p'</li><li>'status'</li><li>'salary'</li><li>'class'</li></ol>\n"
            ],
            "text/markdown": "1. 'sl_no'\n2. 'gender'\n3. 'ssc_p'\n4. 'ssc_b'\n5. 'hsc_p'\n6. 'hsc_b'\n7. 'hsc_s'\n8. 'degree_p'\n9. 'degree_t'\n10. 'workex'\n11. 'etest_p'\n12. 'specialisation'\n13. 'mba_p'\n14. 'status'\n15. 'salary'\n16. 'class'\n\n\n",
            "text/latex": "\\begin{enumerate*}\n\\item 'sl\\_no'\n\\item 'gender'\n\\item 'ssc\\_p'\n\\item 'ssc\\_b'\n\\item 'hsc\\_p'\n\\item 'hsc\\_b'\n\\item 'hsc\\_s'\n\\item 'degree\\_p'\n\\item 'degree\\_t'\n\\item 'workex'\n\\item 'etest\\_p'\n\\item 'specialisation'\n\\item 'mba\\_p'\n\\item 'status'\n\\item 'salary'\n\\item 'class'\n\\end{enumerate*}\n",
            "text/plain": [
              " [1] \"sl_no\"          \"gender\"         \"ssc_p\"          \"ssc_b\"         \n",
              " [5] \"hsc_p\"          \"hsc_b\"          \"hsc_s\"          \"degree_p\"      \n",
              " [9] \"degree_t\"       \"workex\"         \"etest_p\"        \"specialisation\"\n",
              "[13] \"mba_p\"          \"status\"         \"salary\"         \"class\"         "
            ]
          },
          "metadata": {}
        }
      ]
    },
    {
      "cell_type": "markdown",
      "source": [
        "___"
      ],
      "metadata": {
        "id": "oWDicGDfQe9o"
      }
    },
    {
      "cell_type": "code",
      "source": [
        "head(MyData$status)"
      ],
      "metadata": {
        "colab": {
          "base_uri": "https://localhost:8080/",
          "height": 34
        },
        "id": "yX7f1GUVQeCP",
        "outputId": "8b0ebcdd-5046-4233-f18f-044b0b82bf59"
      },
      "execution_count": 29,
      "outputs": [
        {
          "output_type": "display_data",
          "data": {
            "text/html": [
              "<style>\n",
              ".list-inline {list-style: none; margin:0; padding: 0}\n",
              ".list-inline>li {display: inline-block}\n",
              ".list-inline>li:not(:last-child)::after {content: \"\\00b7\"; padding: 0 .5ex}\n",
              "</style>\n",
              "<ol class=list-inline><li>'Placed'</li><li>'Placed'</li><li>'Placed'</li><li>'Not Placed'</li><li>'Placed'</li><li>'Not Placed'</li></ol>\n"
            ],
            "text/markdown": "1. 'Placed'\n2. 'Placed'\n3. 'Placed'\n4. 'Not Placed'\n5. 'Placed'\n6. 'Not Placed'\n\n\n",
            "text/latex": "\\begin{enumerate*}\n\\item 'Placed'\n\\item 'Placed'\n\\item 'Placed'\n\\item 'Not Placed'\n\\item 'Placed'\n\\item 'Not Placed'\n\\end{enumerate*}\n",
            "text/plain": [
              "[1] \"Placed\"     \"Placed\"     \"Placed\"     \"Not Placed\" \"Placed\"    \n",
              "[6] \"Not Placed\""
            ]
          },
          "metadata": {}
        }
      ]
    },
    {
      "cell_type": "code",
      "source": [
        "status_numerical <- ifelse(MyData$status == \"Not Placed\", 0, 1)\n",
        "MyData$status <- status_numerical\n",
        "head(MyData$status)"
      ],
      "metadata": {
        "id": "jyHKDeWlqwbM",
        "colab": {
          "base_uri": "https://localhost:8080/",
          "height": 34
        },
        "outputId": "6a4b458b-2e27-4102-aef4-2f0fd5b970ce"
      },
      "execution_count": 30,
      "outputs": [
        {
          "output_type": "display_data",
          "data": {
            "text/html": [
              "<style>\n",
              ".list-inline {list-style: none; margin:0; padding: 0}\n",
              ".list-inline>li {display: inline-block}\n",
              ".list-inline>li:not(:last-child)::after {content: \"\\00b7\"; padding: 0 .5ex}\n",
              "</style>\n",
              "<ol class=list-inline><li>1</li><li>1</li><li>1</li><li>0</li><li>1</li><li>0</li></ol>\n"
            ],
            "text/markdown": "1. 1\n2. 1\n3. 1\n4. 0\n5. 1\n6. 0\n\n\n",
            "text/latex": "\\begin{enumerate*}\n\\item 1\n\\item 1\n\\item 1\n\\item 0\n\\item 1\n\\item 0\n\\end{enumerate*}\n",
            "text/plain": [
              "[1] 1 1 1 0 1 0"
            ]
          },
          "metadata": {}
        }
      ]
    },
    {
      "cell_type": "markdown",
      "source": [
        "## 5. Compute the central tendencies (mean, median, mode) for any two numeric and two categorical attributes, and interpret the results.\n"
      ],
      "metadata": {
        "id": "vdsbWsO7ggad"
      }
    },
    {
      "cell_type": "code",
      "source": [
        "mean_degree <- mean(MyData$degree_p)\n",
        "median_degree <- median(MyData$degree_p)\n",
        "mode_degree<- as.numeric(names(which.max(table(MyData$degree_p))))\n",
        "\n",
        "mean_etest_p <- mean(MyData$etest_p)\n",
        "median_etest_p <- median(MyData$etest_p)\n",
        "mode_etest_p <- as.numeric(names(which.max(table(MyData$etest_p))))"
      ],
      "metadata": {
        "id": "5zGS_InS1jaR"
      },
      "execution_count": 31,
      "outputs": []
    },
    {
      "cell_type": "code",
      "source": [
        "cat(\"Central Tendencies of degree_p (Numeric Data)\\n\")\n",
        "cat(\"Mean:\", mean_degree, \"\\n\")\n",
        "cat(\"Median:\", median_degree, \"\\n\")\n",
        "cat(\"Mode:\", mode_degree, \"\\n\\n\")\n",
        "\n",
        "\n",
        "cat(\"Central Tendencies of etest_p (Numeric Data)\\n\")\n",
        "cat(\"Mean:\", mean_etest_p, \"\\n\")\n",
        "cat(\"Median:\", median_etest_p, \"\\n\")\n",
        "cat(\"Mode:\", mode_etest_p, \"\\n\")"
      ],
      "metadata": {
        "colab": {
          "base_uri": "https://localhost:8080/"
        },
        "id": "6M9eXPDLWLK4",
        "outputId": "6cdc5cf0-dfac-4bc4-edc6-77a59a2dd96d"
      },
      "execution_count": 32,
      "outputs": [
        {
          "output_type": "stream",
          "name": "stdout",
          "text": [
            "Central Tendencies of degree_p (Numeric Data)\n",
            "Mean: 66.33144 \n",
            "Median: 66 \n",
            "Mode: 65 \n",
            "\n",
            "Central Tendencies of etest_p (Numeric Data)\n",
            "Mean: 72.02139 \n",
            "Median: 70.5 \n",
            "Mode: 60 \n"
          ]
        }
      ]
    },
    {
      "cell_type": "code",
      "source": [
        "# Mode for categorical data\n",
        "mode_ssc_b <- names(sort(table(MyData$ssc_b), decreasing = TRUE))[1]\n",
        "mode_hsc_b <- names(sort(table(MyData$hsc_b), decreasing = TRUE))[1]\n",
        "\n",
        "cat(\"Central Tendency of workex (Categorical Data)\\n\")\n",
        "cat(\"Mode:\", mode_ssc_b, \"\\n\\n\")\n",
        "\n",
        "cat(\"Central Tendency of status (Categorical Data)\\n\")\n",
        "cat(\"Mode:\", mode_hsc_b, \"\\n\")\n"
      ],
      "metadata": {
        "id": "Q7L2feVMqZoi",
        "colab": {
          "base_uri": "https://localhost:8080/"
        },
        "outputId": "b32b24e7-a848-4ca1-92bc-b5e4c8ccd43a"
      },
      "execution_count": 33,
      "outputs": [
        {
          "output_type": "stream",
          "name": "stdout",
          "text": [
            "Central Tendency of workex (Categorical Data)\n",
            "Mode: Central \n",
            "\n",
            "Central Tendency of status (Categorical Data)\n",
            "Mode: Others \n"
          ]
        }
      ]
    },
    {
      "cell_type": "markdown",
      "source": [
        "## 6. Compute the spread (Range, IQR, Variance, Standard Deviation) any two attributes, and interpret the results."
      ],
      "metadata": {
        "id": "Rq_3SRj8grgH"
      }
    },
    {
      "cell_type": "code",
      "source": [
        "# Spread (Range, IQR, Variance, SD)\n",
        "range_degree <- range(MyData$degree_p)\n",
        "iqr_degree <- IQR(MyData$degree_p)\n",
        "var_degree <- var(MyData$degree_p)\n",
        "sd_degree <- sd(MyData$degree_p)\n",
        "# Spread measurements for degree_p (Normalized Numeric Data)\n",
        "cat(\"Spread of degree_p (Normalized Numeric Data):\\n\")\n",
        "cat(\"Range: [\", range_degree[1], \",\", range_degree[2], \"]\\n\")\n",
        "cat(\"Interquartile Range (IQR):\", iqr_degree, \"\\n\")\n",
        "cat(\"Variance:\", var_degree, \"\\n\")\n",
        "cat(\"Standard Deviation:\", sd_degree, \"\\n\\n\")\n",
        "\n",
        "\n",
        "# For `mba_p`\n",
        "mba_non_na <- MyData$mba_p[!is.na(MyData$mba_p)]\n",
        "Q1 <- quantile(mba_non_na, 0.25)\n",
        "Q3 <- quantile(mba_non_na, 0.75)\n",
        "IQR_mba <- Q3 - Q1\n",
        "IQR_percentage <- (IQR_mba / median(mba_non_na)) * 100\n",
        "# Spread measurements for mba_p\n",
        "cat(\"Spread of mba_p (Normalized Numeric Data):\\n\")\n",
        "cat(\"Interquartile Range (IQR):\", IQR_mba, \"\\n\")\n",
        "cat(\"IQR as percentage of Median:\", IQR_percentage, \"%\\n\")\n"
      ],
      "metadata": {
        "id": "X2R5PGsJ1trF",
        "colab": {
          "base_uri": "https://localhost:8080/"
        },
        "outputId": "20d43228-5079-44db-eb39-8b7e14b7731a"
      },
      "execution_count": 34,
      "outputs": [
        {
          "output_type": "stream",
          "name": "stdout",
          "text": [
            "Spread of degree_p (Normalized Numeric Data):\n",
            "Range: [ 50 , 91 ]\n",
            "Interquartile Range (IQR): 11 \n",
            "Variance: 54.22359 \n",
            "Standard Deviation: 7.363667 \n",
            "\n",
            "Spread of mba_p (Normalized Numeric Data):\n",
            "Interquartile Range (IQR): 8.275 \n",
            "IQR as percentage of Median: 13.35755 %\n"
          ]
        }
      ]
    },
    {
      "cell_type": "markdown",
      "source": [
        "## 7. Normalize a continuous attribute"
      ],
      "metadata": {
        "id": "d4eHSf_8d8O2"
      }
    },
    {
      "cell_type": "code",
      "source": [
        "cat(\"First 5 salary values before normalization:\\n\")\n",
        "head(MyData$salary)"
      ],
      "metadata": {
        "colab": {
          "base_uri": "https://localhost:8080/",
          "height": 52
        },
        "id": "rzjYxSbFL8Ld",
        "outputId": "ec017145-2bcd-470d-8ec0-2e7b562e4131"
      },
      "execution_count": 35,
      "outputs": [
        {
          "output_type": "stream",
          "name": "stdout",
          "text": [
            "First 5 salary values before normalization:\n"
          ]
        },
        {
          "output_type": "display_data",
          "data": {
            "text/html": [
              "<style>\n",
              ".list-inline {list-style: none; margin:0; padding: 0}\n",
              ".list-inline>li {display: inline-block}\n",
              ".list-inline>li:not(:last-child)::after {content: \"\\00b7\"; padding: 0 .5ex}\n",
              "</style>\n",
              "<ol class=list-inline><li>270000</li><li>200000</li><li>250000</li><li>265000</li><li>425000</li><li>265000</li></ol>\n"
            ],
            "text/markdown": "1. 270000\n2. 200000\n3. 250000\n4. 265000\n5. 425000\n6. 265000\n\n\n",
            "text/latex": "\\begin{enumerate*}\n\\item 270000\n\\item 200000\n\\item 250000\n\\item 265000\n\\item 425000\n\\item 265000\n\\end{enumerate*}\n",
            "text/plain": [
              "[1] 270000 200000 250000 265000 425000 265000"
            ]
          },
          "metadata": {}
        }
      ]
    },
    {
      "cell_type": "code",
      "source": [
        "normalize <- function(x) {\n",
        "  normalized_x <- (x - min(x)) / (max(x) - min(x))\n",
        "  return(normalized_x)\n",
        "}\n",
        "\n",
        "# Apply to a numeric column (e.g., ssc_p)\n",
        "MyData$degree_p <- normalize(MyData$degree_p)\n",
        "MyData$hsc_p <- normalize(MyData$hsc_p)\n",
        "MyData$etest_p <- normalize(MyData$etest_p)\n",
        "MyData$mba_p <- normalize(MyData$mba_p)\n",
        "MyData$salary <- normalize(MyData$salary)"
      ],
      "metadata": {
        "id": "puN7GAC7qigf"
      },
      "execution_count": 36,
      "outputs": []
    },
    {
      "cell_type": "code",
      "source": [
        "cat(\"First 5 salary values after normalization:\\n\")\n",
        "head(MyData$salary)"
      ],
      "metadata": {
        "colab": {
          "base_uri": "https://localhost:8080/",
          "height": 52
        },
        "id": "EAJtrWVuNZEM",
        "outputId": "6a960795-acc0-44d2-ab85-0eee2b090281"
      },
      "execution_count": 37,
      "outputs": [
        {
          "output_type": "stream",
          "name": "stdout",
          "text": [
            "First 5 salary values after normalization:\n"
          ]
        },
        {
          "output_type": "display_data",
          "data": {
            "text/html": [
              "<style>\n",
              ".list-inline {list-style: none; margin:0; padding: 0}\n",
              ".list-inline>li {display: inline-block}\n",
              ".list-inline>li:not(:last-child)::after {content: \"\\00b7\"; padding: 0 .5ex}\n",
              "</style>\n",
              "<ol class=list-inline><li>0.0945945945945946</li><li>0</li><li>0.0675675675675676</li><li>0.0878378378378378</li><li>0.304054054054054</li><li>0.0878378378378378</li></ol>\n"
            ],
            "text/markdown": "1. 0.0945945945945946\n2. 0\n3. 0.0675675675675676\n4. 0.0878378378378378\n5. 0.304054054054054\n6. 0.0878378378378378\n\n\n",
            "text/latex": "\\begin{enumerate*}\n\\item 0.0945945945945946\n\\item 0\n\\item 0.0675675675675676\n\\item 0.0878378378378378\n\\item 0.304054054054054\n\\item 0.0878378378378378\n\\end{enumerate*}\n",
            "text/plain": [
              "[1] 0.09459459 0.00000000 0.06756757 0.08783784 0.30405405 0.08783784"
            ]
          },
          "metadata": {}
        }
      ]
    },
    {
      "cell_type": "markdown",
      "source": [
        "## 8. Remove duplicate rows"
      ],
      "metadata": {
        "id": "7_VDhdK9eMMP"
      }
    },
    {
      "cell_type": "code",
      "source": [
        "library(dplyr)"
      ],
      "metadata": {
        "id": "C5qp3JdER5Ph",
        "colab": {
          "base_uri": "https://localhost:8080/"
        },
        "outputId": "ec922989-e61d-4c50-9d14-f913ac5a3f95"
      },
      "execution_count": 38,
      "outputs": [
        {
          "output_type": "stream",
          "name": "stderr",
          "text": [
            "\n",
            "Attaching package: ‘dplyr’\n",
            "\n",
            "\n",
            "The following objects are masked from ‘package:stats’:\n",
            "\n",
            "    filter, lag\n",
            "\n",
            "\n",
            "The following objects are masked from ‘package:base’:\n",
            "\n",
            "    intersect, setdiff, setequal, union\n",
            "\n",
            "\n"
          ]
        }
      ]
    },
    {
      "cell_type": "code",
      "source": [
        "distinct(MyData)"
      ],
      "metadata": {
        "colab": {
          "base_uri": "https://localhost:8080/",
          "height": 1000
        },
        "id": "coSX62tBRxSX",
        "outputId": "623706b0-bcf5-46d4-80e8-2cc9811bee3c"
      },
      "execution_count": 39,
      "outputs": [
        {
          "output_type": "display_data",
          "data": {
            "text/html": [
              "<table class=\"dataframe\">\n",
              "<caption>A data.frame: 216 × 16</caption>\n",
              "<thead>\n",
              "\t<tr><th scope=col>sl_no</th><th scope=col>gender</th><th scope=col>ssc_p</th><th scope=col>ssc_b</th><th scope=col>hsc_p</th><th scope=col>hsc_b</th><th scope=col>hsc_s</th><th scope=col>degree_p</th><th scope=col>degree_t</th><th scope=col>workex</th><th scope=col>etest_p</th><th scope=col>specialisation</th><th scope=col>mba_p</th><th scope=col>status</th><th scope=col>salary</th><th scope=col>class</th></tr>\n",
              "\t<tr><th scope=col>&lt;int&gt;</th><th scope=col>&lt;chr&gt;</th><th scope=col>&lt;fct&gt;</th><th scope=col>&lt;chr&gt;</th><th scope=col>&lt;dbl&gt;</th><th scope=col>&lt;chr&gt;</th><th scope=col>&lt;chr&gt;</th><th scope=col>&lt;dbl&gt;</th><th scope=col>&lt;chr&gt;</th><th scope=col>&lt;chr&gt;</th><th scope=col>&lt;dbl&gt;</th><th scope=col>&lt;chr&gt;</th><th scope=col>&lt;dbl&gt;</th><th scope=col>&lt;dbl&gt;</th><th scope=col>&lt;dbl&gt;</th><th scope=col>&lt;int&gt;</th></tr>\n",
              "</thead>\n",
              "<tbody>\n",
              "\t<tr><td> 1</td><td>M</td><td>B</td><td>Others </td><td>0.008128857</td><td>Others </td><td>Commerce</td><td>0.195121951</td><td>Sci&amp;Tech </td><td>0</td><td>0.10416667</td><td>Mkt&amp;HR </td><td>0.284482759</td><td>1</td><td>0.09459459</td><td>0</td></tr>\n",
              "\t<tr><td> 2</td><td>M</td><td>A</td><td>Central</td><td>0.006221587</td><td>Others </td><td>Science </td><td>0.670243902</td><td>Sci&amp;Tech </td><td>1</td><td>0.76041667</td><td>Mkt&amp;Fin</td><td>0.564842579</td><td>1</td><td>0.00000000</td><td>0</td></tr>\n",
              "\t<tr><td> 3</td><td>M</td><td>B</td><td>Central</td><td>0.004666566</td><td>Central</td><td><span style=white-space:pre-wrap>Arts    </span></td><td>0.341463415</td><td>Comm&amp;Mgmt</td><td>0</td><td>0.52083333</td><td>Mkt&amp;Fin</td><td>0.247001499</td><td>1</td><td>0.06756757</td><td>0</td></tr>\n",
              "\t<tr><td> 4</td><td>M</td><td>C</td><td>Central</td><td>0.002258016</td><td>Central</td><td>Science </td><td>0.048780488</td><td>Sci&amp;Tech </td><td>0</td><td>0.33333333</td><td>Mkt&amp;HR </td><td>0.308095952</td><td>0</td><td>0.08783784</td><td>0</td></tr>\n",
              "\t<tr><td> 5</td><td>M</td><td>A</td><td>Central</td><td>0.005509559</td><td>Central</td><td>Commerce</td><td>0.568292683</td><td>Comm&amp;Mgmt</td><td>0</td><td>0.97500000</td><td>Mkt&amp;Fin</td><td>0.160794603</td><td>1</td><td>0.30405405</td><td>1</td></tr>\n",
              "\t<tr><td> 6</td><td>M</td><td>C</td><td>Others </td><td>0.001926840</td><td>Others </td><td>Science </td><td>0.420731707</td><td>Sci&amp;Tech </td><td>1</td><td>0.10416667</td><td>Mkt&amp;Fin</td><td>0.013868066</td><td>0</td><td>0.08783784</td><td>1</td></tr>\n",
              "\t<tr><td> 7</td><td>F</td><td>C</td><td>Others </td><td>0.001836520</td><td>Others </td><td>Commerce</td><td>0.707317073</td><td>Comm&amp;Mgmt</td><td>0</td><td>0.50583333</td><td>Mkt&amp;Fin</td><td>0.077961019</td><td>0</td><td>0.08783784</td><td>1</td></tr>\n",
              "\t<tr><td> 8</td><td>M</td><td>A</td><td>Central</td><td>0.004064429</td><td>Central</td><td>Science </td><td>0.390243902</td><td>Sci&amp;Tech </td><td>1</td><td>0.35416667</td><td>Mkt&amp;Fin</td><td>0.409670165</td><td>1</td><td>0.07027027</td><td>0</td></tr>\n",
              "\t<tr><td> 9</td><td>M</td><td>B</td><td>Central</td><td>0.006322445</td><td>Central</td><td>Commerce</td><td>0.536585366</td><td>Comm&amp;Mgmt</td><td>0</td><td>0.86125000</td><td>Mkt&amp;Fin</td><td>0.377811094</td><td>1</td><td>0.04189189</td><td>0</td></tr>\n",
              "\t<tr><td>10</td><td>M</td><td>C</td><td>Central</td><td>0.004967635</td><td>Central</td><td>Commerce</td><td>0.268292683</td><td>Comm&amp;Mgmt</td><td>0</td><td>0.08333333</td><td>Mkt&amp;Fin</td><td>0.037481259</td><td>0</td><td>0.08783784</td><td>0</td></tr>\n",
              "\t<tr><td>11</td><td>M</td><td>C</td><td>Central</td><td>0.003612826</td><td>Central</td><td>Commerce</td><td>0.243902439</td><td>Comm&amp;Mgmt</td><td>1</td><td>0.25000000</td><td>Mkt&amp;HR </td><td>0.361319340</td><td>1</td><td>0.08108108</td><td>0</td></tr>\n",
              "\t<tr><td>12</td><td>M</td><td>B</td><td>Central</td><td>0.004726780</td><td>Central</td><td>Commerce</td><td>0.690243902</td><td>Comm&amp;Mgmt</td><td>1</td><td>0.20833333</td><td>Mkt&amp;Fin</td><td>0.468140930</td><td>1</td><td>0.06756757</td><td>0</td></tr>\n",
              "\t<tr><td>13</td><td>F</td><td>C</td><td>Central</td><td>0.002709619</td><td>Others </td><td>Science </td><td>0.365853659</td><td>Comm&amp;Mgmt</td><td>0</td><td>0.25000000</td><td>Mkt&amp;HR </td><td>0.518365817</td><td>0</td><td>0.08783784</td><td>0</td></tr>\n",
              "\t<tr><td>14</td><td>F</td><td>A</td><td>Central</td><td>0.007526720</td><td>Central</td><td>Commerce</td><td>0.219512195</td><td>Comm&amp;Mgmt</td><td>0</td><td>0.37500000</td><td>Mkt&amp;Fin</td><td>0.652923538</td><td>1</td><td>0.02432432</td><td>0</td></tr>\n",
              "\t<tr><td>15</td><td>M</td><td>B</td><td>Central</td><td>0.001505344</td><td>Central</td><td>Commerce</td><td>0.000000000</td><td>Comm&amp;Mgmt</td><td>0</td><td>0.54166667</td><td>Mkt&amp;HR </td><td>0.140554723</td><td>0</td><td>0.08783784</td><td>0</td></tr>\n",
              "\t<tr><td>16</td><td>F</td><td>B</td><td>Central</td><td>0.005720307</td><td>Central</td><td>Commerce</td><td>0.463414634</td><td>Comm&amp;Mgmt</td><td>1</td><td>0.45833333</td><td>Mkt&amp;Fin</td><td>0.504122939</td><td>1</td><td>0.00000000</td><td>0</td></tr>\n",
              "\t<tr><td>17</td><td>M</td><td>B</td><td>Central</td><td>0.004395604</td><td>Central</td><td>Commerce</td><td>0.380487805</td><td>Comm&amp;Mgmt</td><td>1</td><td>0.20833333</td><td>Mkt&amp;Fin</td><td>0.424662669</td><td>1</td><td>0.13513514</td><td>1</td></tr>\n",
              "\t<tr><td>18</td><td>F</td><td>C</td><td>Central</td><td>0.004516032</td><td>Central</td><td>Commerce</td><td>0.341463415</td><td>Comm&amp;Mgmt</td><td>0</td><td>0.20833333</td><td>Mkt&amp;Fin</td><td>0.602323838</td><td>0</td><td>0.08783784</td><td>1</td></tr>\n",
              "\t<tr><td>19</td><td>F</td><td>B</td><td>Central</td><td>0.004365498</td><td>Central</td><td>Commerce</td><td>0.341463415</td><td>Comm&amp;Mgmt</td><td>0</td><td>0.37500000</td><td>Mkt&amp;HR </td><td>0.482383808</td><td>0</td><td>0.08783784</td><td>1</td></tr>\n",
              "\t<tr><td>20</td><td>M</td><td>B</td><td>Others </td><td>0.004516032</td><td>Others </td><td><span style=white-space:pre-wrap>Arts    </span></td><td>0.487804878</td><td>Comm&amp;Mgmt</td><td>1</td><td>0.01000000</td><td>Mkt&amp;Fin</td><td>1.000000000</td><td>1</td><td>0.04864865</td><td>0</td></tr>\n",
              "\t<tr><td>21</td><td>M</td><td>B</td><td>Others </td><td>0.004214963</td><td>Others </td><td>Commerce</td><td>0.390243902</td><td>Comm&amp;Mgmt</td><td>0</td><td>0.00000000</td><td>Mkt&amp;HR </td><td>0.205772114</td><td>1</td><td>0.08783784</td><td>1</td></tr>\n",
              "\t<tr><td>22</td><td>F</td><td>A</td><td>Others </td><td>0.005870841</td><td>Others </td><td>Commerce</td><td>0.853658537</td><td>Comm&amp;Mgmt</td><td>0</td><td>0.93750000</td><td>Mkt&amp;Fin</td><td>0.669040480</td><td>1</td><td>0.26081081</td><td>1</td></tr>\n",
              "\t<tr><td>23</td><td>F</td><td>B</td><td>Others </td><td>0.003582719</td><td>Others </td><td>Science </td><td>0.542195122</td><td>Sci&amp;Tech </td><td>0</td><td>0.11520833</td><td>Mkt&amp;HR </td><td>0.659670165</td><td>1</td><td>0.21621622</td><td>1</td></tr>\n",
              "\t<tr><td>24</td><td>F</td><td>A</td><td>Others </td><td>0.003462291</td><td>Others </td><td>Science </td><td>0.359512195</td><td>Sci&amp;Tech </td><td>1</td><td>0.87500000</td><td>Mkt&amp;Fin</td><td>0.465142429</td><td>1</td><td>0.13513514</td><td>1</td></tr>\n",
              "\t<tr><td>25</td><td>M</td><td>A</td><td>Others </td><td>0.009137438</td><td>Others </td><td>Science </td><td>0.703902439</td><td>Sci&amp;Tech </td><td>0</td><td>0.98750000</td><td>Mkt&amp;Fin</td><td>0.854572714</td><td>1</td><td>0.21621622</td><td>1</td></tr>\n",
              "\t<tr><td>26</td><td>F</td><td>C</td><td>Others </td><td>0.002649405</td><td>Central</td><td>Commerce</td><td>0.004878049</td><td>Comm&amp;Mgmt</td><td>1</td><td>0.54166667</td><td>Mkt&amp;Fin</td><td>0.529235382</td><td>0</td><td>0.08783784</td><td>1</td></tr>\n",
              "\t<tr><td>27</td><td>M</td><td>B</td><td>Others </td><td>0.006322445</td><td>Others </td><td>Commerce</td><td>0.390243902</td><td>Comm&amp;Mgmt</td><td>1</td><td>0.91666667</td><td>Mkt&amp;Fin</td><td>0.237631184</td><td>1</td><td>0.05405405</td><td>0</td></tr>\n",
              "\t<tr><td>28</td><td>M</td><td>B</td><td>Others </td><td>0.004516032</td><td>Others </td><td>Commerce</td><td>0.390243902</td><td>Comm&amp;Mgmt</td><td>0</td><td>0.37500000</td><td>Mkt&amp;HR </td><td>0.242878561</td><td>1</td><td>0.08783784</td><td>1</td></tr>\n",
              "\t<tr><td>29</td><td>M</td><td>A</td><td>Others </td><td>0.005946109</td><td>Others </td><td>Commerce</td><td>0.426829268</td><td>Comm&amp;Mgmt</td><td>1</td><td>0.48645833</td><td>Mkt&amp;Fin</td><td>0.485007496</td><td>1</td><td>0.20270270</td><td>1</td></tr>\n",
              "\t<tr><td>30</td><td>M</td><td>B</td><td>Central</td><td>0.004516032</td><td>Central</td><td>Commerce</td><td>0.195121951</td><td>Comm&amp;Mgmt</td><td>0</td><td>0.56250000</td><td>Mkt&amp;Fin</td><td>0.002998501</td><td>0</td><td>0.08783784</td><td>1</td></tr>\n",
              "\t<tr><td>⋮</td><td>⋮</td><td>⋮</td><td>⋮</td><td>⋮</td><td>⋮</td><td>⋮</td><td>⋮</td><td>⋮</td><td>⋮</td><td>⋮</td><td>⋮</td><td>⋮</td><td>⋮</td><td>⋮</td><td>⋮</td></tr>\n",
              "\t<tr><td>187</td><td>F</td><td>C</td><td>Central</td><td>0.004064429</td><td>Central</td><td>Commerce</td><td>0.26829268</td><td>Comm&amp;Mgmt</td><td>0</td><td>0.1041667</td><td>Mkt&amp;Fin</td><td>0.43928036</td><td>0</td><td>0.087837838</td><td>0</td></tr>\n",
              "\t<tr><td>188</td><td>M</td><td>A</td><td>Central</td><td>0.004290230</td><td>Central</td><td>Science </td><td>0.41463415</td><td>Sci&amp;Tech </td><td>1</td><td>0.9375000</td><td>Mkt&amp;Fin</td><td>0.51161919</td><td>1</td><td>0.108108108</td><td>1</td></tr>\n",
              "\t<tr><td>189</td><td>M</td><td>B</td><td>Others </td><td>0.001505344</td><td>Others </td><td>Commerce</td><td>0.10682927</td><td>Comm&amp;Mgmt</td><td>0</td><td>0.1458333</td><td>Mkt&amp;Fin</td><td>0.18440780</td><td>0</td><td>0.087837838</td><td>1</td></tr>\n",
              "\t<tr><td>190</td><td>F</td><td>C</td><td>Central</td><td>0.006111697</td><td>Others </td><td>Commerce</td><td>0.46829268</td><td>Comm&amp;Mgmt</td><td>0</td><td>0.9510417</td><td>Mkt&amp;Fin</td><td>0.58958021</td><td>0</td><td>0.087837838</td><td>1</td></tr>\n",
              "\t<tr><td>191</td><td>F</td><td>B</td><td>Others </td><td>0.004997742</td><td>Central</td><td>Commerce</td><td>0.26829268</td><td>Comm&amp;Mgmt</td><td>0</td><td>0.0000000</td><td>Mkt&amp;Fin</td><td>0.42316342</td><td>0</td><td>0.087837838</td><td>1</td></tr>\n",
              "\t<tr><td>192</td><td>M</td><td>B</td><td>Others </td><td>0.003612826</td><td>Central</td><td>Science </td><td>0.53658537</td><td>Comm&amp;Mgmt</td><td>0</td><td>0.4583333</td><td>Mkt&amp;Fin</td><td>0.36731634</td><td>1</td><td>0.086486486</td><td>1</td></tr>\n",
              "\t<tr><td>193</td><td>M</td><td>B</td><td>Central</td><td>0.003673039</td><td>Central</td><td>Commerce</td><td>0.36097561</td><td>Comm&amp;Mgmt</td><td>1</td><td>0.9041667</td><td>Mkt&amp;Fin</td><td>0.22976012</td><td>1</td><td>0.094594595</td><td>1</td></tr>\n",
              "\t<tr><td>194</td><td>F</td><td>B</td><td>Central</td><td>0.003913894</td><td>Central</td><td><span style=white-space:pre-wrap>Arts    </span></td><td>0.14634146</td><td><span style=white-space:pre-wrap>Others   </span></td><td>1</td><td>0.6250000</td><td>Mkt&amp;HR </td><td>0.20314843</td><td>1</td><td>0.135135135</td><td>1</td></tr>\n",
              "\t<tr><td>195</td><td>M</td><td>C</td><td>Others </td><td>0.002709619</td><td>Others </td><td>Commerce</td><td>0.15365854</td><td>Comm&amp;Mgmt</td><td>0</td><td>0.1875000</td><td>Mkt&amp;Fin</td><td>0.50712144</td><td>0</td><td>0.087837838</td><td>1</td></tr>\n",
              "\t<tr><td>196</td><td>M</td><td>B</td><td>Central</td><td>0.005870841</td><td>Central</td><td>Commerce</td><td>0.53658537</td><td>Comm&amp;Mgmt</td><td>1</td><td>0.7083333</td><td>Mkt&amp;HR </td><td>0.29010495</td><td>1</td><td>0.101351351</td><td>1</td></tr>\n",
              "\t<tr><td>197</td><td>M</td><td>B</td><td>Others </td><td>0.003913894</td><td>Others </td><td>Science </td><td>0.67073171</td><td>Sci&amp;Tech </td><td>1</td><td>0.5833333</td><td>Mkt&amp;Fin</td><td>0.12256372</td><td>1</td><td>0.067567568</td><td>0</td></tr>\n",
              "\t<tr><td>198</td><td>F</td><td>A</td><td>Others </td><td>0.002408550</td><td>Others </td><td>Science </td><td>1.00000000</td><td>Sci&amp;Tech </td><td>0</td><td>0.1941667</td><td>Mkt&amp;HR </td><td>0.69340330</td><td>1</td><td>0.081081081</td><td>1</td></tr>\n",
              "\t<tr><td>199</td><td>F</td><td>B</td><td>Central</td><td>0.004967635</td><td>Central</td><td>Commerce</td><td>0.36585366</td><td><span style=white-space:pre-wrap>Others   </span></td><td>0</td><td>0.7916667</td><td>Mkt&amp;HR </td><td>0.77773613</td><td>0</td><td>0.087837838</td><td>1</td></tr>\n",
              "\t<tr><td>200</td><td>M</td><td>B</td><td>Others </td><td>0.004214963</td><td>Others </td><td>Commerce</td><td>0.17073171</td><td>Comm&amp;Mgmt</td><td>0</td><td>0.4791667</td><td>Mkt&amp;HR </td><td>0.17203898</td><td>1</td><td>0.087837838</td><td>1</td></tr>\n",
              "\t<tr><td>201</td><td>M</td><td>B</td><td>Others </td><td>0.003462291</td><td>Others </td><td>Commerce</td><td>0.36585366</td><td>Comm&amp;Mgmt</td><td>0</td><td>0.7822917</td><td>Mkt&amp;Fin</td><td>0.05997001</td><td>1</td><td>0.135135135</td><td>1</td></tr>\n",
              "\t<tr><td>202</td><td>M</td><td>C</td><td>Central</td><td>0.003913894</td><td>Others </td><td>Science </td><td>0.19512195</td><td>Comm&amp;Mgmt</td><td>0</td><td>0.6041667</td><td>Mkt&amp;HR </td><td>0.27098951</td><td>0</td><td>0.087837838</td><td>1</td></tr>\n",
              "\t<tr><td>203</td><td>M</td><td>B</td><td>Central</td><td>0.003913894</td><td>Central</td><td>Science </td><td>0.39024390</td><td>Sci&amp;Tech </td><td>0</td><td>0.2350000</td><td>Mkt&amp;HR </td><td>0.33358321</td><td>1</td><td>0.054054054</td><td>0</td></tr>\n",
              "\t<tr><td>204</td><td>M</td><td>C</td><td>Others </td><td>0.003662502</td><td>Others </td><td>Commerce</td><td>0.16756098</td><td>Comm&amp;Mgmt</td><td>0</td><td>0.3333333</td><td>Mkt&amp;HR </td><td>0.26574213</td><td>1</td><td>0.081081081</td><td>1</td></tr>\n",
              "\t<tr><td>205</td><td>F</td><td>B</td><td>Others </td><td>0.005419238</td><td>Others </td><td>Commerce</td><td>0.56097561</td><td>Comm&amp;Mgmt</td><td>1</td><td>0.6250000</td><td>Mkt&amp;Fin</td><td>0.61769115</td><td>1</td><td>0.013513514</td><td>0</td></tr>\n",
              "\t<tr><td>206</td><td>M</td><td>B</td><td>Others </td><td>0.003763360</td><td>Others </td><td>Commerce</td><td>0.36585366</td><td>Comm&amp;Mgmt</td><td>0</td><td>0.2500000</td><td>Mkt&amp;Fin</td><td>0.20989505</td><td>1</td><td>0.067567568</td><td>0</td></tr>\n",
              "\t<tr><td>207</td><td>M</td><td>C</td><td>Central</td><td>0.000752672</td><td>Central</td><td>Science </td><td>0.24390244</td><td>Comm&amp;Mgmt</td><td>0</td><td>0.9791667</td><td>Mkt&amp;Fin</td><td>0.08170915</td><td>0</td><td>0.087837838</td><td>0</td></tr>\n",
              "\t<tr><td>208</td><td>M</td><td>A</td><td>Central</td><td>0.006171910</td><td>Others </td><td>Commerce</td><td>0.26829268</td><td>Comm&amp;Mgmt</td><td>1</td><td>0.8033333</td><td>Mkt&amp;Fin</td><td>0.76236882</td><td>1</td><td>0.135135135</td><td>1</td></tr>\n",
              "\t<tr><td>209</td><td>F</td><td>C</td><td>Central</td><td>0.003462291</td><td>Others </td><td>Science </td><td>0.36585366</td><td>Comm&amp;Mgmt</td><td>0</td><td>0.8887500</td><td>Mkt&amp;HR </td><td>0.43890555</td><td>0</td><td>0.087837838</td><td>1</td></tr>\n",
              "\t<tr><td>210</td><td>M</td><td>B</td><td>Central</td><td>0.005268704</td><td>Central</td><td>Commerce</td><td>0.36585366</td><td>Comm&amp;Mgmt</td><td>0</td><td>0.3541667</td><td>Mkt&amp;Fin</td><td>0.19790105</td><td>1</td><td>0.021621622</td><td>0</td></tr>\n",
              "\t<tr><td>211</td><td>M</td><td>A</td><td>Others </td><td>0.006774048</td><td>Others </td><td>Commerce</td><td>0.67317073</td><td>Comm&amp;Mgmt</td><td>0</td><td>0.8541667</td><td>Mkt&amp;Fin</td><td>0.87256372</td><td>1</td><td>0.270270270</td><td>1</td></tr>\n",
              "\t<tr><td>212</td><td>M</td><td>C</td><td>Others </td><td>0.003462291</td><td>Others </td><td>Science </td><td>0.53658537</td><td>Sci&amp;Tech </td><td>0</td><td>0.5000000</td><td>Mkt&amp;Fin</td><td>0.09032984</td><td>1</td><td>0.101351351</td><td>1</td></tr>\n",
              "\t<tr><td>213</td><td>M</td><td>B</td><td>Others </td><td>0.004516032</td><td>Others </td><td>Commerce</td><td>0.56097561</td><td>Comm&amp;Mgmt</td><td>1</td><td>0.1875000</td><td>Mkt&amp;Fin</td><td>0.69377811</td><td>1</td><td>0.128378378</td><td>1</td></tr>\n",
              "\t<tr><td>214</td><td>F</td><td>B</td><td>Others </td><td>0.004365498</td><td>Others </td><td>Commerce</td><td>0.19512195</td><td>Comm&amp;Mgmt</td><td>0</td><td>0.4166667</td><td>Mkt&amp;HR </td><td>0.33808096</td><td>1</td><td>0.005405405</td><td>0</td></tr>\n",
              "\t<tr><td>215</td><td>M</td><td>B</td><td>Central</td><td>0.003161222</td><td>Others </td><td>Science </td><td>0.07317073</td><td>Comm&amp;Mgmt</td><td>0</td><td>0.8125000</td><td>Mkt&amp;HR </td><td>0.33770615</td><td>0</td><td>0.087837838</td><td>0</td></tr>\n",
              "\t<tr><td>216</td><td>M</td><td>B</td><td>Others </td><td>0.008128857</td><td>Others </td><td>Commerce</td><td>0.19512195</td><td>Sci&amp;Tech </td><td>0</td><td>0.1041667</td><td>Mkt&amp;HR </td><td>0.28448276</td><td>1</td><td>0.094594595</td><td>1</td></tr>\n",
              "</tbody>\n",
              "</table>\n"
            ],
            "text/markdown": "\nA data.frame: 216 × 16\n\n| sl_no &lt;int&gt; | gender &lt;chr&gt; | ssc_p &lt;fct&gt; | ssc_b &lt;chr&gt; | hsc_p &lt;dbl&gt; | hsc_b &lt;chr&gt; | hsc_s &lt;chr&gt; | degree_p &lt;dbl&gt; | degree_t &lt;chr&gt; | workex &lt;chr&gt; | etest_p &lt;dbl&gt; | specialisation &lt;chr&gt; | mba_p &lt;dbl&gt; | status &lt;dbl&gt; | salary &lt;dbl&gt; | class &lt;int&gt; |\n|---|---|---|---|---|---|---|---|---|---|---|---|---|---|---|---|\n|  1 | M | B | Others  | 0.008128857 | Others  | Commerce | 0.195121951 | Sci&amp;Tech  | 0 | 0.10416667 | Mkt&amp;HR  | 0.284482759 | 1 | 0.09459459 | 0 |\n|  2 | M | A | Central | 0.006221587 | Others  | Science  | 0.670243902 | Sci&amp;Tech  | 1 | 0.76041667 | Mkt&amp;Fin | 0.564842579 | 1 | 0.00000000 | 0 |\n|  3 | M | B | Central | 0.004666566 | Central | Arts     | 0.341463415 | Comm&amp;Mgmt | 0 | 0.52083333 | Mkt&amp;Fin | 0.247001499 | 1 | 0.06756757 | 0 |\n|  4 | M | C | Central | 0.002258016 | Central | Science  | 0.048780488 | Sci&amp;Tech  | 0 | 0.33333333 | Mkt&amp;HR  | 0.308095952 | 0 | 0.08783784 | 0 |\n|  5 | M | A | Central | 0.005509559 | Central | Commerce | 0.568292683 | Comm&amp;Mgmt | 0 | 0.97500000 | Mkt&amp;Fin | 0.160794603 | 1 | 0.30405405 | 1 |\n|  6 | M | C | Others  | 0.001926840 | Others  | Science  | 0.420731707 | Sci&amp;Tech  | 1 | 0.10416667 | Mkt&amp;Fin | 0.013868066 | 0 | 0.08783784 | 1 |\n|  7 | F | C | Others  | 0.001836520 | Others  | Commerce | 0.707317073 | Comm&amp;Mgmt | 0 | 0.50583333 | Mkt&amp;Fin | 0.077961019 | 0 | 0.08783784 | 1 |\n|  8 | M | A | Central | 0.004064429 | Central | Science  | 0.390243902 | Sci&amp;Tech  | 1 | 0.35416667 | Mkt&amp;Fin | 0.409670165 | 1 | 0.07027027 | 0 |\n|  9 | M | B | Central | 0.006322445 | Central | Commerce | 0.536585366 | Comm&amp;Mgmt | 0 | 0.86125000 | Mkt&amp;Fin | 0.377811094 | 1 | 0.04189189 | 0 |\n| 10 | M | C | Central | 0.004967635 | Central | Commerce | 0.268292683 | Comm&amp;Mgmt | 0 | 0.08333333 | Mkt&amp;Fin | 0.037481259 | 0 | 0.08783784 | 0 |\n| 11 | M | C | Central | 0.003612826 | Central | Commerce | 0.243902439 | Comm&amp;Mgmt | 1 | 0.25000000 | Mkt&amp;HR  | 0.361319340 | 1 | 0.08108108 | 0 |\n| 12 | M | B | Central | 0.004726780 | Central | Commerce | 0.690243902 | Comm&amp;Mgmt | 1 | 0.20833333 | Mkt&amp;Fin | 0.468140930 | 1 | 0.06756757 | 0 |\n| 13 | F | C | Central | 0.002709619 | Others  | Science  | 0.365853659 | Comm&amp;Mgmt | 0 | 0.25000000 | Mkt&amp;HR  | 0.518365817 | 0 | 0.08783784 | 0 |\n| 14 | F | A | Central | 0.007526720 | Central | Commerce | 0.219512195 | Comm&amp;Mgmt | 0 | 0.37500000 | Mkt&amp;Fin | 0.652923538 | 1 | 0.02432432 | 0 |\n| 15 | M | B | Central | 0.001505344 | Central | Commerce | 0.000000000 | Comm&amp;Mgmt | 0 | 0.54166667 | Mkt&amp;HR  | 0.140554723 | 0 | 0.08783784 | 0 |\n| 16 | F | B | Central | 0.005720307 | Central | Commerce | 0.463414634 | Comm&amp;Mgmt | 1 | 0.45833333 | Mkt&amp;Fin | 0.504122939 | 1 | 0.00000000 | 0 |\n| 17 | M | B | Central | 0.004395604 | Central | Commerce | 0.380487805 | Comm&amp;Mgmt | 1 | 0.20833333 | Mkt&amp;Fin | 0.424662669 | 1 | 0.13513514 | 1 |\n| 18 | F | C | Central | 0.004516032 | Central | Commerce | 0.341463415 | Comm&amp;Mgmt | 0 | 0.20833333 | Mkt&amp;Fin | 0.602323838 | 0 | 0.08783784 | 1 |\n| 19 | F | B | Central | 0.004365498 | Central | Commerce | 0.341463415 | Comm&amp;Mgmt | 0 | 0.37500000 | Mkt&amp;HR  | 0.482383808 | 0 | 0.08783784 | 1 |\n| 20 | M | B | Others  | 0.004516032 | Others  | Arts     | 0.487804878 | Comm&amp;Mgmt | 1 | 0.01000000 | Mkt&amp;Fin | 1.000000000 | 1 | 0.04864865 | 0 |\n| 21 | M | B | Others  | 0.004214963 | Others  | Commerce | 0.390243902 | Comm&amp;Mgmt | 0 | 0.00000000 | Mkt&amp;HR  | 0.205772114 | 1 | 0.08783784 | 1 |\n| 22 | F | A | Others  | 0.005870841 | Others  | Commerce | 0.853658537 | Comm&amp;Mgmt | 0 | 0.93750000 | Mkt&amp;Fin | 0.669040480 | 1 | 0.26081081 | 1 |\n| 23 | F | B | Others  | 0.003582719 | Others  | Science  | 0.542195122 | Sci&amp;Tech  | 0 | 0.11520833 | Mkt&amp;HR  | 0.659670165 | 1 | 0.21621622 | 1 |\n| 24 | F | A | Others  | 0.003462291 | Others  | Science  | 0.359512195 | Sci&amp;Tech  | 1 | 0.87500000 | Mkt&amp;Fin | 0.465142429 | 1 | 0.13513514 | 1 |\n| 25 | M | A | Others  | 0.009137438 | Others  | Science  | 0.703902439 | Sci&amp;Tech  | 0 | 0.98750000 | Mkt&amp;Fin | 0.854572714 | 1 | 0.21621622 | 1 |\n| 26 | F | C | Others  | 0.002649405 | Central | Commerce | 0.004878049 | Comm&amp;Mgmt | 1 | 0.54166667 | Mkt&amp;Fin | 0.529235382 | 0 | 0.08783784 | 1 |\n| 27 | M | B | Others  | 0.006322445 | Others  | Commerce | 0.390243902 | Comm&amp;Mgmt | 1 | 0.91666667 | Mkt&amp;Fin | 0.237631184 | 1 | 0.05405405 | 0 |\n| 28 | M | B | Others  | 0.004516032 | Others  | Commerce | 0.390243902 | Comm&amp;Mgmt | 0 | 0.37500000 | Mkt&amp;HR  | 0.242878561 | 1 | 0.08783784 | 1 |\n| 29 | M | A | Others  | 0.005946109 | Others  | Commerce | 0.426829268 | Comm&amp;Mgmt | 1 | 0.48645833 | Mkt&amp;Fin | 0.485007496 | 1 | 0.20270270 | 1 |\n| 30 | M | B | Central | 0.004516032 | Central | Commerce | 0.195121951 | Comm&amp;Mgmt | 0 | 0.56250000 | Mkt&amp;Fin | 0.002998501 | 0 | 0.08783784 | 1 |\n| ⋮ | ⋮ | ⋮ | ⋮ | ⋮ | ⋮ | ⋮ | ⋮ | ⋮ | ⋮ | ⋮ | ⋮ | ⋮ | ⋮ | ⋮ | ⋮ |\n| 187 | F | C | Central | 0.004064429 | Central | Commerce | 0.26829268 | Comm&amp;Mgmt | 0 | 0.1041667 | Mkt&amp;Fin | 0.43928036 | 0 | 0.087837838 | 0 |\n| 188 | M | A | Central | 0.004290230 | Central | Science  | 0.41463415 | Sci&amp;Tech  | 1 | 0.9375000 | Mkt&amp;Fin | 0.51161919 | 1 | 0.108108108 | 1 |\n| 189 | M | B | Others  | 0.001505344 | Others  | Commerce | 0.10682927 | Comm&amp;Mgmt | 0 | 0.1458333 | Mkt&amp;Fin | 0.18440780 | 0 | 0.087837838 | 1 |\n| 190 | F | C | Central | 0.006111697 | Others  | Commerce | 0.46829268 | Comm&amp;Mgmt | 0 | 0.9510417 | Mkt&amp;Fin | 0.58958021 | 0 | 0.087837838 | 1 |\n| 191 | F | B | Others  | 0.004997742 | Central | Commerce | 0.26829268 | Comm&amp;Mgmt | 0 | 0.0000000 | Mkt&amp;Fin | 0.42316342 | 0 | 0.087837838 | 1 |\n| 192 | M | B | Others  | 0.003612826 | Central | Science  | 0.53658537 | Comm&amp;Mgmt | 0 | 0.4583333 | Mkt&amp;Fin | 0.36731634 | 1 | 0.086486486 | 1 |\n| 193 | M | B | Central | 0.003673039 | Central | Commerce | 0.36097561 | Comm&amp;Mgmt | 1 | 0.9041667 | Mkt&amp;Fin | 0.22976012 | 1 | 0.094594595 | 1 |\n| 194 | F | B | Central | 0.003913894 | Central | Arts     | 0.14634146 | Others    | 1 | 0.6250000 | Mkt&amp;HR  | 0.20314843 | 1 | 0.135135135 | 1 |\n| 195 | M | C | Others  | 0.002709619 | Others  | Commerce | 0.15365854 | Comm&amp;Mgmt | 0 | 0.1875000 | Mkt&amp;Fin | 0.50712144 | 0 | 0.087837838 | 1 |\n| 196 | M | B | Central | 0.005870841 | Central | Commerce | 0.53658537 | Comm&amp;Mgmt | 1 | 0.7083333 | Mkt&amp;HR  | 0.29010495 | 1 | 0.101351351 | 1 |\n| 197 | M | B | Others  | 0.003913894 | Others  | Science  | 0.67073171 | Sci&amp;Tech  | 1 | 0.5833333 | Mkt&amp;Fin | 0.12256372 | 1 | 0.067567568 | 0 |\n| 198 | F | A | Others  | 0.002408550 | Others  | Science  | 1.00000000 | Sci&amp;Tech  | 0 | 0.1941667 | Mkt&amp;HR  | 0.69340330 | 1 | 0.081081081 | 1 |\n| 199 | F | B | Central | 0.004967635 | Central | Commerce | 0.36585366 | Others    | 0 | 0.7916667 | Mkt&amp;HR  | 0.77773613 | 0 | 0.087837838 | 1 |\n| 200 | M | B | Others  | 0.004214963 | Others  | Commerce | 0.17073171 | Comm&amp;Mgmt | 0 | 0.4791667 | Mkt&amp;HR  | 0.17203898 | 1 | 0.087837838 | 1 |\n| 201 | M | B | Others  | 0.003462291 | Others  | Commerce | 0.36585366 | Comm&amp;Mgmt | 0 | 0.7822917 | Mkt&amp;Fin | 0.05997001 | 1 | 0.135135135 | 1 |\n| 202 | M | C | Central | 0.003913894 | Others  | Science  | 0.19512195 | Comm&amp;Mgmt | 0 | 0.6041667 | Mkt&amp;HR  | 0.27098951 | 0 | 0.087837838 | 1 |\n| 203 | M | B | Central | 0.003913894 | Central | Science  | 0.39024390 | Sci&amp;Tech  | 0 | 0.2350000 | Mkt&amp;HR  | 0.33358321 | 1 | 0.054054054 | 0 |\n| 204 | M | C | Others  | 0.003662502 | Others  | Commerce | 0.16756098 | Comm&amp;Mgmt | 0 | 0.3333333 | Mkt&amp;HR  | 0.26574213 | 1 | 0.081081081 | 1 |\n| 205 | F | B | Others  | 0.005419238 | Others  | Commerce | 0.56097561 | Comm&amp;Mgmt | 1 | 0.6250000 | Mkt&amp;Fin | 0.61769115 | 1 | 0.013513514 | 0 |\n| 206 | M | B | Others  | 0.003763360 | Others  | Commerce | 0.36585366 | Comm&amp;Mgmt | 0 | 0.2500000 | Mkt&amp;Fin | 0.20989505 | 1 | 0.067567568 | 0 |\n| 207 | M | C | Central | 0.000752672 | Central | Science  | 0.24390244 | Comm&amp;Mgmt | 0 | 0.9791667 | Mkt&amp;Fin | 0.08170915 | 0 | 0.087837838 | 0 |\n| 208 | M | A | Central | 0.006171910 | Others  | Commerce | 0.26829268 | Comm&amp;Mgmt | 1 | 0.8033333 | Mkt&amp;Fin | 0.76236882 | 1 | 0.135135135 | 1 |\n| 209 | F | C | Central | 0.003462291 | Others  | Science  | 0.36585366 | Comm&amp;Mgmt | 0 | 0.8887500 | Mkt&amp;HR  | 0.43890555 | 0 | 0.087837838 | 1 |\n| 210 | M | B | Central | 0.005268704 | Central | Commerce | 0.36585366 | Comm&amp;Mgmt | 0 | 0.3541667 | Mkt&amp;Fin | 0.19790105 | 1 | 0.021621622 | 0 |\n| 211 | M | A | Others  | 0.006774048 | Others  | Commerce | 0.67317073 | Comm&amp;Mgmt | 0 | 0.8541667 | Mkt&amp;Fin | 0.87256372 | 1 | 0.270270270 | 1 |\n| 212 | M | C | Others  | 0.003462291 | Others  | Science  | 0.53658537 | Sci&amp;Tech  | 0 | 0.5000000 | Mkt&amp;Fin | 0.09032984 | 1 | 0.101351351 | 1 |\n| 213 | M | B | Others  | 0.004516032 | Others  | Commerce | 0.56097561 | Comm&amp;Mgmt | 1 | 0.1875000 | Mkt&amp;Fin | 0.69377811 | 1 | 0.128378378 | 1 |\n| 214 | F | B | Others  | 0.004365498 | Others  | Commerce | 0.19512195 | Comm&amp;Mgmt | 0 | 0.4166667 | Mkt&amp;HR  | 0.33808096 | 1 | 0.005405405 | 0 |\n| 215 | M | B | Central | 0.003161222 | Others  | Science  | 0.07317073 | Comm&amp;Mgmt | 0 | 0.8125000 | Mkt&amp;HR  | 0.33770615 | 0 | 0.087837838 | 0 |\n| 216 | M | B | Others  | 0.008128857 | Others  | Commerce | 0.19512195 | Sci&amp;Tech  | 0 | 0.1041667 | Mkt&amp;HR  | 0.28448276 | 1 | 0.094594595 | 1 |\n\n",
            "text/latex": "A data.frame: 216 × 16\n\\begin{tabular}{llllllllllllllll}\n sl\\_no & gender & ssc\\_p & ssc\\_b & hsc\\_p & hsc\\_b & hsc\\_s & degree\\_p & degree\\_t & workex & etest\\_p & specialisation & mba\\_p & status & salary & class\\\\\n <int> & <chr> & <fct> & <chr> & <dbl> & <chr> & <chr> & <dbl> & <chr> & <chr> & <dbl> & <chr> & <dbl> & <dbl> & <dbl> & <int>\\\\\n\\hline\n\t  1 & M & B & Others  & 0.008128857 & Others  & Commerce & 0.195121951 & Sci\\&Tech  & 0 & 0.10416667 & Mkt\\&HR  & 0.284482759 & 1 & 0.09459459 & 0\\\\\n\t  2 & M & A & Central & 0.006221587 & Others  & Science  & 0.670243902 & Sci\\&Tech  & 1 & 0.76041667 & Mkt\\&Fin & 0.564842579 & 1 & 0.00000000 & 0\\\\\n\t  3 & M & B & Central & 0.004666566 & Central & Arts     & 0.341463415 & Comm\\&Mgmt & 0 & 0.52083333 & Mkt\\&Fin & 0.247001499 & 1 & 0.06756757 & 0\\\\\n\t  4 & M & C & Central & 0.002258016 & Central & Science  & 0.048780488 & Sci\\&Tech  & 0 & 0.33333333 & Mkt\\&HR  & 0.308095952 & 0 & 0.08783784 & 0\\\\\n\t  5 & M & A & Central & 0.005509559 & Central & Commerce & 0.568292683 & Comm\\&Mgmt & 0 & 0.97500000 & Mkt\\&Fin & 0.160794603 & 1 & 0.30405405 & 1\\\\\n\t  6 & M & C & Others  & 0.001926840 & Others  & Science  & 0.420731707 & Sci\\&Tech  & 1 & 0.10416667 & Mkt\\&Fin & 0.013868066 & 0 & 0.08783784 & 1\\\\\n\t  7 & F & C & Others  & 0.001836520 & Others  & Commerce & 0.707317073 & Comm\\&Mgmt & 0 & 0.50583333 & Mkt\\&Fin & 0.077961019 & 0 & 0.08783784 & 1\\\\\n\t  8 & M & A & Central & 0.004064429 & Central & Science  & 0.390243902 & Sci\\&Tech  & 1 & 0.35416667 & Mkt\\&Fin & 0.409670165 & 1 & 0.07027027 & 0\\\\\n\t  9 & M & B & Central & 0.006322445 & Central & Commerce & 0.536585366 & Comm\\&Mgmt & 0 & 0.86125000 & Mkt\\&Fin & 0.377811094 & 1 & 0.04189189 & 0\\\\\n\t 10 & M & C & Central & 0.004967635 & Central & Commerce & 0.268292683 & Comm\\&Mgmt & 0 & 0.08333333 & Mkt\\&Fin & 0.037481259 & 0 & 0.08783784 & 0\\\\\n\t 11 & M & C & Central & 0.003612826 & Central & Commerce & 0.243902439 & Comm\\&Mgmt & 1 & 0.25000000 & Mkt\\&HR  & 0.361319340 & 1 & 0.08108108 & 0\\\\\n\t 12 & M & B & Central & 0.004726780 & Central & Commerce & 0.690243902 & Comm\\&Mgmt & 1 & 0.20833333 & Mkt\\&Fin & 0.468140930 & 1 & 0.06756757 & 0\\\\\n\t 13 & F & C & Central & 0.002709619 & Others  & Science  & 0.365853659 & Comm\\&Mgmt & 0 & 0.25000000 & Mkt\\&HR  & 0.518365817 & 0 & 0.08783784 & 0\\\\\n\t 14 & F & A & Central & 0.007526720 & Central & Commerce & 0.219512195 & Comm\\&Mgmt & 0 & 0.37500000 & Mkt\\&Fin & 0.652923538 & 1 & 0.02432432 & 0\\\\\n\t 15 & M & B & Central & 0.001505344 & Central & Commerce & 0.000000000 & Comm\\&Mgmt & 0 & 0.54166667 & Mkt\\&HR  & 0.140554723 & 0 & 0.08783784 & 0\\\\\n\t 16 & F & B & Central & 0.005720307 & Central & Commerce & 0.463414634 & Comm\\&Mgmt & 1 & 0.45833333 & Mkt\\&Fin & 0.504122939 & 1 & 0.00000000 & 0\\\\\n\t 17 & M & B & Central & 0.004395604 & Central & Commerce & 0.380487805 & Comm\\&Mgmt & 1 & 0.20833333 & Mkt\\&Fin & 0.424662669 & 1 & 0.13513514 & 1\\\\\n\t 18 & F & C & Central & 0.004516032 & Central & Commerce & 0.341463415 & Comm\\&Mgmt & 0 & 0.20833333 & Mkt\\&Fin & 0.602323838 & 0 & 0.08783784 & 1\\\\\n\t 19 & F & B & Central & 0.004365498 & Central & Commerce & 0.341463415 & Comm\\&Mgmt & 0 & 0.37500000 & Mkt\\&HR  & 0.482383808 & 0 & 0.08783784 & 1\\\\\n\t 20 & M & B & Others  & 0.004516032 & Others  & Arts     & 0.487804878 & Comm\\&Mgmt & 1 & 0.01000000 & Mkt\\&Fin & 1.000000000 & 1 & 0.04864865 & 0\\\\\n\t 21 & M & B & Others  & 0.004214963 & Others  & Commerce & 0.390243902 & Comm\\&Mgmt & 0 & 0.00000000 & Mkt\\&HR  & 0.205772114 & 1 & 0.08783784 & 1\\\\\n\t 22 & F & A & Others  & 0.005870841 & Others  & Commerce & 0.853658537 & Comm\\&Mgmt & 0 & 0.93750000 & Mkt\\&Fin & 0.669040480 & 1 & 0.26081081 & 1\\\\\n\t 23 & F & B & Others  & 0.003582719 & Others  & Science  & 0.542195122 & Sci\\&Tech  & 0 & 0.11520833 & Mkt\\&HR  & 0.659670165 & 1 & 0.21621622 & 1\\\\\n\t 24 & F & A & Others  & 0.003462291 & Others  & Science  & 0.359512195 & Sci\\&Tech  & 1 & 0.87500000 & Mkt\\&Fin & 0.465142429 & 1 & 0.13513514 & 1\\\\\n\t 25 & M & A & Others  & 0.009137438 & Others  & Science  & 0.703902439 & Sci\\&Tech  & 0 & 0.98750000 & Mkt\\&Fin & 0.854572714 & 1 & 0.21621622 & 1\\\\\n\t 26 & F & C & Others  & 0.002649405 & Central & Commerce & 0.004878049 & Comm\\&Mgmt & 1 & 0.54166667 & Mkt\\&Fin & 0.529235382 & 0 & 0.08783784 & 1\\\\\n\t 27 & M & B & Others  & 0.006322445 & Others  & Commerce & 0.390243902 & Comm\\&Mgmt & 1 & 0.91666667 & Mkt\\&Fin & 0.237631184 & 1 & 0.05405405 & 0\\\\\n\t 28 & M & B & Others  & 0.004516032 & Others  & Commerce & 0.390243902 & Comm\\&Mgmt & 0 & 0.37500000 & Mkt\\&HR  & 0.242878561 & 1 & 0.08783784 & 1\\\\\n\t 29 & M & A & Others  & 0.005946109 & Others  & Commerce & 0.426829268 & Comm\\&Mgmt & 1 & 0.48645833 & Mkt\\&Fin & 0.485007496 & 1 & 0.20270270 & 1\\\\\n\t 30 & M & B & Central & 0.004516032 & Central & Commerce & 0.195121951 & Comm\\&Mgmt & 0 & 0.56250000 & Mkt\\&Fin & 0.002998501 & 0 & 0.08783784 & 1\\\\\n\t ⋮ & ⋮ & ⋮ & ⋮ & ⋮ & ⋮ & ⋮ & ⋮ & ⋮ & ⋮ & ⋮ & ⋮ & ⋮ & ⋮ & ⋮ & ⋮\\\\\n\t 187 & F & C & Central & 0.004064429 & Central & Commerce & 0.26829268 & Comm\\&Mgmt & 0 & 0.1041667 & Mkt\\&Fin & 0.43928036 & 0 & 0.087837838 & 0\\\\\n\t 188 & M & A & Central & 0.004290230 & Central & Science  & 0.41463415 & Sci\\&Tech  & 1 & 0.9375000 & Mkt\\&Fin & 0.51161919 & 1 & 0.108108108 & 1\\\\\n\t 189 & M & B & Others  & 0.001505344 & Others  & Commerce & 0.10682927 & Comm\\&Mgmt & 0 & 0.1458333 & Mkt\\&Fin & 0.18440780 & 0 & 0.087837838 & 1\\\\\n\t 190 & F & C & Central & 0.006111697 & Others  & Commerce & 0.46829268 & Comm\\&Mgmt & 0 & 0.9510417 & Mkt\\&Fin & 0.58958021 & 0 & 0.087837838 & 1\\\\\n\t 191 & F & B & Others  & 0.004997742 & Central & Commerce & 0.26829268 & Comm\\&Mgmt & 0 & 0.0000000 & Mkt\\&Fin & 0.42316342 & 0 & 0.087837838 & 1\\\\\n\t 192 & M & B & Others  & 0.003612826 & Central & Science  & 0.53658537 & Comm\\&Mgmt & 0 & 0.4583333 & Mkt\\&Fin & 0.36731634 & 1 & 0.086486486 & 1\\\\\n\t 193 & M & B & Central & 0.003673039 & Central & Commerce & 0.36097561 & Comm\\&Mgmt & 1 & 0.9041667 & Mkt\\&Fin & 0.22976012 & 1 & 0.094594595 & 1\\\\\n\t 194 & F & B & Central & 0.003913894 & Central & Arts     & 0.14634146 & Others    & 1 & 0.6250000 & Mkt\\&HR  & 0.20314843 & 1 & 0.135135135 & 1\\\\\n\t 195 & M & C & Others  & 0.002709619 & Others  & Commerce & 0.15365854 & Comm\\&Mgmt & 0 & 0.1875000 & Mkt\\&Fin & 0.50712144 & 0 & 0.087837838 & 1\\\\\n\t 196 & M & B & Central & 0.005870841 & Central & Commerce & 0.53658537 & Comm\\&Mgmt & 1 & 0.7083333 & Mkt\\&HR  & 0.29010495 & 1 & 0.101351351 & 1\\\\\n\t 197 & M & B & Others  & 0.003913894 & Others  & Science  & 0.67073171 & Sci\\&Tech  & 1 & 0.5833333 & Mkt\\&Fin & 0.12256372 & 1 & 0.067567568 & 0\\\\\n\t 198 & F & A & Others  & 0.002408550 & Others  & Science  & 1.00000000 & Sci\\&Tech  & 0 & 0.1941667 & Mkt\\&HR  & 0.69340330 & 1 & 0.081081081 & 1\\\\\n\t 199 & F & B & Central & 0.004967635 & Central & Commerce & 0.36585366 & Others    & 0 & 0.7916667 & Mkt\\&HR  & 0.77773613 & 0 & 0.087837838 & 1\\\\\n\t 200 & M & B & Others  & 0.004214963 & Others  & Commerce & 0.17073171 & Comm\\&Mgmt & 0 & 0.4791667 & Mkt\\&HR  & 0.17203898 & 1 & 0.087837838 & 1\\\\\n\t 201 & M & B & Others  & 0.003462291 & Others  & Commerce & 0.36585366 & Comm\\&Mgmt & 0 & 0.7822917 & Mkt\\&Fin & 0.05997001 & 1 & 0.135135135 & 1\\\\\n\t 202 & M & C & Central & 0.003913894 & Others  & Science  & 0.19512195 & Comm\\&Mgmt & 0 & 0.6041667 & Mkt\\&HR  & 0.27098951 & 0 & 0.087837838 & 1\\\\\n\t 203 & M & B & Central & 0.003913894 & Central & Science  & 0.39024390 & Sci\\&Tech  & 0 & 0.2350000 & Mkt\\&HR  & 0.33358321 & 1 & 0.054054054 & 0\\\\\n\t 204 & M & C & Others  & 0.003662502 & Others  & Commerce & 0.16756098 & Comm\\&Mgmt & 0 & 0.3333333 & Mkt\\&HR  & 0.26574213 & 1 & 0.081081081 & 1\\\\\n\t 205 & F & B & Others  & 0.005419238 & Others  & Commerce & 0.56097561 & Comm\\&Mgmt & 1 & 0.6250000 & Mkt\\&Fin & 0.61769115 & 1 & 0.013513514 & 0\\\\\n\t 206 & M & B & Others  & 0.003763360 & Others  & Commerce & 0.36585366 & Comm\\&Mgmt & 0 & 0.2500000 & Mkt\\&Fin & 0.20989505 & 1 & 0.067567568 & 0\\\\\n\t 207 & M & C & Central & 0.000752672 & Central & Science  & 0.24390244 & Comm\\&Mgmt & 0 & 0.9791667 & Mkt\\&Fin & 0.08170915 & 0 & 0.087837838 & 0\\\\\n\t 208 & M & A & Central & 0.006171910 & Others  & Commerce & 0.26829268 & Comm\\&Mgmt & 1 & 0.8033333 & Mkt\\&Fin & 0.76236882 & 1 & 0.135135135 & 1\\\\\n\t 209 & F & C & Central & 0.003462291 & Others  & Science  & 0.36585366 & Comm\\&Mgmt & 0 & 0.8887500 & Mkt\\&HR  & 0.43890555 & 0 & 0.087837838 & 1\\\\\n\t 210 & M & B & Central & 0.005268704 & Central & Commerce & 0.36585366 & Comm\\&Mgmt & 0 & 0.3541667 & Mkt\\&Fin & 0.19790105 & 1 & 0.021621622 & 0\\\\\n\t 211 & M & A & Others  & 0.006774048 & Others  & Commerce & 0.67317073 & Comm\\&Mgmt & 0 & 0.8541667 & Mkt\\&Fin & 0.87256372 & 1 & 0.270270270 & 1\\\\\n\t 212 & M & C & Others  & 0.003462291 & Others  & Science  & 0.53658537 & Sci\\&Tech  & 0 & 0.5000000 & Mkt\\&Fin & 0.09032984 & 1 & 0.101351351 & 1\\\\\n\t 213 & M & B & Others  & 0.004516032 & Others  & Commerce & 0.56097561 & Comm\\&Mgmt & 1 & 0.1875000 & Mkt\\&Fin & 0.69377811 & 1 & 0.128378378 & 1\\\\\n\t 214 & F & B & Others  & 0.004365498 & Others  & Commerce & 0.19512195 & Comm\\&Mgmt & 0 & 0.4166667 & Mkt\\&HR  & 0.33808096 & 1 & 0.005405405 & 0\\\\\n\t 215 & M & B & Central & 0.003161222 & Others  & Science  & 0.07317073 & Comm\\&Mgmt & 0 & 0.8125000 & Mkt\\&HR  & 0.33770615 & 0 & 0.087837838 & 0\\\\\n\t 216 & M & B & Others  & 0.008128857 & Others  & Commerce & 0.19512195 & Sci\\&Tech  & 0 & 0.1041667 & Mkt\\&HR  & 0.28448276 & 1 & 0.094594595 & 1\\\\\n\\end{tabular}\n",
            "text/plain": [
              "    sl_no gender ssc_p ssc_b   hsc_p       hsc_b   hsc_s    degree_p   \n",
              "1    1    M      B     Others  0.008128857 Others  Commerce 0.195121951\n",
              "2    2    M      A     Central 0.006221587 Others  Science  0.670243902\n",
              "3    3    M      B     Central 0.004666566 Central Arts     0.341463415\n",
              "4    4    M      C     Central 0.002258016 Central Science  0.048780488\n",
              "5    5    M      A     Central 0.005509559 Central Commerce 0.568292683\n",
              "6    6    M      C     Others  0.001926840 Others  Science  0.420731707\n",
              "7    7    F      C     Others  0.001836520 Others  Commerce 0.707317073\n",
              "8    8    M      A     Central 0.004064429 Central Science  0.390243902\n",
              "9    9    M      B     Central 0.006322445 Central Commerce 0.536585366\n",
              "10  10    M      C     Central 0.004967635 Central Commerce 0.268292683\n",
              "11  11    M      C     Central 0.003612826 Central Commerce 0.243902439\n",
              "12  12    M      B     Central 0.004726780 Central Commerce 0.690243902\n",
              "13  13    F      C     Central 0.002709619 Others  Science  0.365853659\n",
              "14  14    F      A     Central 0.007526720 Central Commerce 0.219512195\n",
              "15  15    M      B     Central 0.001505344 Central Commerce 0.000000000\n",
              "16  16    F      B     Central 0.005720307 Central Commerce 0.463414634\n",
              "17  17    M      B     Central 0.004395604 Central Commerce 0.380487805\n",
              "18  18    F      C     Central 0.004516032 Central Commerce 0.341463415\n",
              "19  19    F      B     Central 0.004365498 Central Commerce 0.341463415\n",
              "20  20    M      B     Others  0.004516032 Others  Arts     0.487804878\n",
              "21  21    M      B     Others  0.004214963 Others  Commerce 0.390243902\n",
              "22  22    F      A     Others  0.005870841 Others  Commerce 0.853658537\n",
              "23  23    F      B     Others  0.003582719 Others  Science  0.542195122\n",
              "24  24    F      A     Others  0.003462291 Others  Science  0.359512195\n",
              "25  25    M      A     Others  0.009137438 Others  Science  0.703902439\n",
              "26  26    F      C     Others  0.002649405 Central Commerce 0.004878049\n",
              "27  27    M      B     Others  0.006322445 Others  Commerce 0.390243902\n",
              "28  28    M      B     Others  0.004516032 Others  Commerce 0.390243902\n",
              "29  29    M      A     Others  0.005946109 Others  Commerce 0.426829268\n",
              "30  30    M      B     Central 0.004516032 Central Commerce 0.195121951\n",
              "⋮   ⋮     ⋮      ⋮     ⋮       ⋮           ⋮       ⋮        ⋮          \n",
              "187 187   F      C     Central 0.004064429 Central Commerce 0.26829268 \n",
              "188 188   M      A     Central 0.004290230 Central Science  0.41463415 \n",
              "189 189   M      B     Others  0.001505344 Others  Commerce 0.10682927 \n",
              "190 190   F      C     Central 0.006111697 Others  Commerce 0.46829268 \n",
              "191 191   F      B     Others  0.004997742 Central Commerce 0.26829268 \n",
              "192 192   M      B     Others  0.003612826 Central Science  0.53658537 \n",
              "193 193   M      B     Central 0.003673039 Central Commerce 0.36097561 \n",
              "194 194   F      B     Central 0.003913894 Central Arts     0.14634146 \n",
              "195 195   M      C     Others  0.002709619 Others  Commerce 0.15365854 \n",
              "196 196   M      B     Central 0.005870841 Central Commerce 0.53658537 \n",
              "197 197   M      B     Others  0.003913894 Others  Science  0.67073171 \n",
              "198 198   F      A     Others  0.002408550 Others  Science  1.00000000 \n",
              "199 199   F      B     Central 0.004967635 Central Commerce 0.36585366 \n",
              "200 200   M      B     Others  0.004214963 Others  Commerce 0.17073171 \n",
              "201 201   M      B     Others  0.003462291 Others  Commerce 0.36585366 \n",
              "202 202   M      C     Central 0.003913894 Others  Science  0.19512195 \n",
              "203 203   M      B     Central 0.003913894 Central Science  0.39024390 \n",
              "204 204   M      C     Others  0.003662502 Others  Commerce 0.16756098 \n",
              "205 205   F      B     Others  0.005419238 Others  Commerce 0.56097561 \n",
              "206 206   M      B     Others  0.003763360 Others  Commerce 0.36585366 \n",
              "207 207   M      C     Central 0.000752672 Central Science  0.24390244 \n",
              "208 208   M      A     Central 0.006171910 Others  Commerce 0.26829268 \n",
              "209 209   F      C     Central 0.003462291 Others  Science  0.36585366 \n",
              "210 210   M      B     Central 0.005268704 Central Commerce 0.36585366 \n",
              "211 211   M      A     Others  0.006774048 Others  Commerce 0.67317073 \n",
              "212 212   M      C     Others  0.003462291 Others  Science  0.53658537 \n",
              "213 213   M      B     Others  0.004516032 Others  Commerce 0.56097561 \n",
              "214 214   F      B     Others  0.004365498 Others  Commerce 0.19512195 \n",
              "215 215   M      B     Central 0.003161222 Others  Science  0.07317073 \n",
              "216 216   M      B     Others  0.008128857 Others  Commerce 0.19512195 \n",
              "    degree_t  workex etest_p    specialisation mba_p       status salary     \n",
              "1   Sci&Tech  0      0.10416667 Mkt&HR         0.284482759 1      0.09459459 \n",
              "2   Sci&Tech  1      0.76041667 Mkt&Fin        0.564842579 1      0.00000000 \n",
              "3   Comm&Mgmt 0      0.52083333 Mkt&Fin        0.247001499 1      0.06756757 \n",
              "4   Sci&Tech  0      0.33333333 Mkt&HR         0.308095952 0      0.08783784 \n",
              "5   Comm&Mgmt 0      0.97500000 Mkt&Fin        0.160794603 1      0.30405405 \n",
              "6   Sci&Tech  1      0.10416667 Mkt&Fin        0.013868066 0      0.08783784 \n",
              "7   Comm&Mgmt 0      0.50583333 Mkt&Fin        0.077961019 0      0.08783784 \n",
              "8   Sci&Tech  1      0.35416667 Mkt&Fin        0.409670165 1      0.07027027 \n",
              "9   Comm&Mgmt 0      0.86125000 Mkt&Fin        0.377811094 1      0.04189189 \n",
              "10  Comm&Mgmt 0      0.08333333 Mkt&Fin        0.037481259 0      0.08783784 \n",
              "11  Comm&Mgmt 1      0.25000000 Mkt&HR         0.361319340 1      0.08108108 \n",
              "12  Comm&Mgmt 1      0.20833333 Mkt&Fin        0.468140930 1      0.06756757 \n",
              "13  Comm&Mgmt 0      0.25000000 Mkt&HR         0.518365817 0      0.08783784 \n",
              "14  Comm&Mgmt 0      0.37500000 Mkt&Fin        0.652923538 1      0.02432432 \n",
              "15  Comm&Mgmt 0      0.54166667 Mkt&HR         0.140554723 0      0.08783784 \n",
              "16  Comm&Mgmt 1      0.45833333 Mkt&Fin        0.504122939 1      0.00000000 \n",
              "17  Comm&Mgmt 1      0.20833333 Mkt&Fin        0.424662669 1      0.13513514 \n",
              "18  Comm&Mgmt 0      0.20833333 Mkt&Fin        0.602323838 0      0.08783784 \n",
              "19  Comm&Mgmt 0      0.37500000 Mkt&HR         0.482383808 0      0.08783784 \n",
              "20  Comm&Mgmt 1      0.01000000 Mkt&Fin        1.000000000 1      0.04864865 \n",
              "21  Comm&Mgmt 0      0.00000000 Mkt&HR         0.205772114 1      0.08783784 \n",
              "22  Comm&Mgmt 0      0.93750000 Mkt&Fin        0.669040480 1      0.26081081 \n",
              "23  Sci&Tech  0      0.11520833 Mkt&HR         0.659670165 1      0.21621622 \n",
              "24  Sci&Tech  1      0.87500000 Mkt&Fin        0.465142429 1      0.13513514 \n",
              "25  Sci&Tech  0      0.98750000 Mkt&Fin        0.854572714 1      0.21621622 \n",
              "26  Comm&Mgmt 1      0.54166667 Mkt&Fin        0.529235382 0      0.08783784 \n",
              "27  Comm&Mgmt 1      0.91666667 Mkt&Fin        0.237631184 1      0.05405405 \n",
              "28  Comm&Mgmt 0      0.37500000 Mkt&HR         0.242878561 1      0.08783784 \n",
              "29  Comm&Mgmt 1      0.48645833 Mkt&Fin        0.485007496 1      0.20270270 \n",
              "30  Comm&Mgmt 0      0.56250000 Mkt&Fin        0.002998501 0      0.08783784 \n",
              "⋮   ⋮         ⋮      ⋮          ⋮              ⋮           ⋮      ⋮          \n",
              "187 Comm&Mgmt 0      0.1041667  Mkt&Fin        0.43928036  0      0.087837838\n",
              "188 Sci&Tech  1      0.9375000  Mkt&Fin        0.51161919  1      0.108108108\n",
              "189 Comm&Mgmt 0      0.1458333  Mkt&Fin        0.18440780  0      0.087837838\n",
              "190 Comm&Mgmt 0      0.9510417  Mkt&Fin        0.58958021  0      0.087837838\n",
              "191 Comm&Mgmt 0      0.0000000  Mkt&Fin        0.42316342  0      0.087837838\n",
              "192 Comm&Mgmt 0      0.4583333  Mkt&Fin        0.36731634  1      0.086486486\n",
              "193 Comm&Mgmt 1      0.9041667  Mkt&Fin        0.22976012  1      0.094594595\n",
              "194 Others    1      0.6250000  Mkt&HR         0.20314843  1      0.135135135\n",
              "195 Comm&Mgmt 0      0.1875000  Mkt&Fin        0.50712144  0      0.087837838\n",
              "196 Comm&Mgmt 1      0.7083333  Mkt&HR         0.29010495  1      0.101351351\n",
              "197 Sci&Tech  1      0.5833333  Mkt&Fin        0.12256372  1      0.067567568\n",
              "198 Sci&Tech  0      0.1941667  Mkt&HR         0.69340330  1      0.081081081\n",
              "199 Others    0      0.7916667  Mkt&HR         0.77773613  0      0.087837838\n",
              "200 Comm&Mgmt 0      0.4791667  Mkt&HR         0.17203898  1      0.087837838\n",
              "201 Comm&Mgmt 0      0.7822917  Mkt&Fin        0.05997001  1      0.135135135\n",
              "202 Comm&Mgmt 0      0.6041667  Mkt&HR         0.27098951  0      0.087837838\n",
              "203 Sci&Tech  0      0.2350000  Mkt&HR         0.33358321  1      0.054054054\n",
              "204 Comm&Mgmt 0      0.3333333  Mkt&HR         0.26574213  1      0.081081081\n",
              "205 Comm&Mgmt 1      0.6250000  Mkt&Fin        0.61769115  1      0.013513514\n",
              "206 Comm&Mgmt 0      0.2500000  Mkt&Fin        0.20989505  1      0.067567568\n",
              "207 Comm&Mgmt 0      0.9791667  Mkt&Fin        0.08170915  0      0.087837838\n",
              "208 Comm&Mgmt 1      0.8033333  Mkt&Fin        0.76236882  1      0.135135135\n",
              "209 Comm&Mgmt 0      0.8887500  Mkt&HR         0.43890555  0      0.087837838\n",
              "210 Comm&Mgmt 0      0.3541667  Mkt&Fin        0.19790105  1      0.021621622\n",
              "211 Comm&Mgmt 0      0.8541667  Mkt&Fin        0.87256372  1      0.270270270\n",
              "212 Sci&Tech  0      0.5000000  Mkt&Fin        0.09032984  1      0.101351351\n",
              "213 Comm&Mgmt 1      0.1875000  Mkt&Fin        0.69377811  1      0.128378378\n",
              "214 Comm&Mgmt 0      0.4166667  Mkt&HR         0.33808096  1      0.005405405\n",
              "215 Comm&Mgmt 0      0.8125000  Mkt&HR         0.33770615  0      0.087837838\n",
              "216 Sci&Tech  0      0.1041667  Mkt&HR         0.28448276  1      0.094594595\n",
              "    class\n",
              "1   0    \n",
              "2   0    \n",
              "3   0    \n",
              "4   0    \n",
              "5   1    \n",
              "6   1    \n",
              "7   1    \n",
              "8   0    \n",
              "9   0    \n",
              "10  0    \n",
              "11  0    \n",
              "12  0    \n",
              "13  0    \n",
              "14  0    \n",
              "15  0    \n",
              "16  0    \n",
              "17  1    \n",
              "18  1    \n",
              "19  1    \n",
              "20  0    \n",
              "21  1    \n",
              "22  1    \n",
              "23  1    \n",
              "24  1    \n",
              "25  1    \n",
              "26  1    \n",
              "27  0    \n",
              "28  1    \n",
              "29  1    \n",
              "30  1    \n",
              "⋮   ⋮    \n",
              "187 0    \n",
              "188 1    \n",
              "189 1    \n",
              "190 1    \n",
              "191 1    \n",
              "192 1    \n",
              "193 1    \n",
              "194 1    \n",
              "195 1    \n",
              "196 1    \n",
              "197 0    \n",
              "198 1    \n",
              "199 1    \n",
              "200 1    \n",
              "201 1    \n",
              "202 1    \n",
              "203 0    \n",
              "204 1    \n",
              "205 0    \n",
              "206 0    \n",
              "207 0    \n",
              "208 1    \n",
              "209 1    \n",
              "210 0    \n",
              "211 1    \n",
              "212 1    \n",
              "213 1    \n",
              "214 0    \n",
              "215 0    \n",
              "216 1    "
            ]
          },
          "metadata": {}
        }
      ]
    },
    {
      "cell_type": "markdown",
      "source": [
        "***Note: The number of rows did not change which indicates there were no duplicate rows in the dataset.***"
      ],
      "metadata": {
        "id": "w7DJztlYGuyY"
      }
    },
    {
      "cell_type": "code",
      "source": [
        "MyData <- distinct(MyData)\n",
        "MyData"
      ],
      "metadata": {
        "id": "IW1WHiDSpgOR",
        "colab": {
          "base_uri": "https://localhost:8080/",
          "height": 1000
        },
        "outputId": "70c1cae3-0779-43b0-9738-f00f44ed9af5"
      },
      "execution_count": 40,
      "outputs": [
        {
          "output_type": "display_data",
          "data": {
            "text/html": [
              "<table class=\"dataframe\">\n",
              "<caption>A data.frame: 216 × 16</caption>\n",
              "<thead>\n",
              "\t<tr><th scope=col>sl_no</th><th scope=col>gender</th><th scope=col>ssc_p</th><th scope=col>ssc_b</th><th scope=col>hsc_p</th><th scope=col>hsc_b</th><th scope=col>hsc_s</th><th scope=col>degree_p</th><th scope=col>degree_t</th><th scope=col>workex</th><th scope=col>etest_p</th><th scope=col>specialisation</th><th scope=col>mba_p</th><th scope=col>status</th><th scope=col>salary</th><th scope=col>class</th></tr>\n",
              "\t<tr><th scope=col>&lt;int&gt;</th><th scope=col>&lt;chr&gt;</th><th scope=col>&lt;fct&gt;</th><th scope=col>&lt;chr&gt;</th><th scope=col>&lt;dbl&gt;</th><th scope=col>&lt;chr&gt;</th><th scope=col>&lt;chr&gt;</th><th scope=col>&lt;dbl&gt;</th><th scope=col>&lt;chr&gt;</th><th scope=col>&lt;chr&gt;</th><th scope=col>&lt;dbl&gt;</th><th scope=col>&lt;chr&gt;</th><th scope=col>&lt;dbl&gt;</th><th scope=col>&lt;dbl&gt;</th><th scope=col>&lt;dbl&gt;</th><th scope=col>&lt;int&gt;</th></tr>\n",
              "</thead>\n",
              "<tbody>\n",
              "\t<tr><td> 1</td><td>M</td><td>B</td><td>Others </td><td>0.008128857</td><td>Others </td><td>Commerce</td><td>0.195121951</td><td>Sci&amp;Tech </td><td>0</td><td>0.10416667</td><td>Mkt&amp;HR </td><td>0.284482759</td><td>1</td><td>0.09459459</td><td>0</td></tr>\n",
              "\t<tr><td> 2</td><td>M</td><td>A</td><td>Central</td><td>0.006221587</td><td>Others </td><td>Science </td><td>0.670243902</td><td>Sci&amp;Tech </td><td>1</td><td>0.76041667</td><td>Mkt&amp;Fin</td><td>0.564842579</td><td>1</td><td>0.00000000</td><td>0</td></tr>\n",
              "\t<tr><td> 3</td><td>M</td><td>B</td><td>Central</td><td>0.004666566</td><td>Central</td><td><span style=white-space:pre-wrap>Arts    </span></td><td>0.341463415</td><td>Comm&amp;Mgmt</td><td>0</td><td>0.52083333</td><td>Mkt&amp;Fin</td><td>0.247001499</td><td>1</td><td>0.06756757</td><td>0</td></tr>\n",
              "\t<tr><td> 4</td><td>M</td><td>C</td><td>Central</td><td>0.002258016</td><td>Central</td><td>Science </td><td>0.048780488</td><td>Sci&amp;Tech </td><td>0</td><td>0.33333333</td><td>Mkt&amp;HR </td><td>0.308095952</td><td>0</td><td>0.08783784</td><td>0</td></tr>\n",
              "\t<tr><td> 5</td><td>M</td><td>A</td><td>Central</td><td>0.005509559</td><td>Central</td><td>Commerce</td><td>0.568292683</td><td>Comm&amp;Mgmt</td><td>0</td><td>0.97500000</td><td>Mkt&amp;Fin</td><td>0.160794603</td><td>1</td><td>0.30405405</td><td>1</td></tr>\n",
              "\t<tr><td> 6</td><td>M</td><td>C</td><td>Others </td><td>0.001926840</td><td>Others </td><td>Science </td><td>0.420731707</td><td>Sci&amp;Tech </td><td>1</td><td>0.10416667</td><td>Mkt&amp;Fin</td><td>0.013868066</td><td>0</td><td>0.08783784</td><td>1</td></tr>\n",
              "\t<tr><td> 7</td><td>F</td><td>C</td><td>Others </td><td>0.001836520</td><td>Others </td><td>Commerce</td><td>0.707317073</td><td>Comm&amp;Mgmt</td><td>0</td><td>0.50583333</td><td>Mkt&amp;Fin</td><td>0.077961019</td><td>0</td><td>0.08783784</td><td>1</td></tr>\n",
              "\t<tr><td> 8</td><td>M</td><td>A</td><td>Central</td><td>0.004064429</td><td>Central</td><td>Science </td><td>0.390243902</td><td>Sci&amp;Tech </td><td>1</td><td>0.35416667</td><td>Mkt&amp;Fin</td><td>0.409670165</td><td>1</td><td>0.07027027</td><td>0</td></tr>\n",
              "\t<tr><td> 9</td><td>M</td><td>B</td><td>Central</td><td>0.006322445</td><td>Central</td><td>Commerce</td><td>0.536585366</td><td>Comm&amp;Mgmt</td><td>0</td><td>0.86125000</td><td>Mkt&amp;Fin</td><td>0.377811094</td><td>1</td><td>0.04189189</td><td>0</td></tr>\n",
              "\t<tr><td>10</td><td>M</td><td>C</td><td>Central</td><td>0.004967635</td><td>Central</td><td>Commerce</td><td>0.268292683</td><td>Comm&amp;Mgmt</td><td>0</td><td>0.08333333</td><td>Mkt&amp;Fin</td><td>0.037481259</td><td>0</td><td>0.08783784</td><td>0</td></tr>\n",
              "\t<tr><td>11</td><td>M</td><td>C</td><td>Central</td><td>0.003612826</td><td>Central</td><td>Commerce</td><td>0.243902439</td><td>Comm&amp;Mgmt</td><td>1</td><td>0.25000000</td><td>Mkt&amp;HR </td><td>0.361319340</td><td>1</td><td>0.08108108</td><td>0</td></tr>\n",
              "\t<tr><td>12</td><td>M</td><td>B</td><td>Central</td><td>0.004726780</td><td>Central</td><td>Commerce</td><td>0.690243902</td><td>Comm&amp;Mgmt</td><td>1</td><td>0.20833333</td><td>Mkt&amp;Fin</td><td>0.468140930</td><td>1</td><td>0.06756757</td><td>0</td></tr>\n",
              "\t<tr><td>13</td><td>F</td><td>C</td><td>Central</td><td>0.002709619</td><td>Others </td><td>Science </td><td>0.365853659</td><td>Comm&amp;Mgmt</td><td>0</td><td>0.25000000</td><td>Mkt&amp;HR </td><td>0.518365817</td><td>0</td><td>0.08783784</td><td>0</td></tr>\n",
              "\t<tr><td>14</td><td>F</td><td>A</td><td>Central</td><td>0.007526720</td><td>Central</td><td>Commerce</td><td>0.219512195</td><td>Comm&amp;Mgmt</td><td>0</td><td>0.37500000</td><td>Mkt&amp;Fin</td><td>0.652923538</td><td>1</td><td>0.02432432</td><td>0</td></tr>\n",
              "\t<tr><td>15</td><td>M</td><td>B</td><td>Central</td><td>0.001505344</td><td>Central</td><td>Commerce</td><td>0.000000000</td><td>Comm&amp;Mgmt</td><td>0</td><td>0.54166667</td><td>Mkt&amp;HR </td><td>0.140554723</td><td>0</td><td>0.08783784</td><td>0</td></tr>\n",
              "\t<tr><td>16</td><td>F</td><td>B</td><td>Central</td><td>0.005720307</td><td>Central</td><td>Commerce</td><td>0.463414634</td><td>Comm&amp;Mgmt</td><td>1</td><td>0.45833333</td><td>Mkt&amp;Fin</td><td>0.504122939</td><td>1</td><td>0.00000000</td><td>0</td></tr>\n",
              "\t<tr><td>17</td><td>M</td><td>B</td><td>Central</td><td>0.004395604</td><td>Central</td><td>Commerce</td><td>0.380487805</td><td>Comm&amp;Mgmt</td><td>1</td><td>0.20833333</td><td>Mkt&amp;Fin</td><td>0.424662669</td><td>1</td><td>0.13513514</td><td>1</td></tr>\n",
              "\t<tr><td>18</td><td>F</td><td>C</td><td>Central</td><td>0.004516032</td><td>Central</td><td>Commerce</td><td>0.341463415</td><td>Comm&amp;Mgmt</td><td>0</td><td>0.20833333</td><td>Mkt&amp;Fin</td><td>0.602323838</td><td>0</td><td>0.08783784</td><td>1</td></tr>\n",
              "\t<tr><td>19</td><td>F</td><td>B</td><td>Central</td><td>0.004365498</td><td>Central</td><td>Commerce</td><td>0.341463415</td><td>Comm&amp;Mgmt</td><td>0</td><td>0.37500000</td><td>Mkt&amp;HR </td><td>0.482383808</td><td>0</td><td>0.08783784</td><td>1</td></tr>\n",
              "\t<tr><td>20</td><td>M</td><td>B</td><td>Others </td><td>0.004516032</td><td>Others </td><td><span style=white-space:pre-wrap>Arts    </span></td><td>0.487804878</td><td>Comm&amp;Mgmt</td><td>1</td><td>0.01000000</td><td>Mkt&amp;Fin</td><td>1.000000000</td><td>1</td><td>0.04864865</td><td>0</td></tr>\n",
              "\t<tr><td>21</td><td>M</td><td>B</td><td>Others </td><td>0.004214963</td><td>Others </td><td>Commerce</td><td>0.390243902</td><td>Comm&amp;Mgmt</td><td>0</td><td>0.00000000</td><td>Mkt&amp;HR </td><td>0.205772114</td><td>1</td><td>0.08783784</td><td>1</td></tr>\n",
              "\t<tr><td>22</td><td>F</td><td>A</td><td>Others </td><td>0.005870841</td><td>Others </td><td>Commerce</td><td>0.853658537</td><td>Comm&amp;Mgmt</td><td>0</td><td>0.93750000</td><td>Mkt&amp;Fin</td><td>0.669040480</td><td>1</td><td>0.26081081</td><td>1</td></tr>\n",
              "\t<tr><td>23</td><td>F</td><td>B</td><td>Others </td><td>0.003582719</td><td>Others </td><td>Science </td><td>0.542195122</td><td>Sci&amp;Tech </td><td>0</td><td>0.11520833</td><td>Mkt&amp;HR </td><td>0.659670165</td><td>1</td><td>0.21621622</td><td>1</td></tr>\n",
              "\t<tr><td>24</td><td>F</td><td>A</td><td>Others </td><td>0.003462291</td><td>Others </td><td>Science </td><td>0.359512195</td><td>Sci&amp;Tech </td><td>1</td><td>0.87500000</td><td>Mkt&amp;Fin</td><td>0.465142429</td><td>1</td><td>0.13513514</td><td>1</td></tr>\n",
              "\t<tr><td>25</td><td>M</td><td>A</td><td>Others </td><td>0.009137438</td><td>Others </td><td>Science </td><td>0.703902439</td><td>Sci&amp;Tech </td><td>0</td><td>0.98750000</td><td>Mkt&amp;Fin</td><td>0.854572714</td><td>1</td><td>0.21621622</td><td>1</td></tr>\n",
              "\t<tr><td>26</td><td>F</td><td>C</td><td>Others </td><td>0.002649405</td><td>Central</td><td>Commerce</td><td>0.004878049</td><td>Comm&amp;Mgmt</td><td>1</td><td>0.54166667</td><td>Mkt&amp;Fin</td><td>0.529235382</td><td>0</td><td>0.08783784</td><td>1</td></tr>\n",
              "\t<tr><td>27</td><td>M</td><td>B</td><td>Others </td><td>0.006322445</td><td>Others </td><td>Commerce</td><td>0.390243902</td><td>Comm&amp;Mgmt</td><td>1</td><td>0.91666667</td><td>Mkt&amp;Fin</td><td>0.237631184</td><td>1</td><td>0.05405405</td><td>0</td></tr>\n",
              "\t<tr><td>28</td><td>M</td><td>B</td><td>Others </td><td>0.004516032</td><td>Others </td><td>Commerce</td><td>0.390243902</td><td>Comm&amp;Mgmt</td><td>0</td><td>0.37500000</td><td>Mkt&amp;HR </td><td>0.242878561</td><td>1</td><td>0.08783784</td><td>1</td></tr>\n",
              "\t<tr><td>29</td><td>M</td><td>A</td><td>Others </td><td>0.005946109</td><td>Others </td><td>Commerce</td><td>0.426829268</td><td>Comm&amp;Mgmt</td><td>1</td><td>0.48645833</td><td>Mkt&amp;Fin</td><td>0.485007496</td><td>1</td><td>0.20270270</td><td>1</td></tr>\n",
              "\t<tr><td>30</td><td>M</td><td>B</td><td>Central</td><td>0.004516032</td><td>Central</td><td>Commerce</td><td>0.195121951</td><td>Comm&amp;Mgmt</td><td>0</td><td>0.56250000</td><td>Mkt&amp;Fin</td><td>0.002998501</td><td>0</td><td>0.08783784</td><td>1</td></tr>\n",
              "\t<tr><td>⋮</td><td>⋮</td><td>⋮</td><td>⋮</td><td>⋮</td><td>⋮</td><td>⋮</td><td>⋮</td><td>⋮</td><td>⋮</td><td>⋮</td><td>⋮</td><td>⋮</td><td>⋮</td><td>⋮</td><td>⋮</td></tr>\n",
              "\t<tr><td>187</td><td>F</td><td>C</td><td>Central</td><td>0.004064429</td><td>Central</td><td>Commerce</td><td>0.26829268</td><td>Comm&amp;Mgmt</td><td>0</td><td>0.1041667</td><td>Mkt&amp;Fin</td><td>0.43928036</td><td>0</td><td>0.087837838</td><td>0</td></tr>\n",
              "\t<tr><td>188</td><td>M</td><td>A</td><td>Central</td><td>0.004290230</td><td>Central</td><td>Science </td><td>0.41463415</td><td>Sci&amp;Tech </td><td>1</td><td>0.9375000</td><td>Mkt&amp;Fin</td><td>0.51161919</td><td>1</td><td>0.108108108</td><td>1</td></tr>\n",
              "\t<tr><td>189</td><td>M</td><td>B</td><td>Others </td><td>0.001505344</td><td>Others </td><td>Commerce</td><td>0.10682927</td><td>Comm&amp;Mgmt</td><td>0</td><td>0.1458333</td><td>Mkt&amp;Fin</td><td>0.18440780</td><td>0</td><td>0.087837838</td><td>1</td></tr>\n",
              "\t<tr><td>190</td><td>F</td><td>C</td><td>Central</td><td>0.006111697</td><td>Others </td><td>Commerce</td><td>0.46829268</td><td>Comm&amp;Mgmt</td><td>0</td><td>0.9510417</td><td>Mkt&amp;Fin</td><td>0.58958021</td><td>0</td><td>0.087837838</td><td>1</td></tr>\n",
              "\t<tr><td>191</td><td>F</td><td>B</td><td>Others </td><td>0.004997742</td><td>Central</td><td>Commerce</td><td>0.26829268</td><td>Comm&amp;Mgmt</td><td>0</td><td>0.0000000</td><td>Mkt&amp;Fin</td><td>0.42316342</td><td>0</td><td>0.087837838</td><td>1</td></tr>\n",
              "\t<tr><td>192</td><td>M</td><td>B</td><td>Others </td><td>0.003612826</td><td>Central</td><td>Science </td><td>0.53658537</td><td>Comm&amp;Mgmt</td><td>0</td><td>0.4583333</td><td>Mkt&amp;Fin</td><td>0.36731634</td><td>1</td><td>0.086486486</td><td>1</td></tr>\n",
              "\t<tr><td>193</td><td>M</td><td>B</td><td>Central</td><td>0.003673039</td><td>Central</td><td>Commerce</td><td>0.36097561</td><td>Comm&amp;Mgmt</td><td>1</td><td>0.9041667</td><td>Mkt&amp;Fin</td><td>0.22976012</td><td>1</td><td>0.094594595</td><td>1</td></tr>\n",
              "\t<tr><td>194</td><td>F</td><td>B</td><td>Central</td><td>0.003913894</td><td>Central</td><td><span style=white-space:pre-wrap>Arts    </span></td><td>0.14634146</td><td><span style=white-space:pre-wrap>Others   </span></td><td>1</td><td>0.6250000</td><td>Mkt&amp;HR </td><td>0.20314843</td><td>1</td><td>0.135135135</td><td>1</td></tr>\n",
              "\t<tr><td>195</td><td>M</td><td>C</td><td>Others </td><td>0.002709619</td><td>Others </td><td>Commerce</td><td>0.15365854</td><td>Comm&amp;Mgmt</td><td>0</td><td>0.1875000</td><td>Mkt&amp;Fin</td><td>0.50712144</td><td>0</td><td>0.087837838</td><td>1</td></tr>\n",
              "\t<tr><td>196</td><td>M</td><td>B</td><td>Central</td><td>0.005870841</td><td>Central</td><td>Commerce</td><td>0.53658537</td><td>Comm&amp;Mgmt</td><td>1</td><td>0.7083333</td><td>Mkt&amp;HR </td><td>0.29010495</td><td>1</td><td>0.101351351</td><td>1</td></tr>\n",
              "\t<tr><td>197</td><td>M</td><td>B</td><td>Others </td><td>0.003913894</td><td>Others </td><td>Science </td><td>0.67073171</td><td>Sci&amp;Tech </td><td>1</td><td>0.5833333</td><td>Mkt&amp;Fin</td><td>0.12256372</td><td>1</td><td>0.067567568</td><td>0</td></tr>\n",
              "\t<tr><td>198</td><td>F</td><td>A</td><td>Others </td><td>0.002408550</td><td>Others </td><td>Science </td><td>1.00000000</td><td>Sci&amp;Tech </td><td>0</td><td>0.1941667</td><td>Mkt&amp;HR </td><td>0.69340330</td><td>1</td><td>0.081081081</td><td>1</td></tr>\n",
              "\t<tr><td>199</td><td>F</td><td>B</td><td>Central</td><td>0.004967635</td><td>Central</td><td>Commerce</td><td>0.36585366</td><td><span style=white-space:pre-wrap>Others   </span></td><td>0</td><td>0.7916667</td><td>Mkt&amp;HR </td><td>0.77773613</td><td>0</td><td>0.087837838</td><td>1</td></tr>\n",
              "\t<tr><td>200</td><td>M</td><td>B</td><td>Others </td><td>0.004214963</td><td>Others </td><td>Commerce</td><td>0.17073171</td><td>Comm&amp;Mgmt</td><td>0</td><td>0.4791667</td><td>Mkt&amp;HR </td><td>0.17203898</td><td>1</td><td>0.087837838</td><td>1</td></tr>\n",
              "\t<tr><td>201</td><td>M</td><td>B</td><td>Others </td><td>0.003462291</td><td>Others </td><td>Commerce</td><td>0.36585366</td><td>Comm&amp;Mgmt</td><td>0</td><td>0.7822917</td><td>Mkt&amp;Fin</td><td>0.05997001</td><td>1</td><td>0.135135135</td><td>1</td></tr>\n",
              "\t<tr><td>202</td><td>M</td><td>C</td><td>Central</td><td>0.003913894</td><td>Others </td><td>Science </td><td>0.19512195</td><td>Comm&amp;Mgmt</td><td>0</td><td>0.6041667</td><td>Mkt&amp;HR </td><td>0.27098951</td><td>0</td><td>0.087837838</td><td>1</td></tr>\n",
              "\t<tr><td>203</td><td>M</td><td>B</td><td>Central</td><td>0.003913894</td><td>Central</td><td>Science </td><td>0.39024390</td><td>Sci&amp;Tech </td><td>0</td><td>0.2350000</td><td>Mkt&amp;HR </td><td>0.33358321</td><td>1</td><td>0.054054054</td><td>0</td></tr>\n",
              "\t<tr><td>204</td><td>M</td><td>C</td><td>Others </td><td>0.003662502</td><td>Others </td><td>Commerce</td><td>0.16756098</td><td>Comm&amp;Mgmt</td><td>0</td><td>0.3333333</td><td>Mkt&amp;HR </td><td>0.26574213</td><td>1</td><td>0.081081081</td><td>1</td></tr>\n",
              "\t<tr><td>205</td><td>F</td><td>B</td><td>Others </td><td>0.005419238</td><td>Others </td><td>Commerce</td><td>0.56097561</td><td>Comm&amp;Mgmt</td><td>1</td><td>0.6250000</td><td>Mkt&amp;Fin</td><td>0.61769115</td><td>1</td><td>0.013513514</td><td>0</td></tr>\n",
              "\t<tr><td>206</td><td>M</td><td>B</td><td>Others </td><td>0.003763360</td><td>Others </td><td>Commerce</td><td>0.36585366</td><td>Comm&amp;Mgmt</td><td>0</td><td>0.2500000</td><td>Mkt&amp;Fin</td><td>0.20989505</td><td>1</td><td>0.067567568</td><td>0</td></tr>\n",
              "\t<tr><td>207</td><td>M</td><td>C</td><td>Central</td><td>0.000752672</td><td>Central</td><td>Science </td><td>0.24390244</td><td>Comm&amp;Mgmt</td><td>0</td><td>0.9791667</td><td>Mkt&amp;Fin</td><td>0.08170915</td><td>0</td><td>0.087837838</td><td>0</td></tr>\n",
              "\t<tr><td>208</td><td>M</td><td>A</td><td>Central</td><td>0.006171910</td><td>Others </td><td>Commerce</td><td>0.26829268</td><td>Comm&amp;Mgmt</td><td>1</td><td>0.8033333</td><td>Mkt&amp;Fin</td><td>0.76236882</td><td>1</td><td>0.135135135</td><td>1</td></tr>\n",
              "\t<tr><td>209</td><td>F</td><td>C</td><td>Central</td><td>0.003462291</td><td>Others </td><td>Science </td><td>0.36585366</td><td>Comm&amp;Mgmt</td><td>0</td><td>0.8887500</td><td>Mkt&amp;HR </td><td>0.43890555</td><td>0</td><td>0.087837838</td><td>1</td></tr>\n",
              "\t<tr><td>210</td><td>M</td><td>B</td><td>Central</td><td>0.005268704</td><td>Central</td><td>Commerce</td><td>0.36585366</td><td>Comm&amp;Mgmt</td><td>0</td><td>0.3541667</td><td>Mkt&amp;Fin</td><td>0.19790105</td><td>1</td><td>0.021621622</td><td>0</td></tr>\n",
              "\t<tr><td>211</td><td>M</td><td>A</td><td>Others </td><td>0.006774048</td><td>Others </td><td>Commerce</td><td>0.67317073</td><td>Comm&amp;Mgmt</td><td>0</td><td>0.8541667</td><td>Mkt&amp;Fin</td><td>0.87256372</td><td>1</td><td>0.270270270</td><td>1</td></tr>\n",
              "\t<tr><td>212</td><td>M</td><td>C</td><td>Others </td><td>0.003462291</td><td>Others </td><td>Science </td><td>0.53658537</td><td>Sci&amp;Tech </td><td>0</td><td>0.5000000</td><td>Mkt&amp;Fin</td><td>0.09032984</td><td>1</td><td>0.101351351</td><td>1</td></tr>\n",
              "\t<tr><td>213</td><td>M</td><td>B</td><td>Others </td><td>0.004516032</td><td>Others </td><td>Commerce</td><td>0.56097561</td><td>Comm&amp;Mgmt</td><td>1</td><td>0.1875000</td><td>Mkt&amp;Fin</td><td>0.69377811</td><td>1</td><td>0.128378378</td><td>1</td></tr>\n",
              "\t<tr><td>214</td><td>F</td><td>B</td><td>Others </td><td>0.004365498</td><td>Others </td><td>Commerce</td><td>0.19512195</td><td>Comm&amp;Mgmt</td><td>0</td><td>0.4166667</td><td>Mkt&amp;HR </td><td>0.33808096</td><td>1</td><td>0.005405405</td><td>0</td></tr>\n",
              "\t<tr><td>215</td><td>M</td><td>B</td><td>Central</td><td>0.003161222</td><td>Others </td><td>Science </td><td>0.07317073</td><td>Comm&amp;Mgmt</td><td>0</td><td>0.8125000</td><td>Mkt&amp;HR </td><td>0.33770615</td><td>0</td><td>0.087837838</td><td>0</td></tr>\n",
              "\t<tr><td>216</td><td>M</td><td>B</td><td>Others </td><td>0.008128857</td><td>Others </td><td>Commerce</td><td>0.19512195</td><td>Sci&amp;Tech </td><td>0</td><td>0.1041667</td><td>Mkt&amp;HR </td><td>0.28448276</td><td>1</td><td>0.094594595</td><td>1</td></tr>\n",
              "</tbody>\n",
              "</table>\n"
            ],
            "text/markdown": "\nA data.frame: 216 × 16\n\n| sl_no &lt;int&gt; | gender &lt;chr&gt; | ssc_p &lt;fct&gt; | ssc_b &lt;chr&gt; | hsc_p &lt;dbl&gt; | hsc_b &lt;chr&gt; | hsc_s &lt;chr&gt; | degree_p &lt;dbl&gt; | degree_t &lt;chr&gt; | workex &lt;chr&gt; | etest_p &lt;dbl&gt; | specialisation &lt;chr&gt; | mba_p &lt;dbl&gt; | status &lt;dbl&gt; | salary &lt;dbl&gt; | class &lt;int&gt; |\n|---|---|---|---|---|---|---|---|---|---|---|---|---|---|---|---|\n|  1 | M | B | Others  | 0.008128857 | Others  | Commerce | 0.195121951 | Sci&amp;Tech  | 0 | 0.10416667 | Mkt&amp;HR  | 0.284482759 | 1 | 0.09459459 | 0 |\n|  2 | M | A | Central | 0.006221587 | Others  | Science  | 0.670243902 | Sci&amp;Tech  | 1 | 0.76041667 | Mkt&amp;Fin | 0.564842579 | 1 | 0.00000000 | 0 |\n|  3 | M | B | Central | 0.004666566 | Central | Arts     | 0.341463415 | Comm&amp;Mgmt | 0 | 0.52083333 | Mkt&amp;Fin | 0.247001499 | 1 | 0.06756757 | 0 |\n|  4 | M | C | Central | 0.002258016 | Central | Science  | 0.048780488 | Sci&amp;Tech  | 0 | 0.33333333 | Mkt&amp;HR  | 0.308095952 | 0 | 0.08783784 | 0 |\n|  5 | M | A | Central | 0.005509559 | Central | Commerce | 0.568292683 | Comm&amp;Mgmt | 0 | 0.97500000 | Mkt&amp;Fin | 0.160794603 | 1 | 0.30405405 | 1 |\n|  6 | M | C | Others  | 0.001926840 | Others  | Science  | 0.420731707 | Sci&amp;Tech  | 1 | 0.10416667 | Mkt&amp;Fin | 0.013868066 | 0 | 0.08783784 | 1 |\n|  7 | F | C | Others  | 0.001836520 | Others  | Commerce | 0.707317073 | Comm&amp;Mgmt | 0 | 0.50583333 | Mkt&amp;Fin | 0.077961019 | 0 | 0.08783784 | 1 |\n|  8 | M | A | Central | 0.004064429 | Central | Science  | 0.390243902 | Sci&amp;Tech  | 1 | 0.35416667 | Mkt&amp;Fin | 0.409670165 | 1 | 0.07027027 | 0 |\n|  9 | M | B | Central | 0.006322445 | Central | Commerce | 0.536585366 | Comm&amp;Mgmt | 0 | 0.86125000 | Mkt&amp;Fin | 0.377811094 | 1 | 0.04189189 | 0 |\n| 10 | M | C | Central | 0.004967635 | Central | Commerce | 0.268292683 | Comm&amp;Mgmt | 0 | 0.08333333 | Mkt&amp;Fin | 0.037481259 | 0 | 0.08783784 | 0 |\n| 11 | M | C | Central | 0.003612826 | Central | Commerce | 0.243902439 | Comm&amp;Mgmt | 1 | 0.25000000 | Mkt&amp;HR  | 0.361319340 | 1 | 0.08108108 | 0 |\n| 12 | M | B | Central | 0.004726780 | Central | Commerce | 0.690243902 | Comm&amp;Mgmt | 1 | 0.20833333 | Mkt&amp;Fin | 0.468140930 | 1 | 0.06756757 | 0 |\n| 13 | F | C | Central | 0.002709619 | Others  | Science  | 0.365853659 | Comm&amp;Mgmt | 0 | 0.25000000 | Mkt&amp;HR  | 0.518365817 | 0 | 0.08783784 | 0 |\n| 14 | F | A | Central | 0.007526720 | Central | Commerce | 0.219512195 | Comm&amp;Mgmt | 0 | 0.37500000 | Mkt&amp;Fin | 0.652923538 | 1 | 0.02432432 | 0 |\n| 15 | M | B | Central | 0.001505344 | Central | Commerce | 0.000000000 | Comm&amp;Mgmt | 0 | 0.54166667 | Mkt&amp;HR  | 0.140554723 | 0 | 0.08783784 | 0 |\n| 16 | F | B | Central | 0.005720307 | Central | Commerce | 0.463414634 | Comm&amp;Mgmt | 1 | 0.45833333 | Mkt&amp;Fin | 0.504122939 | 1 | 0.00000000 | 0 |\n| 17 | M | B | Central | 0.004395604 | Central | Commerce | 0.380487805 | Comm&amp;Mgmt | 1 | 0.20833333 | Mkt&amp;Fin | 0.424662669 | 1 | 0.13513514 | 1 |\n| 18 | F | C | Central | 0.004516032 | Central | Commerce | 0.341463415 | Comm&amp;Mgmt | 0 | 0.20833333 | Mkt&amp;Fin | 0.602323838 | 0 | 0.08783784 | 1 |\n| 19 | F | B | Central | 0.004365498 | Central | Commerce | 0.341463415 | Comm&amp;Mgmt | 0 | 0.37500000 | Mkt&amp;HR  | 0.482383808 | 0 | 0.08783784 | 1 |\n| 20 | M | B | Others  | 0.004516032 | Others  | Arts     | 0.487804878 | Comm&amp;Mgmt | 1 | 0.01000000 | Mkt&amp;Fin | 1.000000000 | 1 | 0.04864865 | 0 |\n| 21 | M | B | Others  | 0.004214963 | Others  | Commerce | 0.390243902 | Comm&amp;Mgmt | 0 | 0.00000000 | Mkt&amp;HR  | 0.205772114 | 1 | 0.08783784 | 1 |\n| 22 | F | A | Others  | 0.005870841 | Others  | Commerce | 0.853658537 | Comm&amp;Mgmt | 0 | 0.93750000 | Mkt&amp;Fin | 0.669040480 | 1 | 0.26081081 | 1 |\n| 23 | F | B | Others  | 0.003582719 | Others  | Science  | 0.542195122 | Sci&amp;Tech  | 0 | 0.11520833 | Mkt&amp;HR  | 0.659670165 | 1 | 0.21621622 | 1 |\n| 24 | F | A | Others  | 0.003462291 | Others  | Science  | 0.359512195 | Sci&amp;Tech  | 1 | 0.87500000 | Mkt&amp;Fin | 0.465142429 | 1 | 0.13513514 | 1 |\n| 25 | M | A | Others  | 0.009137438 | Others  | Science  | 0.703902439 | Sci&amp;Tech  | 0 | 0.98750000 | Mkt&amp;Fin | 0.854572714 | 1 | 0.21621622 | 1 |\n| 26 | F | C | Others  | 0.002649405 | Central | Commerce | 0.004878049 | Comm&amp;Mgmt | 1 | 0.54166667 | Mkt&amp;Fin | 0.529235382 | 0 | 0.08783784 | 1 |\n| 27 | M | B | Others  | 0.006322445 | Others  | Commerce | 0.390243902 | Comm&amp;Mgmt | 1 | 0.91666667 | Mkt&amp;Fin | 0.237631184 | 1 | 0.05405405 | 0 |\n| 28 | M | B | Others  | 0.004516032 | Others  | Commerce | 0.390243902 | Comm&amp;Mgmt | 0 | 0.37500000 | Mkt&amp;HR  | 0.242878561 | 1 | 0.08783784 | 1 |\n| 29 | M | A | Others  | 0.005946109 | Others  | Commerce | 0.426829268 | Comm&amp;Mgmt | 1 | 0.48645833 | Mkt&amp;Fin | 0.485007496 | 1 | 0.20270270 | 1 |\n| 30 | M | B | Central | 0.004516032 | Central | Commerce | 0.195121951 | Comm&amp;Mgmt | 0 | 0.56250000 | Mkt&amp;Fin | 0.002998501 | 0 | 0.08783784 | 1 |\n| ⋮ | ⋮ | ⋮ | ⋮ | ⋮ | ⋮ | ⋮ | ⋮ | ⋮ | ⋮ | ⋮ | ⋮ | ⋮ | ⋮ | ⋮ | ⋮ |\n| 187 | F | C | Central | 0.004064429 | Central | Commerce | 0.26829268 | Comm&amp;Mgmt | 0 | 0.1041667 | Mkt&amp;Fin | 0.43928036 | 0 | 0.087837838 | 0 |\n| 188 | M | A | Central | 0.004290230 | Central | Science  | 0.41463415 | Sci&amp;Tech  | 1 | 0.9375000 | Mkt&amp;Fin | 0.51161919 | 1 | 0.108108108 | 1 |\n| 189 | M | B | Others  | 0.001505344 | Others  | Commerce | 0.10682927 | Comm&amp;Mgmt | 0 | 0.1458333 | Mkt&amp;Fin | 0.18440780 | 0 | 0.087837838 | 1 |\n| 190 | F | C | Central | 0.006111697 | Others  | Commerce | 0.46829268 | Comm&amp;Mgmt | 0 | 0.9510417 | Mkt&amp;Fin | 0.58958021 | 0 | 0.087837838 | 1 |\n| 191 | F | B | Others  | 0.004997742 | Central | Commerce | 0.26829268 | Comm&amp;Mgmt | 0 | 0.0000000 | Mkt&amp;Fin | 0.42316342 | 0 | 0.087837838 | 1 |\n| 192 | M | B | Others  | 0.003612826 | Central | Science  | 0.53658537 | Comm&amp;Mgmt | 0 | 0.4583333 | Mkt&amp;Fin | 0.36731634 | 1 | 0.086486486 | 1 |\n| 193 | M | B | Central | 0.003673039 | Central | Commerce | 0.36097561 | Comm&amp;Mgmt | 1 | 0.9041667 | Mkt&amp;Fin | 0.22976012 | 1 | 0.094594595 | 1 |\n| 194 | F | B | Central | 0.003913894 | Central | Arts     | 0.14634146 | Others    | 1 | 0.6250000 | Mkt&amp;HR  | 0.20314843 | 1 | 0.135135135 | 1 |\n| 195 | M | C | Others  | 0.002709619 | Others  | Commerce | 0.15365854 | Comm&amp;Mgmt | 0 | 0.1875000 | Mkt&amp;Fin | 0.50712144 | 0 | 0.087837838 | 1 |\n| 196 | M | B | Central | 0.005870841 | Central | Commerce | 0.53658537 | Comm&amp;Mgmt | 1 | 0.7083333 | Mkt&amp;HR  | 0.29010495 | 1 | 0.101351351 | 1 |\n| 197 | M | B | Others  | 0.003913894 | Others  | Science  | 0.67073171 | Sci&amp;Tech  | 1 | 0.5833333 | Mkt&amp;Fin | 0.12256372 | 1 | 0.067567568 | 0 |\n| 198 | F | A | Others  | 0.002408550 | Others  | Science  | 1.00000000 | Sci&amp;Tech  | 0 | 0.1941667 | Mkt&amp;HR  | 0.69340330 | 1 | 0.081081081 | 1 |\n| 199 | F | B | Central | 0.004967635 | Central | Commerce | 0.36585366 | Others    | 0 | 0.7916667 | Mkt&amp;HR  | 0.77773613 | 0 | 0.087837838 | 1 |\n| 200 | M | B | Others  | 0.004214963 | Others  | Commerce | 0.17073171 | Comm&amp;Mgmt | 0 | 0.4791667 | Mkt&amp;HR  | 0.17203898 | 1 | 0.087837838 | 1 |\n| 201 | M | B | Others  | 0.003462291 | Others  | Commerce | 0.36585366 | Comm&amp;Mgmt | 0 | 0.7822917 | Mkt&amp;Fin | 0.05997001 | 1 | 0.135135135 | 1 |\n| 202 | M | C | Central | 0.003913894 | Others  | Science  | 0.19512195 | Comm&amp;Mgmt | 0 | 0.6041667 | Mkt&amp;HR  | 0.27098951 | 0 | 0.087837838 | 1 |\n| 203 | M | B | Central | 0.003913894 | Central | Science  | 0.39024390 | Sci&amp;Tech  | 0 | 0.2350000 | Mkt&amp;HR  | 0.33358321 | 1 | 0.054054054 | 0 |\n| 204 | M | C | Others  | 0.003662502 | Others  | Commerce | 0.16756098 | Comm&amp;Mgmt | 0 | 0.3333333 | Mkt&amp;HR  | 0.26574213 | 1 | 0.081081081 | 1 |\n| 205 | F | B | Others  | 0.005419238 | Others  | Commerce | 0.56097561 | Comm&amp;Mgmt | 1 | 0.6250000 | Mkt&amp;Fin | 0.61769115 | 1 | 0.013513514 | 0 |\n| 206 | M | B | Others  | 0.003763360 | Others  | Commerce | 0.36585366 | Comm&amp;Mgmt | 0 | 0.2500000 | Mkt&amp;Fin | 0.20989505 | 1 | 0.067567568 | 0 |\n| 207 | M | C | Central | 0.000752672 | Central | Science  | 0.24390244 | Comm&amp;Mgmt | 0 | 0.9791667 | Mkt&amp;Fin | 0.08170915 | 0 | 0.087837838 | 0 |\n| 208 | M | A | Central | 0.006171910 | Others  | Commerce | 0.26829268 | Comm&amp;Mgmt | 1 | 0.8033333 | Mkt&amp;Fin | 0.76236882 | 1 | 0.135135135 | 1 |\n| 209 | F | C | Central | 0.003462291 | Others  | Science  | 0.36585366 | Comm&amp;Mgmt | 0 | 0.8887500 | Mkt&amp;HR  | 0.43890555 | 0 | 0.087837838 | 1 |\n| 210 | M | B | Central | 0.005268704 | Central | Commerce | 0.36585366 | Comm&amp;Mgmt | 0 | 0.3541667 | Mkt&amp;Fin | 0.19790105 | 1 | 0.021621622 | 0 |\n| 211 | M | A | Others  | 0.006774048 | Others  | Commerce | 0.67317073 | Comm&amp;Mgmt | 0 | 0.8541667 | Mkt&amp;Fin | 0.87256372 | 1 | 0.270270270 | 1 |\n| 212 | M | C | Others  | 0.003462291 | Others  | Science  | 0.53658537 | Sci&amp;Tech  | 0 | 0.5000000 | Mkt&amp;Fin | 0.09032984 | 1 | 0.101351351 | 1 |\n| 213 | M | B | Others  | 0.004516032 | Others  | Commerce | 0.56097561 | Comm&amp;Mgmt | 1 | 0.1875000 | Mkt&amp;Fin | 0.69377811 | 1 | 0.128378378 | 1 |\n| 214 | F | B | Others  | 0.004365498 | Others  | Commerce | 0.19512195 | Comm&amp;Mgmt | 0 | 0.4166667 | Mkt&amp;HR  | 0.33808096 | 1 | 0.005405405 | 0 |\n| 215 | M | B | Central | 0.003161222 | Others  | Science  | 0.07317073 | Comm&amp;Mgmt | 0 | 0.8125000 | Mkt&amp;HR  | 0.33770615 | 0 | 0.087837838 | 0 |\n| 216 | M | B | Others  | 0.008128857 | Others  | Commerce | 0.19512195 | Sci&amp;Tech  | 0 | 0.1041667 | Mkt&amp;HR  | 0.28448276 | 1 | 0.094594595 | 1 |\n\n",
            "text/latex": "A data.frame: 216 × 16\n\\begin{tabular}{llllllllllllllll}\n sl\\_no & gender & ssc\\_p & ssc\\_b & hsc\\_p & hsc\\_b & hsc\\_s & degree\\_p & degree\\_t & workex & etest\\_p & specialisation & mba\\_p & status & salary & class\\\\\n <int> & <chr> & <fct> & <chr> & <dbl> & <chr> & <chr> & <dbl> & <chr> & <chr> & <dbl> & <chr> & <dbl> & <dbl> & <dbl> & <int>\\\\\n\\hline\n\t  1 & M & B & Others  & 0.008128857 & Others  & Commerce & 0.195121951 & Sci\\&Tech  & 0 & 0.10416667 & Mkt\\&HR  & 0.284482759 & 1 & 0.09459459 & 0\\\\\n\t  2 & M & A & Central & 0.006221587 & Others  & Science  & 0.670243902 & Sci\\&Tech  & 1 & 0.76041667 & Mkt\\&Fin & 0.564842579 & 1 & 0.00000000 & 0\\\\\n\t  3 & M & B & Central & 0.004666566 & Central & Arts     & 0.341463415 & Comm\\&Mgmt & 0 & 0.52083333 & Mkt\\&Fin & 0.247001499 & 1 & 0.06756757 & 0\\\\\n\t  4 & M & C & Central & 0.002258016 & Central & Science  & 0.048780488 & Sci\\&Tech  & 0 & 0.33333333 & Mkt\\&HR  & 0.308095952 & 0 & 0.08783784 & 0\\\\\n\t  5 & M & A & Central & 0.005509559 & Central & Commerce & 0.568292683 & Comm\\&Mgmt & 0 & 0.97500000 & Mkt\\&Fin & 0.160794603 & 1 & 0.30405405 & 1\\\\\n\t  6 & M & C & Others  & 0.001926840 & Others  & Science  & 0.420731707 & Sci\\&Tech  & 1 & 0.10416667 & Mkt\\&Fin & 0.013868066 & 0 & 0.08783784 & 1\\\\\n\t  7 & F & C & Others  & 0.001836520 & Others  & Commerce & 0.707317073 & Comm\\&Mgmt & 0 & 0.50583333 & Mkt\\&Fin & 0.077961019 & 0 & 0.08783784 & 1\\\\\n\t  8 & M & A & Central & 0.004064429 & Central & Science  & 0.390243902 & Sci\\&Tech  & 1 & 0.35416667 & Mkt\\&Fin & 0.409670165 & 1 & 0.07027027 & 0\\\\\n\t  9 & M & B & Central & 0.006322445 & Central & Commerce & 0.536585366 & Comm\\&Mgmt & 0 & 0.86125000 & Mkt\\&Fin & 0.377811094 & 1 & 0.04189189 & 0\\\\\n\t 10 & M & C & Central & 0.004967635 & Central & Commerce & 0.268292683 & Comm\\&Mgmt & 0 & 0.08333333 & Mkt\\&Fin & 0.037481259 & 0 & 0.08783784 & 0\\\\\n\t 11 & M & C & Central & 0.003612826 & Central & Commerce & 0.243902439 & Comm\\&Mgmt & 1 & 0.25000000 & Mkt\\&HR  & 0.361319340 & 1 & 0.08108108 & 0\\\\\n\t 12 & M & B & Central & 0.004726780 & Central & Commerce & 0.690243902 & Comm\\&Mgmt & 1 & 0.20833333 & Mkt\\&Fin & 0.468140930 & 1 & 0.06756757 & 0\\\\\n\t 13 & F & C & Central & 0.002709619 & Others  & Science  & 0.365853659 & Comm\\&Mgmt & 0 & 0.25000000 & Mkt\\&HR  & 0.518365817 & 0 & 0.08783784 & 0\\\\\n\t 14 & F & A & Central & 0.007526720 & Central & Commerce & 0.219512195 & Comm\\&Mgmt & 0 & 0.37500000 & Mkt\\&Fin & 0.652923538 & 1 & 0.02432432 & 0\\\\\n\t 15 & M & B & Central & 0.001505344 & Central & Commerce & 0.000000000 & Comm\\&Mgmt & 0 & 0.54166667 & Mkt\\&HR  & 0.140554723 & 0 & 0.08783784 & 0\\\\\n\t 16 & F & B & Central & 0.005720307 & Central & Commerce & 0.463414634 & Comm\\&Mgmt & 1 & 0.45833333 & Mkt\\&Fin & 0.504122939 & 1 & 0.00000000 & 0\\\\\n\t 17 & M & B & Central & 0.004395604 & Central & Commerce & 0.380487805 & Comm\\&Mgmt & 1 & 0.20833333 & Mkt\\&Fin & 0.424662669 & 1 & 0.13513514 & 1\\\\\n\t 18 & F & C & Central & 0.004516032 & Central & Commerce & 0.341463415 & Comm\\&Mgmt & 0 & 0.20833333 & Mkt\\&Fin & 0.602323838 & 0 & 0.08783784 & 1\\\\\n\t 19 & F & B & Central & 0.004365498 & Central & Commerce & 0.341463415 & Comm\\&Mgmt & 0 & 0.37500000 & Mkt\\&HR  & 0.482383808 & 0 & 0.08783784 & 1\\\\\n\t 20 & M & B & Others  & 0.004516032 & Others  & Arts     & 0.487804878 & Comm\\&Mgmt & 1 & 0.01000000 & Mkt\\&Fin & 1.000000000 & 1 & 0.04864865 & 0\\\\\n\t 21 & M & B & Others  & 0.004214963 & Others  & Commerce & 0.390243902 & Comm\\&Mgmt & 0 & 0.00000000 & Mkt\\&HR  & 0.205772114 & 1 & 0.08783784 & 1\\\\\n\t 22 & F & A & Others  & 0.005870841 & Others  & Commerce & 0.853658537 & Comm\\&Mgmt & 0 & 0.93750000 & Mkt\\&Fin & 0.669040480 & 1 & 0.26081081 & 1\\\\\n\t 23 & F & B & Others  & 0.003582719 & Others  & Science  & 0.542195122 & Sci\\&Tech  & 0 & 0.11520833 & Mkt\\&HR  & 0.659670165 & 1 & 0.21621622 & 1\\\\\n\t 24 & F & A & Others  & 0.003462291 & Others  & Science  & 0.359512195 & Sci\\&Tech  & 1 & 0.87500000 & Mkt\\&Fin & 0.465142429 & 1 & 0.13513514 & 1\\\\\n\t 25 & M & A & Others  & 0.009137438 & Others  & Science  & 0.703902439 & Sci\\&Tech  & 0 & 0.98750000 & Mkt\\&Fin & 0.854572714 & 1 & 0.21621622 & 1\\\\\n\t 26 & F & C & Others  & 0.002649405 & Central & Commerce & 0.004878049 & Comm\\&Mgmt & 1 & 0.54166667 & Mkt\\&Fin & 0.529235382 & 0 & 0.08783784 & 1\\\\\n\t 27 & M & B & Others  & 0.006322445 & Others  & Commerce & 0.390243902 & Comm\\&Mgmt & 1 & 0.91666667 & Mkt\\&Fin & 0.237631184 & 1 & 0.05405405 & 0\\\\\n\t 28 & M & B & Others  & 0.004516032 & Others  & Commerce & 0.390243902 & Comm\\&Mgmt & 0 & 0.37500000 & Mkt\\&HR  & 0.242878561 & 1 & 0.08783784 & 1\\\\\n\t 29 & M & A & Others  & 0.005946109 & Others  & Commerce & 0.426829268 & Comm\\&Mgmt & 1 & 0.48645833 & Mkt\\&Fin & 0.485007496 & 1 & 0.20270270 & 1\\\\\n\t 30 & M & B & Central & 0.004516032 & Central & Commerce & 0.195121951 & Comm\\&Mgmt & 0 & 0.56250000 & Mkt\\&Fin & 0.002998501 & 0 & 0.08783784 & 1\\\\\n\t ⋮ & ⋮ & ⋮ & ⋮ & ⋮ & ⋮ & ⋮ & ⋮ & ⋮ & ⋮ & ⋮ & ⋮ & ⋮ & ⋮ & ⋮ & ⋮\\\\\n\t 187 & F & C & Central & 0.004064429 & Central & Commerce & 0.26829268 & Comm\\&Mgmt & 0 & 0.1041667 & Mkt\\&Fin & 0.43928036 & 0 & 0.087837838 & 0\\\\\n\t 188 & M & A & Central & 0.004290230 & Central & Science  & 0.41463415 & Sci\\&Tech  & 1 & 0.9375000 & Mkt\\&Fin & 0.51161919 & 1 & 0.108108108 & 1\\\\\n\t 189 & M & B & Others  & 0.001505344 & Others  & Commerce & 0.10682927 & Comm\\&Mgmt & 0 & 0.1458333 & Mkt\\&Fin & 0.18440780 & 0 & 0.087837838 & 1\\\\\n\t 190 & F & C & Central & 0.006111697 & Others  & Commerce & 0.46829268 & Comm\\&Mgmt & 0 & 0.9510417 & Mkt\\&Fin & 0.58958021 & 0 & 0.087837838 & 1\\\\\n\t 191 & F & B & Others  & 0.004997742 & Central & Commerce & 0.26829268 & Comm\\&Mgmt & 0 & 0.0000000 & Mkt\\&Fin & 0.42316342 & 0 & 0.087837838 & 1\\\\\n\t 192 & M & B & Others  & 0.003612826 & Central & Science  & 0.53658537 & Comm\\&Mgmt & 0 & 0.4583333 & Mkt\\&Fin & 0.36731634 & 1 & 0.086486486 & 1\\\\\n\t 193 & M & B & Central & 0.003673039 & Central & Commerce & 0.36097561 & Comm\\&Mgmt & 1 & 0.9041667 & Mkt\\&Fin & 0.22976012 & 1 & 0.094594595 & 1\\\\\n\t 194 & F & B & Central & 0.003913894 & Central & Arts     & 0.14634146 & Others    & 1 & 0.6250000 & Mkt\\&HR  & 0.20314843 & 1 & 0.135135135 & 1\\\\\n\t 195 & M & C & Others  & 0.002709619 & Others  & Commerce & 0.15365854 & Comm\\&Mgmt & 0 & 0.1875000 & Mkt\\&Fin & 0.50712144 & 0 & 0.087837838 & 1\\\\\n\t 196 & M & B & Central & 0.005870841 & Central & Commerce & 0.53658537 & Comm\\&Mgmt & 1 & 0.7083333 & Mkt\\&HR  & 0.29010495 & 1 & 0.101351351 & 1\\\\\n\t 197 & M & B & Others  & 0.003913894 & Others  & Science  & 0.67073171 & Sci\\&Tech  & 1 & 0.5833333 & Mkt\\&Fin & 0.12256372 & 1 & 0.067567568 & 0\\\\\n\t 198 & F & A & Others  & 0.002408550 & Others  & Science  & 1.00000000 & Sci\\&Tech  & 0 & 0.1941667 & Mkt\\&HR  & 0.69340330 & 1 & 0.081081081 & 1\\\\\n\t 199 & F & B & Central & 0.004967635 & Central & Commerce & 0.36585366 & Others    & 0 & 0.7916667 & Mkt\\&HR  & 0.77773613 & 0 & 0.087837838 & 1\\\\\n\t 200 & M & B & Others  & 0.004214963 & Others  & Commerce & 0.17073171 & Comm\\&Mgmt & 0 & 0.4791667 & Mkt\\&HR  & 0.17203898 & 1 & 0.087837838 & 1\\\\\n\t 201 & M & B & Others  & 0.003462291 & Others  & Commerce & 0.36585366 & Comm\\&Mgmt & 0 & 0.7822917 & Mkt\\&Fin & 0.05997001 & 1 & 0.135135135 & 1\\\\\n\t 202 & M & C & Central & 0.003913894 & Others  & Science  & 0.19512195 & Comm\\&Mgmt & 0 & 0.6041667 & Mkt\\&HR  & 0.27098951 & 0 & 0.087837838 & 1\\\\\n\t 203 & M & B & Central & 0.003913894 & Central & Science  & 0.39024390 & Sci\\&Tech  & 0 & 0.2350000 & Mkt\\&HR  & 0.33358321 & 1 & 0.054054054 & 0\\\\\n\t 204 & M & C & Others  & 0.003662502 & Others  & Commerce & 0.16756098 & Comm\\&Mgmt & 0 & 0.3333333 & Mkt\\&HR  & 0.26574213 & 1 & 0.081081081 & 1\\\\\n\t 205 & F & B & Others  & 0.005419238 & Others  & Commerce & 0.56097561 & Comm\\&Mgmt & 1 & 0.6250000 & Mkt\\&Fin & 0.61769115 & 1 & 0.013513514 & 0\\\\\n\t 206 & M & B & Others  & 0.003763360 & Others  & Commerce & 0.36585366 & Comm\\&Mgmt & 0 & 0.2500000 & Mkt\\&Fin & 0.20989505 & 1 & 0.067567568 & 0\\\\\n\t 207 & M & C & Central & 0.000752672 & Central & Science  & 0.24390244 & Comm\\&Mgmt & 0 & 0.9791667 & Mkt\\&Fin & 0.08170915 & 0 & 0.087837838 & 0\\\\\n\t 208 & M & A & Central & 0.006171910 & Others  & Commerce & 0.26829268 & Comm\\&Mgmt & 1 & 0.8033333 & Mkt\\&Fin & 0.76236882 & 1 & 0.135135135 & 1\\\\\n\t 209 & F & C & Central & 0.003462291 & Others  & Science  & 0.36585366 & Comm\\&Mgmt & 0 & 0.8887500 & Mkt\\&HR  & 0.43890555 & 0 & 0.087837838 & 1\\\\\n\t 210 & M & B & Central & 0.005268704 & Central & Commerce & 0.36585366 & Comm\\&Mgmt & 0 & 0.3541667 & Mkt\\&Fin & 0.19790105 & 1 & 0.021621622 & 0\\\\\n\t 211 & M & A & Others  & 0.006774048 & Others  & Commerce & 0.67317073 & Comm\\&Mgmt & 0 & 0.8541667 & Mkt\\&Fin & 0.87256372 & 1 & 0.270270270 & 1\\\\\n\t 212 & M & C & Others  & 0.003462291 & Others  & Science  & 0.53658537 & Sci\\&Tech  & 0 & 0.5000000 & Mkt\\&Fin & 0.09032984 & 1 & 0.101351351 & 1\\\\\n\t 213 & M & B & Others  & 0.004516032 & Others  & Commerce & 0.56097561 & Comm\\&Mgmt & 1 & 0.1875000 & Mkt\\&Fin & 0.69377811 & 1 & 0.128378378 & 1\\\\\n\t 214 & F & B & Others  & 0.004365498 & Others  & Commerce & 0.19512195 & Comm\\&Mgmt & 0 & 0.4166667 & Mkt\\&HR  & 0.33808096 & 1 & 0.005405405 & 0\\\\\n\t 215 & M & B & Central & 0.003161222 & Others  & Science  & 0.07317073 & Comm\\&Mgmt & 0 & 0.8125000 & Mkt\\&HR  & 0.33770615 & 0 & 0.087837838 & 0\\\\\n\t 216 & M & B & Others  & 0.008128857 & Others  & Commerce & 0.19512195 & Sci\\&Tech  & 0 & 0.1041667 & Mkt\\&HR  & 0.28448276 & 1 & 0.094594595 & 1\\\\\n\\end{tabular}\n",
            "text/plain": [
              "    sl_no gender ssc_p ssc_b   hsc_p       hsc_b   hsc_s    degree_p   \n",
              "1    1    M      B     Others  0.008128857 Others  Commerce 0.195121951\n",
              "2    2    M      A     Central 0.006221587 Others  Science  0.670243902\n",
              "3    3    M      B     Central 0.004666566 Central Arts     0.341463415\n",
              "4    4    M      C     Central 0.002258016 Central Science  0.048780488\n",
              "5    5    M      A     Central 0.005509559 Central Commerce 0.568292683\n",
              "6    6    M      C     Others  0.001926840 Others  Science  0.420731707\n",
              "7    7    F      C     Others  0.001836520 Others  Commerce 0.707317073\n",
              "8    8    M      A     Central 0.004064429 Central Science  0.390243902\n",
              "9    9    M      B     Central 0.006322445 Central Commerce 0.536585366\n",
              "10  10    M      C     Central 0.004967635 Central Commerce 0.268292683\n",
              "11  11    M      C     Central 0.003612826 Central Commerce 0.243902439\n",
              "12  12    M      B     Central 0.004726780 Central Commerce 0.690243902\n",
              "13  13    F      C     Central 0.002709619 Others  Science  0.365853659\n",
              "14  14    F      A     Central 0.007526720 Central Commerce 0.219512195\n",
              "15  15    M      B     Central 0.001505344 Central Commerce 0.000000000\n",
              "16  16    F      B     Central 0.005720307 Central Commerce 0.463414634\n",
              "17  17    M      B     Central 0.004395604 Central Commerce 0.380487805\n",
              "18  18    F      C     Central 0.004516032 Central Commerce 0.341463415\n",
              "19  19    F      B     Central 0.004365498 Central Commerce 0.341463415\n",
              "20  20    M      B     Others  0.004516032 Others  Arts     0.487804878\n",
              "21  21    M      B     Others  0.004214963 Others  Commerce 0.390243902\n",
              "22  22    F      A     Others  0.005870841 Others  Commerce 0.853658537\n",
              "23  23    F      B     Others  0.003582719 Others  Science  0.542195122\n",
              "24  24    F      A     Others  0.003462291 Others  Science  0.359512195\n",
              "25  25    M      A     Others  0.009137438 Others  Science  0.703902439\n",
              "26  26    F      C     Others  0.002649405 Central Commerce 0.004878049\n",
              "27  27    M      B     Others  0.006322445 Others  Commerce 0.390243902\n",
              "28  28    M      B     Others  0.004516032 Others  Commerce 0.390243902\n",
              "29  29    M      A     Others  0.005946109 Others  Commerce 0.426829268\n",
              "30  30    M      B     Central 0.004516032 Central Commerce 0.195121951\n",
              "⋮   ⋮     ⋮      ⋮     ⋮       ⋮           ⋮       ⋮        ⋮          \n",
              "187 187   F      C     Central 0.004064429 Central Commerce 0.26829268 \n",
              "188 188   M      A     Central 0.004290230 Central Science  0.41463415 \n",
              "189 189   M      B     Others  0.001505344 Others  Commerce 0.10682927 \n",
              "190 190   F      C     Central 0.006111697 Others  Commerce 0.46829268 \n",
              "191 191   F      B     Others  0.004997742 Central Commerce 0.26829268 \n",
              "192 192   M      B     Others  0.003612826 Central Science  0.53658537 \n",
              "193 193   M      B     Central 0.003673039 Central Commerce 0.36097561 \n",
              "194 194   F      B     Central 0.003913894 Central Arts     0.14634146 \n",
              "195 195   M      C     Others  0.002709619 Others  Commerce 0.15365854 \n",
              "196 196   M      B     Central 0.005870841 Central Commerce 0.53658537 \n",
              "197 197   M      B     Others  0.003913894 Others  Science  0.67073171 \n",
              "198 198   F      A     Others  0.002408550 Others  Science  1.00000000 \n",
              "199 199   F      B     Central 0.004967635 Central Commerce 0.36585366 \n",
              "200 200   M      B     Others  0.004214963 Others  Commerce 0.17073171 \n",
              "201 201   M      B     Others  0.003462291 Others  Commerce 0.36585366 \n",
              "202 202   M      C     Central 0.003913894 Others  Science  0.19512195 \n",
              "203 203   M      B     Central 0.003913894 Central Science  0.39024390 \n",
              "204 204   M      C     Others  0.003662502 Others  Commerce 0.16756098 \n",
              "205 205   F      B     Others  0.005419238 Others  Commerce 0.56097561 \n",
              "206 206   M      B     Others  0.003763360 Others  Commerce 0.36585366 \n",
              "207 207   M      C     Central 0.000752672 Central Science  0.24390244 \n",
              "208 208   M      A     Central 0.006171910 Others  Commerce 0.26829268 \n",
              "209 209   F      C     Central 0.003462291 Others  Science  0.36585366 \n",
              "210 210   M      B     Central 0.005268704 Central Commerce 0.36585366 \n",
              "211 211   M      A     Others  0.006774048 Others  Commerce 0.67317073 \n",
              "212 212   M      C     Others  0.003462291 Others  Science  0.53658537 \n",
              "213 213   M      B     Others  0.004516032 Others  Commerce 0.56097561 \n",
              "214 214   F      B     Others  0.004365498 Others  Commerce 0.19512195 \n",
              "215 215   M      B     Central 0.003161222 Others  Science  0.07317073 \n",
              "216 216   M      B     Others  0.008128857 Others  Commerce 0.19512195 \n",
              "    degree_t  workex etest_p    specialisation mba_p       status salary     \n",
              "1   Sci&Tech  0      0.10416667 Mkt&HR         0.284482759 1      0.09459459 \n",
              "2   Sci&Tech  1      0.76041667 Mkt&Fin        0.564842579 1      0.00000000 \n",
              "3   Comm&Mgmt 0      0.52083333 Mkt&Fin        0.247001499 1      0.06756757 \n",
              "4   Sci&Tech  0      0.33333333 Mkt&HR         0.308095952 0      0.08783784 \n",
              "5   Comm&Mgmt 0      0.97500000 Mkt&Fin        0.160794603 1      0.30405405 \n",
              "6   Sci&Tech  1      0.10416667 Mkt&Fin        0.013868066 0      0.08783784 \n",
              "7   Comm&Mgmt 0      0.50583333 Mkt&Fin        0.077961019 0      0.08783784 \n",
              "8   Sci&Tech  1      0.35416667 Mkt&Fin        0.409670165 1      0.07027027 \n",
              "9   Comm&Mgmt 0      0.86125000 Mkt&Fin        0.377811094 1      0.04189189 \n",
              "10  Comm&Mgmt 0      0.08333333 Mkt&Fin        0.037481259 0      0.08783784 \n",
              "11  Comm&Mgmt 1      0.25000000 Mkt&HR         0.361319340 1      0.08108108 \n",
              "12  Comm&Mgmt 1      0.20833333 Mkt&Fin        0.468140930 1      0.06756757 \n",
              "13  Comm&Mgmt 0      0.25000000 Mkt&HR         0.518365817 0      0.08783784 \n",
              "14  Comm&Mgmt 0      0.37500000 Mkt&Fin        0.652923538 1      0.02432432 \n",
              "15  Comm&Mgmt 0      0.54166667 Mkt&HR         0.140554723 0      0.08783784 \n",
              "16  Comm&Mgmt 1      0.45833333 Mkt&Fin        0.504122939 1      0.00000000 \n",
              "17  Comm&Mgmt 1      0.20833333 Mkt&Fin        0.424662669 1      0.13513514 \n",
              "18  Comm&Mgmt 0      0.20833333 Mkt&Fin        0.602323838 0      0.08783784 \n",
              "19  Comm&Mgmt 0      0.37500000 Mkt&HR         0.482383808 0      0.08783784 \n",
              "20  Comm&Mgmt 1      0.01000000 Mkt&Fin        1.000000000 1      0.04864865 \n",
              "21  Comm&Mgmt 0      0.00000000 Mkt&HR         0.205772114 1      0.08783784 \n",
              "22  Comm&Mgmt 0      0.93750000 Mkt&Fin        0.669040480 1      0.26081081 \n",
              "23  Sci&Tech  0      0.11520833 Mkt&HR         0.659670165 1      0.21621622 \n",
              "24  Sci&Tech  1      0.87500000 Mkt&Fin        0.465142429 1      0.13513514 \n",
              "25  Sci&Tech  0      0.98750000 Mkt&Fin        0.854572714 1      0.21621622 \n",
              "26  Comm&Mgmt 1      0.54166667 Mkt&Fin        0.529235382 0      0.08783784 \n",
              "27  Comm&Mgmt 1      0.91666667 Mkt&Fin        0.237631184 1      0.05405405 \n",
              "28  Comm&Mgmt 0      0.37500000 Mkt&HR         0.242878561 1      0.08783784 \n",
              "29  Comm&Mgmt 1      0.48645833 Mkt&Fin        0.485007496 1      0.20270270 \n",
              "30  Comm&Mgmt 0      0.56250000 Mkt&Fin        0.002998501 0      0.08783784 \n",
              "⋮   ⋮         ⋮      ⋮          ⋮              ⋮           ⋮      ⋮          \n",
              "187 Comm&Mgmt 0      0.1041667  Mkt&Fin        0.43928036  0      0.087837838\n",
              "188 Sci&Tech  1      0.9375000  Mkt&Fin        0.51161919  1      0.108108108\n",
              "189 Comm&Mgmt 0      0.1458333  Mkt&Fin        0.18440780  0      0.087837838\n",
              "190 Comm&Mgmt 0      0.9510417  Mkt&Fin        0.58958021  0      0.087837838\n",
              "191 Comm&Mgmt 0      0.0000000  Mkt&Fin        0.42316342  0      0.087837838\n",
              "192 Comm&Mgmt 0      0.4583333  Mkt&Fin        0.36731634  1      0.086486486\n",
              "193 Comm&Mgmt 1      0.9041667  Mkt&Fin        0.22976012  1      0.094594595\n",
              "194 Others    1      0.6250000  Mkt&HR         0.20314843  1      0.135135135\n",
              "195 Comm&Mgmt 0      0.1875000  Mkt&Fin        0.50712144  0      0.087837838\n",
              "196 Comm&Mgmt 1      0.7083333  Mkt&HR         0.29010495  1      0.101351351\n",
              "197 Sci&Tech  1      0.5833333  Mkt&Fin        0.12256372  1      0.067567568\n",
              "198 Sci&Tech  0      0.1941667  Mkt&HR         0.69340330  1      0.081081081\n",
              "199 Others    0      0.7916667  Mkt&HR         0.77773613  0      0.087837838\n",
              "200 Comm&Mgmt 0      0.4791667  Mkt&HR         0.17203898  1      0.087837838\n",
              "201 Comm&Mgmt 0      0.7822917  Mkt&Fin        0.05997001  1      0.135135135\n",
              "202 Comm&Mgmt 0      0.6041667  Mkt&HR         0.27098951  0      0.087837838\n",
              "203 Sci&Tech  0      0.2350000  Mkt&HR         0.33358321  1      0.054054054\n",
              "204 Comm&Mgmt 0      0.3333333  Mkt&HR         0.26574213  1      0.081081081\n",
              "205 Comm&Mgmt 1      0.6250000  Mkt&Fin        0.61769115  1      0.013513514\n",
              "206 Comm&Mgmt 0      0.2500000  Mkt&Fin        0.20989505  1      0.067567568\n",
              "207 Comm&Mgmt 0      0.9791667  Mkt&Fin        0.08170915  0      0.087837838\n",
              "208 Comm&Mgmt 1      0.8033333  Mkt&Fin        0.76236882  1      0.135135135\n",
              "209 Comm&Mgmt 0      0.8887500  Mkt&HR         0.43890555  0      0.087837838\n",
              "210 Comm&Mgmt 0      0.3541667  Mkt&Fin        0.19790105  1      0.021621622\n",
              "211 Comm&Mgmt 0      0.8541667  Mkt&Fin        0.87256372  1      0.270270270\n",
              "212 Sci&Tech  0      0.5000000  Mkt&Fin        0.09032984  1      0.101351351\n",
              "213 Comm&Mgmt 1      0.1875000  Mkt&Fin        0.69377811  1      0.128378378\n",
              "214 Comm&Mgmt 0      0.4166667  Mkt&HR         0.33808096  1      0.005405405\n",
              "215 Comm&Mgmt 0      0.8125000  Mkt&HR         0.33770615  0      0.087837838\n",
              "216 Sci&Tech  0      0.1041667  Mkt&HR         0.28448276  1      0.094594595\n",
              "    class\n",
              "1   0    \n",
              "2   0    \n",
              "3   0    \n",
              "4   0    \n",
              "5   1    \n",
              "6   1    \n",
              "7   1    \n",
              "8   0    \n",
              "9   0    \n",
              "10  0    \n",
              "11  0    \n",
              "12  0    \n",
              "13  0    \n",
              "14  0    \n",
              "15  0    \n",
              "16  0    \n",
              "17  1    \n",
              "18  1    \n",
              "19  1    \n",
              "20  0    \n",
              "21  1    \n",
              "22  1    \n",
              "23  1    \n",
              "24  1    \n",
              "25  1    \n",
              "26  1    \n",
              "27  0    \n",
              "28  1    \n",
              "29  1    \n",
              "30  1    \n",
              "⋮   ⋮    \n",
              "187 0    \n",
              "188 1    \n",
              "189 1    \n",
              "190 1    \n",
              "191 1    \n",
              "192 1    \n",
              "193 1    \n",
              "194 1    \n",
              "195 1    \n",
              "196 1    \n",
              "197 0    \n",
              "198 1    \n",
              "199 1    \n",
              "200 1    \n",
              "201 1    \n",
              "202 1    \n",
              "203 0    \n",
              "204 1    \n",
              "205 0    \n",
              "206 0    \n",
              "207 0    \n",
              "208 1    \n",
              "209 1    \n",
              "210 0    \n",
              "211 1    \n",
              "212 1    \n",
              "213 1    \n",
              "214 0    \n",
              "215 0    \n",
              "216 1    "
            ]
          },
          "metadata": {}
        }
      ]
    },
    {
      "cell_type": "markdown",
      "source": [
        "## 9. Filter data using any logic"
      ],
      "metadata": {
        "id": "p5amTTb9fMry"
      }
    },
    {
      "cell_type": "code",
      "source": [
        "filter(MyData, gender == \"M\" & hsc_s == \"Commerce\" & degree_t == \"Sci&Tech\")"
      ],
      "metadata": {
        "colab": {
          "base_uri": "https://localhost:8080/",
          "height": 192
        },
        "id": "TjPpqZ8ETUhZ",
        "outputId": "371c3b75-99a8-474b-b802-bc352dd0f042"
      },
      "execution_count": 41,
      "outputs": [
        {
          "output_type": "display_data",
          "data": {
            "text/html": [
              "<table class=\"dataframe\">\n",
              "<caption>A data.frame: 3 × 16</caption>\n",
              "<thead>\n",
              "\t<tr><th scope=col>sl_no</th><th scope=col>gender</th><th scope=col>ssc_p</th><th scope=col>ssc_b</th><th scope=col>hsc_p</th><th scope=col>hsc_b</th><th scope=col>hsc_s</th><th scope=col>degree_p</th><th scope=col>degree_t</th><th scope=col>workex</th><th scope=col>etest_p</th><th scope=col>specialisation</th><th scope=col>mba_p</th><th scope=col>status</th><th scope=col>salary</th><th scope=col>class</th></tr>\n",
              "\t<tr><th scope=col>&lt;int&gt;</th><th scope=col>&lt;chr&gt;</th><th scope=col>&lt;fct&gt;</th><th scope=col>&lt;chr&gt;</th><th scope=col>&lt;dbl&gt;</th><th scope=col>&lt;chr&gt;</th><th scope=col>&lt;chr&gt;</th><th scope=col>&lt;dbl&gt;</th><th scope=col>&lt;chr&gt;</th><th scope=col>&lt;chr&gt;</th><th scope=col>&lt;dbl&gt;</th><th scope=col>&lt;chr&gt;</th><th scope=col>&lt;dbl&gt;</th><th scope=col>&lt;dbl&gt;</th><th scope=col>&lt;dbl&gt;</th><th scope=col>&lt;int&gt;</th></tr>\n",
              "</thead>\n",
              "<tbody>\n",
              "\t<tr><td><span style=white-space:pre-wrap>  1</span></td><td>M</td><td>B</td><td>Others </td><td>0.008128857</td><td>Others</td><td>Commerce</td><td>0.1951220</td><td>Sci&amp;Tech</td><td>0</td><td>0.1041667</td><td>Mkt&amp;HR </td><td>0.2844828</td><td>1</td><td>0.09459459</td><td>0</td></tr>\n",
              "\t<tr><td>100</td><td>M</td><td>C</td><td>Central</td><td>0.006774048</td><td>Others</td><td>Commerce</td><td>0.3170732</td><td>Sci&amp;Tech</td><td>0</td><td>0.0000000</td><td>Mkt&amp;Fin</td><td>0.3095952</td><td>0</td><td>0.08783784</td><td>0</td></tr>\n",
              "\t<tr><td>216</td><td>M</td><td>B</td><td>Others </td><td>0.008128857</td><td>Others</td><td>Commerce</td><td>0.1951220</td><td>Sci&amp;Tech</td><td>0</td><td>0.1041667</td><td>Mkt&amp;HR </td><td>0.2844828</td><td>1</td><td>0.09459459</td><td>1</td></tr>\n",
              "</tbody>\n",
              "</table>\n"
            ],
            "text/markdown": "\nA data.frame: 3 × 16\n\n| sl_no &lt;int&gt; | gender &lt;chr&gt; | ssc_p &lt;fct&gt; | ssc_b &lt;chr&gt; | hsc_p &lt;dbl&gt; | hsc_b &lt;chr&gt; | hsc_s &lt;chr&gt; | degree_p &lt;dbl&gt; | degree_t &lt;chr&gt; | workex &lt;chr&gt; | etest_p &lt;dbl&gt; | specialisation &lt;chr&gt; | mba_p &lt;dbl&gt; | status &lt;dbl&gt; | salary &lt;dbl&gt; | class &lt;int&gt; |\n|---|---|---|---|---|---|---|---|---|---|---|---|---|---|---|---|\n|   1 | M | B | Others  | 0.008128857 | Others | Commerce | 0.1951220 | Sci&amp;Tech | 0 | 0.1041667 | Mkt&amp;HR  | 0.2844828 | 1 | 0.09459459 | 0 |\n| 100 | M | C | Central | 0.006774048 | Others | Commerce | 0.3170732 | Sci&amp;Tech | 0 | 0.0000000 | Mkt&amp;Fin | 0.3095952 | 0 | 0.08783784 | 0 |\n| 216 | M | B | Others  | 0.008128857 | Others | Commerce | 0.1951220 | Sci&amp;Tech | 0 | 0.1041667 | Mkt&amp;HR  | 0.2844828 | 1 | 0.09459459 | 1 |\n\n",
            "text/latex": "A data.frame: 3 × 16\n\\begin{tabular}{llllllllllllllll}\n sl\\_no & gender & ssc\\_p & ssc\\_b & hsc\\_p & hsc\\_b & hsc\\_s & degree\\_p & degree\\_t & workex & etest\\_p & specialisation & mba\\_p & status & salary & class\\\\\n <int> & <chr> & <fct> & <chr> & <dbl> & <chr> & <chr> & <dbl> & <chr> & <chr> & <dbl> & <chr> & <dbl> & <dbl> & <dbl> & <int>\\\\\n\\hline\n\t   1 & M & B & Others  & 0.008128857 & Others & Commerce & 0.1951220 & Sci\\&Tech & 0 & 0.1041667 & Mkt\\&HR  & 0.2844828 & 1 & 0.09459459 & 0\\\\\n\t 100 & M & C & Central & 0.006774048 & Others & Commerce & 0.3170732 & Sci\\&Tech & 0 & 0.0000000 & Mkt\\&Fin & 0.3095952 & 0 & 0.08783784 & 0\\\\\n\t 216 & M & B & Others  & 0.008128857 & Others & Commerce & 0.1951220 & Sci\\&Tech & 0 & 0.1041667 & Mkt\\&HR  & 0.2844828 & 1 & 0.09459459 & 1\\\\\n\\end{tabular}\n",
            "text/plain": [
              "  sl_no gender ssc_p ssc_b   hsc_p       hsc_b  hsc_s    degree_p  degree_t\n",
              "1   1   M      B     Others  0.008128857 Others Commerce 0.1951220 Sci&Tech\n",
              "2 100   M      C     Central 0.006774048 Others Commerce 0.3170732 Sci&Tech\n",
              "3 216   M      B     Others  0.008128857 Others Commerce 0.1951220 Sci&Tech\n",
              "  workex etest_p   specialisation mba_p     status salary     class\n",
              "1 0      0.1041667 Mkt&HR         0.2844828 1      0.09459459 0    \n",
              "2 0      0.0000000 Mkt&Fin        0.3095952 0      0.08783784 0    \n",
              "3 0      0.1041667 Mkt&HR         0.2844828 1      0.09459459 1    "
            ]
          },
          "metadata": {}
        }
      ]
    },
    {
      "cell_type": "code",
      "source": [
        "subset(MyData ,hsc_p >= 65.00 & hsc_b ==\"Central\")"
      ],
      "metadata": {
        "colab": {
          "base_uri": "https://localhost:8080/",
          "height": 98
        },
        "id": "oJhUXoiPWaaM",
        "outputId": "d06c7ceb-49e0-4e7f-b0ee-cf690059d0f7"
      },
      "execution_count": 42,
      "outputs": [
        {
          "output_type": "display_data",
          "data": {
            "text/html": [
              "<table class=\"dataframe\">\n",
              "<caption>A data.frame: 0 × 16</caption>\n",
              "<thead>\n",
              "\t<tr><th scope=col>sl_no</th><th scope=col>gender</th><th scope=col>ssc_p</th><th scope=col>ssc_b</th><th scope=col>hsc_p</th><th scope=col>hsc_b</th><th scope=col>hsc_s</th><th scope=col>degree_p</th><th scope=col>degree_t</th><th scope=col>workex</th><th scope=col>etest_p</th><th scope=col>specialisation</th><th scope=col>mba_p</th><th scope=col>status</th><th scope=col>salary</th><th scope=col>class</th></tr>\n",
              "\t<tr><th scope=col>&lt;int&gt;</th><th scope=col>&lt;chr&gt;</th><th scope=col>&lt;fct&gt;</th><th scope=col>&lt;chr&gt;</th><th scope=col>&lt;dbl&gt;</th><th scope=col>&lt;chr&gt;</th><th scope=col>&lt;chr&gt;</th><th scope=col>&lt;dbl&gt;</th><th scope=col>&lt;chr&gt;</th><th scope=col>&lt;chr&gt;</th><th scope=col>&lt;dbl&gt;</th><th scope=col>&lt;chr&gt;</th><th scope=col>&lt;dbl&gt;</th><th scope=col>&lt;dbl&gt;</th><th scope=col>&lt;dbl&gt;</th><th scope=col>&lt;int&gt;</th></tr>\n",
              "</thead>\n",
              "<tbody>\n",
              "</tbody>\n",
              "</table>\n"
            ],
            "text/markdown": "\nA data.frame: 0 × 16\n\n| sl_no &lt;int&gt; | gender &lt;chr&gt; | ssc_p &lt;fct&gt; | ssc_b &lt;chr&gt; | hsc_p &lt;dbl&gt; | hsc_b &lt;chr&gt; | hsc_s &lt;chr&gt; | degree_p &lt;dbl&gt; | degree_t &lt;chr&gt; | workex &lt;chr&gt; | etest_p &lt;dbl&gt; | specialisation &lt;chr&gt; | mba_p &lt;dbl&gt; | status &lt;dbl&gt; | salary &lt;dbl&gt; | class &lt;int&gt; |\n|---|---|---|---|---|---|---|---|---|---|---|---|---|---|---|---|\n\n",
            "text/latex": "A data.frame: 0 × 16\n\\begin{tabular}{llllllllllllllll}\n sl\\_no & gender & ssc\\_p & ssc\\_b & hsc\\_p & hsc\\_b & hsc\\_s & degree\\_p & degree\\_t & workex & etest\\_p & specialisation & mba\\_p & status & salary & class\\\\\n <int> & <chr> & <fct> & <chr> & <dbl> & <chr> & <chr> & <dbl> & <chr> & <chr> & <dbl> & <chr> & <dbl> & <dbl> & <dbl> & <int>\\\\\n\\hline\n\\end{tabular}\n",
            "text/plain": [
              "     sl_no gender ssc_p ssc_b hsc_p hsc_b hsc_s degree_p degree_t workex\n",
              "     etest_p specialisation mba_p status salary class"
            ]
          },
          "metadata": {}
        }
      ]
    },
    {
      "cell_type": "code",
      "source": [
        "select(MyData ,salary, degree_t, workex)"
      ],
      "metadata": {
        "id": "1X4PcMmtXIVv",
        "colab": {
          "base_uri": "https://localhost:8080/",
          "height": 1000
        },
        "outputId": "de8ffe02-47b2-451a-99a8-d5944a3ac77a"
      },
      "execution_count": 43,
      "outputs": [
        {
          "output_type": "display_data",
          "data": {
            "text/html": [
              "<table class=\"dataframe\">\n",
              "<caption>A data.frame: 216 × 3</caption>\n",
              "<thead>\n",
              "\t<tr><th scope=col>salary</th><th scope=col>degree_t</th><th scope=col>workex</th></tr>\n",
              "\t<tr><th scope=col>&lt;dbl&gt;</th><th scope=col>&lt;chr&gt;</th><th scope=col>&lt;chr&gt;</th></tr>\n",
              "</thead>\n",
              "<tbody>\n",
              "\t<tr><td>0.09459459</td><td>Sci&amp;Tech </td><td>0</td></tr>\n",
              "\t<tr><td>0.00000000</td><td>Sci&amp;Tech </td><td>1</td></tr>\n",
              "\t<tr><td>0.06756757</td><td>Comm&amp;Mgmt</td><td>0</td></tr>\n",
              "\t<tr><td>0.08783784</td><td>Sci&amp;Tech </td><td>0</td></tr>\n",
              "\t<tr><td>0.30405405</td><td>Comm&amp;Mgmt</td><td>0</td></tr>\n",
              "\t<tr><td>0.08783784</td><td>Sci&amp;Tech </td><td>1</td></tr>\n",
              "\t<tr><td>0.08783784</td><td>Comm&amp;Mgmt</td><td>0</td></tr>\n",
              "\t<tr><td>0.07027027</td><td>Sci&amp;Tech </td><td>1</td></tr>\n",
              "\t<tr><td>0.04189189</td><td>Comm&amp;Mgmt</td><td>0</td></tr>\n",
              "\t<tr><td>0.08783784</td><td>Comm&amp;Mgmt</td><td>0</td></tr>\n",
              "\t<tr><td>0.08108108</td><td>Comm&amp;Mgmt</td><td>1</td></tr>\n",
              "\t<tr><td>0.06756757</td><td>Comm&amp;Mgmt</td><td>1</td></tr>\n",
              "\t<tr><td>0.08783784</td><td>Comm&amp;Mgmt</td><td>0</td></tr>\n",
              "\t<tr><td>0.02432432</td><td>Comm&amp;Mgmt</td><td>0</td></tr>\n",
              "\t<tr><td>0.08783784</td><td>Comm&amp;Mgmt</td><td>0</td></tr>\n",
              "\t<tr><td>0.00000000</td><td>Comm&amp;Mgmt</td><td>1</td></tr>\n",
              "\t<tr><td>0.13513514</td><td>Comm&amp;Mgmt</td><td>1</td></tr>\n",
              "\t<tr><td>0.08783784</td><td>Comm&amp;Mgmt</td><td>0</td></tr>\n",
              "\t<tr><td>0.08783784</td><td>Comm&amp;Mgmt</td><td>0</td></tr>\n",
              "\t<tr><td>0.04864865</td><td>Comm&amp;Mgmt</td><td>1</td></tr>\n",
              "\t<tr><td>0.08783784</td><td>Comm&amp;Mgmt</td><td>0</td></tr>\n",
              "\t<tr><td>0.26081081</td><td>Comm&amp;Mgmt</td><td>0</td></tr>\n",
              "\t<tr><td>0.21621622</td><td>Sci&amp;Tech </td><td>0</td></tr>\n",
              "\t<tr><td>0.13513514</td><td>Sci&amp;Tech </td><td>1</td></tr>\n",
              "\t<tr><td>0.21621622</td><td>Sci&amp;Tech </td><td>0</td></tr>\n",
              "\t<tr><td>0.08783784</td><td>Comm&amp;Mgmt</td><td>1</td></tr>\n",
              "\t<tr><td>0.05405405</td><td>Comm&amp;Mgmt</td><td>1</td></tr>\n",
              "\t<tr><td>0.08783784</td><td>Comm&amp;Mgmt</td><td>0</td></tr>\n",
              "\t<tr><td>0.20270270</td><td>Comm&amp;Mgmt</td><td>1</td></tr>\n",
              "\t<tr><td>0.08783784</td><td>Comm&amp;Mgmt</td><td>0</td></tr>\n",
              "\t<tr><td>⋮</td><td>⋮</td><td>⋮</td></tr>\n",
              "\t<tr><td>0.087837838</td><td>Comm&amp;Mgmt</td><td>0</td></tr>\n",
              "\t<tr><td>0.108108108</td><td>Sci&amp;Tech </td><td>1</td></tr>\n",
              "\t<tr><td>0.087837838</td><td>Comm&amp;Mgmt</td><td>0</td></tr>\n",
              "\t<tr><td>0.087837838</td><td>Comm&amp;Mgmt</td><td>0</td></tr>\n",
              "\t<tr><td>0.087837838</td><td>Comm&amp;Mgmt</td><td>0</td></tr>\n",
              "\t<tr><td>0.086486486</td><td>Comm&amp;Mgmt</td><td>0</td></tr>\n",
              "\t<tr><td>0.094594595</td><td>Comm&amp;Mgmt</td><td>1</td></tr>\n",
              "\t<tr><td>0.135135135</td><td>Others   </td><td>1</td></tr>\n",
              "\t<tr><td>0.087837838</td><td>Comm&amp;Mgmt</td><td>0</td></tr>\n",
              "\t<tr><td>0.101351351</td><td>Comm&amp;Mgmt</td><td>1</td></tr>\n",
              "\t<tr><td>0.067567568</td><td>Sci&amp;Tech </td><td>1</td></tr>\n",
              "\t<tr><td>0.081081081</td><td>Sci&amp;Tech </td><td>0</td></tr>\n",
              "\t<tr><td>0.087837838</td><td>Others   </td><td>0</td></tr>\n",
              "\t<tr><td>0.087837838</td><td>Comm&amp;Mgmt</td><td>0</td></tr>\n",
              "\t<tr><td>0.135135135</td><td>Comm&amp;Mgmt</td><td>0</td></tr>\n",
              "\t<tr><td>0.087837838</td><td>Comm&amp;Mgmt</td><td>0</td></tr>\n",
              "\t<tr><td>0.054054054</td><td>Sci&amp;Tech </td><td>0</td></tr>\n",
              "\t<tr><td>0.081081081</td><td>Comm&amp;Mgmt</td><td>0</td></tr>\n",
              "\t<tr><td>0.013513514</td><td>Comm&amp;Mgmt</td><td>1</td></tr>\n",
              "\t<tr><td>0.067567568</td><td>Comm&amp;Mgmt</td><td>0</td></tr>\n",
              "\t<tr><td>0.087837838</td><td>Comm&amp;Mgmt</td><td>0</td></tr>\n",
              "\t<tr><td>0.135135135</td><td>Comm&amp;Mgmt</td><td>1</td></tr>\n",
              "\t<tr><td>0.087837838</td><td>Comm&amp;Mgmt</td><td>0</td></tr>\n",
              "\t<tr><td>0.021621622</td><td>Comm&amp;Mgmt</td><td>0</td></tr>\n",
              "\t<tr><td>0.270270270</td><td>Comm&amp;Mgmt</td><td>0</td></tr>\n",
              "\t<tr><td>0.101351351</td><td>Sci&amp;Tech </td><td>0</td></tr>\n",
              "\t<tr><td>0.128378378</td><td>Comm&amp;Mgmt</td><td>1</td></tr>\n",
              "\t<tr><td>0.005405405</td><td>Comm&amp;Mgmt</td><td>0</td></tr>\n",
              "\t<tr><td>0.087837838</td><td>Comm&amp;Mgmt</td><td>0</td></tr>\n",
              "\t<tr><td>0.094594595</td><td>Sci&amp;Tech </td><td>0</td></tr>\n",
              "</tbody>\n",
              "</table>\n"
            ],
            "text/markdown": "\nA data.frame: 216 × 3\n\n| salary &lt;dbl&gt; | degree_t &lt;chr&gt; | workex &lt;chr&gt; |\n|---|---|---|\n| 0.09459459 | Sci&amp;Tech  | 0 |\n| 0.00000000 | Sci&amp;Tech  | 1 |\n| 0.06756757 | Comm&amp;Mgmt | 0 |\n| 0.08783784 | Sci&amp;Tech  | 0 |\n| 0.30405405 | Comm&amp;Mgmt | 0 |\n| 0.08783784 | Sci&amp;Tech  | 1 |\n| 0.08783784 | Comm&amp;Mgmt | 0 |\n| 0.07027027 | Sci&amp;Tech  | 1 |\n| 0.04189189 | Comm&amp;Mgmt | 0 |\n| 0.08783784 | Comm&amp;Mgmt | 0 |\n| 0.08108108 | Comm&amp;Mgmt | 1 |\n| 0.06756757 | Comm&amp;Mgmt | 1 |\n| 0.08783784 | Comm&amp;Mgmt | 0 |\n| 0.02432432 | Comm&amp;Mgmt | 0 |\n| 0.08783784 | Comm&amp;Mgmt | 0 |\n| 0.00000000 | Comm&amp;Mgmt | 1 |\n| 0.13513514 | Comm&amp;Mgmt | 1 |\n| 0.08783784 | Comm&amp;Mgmt | 0 |\n| 0.08783784 | Comm&amp;Mgmt | 0 |\n| 0.04864865 | Comm&amp;Mgmt | 1 |\n| 0.08783784 | Comm&amp;Mgmt | 0 |\n| 0.26081081 | Comm&amp;Mgmt | 0 |\n| 0.21621622 | Sci&amp;Tech  | 0 |\n| 0.13513514 | Sci&amp;Tech  | 1 |\n| 0.21621622 | Sci&amp;Tech  | 0 |\n| 0.08783784 | Comm&amp;Mgmt | 1 |\n| 0.05405405 | Comm&amp;Mgmt | 1 |\n| 0.08783784 | Comm&amp;Mgmt | 0 |\n| 0.20270270 | Comm&amp;Mgmt | 1 |\n| 0.08783784 | Comm&amp;Mgmt | 0 |\n| ⋮ | ⋮ | ⋮ |\n| 0.087837838 | Comm&amp;Mgmt | 0 |\n| 0.108108108 | Sci&amp;Tech  | 1 |\n| 0.087837838 | Comm&amp;Mgmt | 0 |\n| 0.087837838 | Comm&amp;Mgmt | 0 |\n| 0.087837838 | Comm&amp;Mgmt | 0 |\n| 0.086486486 | Comm&amp;Mgmt | 0 |\n| 0.094594595 | Comm&amp;Mgmt | 1 |\n| 0.135135135 | Others    | 1 |\n| 0.087837838 | Comm&amp;Mgmt | 0 |\n| 0.101351351 | Comm&amp;Mgmt | 1 |\n| 0.067567568 | Sci&amp;Tech  | 1 |\n| 0.081081081 | Sci&amp;Tech  | 0 |\n| 0.087837838 | Others    | 0 |\n| 0.087837838 | Comm&amp;Mgmt | 0 |\n| 0.135135135 | Comm&amp;Mgmt | 0 |\n| 0.087837838 | Comm&amp;Mgmt | 0 |\n| 0.054054054 | Sci&amp;Tech  | 0 |\n| 0.081081081 | Comm&amp;Mgmt | 0 |\n| 0.013513514 | Comm&amp;Mgmt | 1 |\n| 0.067567568 | Comm&amp;Mgmt | 0 |\n| 0.087837838 | Comm&amp;Mgmt | 0 |\n| 0.135135135 | Comm&amp;Mgmt | 1 |\n| 0.087837838 | Comm&amp;Mgmt | 0 |\n| 0.021621622 | Comm&amp;Mgmt | 0 |\n| 0.270270270 | Comm&amp;Mgmt | 0 |\n| 0.101351351 | Sci&amp;Tech  | 0 |\n| 0.128378378 | Comm&amp;Mgmt | 1 |\n| 0.005405405 | Comm&amp;Mgmt | 0 |\n| 0.087837838 | Comm&amp;Mgmt | 0 |\n| 0.094594595 | Sci&amp;Tech  | 0 |\n\n",
            "text/latex": "A data.frame: 216 × 3\n\\begin{tabular}{lll}\n salary & degree\\_t & workex\\\\\n <dbl> & <chr> & <chr>\\\\\n\\hline\n\t 0.09459459 & Sci\\&Tech  & 0\\\\\n\t 0.00000000 & Sci\\&Tech  & 1\\\\\n\t 0.06756757 & Comm\\&Mgmt & 0\\\\\n\t 0.08783784 & Sci\\&Tech  & 0\\\\\n\t 0.30405405 & Comm\\&Mgmt & 0\\\\\n\t 0.08783784 & Sci\\&Tech  & 1\\\\\n\t 0.08783784 & Comm\\&Mgmt & 0\\\\\n\t 0.07027027 & Sci\\&Tech  & 1\\\\\n\t 0.04189189 & Comm\\&Mgmt & 0\\\\\n\t 0.08783784 & Comm\\&Mgmt & 0\\\\\n\t 0.08108108 & Comm\\&Mgmt & 1\\\\\n\t 0.06756757 & Comm\\&Mgmt & 1\\\\\n\t 0.08783784 & Comm\\&Mgmt & 0\\\\\n\t 0.02432432 & Comm\\&Mgmt & 0\\\\\n\t 0.08783784 & Comm\\&Mgmt & 0\\\\\n\t 0.00000000 & Comm\\&Mgmt & 1\\\\\n\t 0.13513514 & Comm\\&Mgmt & 1\\\\\n\t 0.08783784 & Comm\\&Mgmt & 0\\\\\n\t 0.08783784 & Comm\\&Mgmt & 0\\\\\n\t 0.04864865 & Comm\\&Mgmt & 1\\\\\n\t 0.08783784 & Comm\\&Mgmt & 0\\\\\n\t 0.26081081 & Comm\\&Mgmt & 0\\\\\n\t 0.21621622 & Sci\\&Tech  & 0\\\\\n\t 0.13513514 & Sci\\&Tech  & 1\\\\\n\t 0.21621622 & Sci\\&Tech  & 0\\\\\n\t 0.08783784 & Comm\\&Mgmt & 1\\\\\n\t 0.05405405 & Comm\\&Mgmt & 1\\\\\n\t 0.08783784 & Comm\\&Mgmt & 0\\\\\n\t 0.20270270 & Comm\\&Mgmt & 1\\\\\n\t 0.08783784 & Comm\\&Mgmt & 0\\\\\n\t ⋮ & ⋮ & ⋮\\\\\n\t 0.087837838 & Comm\\&Mgmt & 0\\\\\n\t 0.108108108 & Sci\\&Tech  & 1\\\\\n\t 0.087837838 & Comm\\&Mgmt & 0\\\\\n\t 0.087837838 & Comm\\&Mgmt & 0\\\\\n\t 0.087837838 & Comm\\&Mgmt & 0\\\\\n\t 0.086486486 & Comm\\&Mgmt & 0\\\\\n\t 0.094594595 & Comm\\&Mgmt & 1\\\\\n\t 0.135135135 & Others    & 1\\\\\n\t 0.087837838 & Comm\\&Mgmt & 0\\\\\n\t 0.101351351 & Comm\\&Mgmt & 1\\\\\n\t 0.067567568 & Sci\\&Tech  & 1\\\\\n\t 0.081081081 & Sci\\&Tech  & 0\\\\\n\t 0.087837838 & Others    & 0\\\\\n\t 0.087837838 & Comm\\&Mgmt & 0\\\\\n\t 0.135135135 & Comm\\&Mgmt & 0\\\\\n\t 0.087837838 & Comm\\&Mgmt & 0\\\\\n\t 0.054054054 & Sci\\&Tech  & 0\\\\\n\t 0.081081081 & Comm\\&Mgmt & 0\\\\\n\t 0.013513514 & Comm\\&Mgmt & 1\\\\\n\t 0.067567568 & Comm\\&Mgmt & 0\\\\\n\t 0.087837838 & Comm\\&Mgmt & 0\\\\\n\t 0.135135135 & Comm\\&Mgmt & 1\\\\\n\t 0.087837838 & Comm\\&Mgmt & 0\\\\\n\t 0.021621622 & Comm\\&Mgmt & 0\\\\\n\t 0.270270270 & Comm\\&Mgmt & 0\\\\\n\t 0.101351351 & Sci\\&Tech  & 0\\\\\n\t 0.128378378 & Comm\\&Mgmt & 1\\\\\n\t 0.005405405 & Comm\\&Mgmt & 0\\\\\n\t 0.087837838 & Comm\\&Mgmt & 0\\\\\n\t 0.094594595 & Sci\\&Tech  & 0\\\\\n\\end{tabular}\n",
            "text/plain": [
              "    salary      degree_t  workex\n",
              "1   0.09459459  Sci&Tech  0     \n",
              "2   0.00000000  Sci&Tech  1     \n",
              "3   0.06756757  Comm&Mgmt 0     \n",
              "4   0.08783784  Sci&Tech  0     \n",
              "5   0.30405405  Comm&Mgmt 0     \n",
              "6   0.08783784  Sci&Tech  1     \n",
              "7   0.08783784  Comm&Mgmt 0     \n",
              "8   0.07027027  Sci&Tech  1     \n",
              "9   0.04189189  Comm&Mgmt 0     \n",
              "10  0.08783784  Comm&Mgmt 0     \n",
              "11  0.08108108  Comm&Mgmt 1     \n",
              "12  0.06756757  Comm&Mgmt 1     \n",
              "13  0.08783784  Comm&Mgmt 0     \n",
              "14  0.02432432  Comm&Mgmt 0     \n",
              "15  0.08783784  Comm&Mgmt 0     \n",
              "16  0.00000000  Comm&Mgmt 1     \n",
              "17  0.13513514  Comm&Mgmt 1     \n",
              "18  0.08783784  Comm&Mgmt 0     \n",
              "19  0.08783784  Comm&Mgmt 0     \n",
              "20  0.04864865  Comm&Mgmt 1     \n",
              "21  0.08783784  Comm&Mgmt 0     \n",
              "22  0.26081081  Comm&Mgmt 0     \n",
              "23  0.21621622  Sci&Tech  0     \n",
              "24  0.13513514  Sci&Tech  1     \n",
              "25  0.21621622  Sci&Tech  0     \n",
              "26  0.08783784  Comm&Mgmt 1     \n",
              "27  0.05405405  Comm&Mgmt 1     \n",
              "28  0.08783784  Comm&Mgmt 0     \n",
              "29  0.20270270  Comm&Mgmt 1     \n",
              "30  0.08783784  Comm&Mgmt 0     \n",
              "⋮   ⋮           ⋮         ⋮     \n",
              "187 0.087837838 Comm&Mgmt 0     \n",
              "188 0.108108108 Sci&Tech  1     \n",
              "189 0.087837838 Comm&Mgmt 0     \n",
              "190 0.087837838 Comm&Mgmt 0     \n",
              "191 0.087837838 Comm&Mgmt 0     \n",
              "192 0.086486486 Comm&Mgmt 0     \n",
              "193 0.094594595 Comm&Mgmt 1     \n",
              "194 0.135135135 Others    1     \n",
              "195 0.087837838 Comm&Mgmt 0     \n",
              "196 0.101351351 Comm&Mgmt 1     \n",
              "197 0.067567568 Sci&Tech  1     \n",
              "198 0.081081081 Sci&Tech  0     \n",
              "199 0.087837838 Others    0     \n",
              "200 0.087837838 Comm&Mgmt 0     \n",
              "201 0.135135135 Comm&Mgmt 0     \n",
              "202 0.087837838 Comm&Mgmt 0     \n",
              "203 0.054054054 Sci&Tech  0     \n",
              "204 0.081081081 Comm&Mgmt 0     \n",
              "205 0.013513514 Comm&Mgmt 1     \n",
              "206 0.067567568 Comm&Mgmt 0     \n",
              "207 0.087837838 Comm&Mgmt 0     \n",
              "208 0.135135135 Comm&Mgmt 1     \n",
              "209 0.087837838 Comm&Mgmt 0     \n",
              "210 0.021621622 Comm&Mgmt 0     \n",
              "211 0.270270270 Comm&Mgmt 0     \n",
              "212 0.101351351 Sci&Tech  0     \n",
              "213 0.128378378 Comm&Mgmt 1     \n",
              "214 0.005405405 Comm&Mgmt 0     \n",
              "215 0.087837838 Comm&Mgmt 0     \n",
              "216 0.094594595 Sci&Tech  0     "
            ]
          },
          "metadata": {}
        }
      ]
    },
    {
      "cell_type": "markdown",
      "source": [
        "## 10. Detect and handle invalid data"
      ],
      "metadata": {
        "id": "FBmy3SBGfQdp"
      }
    },
    {
      "cell_type": "code",
      "source": [
        "# Detect invalid gender entries (only \"M\" or \"F\" allowed)\n",
        "invalid_rows <- which(!MyData$gender %in% c(\"M\", \"F\"))\n",
        "\n",
        "if (length(invalid_rows) > 0) {\n",
        "  # Store original values before cleaning\n",
        "  original_values <- MyData$gender[invalid_rows]\n",
        "\n",
        "  # Calculate mode of valid values\n",
        "  valid_values <- MyData$gender[MyData$gender %in% c(\"M\", \"F\")]\n",
        "  gender_mode <- names(sort(table(valid_values), decreasing = TRUE))[1]\n",
        "\n",
        "  # Show before state\n",
        "  cat(\"BEFORE CLEANING:\\n\")\n",
        "  cat(\"Valid M:\", sum(MyData$gender == \"M\"),\n",
        "      \"| Valid F:\", sum(MyData$gender == \"F\"), \"\\n\")\n",
        "  cat(\"Invalid entries:\", length(invalid_rows), \"rows\\n\")\n",
        "  cat(\"Most frequent valid value (mode):\", gender_mode, \"\\n\\n\")\n",
        "\n",
        "  # Clean the data - convert to uppercase first character\n",
        "  MyData$gender[invalid_rows] <- toupper(substr(MyData$gender[invalid_rows], 1, 1))\n",
        "\n",
        "  # Replace remaining invalid values with mode\n",
        "  still_invalid <- which(!MyData$gender %in% c(\"M\", \"F\"))\n",
        "  MyData$gender[still_invalid] <- gender_mode\n",
        "\n",
        "  # Show after state\n",
        "  cat(\"AFTER CLEANING:\\n\")\n",
        "  cat(\"Valid M:\", sum(MyData$gender == \"M\"),\n",
        "      \"| Valid F:\", sum(MyData$gender == \"F\"), \"\\n\")\n",
        "  cat(\"Values replaced with mode:\", length(still_invalid), \"\\n\\n\")\n",
        "\n",
        "  # Show all corrections\n",
        "  cat(\"ALL CORRECTIONS:\\n\")\n",
        "  corrections <- data.frame(\n",
        "    Row = invalid_rows,\n",
        "    Original = original_values,\n",
        "    New = MyData$gender[invalid_rows]\n",
        "  )\n",
        "  print(corrections)\n",
        "\n",
        "} else {\n",
        "  cat(\"All gender values are valid (M/F).\\n\")\n",
        "}"
      ],
      "metadata": {
        "colab": {
          "base_uri": "https://localhost:8080/"
        },
        "id": "IVtnF-gT0z5d",
        "outputId": "fba4639d-8744-41e8-e095-e5c409ac9dc4"
      },
      "execution_count": 44,
      "outputs": [
        {
          "output_type": "stream",
          "name": "stdout",
          "text": [
            "BEFORE CLEANING:\n",
            "Valid M: 140 | Valid F: 75 \n",
            "Invalid entries: 1 rows\n",
            "Most frequent valid value (mode): M \n",
            "\n",
            "AFTER CLEANING:\n",
            "Valid M: 140 | Valid F: 76 \n",
            "Values replaced with mode: 0 \n",
            "\n",
            "ALL CORRECTIONS:\n",
            "  Row Original New\n",
            "1  53   Female   F\n"
          ]
        }
      ]
    },
    {
      "cell_type": "markdown",
      "source": [
        "## 11. \tBalance the dataset (if it's imbalanced)"
      ],
      "metadata": {
        "id": "sFEX1kyEfUNJ"
      }
    },
    {
      "cell_type": "code",
      "source": [
        "# Current class counts\n",
        "cat(\"Before oversampling:\\n\")\n",
        "print(table(MyData$class))"
      ],
      "metadata": {
        "colab": {
          "base_uri": "https://localhost:8080/"
        },
        "id": "zal91if538KX",
        "outputId": "6f6b11a9-84de-4876-e571-64d5f8d9abee"
      },
      "execution_count": 45,
      "outputs": [
        {
          "output_type": "stream",
          "name": "stdout",
          "text": [
            "Before oversampling:\n",
            "\n",
            "  0   1 \n",
            " 96 120 \n"
          ]
        }
      ]
    },
    {
      "cell_type": "code",
      "source": [
        "# Get row indices for each class\n",
        "class1_indices <- which(MyData$class == \"1\")  # Majority class\n",
        "class0_indices <- which(MyData$class == \"0\")  # Minority class\n",
        "\n",
        "# Calculate how many extra samples are needed\n",
        "needed <- length(class1_indices) - length(class0_indices)\n",
        "\n",
        "# Randomly select minority rows to duplicate\n",
        "set.seed(123)\n",
        "extra_samples <- sample(class0_indices, needed, replace = TRUE)\n",
        "\n",
        "# Combine indices using append()\n",
        "all_indices <- append(\n",
        "  x = append(class1_indices, class0_indices),  # Original data\n",
        "  values = extra_samples                       # Duplicated minority samples\n",
        ")\n",
        "\n",
        "# Create balanced dataset\n",
        "balanced_data <- MyData[all_indices, ]\n",
        "MyData <- balanced_data\n",
        "\n",
        "# Verify counts\n",
        "cat(\"\\nAfter oversampling:\\n\")\n",
        "print(table(MyData$class))"
      ],
      "metadata": {
        "colab": {
          "base_uri": "https://localhost:8080/"
        },
        "id": "JIkFEG6_5ZuU",
        "outputId": "39478f24-4eaa-4a14-b46f-c9a700d7624e"
      },
      "execution_count": 46,
      "outputs": [
        {
          "output_type": "stream",
          "name": "stdout",
          "text": [
            "\n",
            "After oversampling:\n",
            "\n",
            "  0   1 \n",
            "120 120 \n"
          ]
        }
      ]
    },
    {
      "cell_type": "code",
      "source": [
        "MyData$class"
      ],
      "metadata": {
        "colab": {
          "base_uri": "https://localhost:8080/",
          "height": 86
        },
        "id": "JX2nXKoLjrUB",
        "outputId": "c431ef5a-dc5b-4714-c96b-51ce87c435ab"
      },
      "execution_count": 47,
      "outputs": [
        {
          "output_type": "display_data",
          "data": {
            "text/html": [
              "<style>\n",
              ".list-inline {list-style: none; margin:0; padding: 0}\n",
              ".list-inline>li {display: inline-block}\n",
              ".list-inline>li:not(:last-child)::after {content: \"\\00b7\"; padding: 0 .5ex}\n",
              "</style>\n",
              "<ol class=list-inline><li>1</li><li>1</li><li>1</li><li>1</li><li>1</li><li>1</li><li>1</li><li>1</li><li>1</li><li>1</li><li>1</li><li>1</li><li>1</li><li>1</li><li>1</li><li>1</li><li>1</li><li>1</li><li>1</li><li>1</li><li>1</li><li>1</li><li>1</li><li>1</li><li>1</li><li>1</li><li>1</li><li>1</li><li>1</li><li>1</li><li>1</li><li>1</li><li>1</li><li>1</li><li>1</li><li>1</li><li>1</li><li>1</li><li>1</li><li>1</li><li>1</li><li>1</li><li>1</li><li>1</li><li>1</li><li>1</li><li>1</li><li>1</li><li>1</li><li>1</li><li>1</li><li>1</li><li>1</li><li>1</li><li>1</li><li>1</li><li>1</li><li>1</li><li>1</li><li>1</li><li>1</li><li>1</li><li>1</li><li>1</li><li>1</li><li>1</li><li>1</li><li>1</li><li>1</li><li>1</li><li>1</li><li>1</li><li>1</li><li>1</li><li>1</li><li>1</li><li>1</li><li>1</li><li>1</li><li>1</li><li>1</li><li>1</li><li>1</li><li>1</li><li>1</li><li>1</li><li>1</li><li>1</li><li>1</li><li>1</li><li>1</li><li>1</li><li>1</li><li>1</li><li>1</li><li>1</li><li>1</li><li>1</li><li>1</li><li>1</li><li>1</li><li>1</li><li>1</li><li>1</li><li>1</li><li>1</li><li>1</li><li>1</li><li>1</li><li>1</li><li>1</li><li>1</li><li>1</li><li>1</li><li>1</li><li>1</li><li>1</li><li>1</li><li>1</li><li>1</li><li>0</li><li>0</li><li>0</li><li>0</li><li>0</li><li>0</li><li>0</li><li>0</li><li>0</li><li>0</li><li>0</li><li>0</li><li>0</li><li>0</li><li>0</li><li>0</li><li>0</li><li>0</li><li>0</li><li>0</li><li>0</li><li>0</li><li>0</li><li>0</li><li>0</li><li>0</li><li>0</li><li>0</li><li>0</li><li>0</li><li>0</li><li>0</li><li>0</li><li>0</li><li>0</li><li>0</li><li>0</li><li>0</li><li>0</li><li>0</li><li>0</li><li>0</li><li>0</li><li>0</li><li>0</li><li>0</li><li>0</li><li>0</li><li>0</li><li>0</li><li>0</li><li>0</li><li>0</li><li>0</li><li>0</li><li>0</li><li>0</li><li>0</li><li>0</li><li>0</li><li>0</li><li>0</li><li>0</li><li>0</li><li>0</li><li>0</li><li>0</li><li>0</li><li>0</li><li>0</li><li>0</li><li>0</li><li>0</li><li>0</li><li>0</li><li>0</li><li>0</li><li>0</li><li>0</li><li>0</li><li>0</li><li>0</li><li>0</li><li>0</li><li>0</li><li>0</li><li>0</li><li>0</li><li>0</li><li>0</li><li>0</li><li>0</li><li>0</li><li>0</li><li>0</li><li>0</li><li>0</li><li>0</li><li>0</li><li>0</li><li>0</li><li>0</li><li>0</li><li>0</li><li>0</li><li>0</li><li>0</li><li>0</li><li>0</li><li>0</li><li>0</li><li>0</li><li>0</li><li>0</li><li>0</li><li>0</li><li>0</li><li>0</li><li>0</li><li>0</li></ol>\n"
            ],
            "text/markdown": "1. 1\n2. 1\n3. 1\n4. 1\n5. 1\n6. 1\n7. 1\n8. 1\n9. 1\n10. 1\n11. 1\n12. 1\n13. 1\n14. 1\n15. 1\n16. 1\n17. 1\n18. 1\n19. 1\n20. 1\n21. 1\n22. 1\n23. 1\n24. 1\n25. 1\n26. 1\n27. 1\n28. 1\n29. 1\n30. 1\n31. 1\n32. 1\n33. 1\n34. 1\n35. 1\n36. 1\n37. 1\n38. 1\n39. 1\n40. 1\n41. 1\n42. 1\n43. 1\n44. 1\n45. 1\n46. 1\n47. 1\n48. 1\n49. 1\n50. 1\n51. 1\n52. 1\n53. 1\n54. 1\n55. 1\n56. 1\n57. 1\n58. 1\n59. 1\n60. 1\n61. 1\n62. 1\n63. 1\n64. 1\n65. 1\n66. 1\n67. 1\n68. 1\n69. 1\n70. 1\n71. 1\n72. 1\n73. 1\n74. 1\n75. 1\n76. 1\n77. 1\n78. 1\n79. 1\n80. 1\n81. 1\n82. 1\n83. 1\n84. 1\n85. 1\n86. 1\n87. 1\n88. 1\n89. 1\n90. 1\n91. 1\n92. 1\n93. 1\n94. 1\n95. 1\n96. 1\n97. 1\n98. 1\n99. 1\n100. 1\n101. 1\n102. 1\n103. 1\n104. 1\n105. 1\n106. 1\n107. 1\n108. 1\n109. 1\n110. 1\n111. 1\n112. 1\n113. 1\n114. 1\n115. 1\n116. 1\n117. 1\n118. 1\n119. 1\n120. 1\n121. 0\n122. 0\n123. 0\n124. 0\n125. 0\n126. 0\n127. 0\n128. 0\n129. 0\n130. 0\n131. 0\n132. 0\n133. 0\n134. 0\n135. 0\n136. 0\n137. 0\n138. 0\n139. 0\n140. 0\n141. 0\n142. 0\n143. 0\n144. 0\n145. 0\n146. 0\n147. 0\n148. 0\n149. 0\n150. 0\n151. 0\n152. 0\n153. 0\n154. 0\n155. 0\n156. 0\n157. 0\n158. 0\n159. 0\n160. 0\n161. 0\n162. 0\n163. 0\n164. 0\n165. 0\n166. 0\n167. 0\n168. 0\n169. 0\n170. 0\n171. 0\n172. 0\n173. 0\n174. 0\n175. 0\n176. 0\n177. 0\n178. 0\n179. 0\n180. 0\n181. 0\n182. 0\n183. 0\n184. 0\n185. 0\n186. 0\n187. 0\n188. 0\n189. 0\n190. 0\n191. 0\n192. 0\n193. 0\n194. 0\n195. 0\n196. 0\n197. 0\n198. 0\n199. 0\n200. 0\n201. 0\n202. 0\n203. 0\n204. 0\n205. 0\n206. 0\n207. 0\n208. 0\n209. 0\n210. 0\n211. 0\n212. 0\n213. 0\n214. 0\n215. 0\n216. 0\n217. 0\n218. 0\n219. 0\n220. 0\n221. 0\n222. 0\n223. 0\n224. 0\n225. 0\n226. 0\n227. 0\n228. 0\n229. 0\n230. 0\n231. 0\n232. 0\n233. 0\n234. 0\n235. 0\n236. 0\n237. 0\n238. 0\n239. 0\n240. 0\n\n\n",
            "text/latex": "\\begin{enumerate*}\n\\item 1\n\\item 1\n\\item 1\n\\item 1\n\\item 1\n\\item 1\n\\item 1\n\\item 1\n\\item 1\n\\item 1\n\\item 1\n\\item 1\n\\item 1\n\\item 1\n\\item 1\n\\item 1\n\\item 1\n\\item 1\n\\item 1\n\\item 1\n\\item 1\n\\item 1\n\\item 1\n\\item 1\n\\item 1\n\\item 1\n\\item 1\n\\item 1\n\\item 1\n\\item 1\n\\item 1\n\\item 1\n\\item 1\n\\item 1\n\\item 1\n\\item 1\n\\item 1\n\\item 1\n\\item 1\n\\item 1\n\\item 1\n\\item 1\n\\item 1\n\\item 1\n\\item 1\n\\item 1\n\\item 1\n\\item 1\n\\item 1\n\\item 1\n\\item 1\n\\item 1\n\\item 1\n\\item 1\n\\item 1\n\\item 1\n\\item 1\n\\item 1\n\\item 1\n\\item 1\n\\item 1\n\\item 1\n\\item 1\n\\item 1\n\\item 1\n\\item 1\n\\item 1\n\\item 1\n\\item 1\n\\item 1\n\\item 1\n\\item 1\n\\item 1\n\\item 1\n\\item 1\n\\item 1\n\\item 1\n\\item 1\n\\item 1\n\\item 1\n\\item 1\n\\item 1\n\\item 1\n\\item 1\n\\item 1\n\\item 1\n\\item 1\n\\item 1\n\\item 1\n\\item 1\n\\item 1\n\\item 1\n\\item 1\n\\item 1\n\\item 1\n\\item 1\n\\item 1\n\\item 1\n\\item 1\n\\item 1\n\\item 1\n\\item 1\n\\item 1\n\\item 1\n\\item 1\n\\item 1\n\\item 1\n\\item 1\n\\item 1\n\\item 1\n\\item 1\n\\item 1\n\\item 1\n\\item 1\n\\item 1\n\\item 1\n\\item 1\n\\item 1\n\\item 1\n\\item 1\n\\item 0\n\\item 0\n\\item 0\n\\item 0\n\\item 0\n\\item 0\n\\item 0\n\\item 0\n\\item 0\n\\item 0\n\\item 0\n\\item 0\n\\item 0\n\\item 0\n\\item 0\n\\item 0\n\\item 0\n\\item 0\n\\item 0\n\\item 0\n\\item 0\n\\item 0\n\\item 0\n\\item 0\n\\item 0\n\\item 0\n\\item 0\n\\item 0\n\\item 0\n\\item 0\n\\item 0\n\\item 0\n\\item 0\n\\item 0\n\\item 0\n\\item 0\n\\item 0\n\\item 0\n\\item 0\n\\item 0\n\\item 0\n\\item 0\n\\item 0\n\\item 0\n\\item 0\n\\item 0\n\\item 0\n\\item 0\n\\item 0\n\\item 0\n\\item 0\n\\item 0\n\\item 0\n\\item 0\n\\item 0\n\\item 0\n\\item 0\n\\item 0\n\\item 0\n\\item 0\n\\item 0\n\\item 0\n\\item 0\n\\item 0\n\\item 0\n\\item 0\n\\item 0\n\\item 0\n\\item 0\n\\item 0\n\\item 0\n\\item 0\n\\item 0\n\\item 0\n\\item 0\n\\item 0\n\\item 0\n\\item 0\n\\item 0\n\\item 0\n\\item 0\n\\item 0\n\\item 0\n\\item 0\n\\item 0\n\\item 0\n\\item 0\n\\item 0\n\\item 0\n\\item 0\n\\item 0\n\\item 0\n\\item 0\n\\item 0\n\\item 0\n\\item 0\n\\item 0\n\\item 0\n\\item 0\n\\item 0\n\\item 0\n\\item 0\n\\item 0\n\\item 0\n\\item 0\n\\item 0\n\\item 0\n\\item 0\n\\item 0\n\\item 0\n\\item 0\n\\item 0\n\\item 0\n\\item 0\n\\item 0\n\\item 0\n\\item 0\n\\item 0\n\\item 0\n\\item 0\n\\end{enumerate*}\n",
            "text/plain": [
              "  [1] 1 1 1 1 1 1 1 1 1 1 1 1 1 1 1 1 1 1 1 1 1 1 1 1 1 1 1 1 1 1 1 1 1 1 1 1 1\n",
              " [38] 1 1 1 1 1 1 1 1 1 1 1 1 1 1 1 1 1 1 1 1 1 1 1 1 1 1 1 1 1 1 1 1 1 1 1 1 1\n",
              " [75] 1 1 1 1 1 1 1 1 1 1 1 1 1 1 1 1 1 1 1 1 1 1 1 1 1 1 1 1 1 1 1 1 1 1 1 1 1\n",
              "[112] 1 1 1 1 1 1 1 1 1 0 0 0 0 0 0 0 0 0 0 0 0 0 0 0 0 0 0 0 0 0 0 0 0 0 0 0 0\n",
              "[149] 0 0 0 0 0 0 0 0 0 0 0 0 0 0 0 0 0 0 0 0 0 0 0 0 0 0 0 0 0 0 0 0 0 0 0 0 0\n",
              "[186] 0 0 0 0 0 0 0 0 0 0 0 0 0 0 0 0 0 0 0 0 0 0 0 0 0 0 0 0 0 0 0 0 0 0 0 0 0\n",
              "[223] 0 0 0 0 0 0 0 0 0 0 0 0 0 0 0 0 0 0"
            ]
          },
          "metadata": {}
        }
      ]
    },
    {
      "cell_type": "code",
      "source": [
        "MyData"
      ],
      "metadata": {
        "id": "eRrle9LCShFL",
        "colab": {
          "base_uri": "https://localhost:8080/",
          "height": 1000
        },
        "outputId": "c7d9c7fc-e03f-43f7-d47e-00ea728a100a"
      },
      "execution_count": 48,
      "outputs": [
        {
          "output_type": "display_data",
          "data": {
            "text/html": [
              "<table class=\"dataframe\">\n",
              "<caption>A data.frame: 240 × 16</caption>\n",
              "<thead>\n",
              "\t<tr><th></th><th scope=col>sl_no</th><th scope=col>gender</th><th scope=col>ssc_p</th><th scope=col>ssc_b</th><th scope=col>hsc_p</th><th scope=col>hsc_b</th><th scope=col>hsc_s</th><th scope=col>degree_p</th><th scope=col>degree_t</th><th scope=col>workex</th><th scope=col>etest_p</th><th scope=col>specialisation</th><th scope=col>mba_p</th><th scope=col>status</th><th scope=col>salary</th><th scope=col>class</th></tr>\n",
              "\t<tr><th></th><th scope=col>&lt;int&gt;</th><th scope=col>&lt;chr&gt;</th><th scope=col>&lt;fct&gt;</th><th scope=col>&lt;chr&gt;</th><th scope=col>&lt;dbl&gt;</th><th scope=col>&lt;chr&gt;</th><th scope=col>&lt;chr&gt;</th><th scope=col>&lt;dbl&gt;</th><th scope=col>&lt;chr&gt;</th><th scope=col>&lt;chr&gt;</th><th scope=col>&lt;dbl&gt;</th><th scope=col>&lt;chr&gt;</th><th scope=col>&lt;dbl&gt;</th><th scope=col>&lt;dbl&gt;</th><th scope=col>&lt;dbl&gt;</th><th scope=col>&lt;int&gt;</th></tr>\n",
              "</thead>\n",
              "<tbody>\n",
              "\t<tr><th scope=row>5</th><td> 5</td><td>M</td><td>A</td><td>Central</td><td>0.0055095589</td><td>Central</td><td>Commerce</td><td>0.568292683</td><td>Comm&amp;Mgmt</td><td>0</td><td>0.97500000</td><td>Mkt&amp;Fin</td><td>0.160794603</td><td>1</td><td>0.30405405</td><td>1</td></tr>\n",
              "\t<tr><th scope=row>6</th><td> 6</td><td>M</td><td>C</td><td>Others </td><td>0.0019268403</td><td>Others </td><td>Science </td><td>0.420731707</td><td>Sci&amp;Tech </td><td>1</td><td>0.10416667</td><td>Mkt&amp;Fin</td><td>0.013868066</td><td>0</td><td>0.08783784</td><td>1</td></tr>\n",
              "\t<tr><th scope=row>7</th><td> 7</td><td>F</td><td>C</td><td>Others </td><td>0.0018365196</td><td>Others </td><td>Commerce</td><td>0.707317073</td><td>Comm&amp;Mgmt</td><td>0</td><td>0.50583333</td><td>Mkt&amp;Fin</td><td>0.077961019</td><td>0</td><td>0.08783784</td><td>1</td></tr>\n",
              "\t<tr><th scope=row>17</th><td>17</td><td>M</td><td>B</td><td>Central</td><td>0.0043956044</td><td>Central</td><td>Commerce</td><td>0.380487805</td><td>Comm&amp;Mgmt</td><td>1</td><td>0.20833333</td><td>Mkt&amp;Fin</td><td>0.424662669</td><td>1</td><td>0.13513514</td><td>1</td></tr>\n",
              "\t<tr><th scope=row>18</th><td>18</td><td>F</td><td>C</td><td>Central</td><td>0.0045160319</td><td>Central</td><td>Commerce</td><td>0.341463415</td><td>Comm&amp;Mgmt</td><td>0</td><td>0.20833333</td><td>Mkt&amp;Fin</td><td>0.602323838</td><td>0</td><td>0.08783784</td><td>1</td></tr>\n",
              "\t<tr><th scope=row>19</th><td>19</td><td>F</td><td>B</td><td>Central</td><td>0.0043654975</td><td>Central</td><td>Commerce</td><td>0.341463415</td><td>Comm&amp;Mgmt</td><td>0</td><td>0.37500000</td><td>Mkt&amp;HR </td><td>0.482383808</td><td>0</td><td>0.08783784</td><td>1</td></tr>\n",
              "\t<tr><th scope=row>21</th><td>21</td><td>M</td><td>B</td><td>Others </td><td>0.0042149631</td><td>Others </td><td>Commerce</td><td>0.390243902</td><td>Comm&amp;Mgmt</td><td>0</td><td>0.00000000</td><td>Mkt&amp;HR </td><td>0.205772114</td><td>1</td><td>0.08783784</td><td>1</td></tr>\n",
              "\t<tr><th scope=row>22</th><td>22</td><td>F</td><td>A</td><td>Others </td><td>0.0058708415</td><td>Others </td><td>Commerce</td><td>0.853658537</td><td>Comm&amp;Mgmt</td><td>0</td><td>0.93750000</td><td>Mkt&amp;Fin</td><td>0.669040480</td><td>1</td><td>0.26081081</td><td>1</td></tr>\n",
              "\t<tr><th scope=row>23</th><td>23</td><td>F</td><td>B</td><td>Others </td><td>0.0035827187</td><td>Others </td><td>Science </td><td>0.542195122</td><td>Sci&amp;Tech </td><td>0</td><td>0.11520833</td><td>Mkt&amp;HR </td><td>0.659670165</td><td>1</td><td>0.21621622</td><td>1</td></tr>\n",
              "\t<tr><th scope=row>24</th><td>24</td><td>F</td><td>A</td><td>Others </td><td>0.0034622911</td><td>Others </td><td>Science </td><td>0.359512195</td><td>Sci&amp;Tech </td><td>1</td><td>0.87500000</td><td>Mkt&amp;Fin</td><td>0.465142429</td><td>1</td><td>0.13513514</td><td>1</td></tr>\n",
              "\t<tr><th scope=row>25</th><td>25</td><td>M</td><td>A</td><td>Others </td><td>0.0091374379</td><td>Others </td><td>Science </td><td>0.703902439</td><td>Sci&amp;Tech </td><td>0</td><td>0.98750000</td><td>Mkt&amp;Fin</td><td>0.854572714</td><td>1</td><td>0.21621622</td><td>1</td></tr>\n",
              "\t<tr><th scope=row>26</th><td>26</td><td>F</td><td>C</td><td>Others </td><td>0.0026494054</td><td>Central</td><td>Commerce</td><td>0.004878049</td><td>Comm&amp;Mgmt</td><td>1</td><td>0.54166667</td><td>Mkt&amp;Fin</td><td>0.529235382</td><td>0</td><td>0.08783784</td><td>1</td></tr>\n",
              "\t<tr><th scope=row>28</th><td>28</td><td>M</td><td>B</td><td>Others </td><td>0.0045160319</td><td>Others </td><td>Commerce</td><td>0.390243902</td><td>Comm&amp;Mgmt</td><td>0</td><td>0.37500000</td><td>Mkt&amp;HR </td><td>0.242878561</td><td>1</td><td>0.08783784</td><td>1</td></tr>\n",
              "\t<tr><th scope=row>29</th><td>29</td><td>M</td><td>A</td><td>Others </td><td>0.0059461087</td><td>Others </td><td>Commerce</td><td>0.426829268</td><td>Comm&amp;Mgmt</td><td>1</td><td>0.48645833</td><td>Mkt&amp;Fin</td><td>0.485007496</td><td>1</td><td>0.20270270</td><td>1</td></tr>\n",
              "\t<tr><th scope=row>30</th><td>30</td><td>M</td><td>B</td><td>Central</td><td>0.0045160319</td><td>Central</td><td>Commerce</td><td>0.195121951</td><td>Comm&amp;Mgmt</td><td>0</td><td>0.56250000</td><td>Mkt&amp;Fin</td><td>0.002998501</td><td>0</td><td>0.08783784</td><td>1</td></tr>\n",
              "\t<tr><th scope=row>33</th><td>33</td><td>F</td><td>B</td><td>Central</td><td>0.0066235135</td><td>Central</td><td>Commerce</td><td>0.400000000</td><td>Comm&amp;Mgmt</td><td>0</td><td>0.01854167</td><td>Mkt&amp;HR </td><td>0.412293853</td><td>1</td><td>0.10540541</td><td>1</td></tr>\n",
              "\t<tr><th scope=row>34</th><td>34</td><td>F</td><td>A</td><td>Others </td><td>0.0042149631</td><td>Others </td><td>Science </td><td>0.756097561</td><td>Comm&amp;Mgmt</td><td>1</td><td>0.79166667</td><td>Mkt&amp;Fin</td><td>0.808470765</td><td>1</td><td>0.08108108</td><td>1</td></tr>\n",
              "\t<tr><th scope=row>35</th><td>35</td><td>M</td><td>B</td><td>Others </td><td>0.0021074816</td><td>Others </td><td>Science </td><td>0.048780488</td><td><span style=white-space:pre-wrap>Others   </span></td><td>0</td><td>0.38416667</td><td>Mkt&amp;HR </td><td>0.433283358</td><td>0</td><td>0.08783784</td><td>1</td></tr>\n",
              "\t<tr><th scope=row>36</th><td>36</td><td>F</td><td>B</td><td>Central</td><td>0.0061719103</td><td>Central</td><td>Commerce</td><td>0.536585366</td><td>Comm&amp;Mgmt</td><td>0</td><td>0.43750000</td><td>Mkt&amp;HR </td><td>0.432158921</td><td>1</td><td>0.13513514</td><td>1</td></tr>\n",
              "\t<tr><th scope=row>37</th><td>37</td><td>M</td><td>C</td><td>Central</td><td>0.0010537408</td><td>Central</td><td>Commerce</td><td>0.170731707</td><td>Comm&amp;Mgmt</td><td>0</td><td>0.29166667</td><td>Mkt&amp;Fin</td><td>0.008995502</td><td>0</td><td>0.08783784</td><td>1</td></tr>\n",
              "\t<tr><th scope=row>38</th><td>38</td><td>F</td><td>A</td><td>Central</td><td>0.0058708415</td><td>Central</td><td>Science </td><td>0.380487805</td><td>Sci&amp;Tech </td><td>0</td><td>0.16666667</td><td>Mkt&amp;HR </td><td>0.159670165</td><td>1</td><td>0.16216216</td><td>1</td></tr>\n",
              "\t<tr><th scope=row>40</th><td>40</td><td>M</td><td>A</td><td>Others </td><td>0.0046665663</td><td>Others </td><td>Science </td><td>0.341463415</td><td>Sci&amp;Tech </td><td>0</td><td>0.89583333</td><td>Mkt&amp;Fin</td><td>0.425412294</td><td>1</td><td>0.28513514</td><td>1</td></tr>\n",
              "\t<tr><th scope=row>41</th><td>41</td><td>F</td><td>A</td><td>Central</td><td>0.0060213759</td><td>Others </td><td>Commerce</td><td>0.731707317</td><td>Comm&amp;Mgmt</td><td>0</td><td>0.20833333</td><td>Mkt&amp;Fin</td><td>0.581334333</td><td>1</td><td>0.11756757</td><td>1</td></tr>\n",
              "\t<tr><th scope=row>42</th><td>42</td><td>F</td><td>B</td><td>Others </td><td>0.0039379798</td><td>Others </td><td>Commerce</td><td>0.365853659</td><td>Comm&amp;Mgmt</td><td>1</td><td>0.31250000</td><td>Mkt&amp;HR </td><td>0.695277361</td><td>0</td><td>0.08783784</td><td>1</td></tr>\n",
              "\t<tr><th scope=row>43</th><td>43</td><td>M</td><td>C</td><td>Others </td><td>0.0003010688</td><td>Central</td><td>Science </td><td>0.365853659</td><td><span style=white-space:pre-wrap>Others   </span></td><td>0</td><td>0.27083333</td><td>Mkt&amp;Fin</td><td>0.000000000</td><td>0</td><td>0.08783784</td><td>1</td></tr>\n",
              "\t<tr><th scope=row>44</th><td>44</td><td>M</td><td>A</td><td>Others </td><td>0.0075267199</td><td>Others </td><td>Commerce</td><td>0.439024390</td><td>Comm&amp;Mgmt</td><td>0</td><td>0.93750000</td><td>Mkt&amp;HR </td><td>0.438155922</td><td>1</td><td>0.13513514</td><td>1</td></tr>\n",
              "\t<tr><th scope=row>54</th><td>54</td><td>M</td><td>A</td><td>Others </td><td>0.0049676351</td><td>Others </td><td>Science </td><td>0.536585366</td><td>Sci&amp;Tech </td><td>0</td><td>0.77083333</td><td>Mkt&amp;HR </td><td>0.743253373</td><td>1</td><td>0.33783784</td><td>1</td></tr>\n",
              "\t<tr><th scope=row>58</th><td>58</td><td>M</td><td>B</td><td>Central</td><td>0.0058708415</td><td>Central</td><td>Commerce</td><td>0.585365854</td><td>Comm&amp;Mgmt</td><td>0</td><td>0.62500000</td><td>Mkt&amp;Fin</td><td>0.464017991</td><td>1</td><td>0.21621622</td><td>1</td></tr>\n",
              "\t<tr><th scope=row>59</th><td>59</td><td>M</td><td>B</td><td>Central</td><td>0.0037633599</td><td>Others </td><td>Science </td><td>0.439024390</td><td>Comm&amp;Mgmt</td><td>0</td><td>0.50000000</td><td>Mkt&amp;Fin</td><td>0.254122939</td><td>1</td><td>0.09189189</td><td>1</td></tr>\n",
              "\t<tr><th scope=row>60</th><td>60</td><td>M</td><td>C</td><td>Central</td><td>0.0043022731</td><td>Others </td><td>Science </td><td>0.539268293</td><td>Sci&amp;Tech </td><td>0</td><td>0.15833333</td><td>Mkt&amp;Fin</td><td>0.204272864</td><td>1</td><td>0.08783784</td><td>1</td></tr>\n",
              "\t<tr><th scope=row>⋮</th><td>⋮</td><td>⋮</td><td>⋮</td><td>⋮</td><td>⋮</td><td>⋮</td><td>⋮</td><td>⋮</td><td>⋮</td><td>⋮</td><td>⋮</td><td>⋮</td><td>⋮</td><td>⋮</td><td>⋮</td><td>⋮</td></tr>\n",
              "\t<tr><th scope=row>205</th><td>205</td><td>F</td><td>B</td><td>Others </td><td>0.005419238</td><td>Others </td><td>Commerce</td><td>0.56097561</td><td>Comm&amp;Mgmt</td><td>1</td><td>0.62500000</td><td>Mkt&amp;Fin</td><td>0.61769115</td><td>1</td><td>0.013513514</td><td>0</td></tr>\n",
              "\t<tr><th scope=row>206</th><td>206</td><td>M</td><td>B</td><td>Others </td><td>0.003763360</td><td>Others </td><td>Commerce</td><td>0.36585366</td><td>Comm&amp;Mgmt</td><td>0</td><td>0.25000000</td><td>Mkt&amp;Fin</td><td>0.20989505</td><td>1</td><td>0.067567568</td><td>0</td></tr>\n",
              "\t<tr><th scope=row>207</th><td>207</td><td>M</td><td>C</td><td>Central</td><td>0.000752672</td><td>Central</td><td>Science </td><td>0.24390244</td><td>Comm&amp;Mgmt</td><td>0</td><td>0.97916667</td><td>Mkt&amp;Fin</td><td>0.08170915</td><td>0</td><td>0.087837838</td><td>0</td></tr>\n",
              "\t<tr><th scope=row>210</th><td>210</td><td>M</td><td>B</td><td>Central</td><td>0.005268704</td><td>Central</td><td>Commerce</td><td>0.36585366</td><td>Comm&amp;Mgmt</td><td>0</td><td>0.35416667</td><td>Mkt&amp;Fin</td><td>0.19790105</td><td>1</td><td>0.021621622</td><td>0</td></tr>\n",
              "\t<tr><th scope=row>214</th><td>214</td><td>F</td><td>B</td><td>Others </td><td>0.004365498</td><td>Others </td><td>Commerce</td><td>0.19512195</td><td>Comm&amp;Mgmt</td><td>0</td><td>0.41666667</td><td>Mkt&amp;HR </td><td>0.33808096</td><td>1</td><td>0.005405405</td><td>0</td></tr>\n",
              "\t<tr><th scope=row>215</th><td>215</td><td>M</td><td>B</td><td>Central</td><td>0.003161222</td><td>Others </td><td>Science </td><td>0.07317073</td><td>Comm&amp;Mgmt</td><td>0</td><td>0.81250000</td><td>Mkt&amp;HR </td><td>0.33770615</td><td>0</td><td>0.087837838</td><td>0</td></tr>\n",
              "\t<tr><th scope=row>63.1</th><td> 63</td><td>F</td><td>A</td><td>Others </td><td>0.004094536</td><td>Others </td><td>Science </td><td>0.42439024</td><td>Sci&amp;Tech </td><td>0</td><td>0.18750000</td><td>Mkt&amp;Fin</td><td>0.31784108</td><td>1</td><td>0.054054054</td><td>0</td></tr>\n",
              "\t<tr><th scope=row>165.1</th><td>165</td><td>F</td><td>B</td><td>Central</td><td>0.005343971</td><td>Central</td><td>Commerce</td><td>0.32560976</td><td>Comm&amp;Mgmt</td><td>0</td><td>0.06333333</td><td>Mkt&amp;Fin</td><td>0.53635682</td><td>1</td><td>0.067567568</td><td>0</td></tr>\n",
              "\t<tr><th scope=row>111.1</th><td>111</td><td>F</td><td>B</td><td>Central</td><td>0.004967635</td><td>Central</td><td>Science </td><td>0.53658537</td><td>Sci&amp;Tech </td><td>0</td><td>0.15000000</td><td>Mkt&amp;HR </td><td>0.13455772</td><td>1</td><td>0.067567568</td><td>0</td></tr>\n",
              "\t<tr><th scope=row>20.1</th><td> 20</td><td>M</td><td>B</td><td>Others </td><td>0.004516032</td><td>Others </td><td><span style=white-space:pre-wrap>Arts    </span></td><td>0.48780488</td><td>Comm&amp;Mgmt</td><td>1</td><td>0.01000000</td><td>Mkt&amp;Fin</td><td>1.00000000</td><td>1</td><td>0.048648649</td><td>0</td></tr>\n",
              "\t<tr><th scope=row>136.1</th><td>136</td><td>F</td><td>B</td><td>Central</td><td>0.002860154</td><td>Others </td><td>Science </td><td>0.46341463</td><td>Comm&amp;Mgmt</td><td>0</td><td>0.11666667</td><td>Mkt&amp;HR </td><td>0.54047976</td><td>1</td><td>0.000000000</td><td>0</td></tr>\n",
              "\t<tr><th scope=row>89.1</th><td> 89</td><td>F</td><td>B</td><td>Central</td><td>0.003763360</td><td>Central</td><td>Commerce</td><td>0.56097561</td><td>Comm&amp;Mgmt</td><td>0</td><td>0.16666667</td><td>Mkt&amp;HR </td><td>0.49287856</td><td>1</td><td>0.013513514</td><td>0</td></tr>\n",
              "\t<tr><th scope=row>108.1</th><td>108</td><td>M</td><td>A</td><td>Others </td><td>0.007978323</td><td>Others </td><td>Commerce</td><td>0.80487805</td><td>Comm&amp;Mgmt</td><td>0</td><td>0.62500000</td><td>Mkt&amp;HR </td><td>0.83620690</td><td>1</td><td>0.000000000</td><td>0</td></tr>\n",
              "\t<tr><th scope=row>90.1</th><td> 90</td><td>F</td><td>A</td><td>Others </td><td>0.005720307</td><td>Others </td><td>Science </td><td>0.46341463</td><td>Sci&amp;Tech </td><td>1</td><td>0.25000000</td><td>Mkt&amp;HR </td><td>0.41791604</td><td>1</td><td>0.013513514</td><td>0</td></tr>\n",
              "\t<tr><th scope=row>20.2</th><td> 20</td><td>M</td><td>B</td><td>Others </td><td>0.004516032</td><td>Others </td><td><span style=white-space:pre-wrap>Arts    </span></td><td>0.48780488</td><td>Comm&amp;Mgmt</td><td>1</td><td>0.01000000</td><td>Mkt&amp;Fin</td><td>1.00000000</td><td>1</td><td>0.048648649</td><td>0</td></tr>\n",
              "\t<tr><th scope=row>51.1</th><td> 51</td><td>F</td><td>A</td><td>Central</td><td>0.005449345</td><td>Central</td><td>Science </td><td>0.44878049</td><td>Comm&amp;Mgmt</td><td>0</td><td>0.31250000</td><td>Mkt&amp;HR </td><td>0.44115442</td><td>1</td><td>0.000000000</td><td>0</td></tr>\n",
              "\t<tr><th scope=row>203.1</th><td>203</td><td>M</td><td>B</td><td>Central</td><td>0.003913894</td><td>Central</td><td>Science </td><td>0.39024390</td><td>Sci&amp;Tech </td><td>0</td><td>0.23500000</td><td>Mkt&amp;HR </td><td>0.33358321</td><td>1</td><td>0.054054054</td><td>0</td></tr>\n",
              "\t<tr><th scope=row>205.1</th><td>205</td><td>F</td><td>B</td><td>Others </td><td>0.005419238</td><td>Others </td><td>Commerce</td><td>0.56097561</td><td>Comm&amp;Mgmt</td><td>1</td><td>0.62500000</td><td>Mkt&amp;Fin</td><td>0.61769115</td><td>1</td><td>0.013513514</td><td>0</td></tr>\n",
              "\t<tr><th scope=row>138.1</th><td>138</td><td>M</td><td>B</td><td>Others </td><td>0.003913894</td><td>Central</td><td>Commerce</td><td>0.53658537</td><td>Comm&amp;Mgmt</td><td>0</td><td>0.12500000</td><td>Mkt&amp;HR </td><td>0.34482759</td><td>1</td><td>0.033783784</td><td>0</td></tr>\n",
              "\t<tr><th scope=row>205.2</th><td>205</td><td>F</td><td>B</td><td>Others </td><td>0.005419238</td><td>Others </td><td>Commerce</td><td>0.56097561</td><td>Comm&amp;Mgmt</td><td>1</td><td>0.62500000</td><td>Mkt&amp;Fin</td><td>0.61769115</td><td>1</td><td>0.013513514</td><td>0</td></tr>\n",
              "\t<tr><th scope=row>122.1</th><td>122</td><td>F</td><td>B</td><td>Central</td><td>0.004516032</td><td>Others </td><td>Science </td><td>0.47804878</td><td>Sci&amp;Tech </td><td>1</td><td>0.11812500</td><td>Mkt&amp;HR </td><td>0.76011994</td><td>1</td><td>0.067567568</td><td>0</td></tr>\n",
              "\t<tr><th scope=row>206.1</th><td>206</td><td>M</td><td>B</td><td>Others </td><td>0.003763360</td><td>Others </td><td>Commerce</td><td>0.36585366</td><td>Comm&amp;Mgmt</td><td>0</td><td>0.25000000</td><td>Mkt&amp;Fin</td><td>0.20989505</td><td>1</td><td>0.067567568</td><td>0</td></tr>\n",
              "\t<tr><th scope=row>12.1</th><td> 12</td><td>M</td><td>B</td><td>Central</td><td>0.004726780</td><td>Central</td><td>Commerce</td><td>0.69024390</td><td>Comm&amp;Mgmt</td><td>1</td><td>0.20833333</td><td>Mkt&amp;Fin</td><td>0.46814093</td><td>1</td><td>0.067567568</td><td>0</td></tr>\n",
              "\t<tr><th scope=row>207.1</th><td>207</td><td>M</td><td>C</td><td>Central</td><td>0.000752672</td><td>Central</td><td>Science </td><td>0.24390244</td><td>Comm&amp;Mgmt</td><td>0</td><td>0.97916667</td><td>Mkt&amp;Fin</td><td>0.08170915</td><td>0</td><td>0.087837838</td><td>0</td></tr>\n",
              "\t<tr><th scope=row>147.1</th><td>147</td><td>M</td><td>B</td><td>Central</td><td>0.003913894</td><td>Others </td><td>Science </td><td>0.39024390</td><td>Comm&amp;Mgmt</td><td>0</td><td>0.72916667</td><td>Mkt&amp;HR </td><td>0.14730135</td><td>1</td><td>0.044594595</td><td>0</td></tr>\n",
              "\t<tr><th scope=row>52.1</th><td> 52</td><td>M</td><td>C</td><td>Central</td><td>0.003630890</td><td>Central</td><td>Commerce</td><td>0.15121951</td><td>Comm&amp;Mgmt</td><td>0</td><td>0.35416667</td><td>Mkt&amp;HR </td><td>0.42878561</td><td>0</td><td>0.087837838</td><td>0</td></tr>\n",
              "\t<tr><th scope=row>10.1</th><td> 10</td><td>M</td><td>C</td><td>Central</td><td>0.004967635</td><td>Central</td><td>Commerce</td><td>0.26829268</td><td>Comm&amp;Mgmt</td><td>0</td><td>0.08333333</td><td>Mkt&amp;Fin</td><td>0.03748126</td><td>0</td><td>0.087837838</td><td>0</td></tr>\n",
              "\t<tr><th scope=row>89.2</th><td> 89</td><td>F</td><td>B</td><td>Central</td><td>0.003763360</td><td>Central</td><td>Commerce</td><td>0.56097561</td><td>Comm&amp;Mgmt</td><td>0</td><td>0.16666667</td><td>Mkt&amp;HR </td><td>0.49287856</td><td>1</td><td>0.013513514</td><td>0</td></tr>\n",
              "\t<tr><th scope=row>12.2</th><td> 12</td><td>M</td><td>B</td><td>Central</td><td>0.004726780</td><td>Central</td><td>Commerce</td><td>0.69024390</td><td>Comm&amp;Mgmt</td><td>1</td><td>0.20833333</td><td>Mkt&amp;Fin</td><td>0.46814093</td><td>1</td><td>0.067567568</td><td>0</td></tr>\n",
              "\t<tr><th scope=row>169.1</th><td>169</td><td>F</td><td>C</td><td>Central</td><td>0.002107482</td><td>Central</td><td>Commerce</td><td>0.19512195</td><td>Comm&amp;Mgmt</td><td>1</td><td>0.20833333</td><td>Mkt&amp;HR </td><td>0.28410795</td><td>0</td><td>0.087837838</td><td>0</td></tr>\n",
              "</tbody>\n",
              "</table>\n"
            ],
            "text/markdown": "\nA data.frame: 240 × 16\n\n| <!--/--> | sl_no &lt;int&gt; | gender &lt;chr&gt; | ssc_p &lt;fct&gt; | ssc_b &lt;chr&gt; | hsc_p &lt;dbl&gt; | hsc_b &lt;chr&gt; | hsc_s &lt;chr&gt; | degree_p &lt;dbl&gt; | degree_t &lt;chr&gt; | workex &lt;chr&gt; | etest_p &lt;dbl&gt; | specialisation &lt;chr&gt; | mba_p &lt;dbl&gt; | status &lt;dbl&gt; | salary &lt;dbl&gt; | class &lt;int&gt; |\n|---|---|---|---|---|---|---|---|---|---|---|---|---|---|---|---|---|\n| 5 |  5 | M | A | Central | 0.0055095589 | Central | Commerce | 0.568292683 | Comm&amp;Mgmt | 0 | 0.97500000 | Mkt&amp;Fin | 0.160794603 | 1 | 0.30405405 | 1 |\n| 6 |  6 | M | C | Others  | 0.0019268403 | Others  | Science  | 0.420731707 | Sci&amp;Tech  | 1 | 0.10416667 | Mkt&amp;Fin | 0.013868066 | 0 | 0.08783784 | 1 |\n| 7 |  7 | F | C | Others  | 0.0018365196 | Others  | Commerce | 0.707317073 | Comm&amp;Mgmt | 0 | 0.50583333 | Mkt&amp;Fin | 0.077961019 | 0 | 0.08783784 | 1 |\n| 17 | 17 | M | B | Central | 0.0043956044 | Central | Commerce | 0.380487805 | Comm&amp;Mgmt | 1 | 0.20833333 | Mkt&amp;Fin | 0.424662669 | 1 | 0.13513514 | 1 |\n| 18 | 18 | F | C | Central | 0.0045160319 | Central | Commerce | 0.341463415 | Comm&amp;Mgmt | 0 | 0.20833333 | Mkt&amp;Fin | 0.602323838 | 0 | 0.08783784 | 1 |\n| 19 | 19 | F | B | Central | 0.0043654975 | Central | Commerce | 0.341463415 | Comm&amp;Mgmt | 0 | 0.37500000 | Mkt&amp;HR  | 0.482383808 | 0 | 0.08783784 | 1 |\n| 21 | 21 | M | B | Others  | 0.0042149631 | Others  | Commerce | 0.390243902 | Comm&amp;Mgmt | 0 | 0.00000000 | Mkt&amp;HR  | 0.205772114 | 1 | 0.08783784 | 1 |\n| 22 | 22 | F | A | Others  | 0.0058708415 | Others  | Commerce | 0.853658537 | Comm&amp;Mgmt | 0 | 0.93750000 | Mkt&amp;Fin | 0.669040480 | 1 | 0.26081081 | 1 |\n| 23 | 23 | F | B | Others  | 0.0035827187 | Others  | Science  | 0.542195122 | Sci&amp;Tech  | 0 | 0.11520833 | Mkt&amp;HR  | 0.659670165 | 1 | 0.21621622 | 1 |\n| 24 | 24 | F | A | Others  | 0.0034622911 | Others  | Science  | 0.359512195 | Sci&amp;Tech  | 1 | 0.87500000 | Mkt&amp;Fin | 0.465142429 | 1 | 0.13513514 | 1 |\n| 25 | 25 | M | A | Others  | 0.0091374379 | Others  | Science  | 0.703902439 | Sci&amp;Tech  | 0 | 0.98750000 | Mkt&amp;Fin | 0.854572714 | 1 | 0.21621622 | 1 |\n| 26 | 26 | F | C | Others  | 0.0026494054 | Central | Commerce | 0.004878049 | Comm&amp;Mgmt | 1 | 0.54166667 | Mkt&amp;Fin | 0.529235382 | 0 | 0.08783784 | 1 |\n| 28 | 28 | M | B | Others  | 0.0045160319 | Others  | Commerce | 0.390243902 | Comm&amp;Mgmt | 0 | 0.37500000 | Mkt&amp;HR  | 0.242878561 | 1 | 0.08783784 | 1 |\n| 29 | 29 | M | A | Others  | 0.0059461087 | Others  | Commerce | 0.426829268 | Comm&amp;Mgmt | 1 | 0.48645833 | Mkt&amp;Fin | 0.485007496 | 1 | 0.20270270 | 1 |\n| 30 | 30 | M | B | Central | 0.0045160319 | Central | Commerce | 0.195121951 | Comm&amp;Mgmt | 0 | 0.56250000 | Mkt&amp;Fin | 0.002998501 | 0 | 0.08783784 | 1 |\n| 33 | 33 | F | B | Central | 0.0066235135 | Central | Commerce | 0.400000000 | Comm&amp;Mgmt | 0 | 0.01854167 | Mkt&amp;HR  | 0.412293853 | 1 | 0.10540541 | 1 |\n| 34 | 34 | F | A | Others  | 0.0042149631 | Others  | Science  | 0.756097561 | Comm&amp;Mgmt | 1 | 0.79166667 | Mkt&amp;Fin | 0.808470765 | 1 | 0.08108108 | 1 |\n| 35 | 35 | M | B | Others  | 0.0021074816 | Others  | Science  | 0.048780488 | Others    | 0 | 0.38416667 | Mkt&amp;HR  | 0.433283358 | 0 | 0.08783784 | 1 |\n| 36 | 36 | F | B | Central | 0.0061719103 | Central | Commerce | 0.536585366 | Comm&amp;Mgmt | 0 | 0.43750000 | Mkt&amp;HR  | 0.432158921 | 1 | 0.13513514 | 1 |\n| 37 | 37 | M | C | Central | 0.0010537408 | Central | Commerce | 0.170731707 | Comm&amp;Mgmt | 0 | 0.29166667 | Mkt&amp;Fin | 0.008995502 | 0 | 0.08783784 | 1 |\n| 38 | 38 | F | A | Central | 0.0058708415 | Central | Science  | 0.380487805 | Sci&amp;Tech  | 0 | 0.16666667 | Mkt&amp;HR  | 0.159670165 | 1 | 0.16216216 | 1 |\n| 40 | 40 | M | A | Others  | 0.0046665663 | Others  | Science  | 0.341463415 | Sci&amp;Tech  | 0 | 0.89583333 | Mkt&amp;Fin | 0.425412294 | 1 | 0.28513514 | 1 |\n| 41 | 41 | F | A | Central | 0.0060213759 | Others  | Commerce | 0.731707317 | Comm&amp;Mgmt | 0 | 0.20833333 | Mkt&amp;Fin | 0.581334333 | 1 | 0.11756757 | 1 |\n| 42 | 42 | F | B | Others  | 0.0039379798 | Others  | Commerce | 0.365853659 | Comm&amp;Mgmt | 1 | 0.31250000 | Mkt&amp;HR  | 0.695277361 | 0 | 0.08783784 | 1 |\n| 43 | 43 | M | C | Others  | 0.0003010688 | Central | Science  | 0.365853659 | Others    | 0 | 0.27083333 | Mkt&amp;Fin | 0.000000000 | 0 | 0.08783784 | 1 |\n| 44 | 44 | M | A | Others  | 0.0075267199 | Others  | Commerce | 0.439024390 | Comm&amp;Mgmt | 0 | 0.93750000 | Mkt&amp;HR  | 0.438155922 | 1 | 0.13513514 | 1 |\n| 54 | 54 | M | A | Others  | 0.0049676351 | Others  | Science  | 0.536585366 | Sci&amp;Tech  | 0 | 0.77083333 | Mkt&amp;HR  | 0.743253373 | 1 | 0.33783784 | 1 |\n| 58 | 58 | M | B | Central | 0.0058708415 | Central | Commerce | 0.585365854 | Comm&amp;Mgmt | 0 | 0.62500000 | Mkt&amp;Fin | 0.464017991 | 1 | 0.21621622 | 1 |\n| 59 | 59 | M | B | Central | 0.0037633599 | Others  | Science  | 0.439024390 | Comm&amp;Mgmt | 0 | 0.50000000 | Mkt&amp;Fin | 0.254122939 | 1 | 0.09189189 | 1 |\n| 60 | 60 | M | C | Central | 0.0043022731 | Others  | Science  | 0.539268293 | Sci&amp;Tech  | 0 | 0.15833333 | Mkt&amp;Fin | 0.204272864 | 1 | 0.08783784 | 1 |\n| ⋮ | ⋮ | ⋮ | ⋮ | ⋮ | ⋮ | ⋮ | ⋮ | ⋮ | ⋮ | ⋮ | ⋮ | ⋮ | ⋮ | ⋮ | ⋮ | ⋮ |\n| 205 | 205 | F | B | Others  | 0.005419238 | Others  | Commerce | 0.56097561 | Comm&amp;Mgmt | 1 | 0.62500000 | Mkt&amp;Fin | 0.61769115 | 1 | 0.013513514 | 0 |\n| 206 | 206 | M | B | Others  | 0.003763360 | Others  | Commerce | 0.36585366 | Comm&amp;Mgmt | 0 | 0.25000000 | Mkt&amp;Fin | 0.20989505 | 1 | 0.067567568 | 0 |\n| 207 | 207 | M | C | Central | 0.000752672 | Central | Science  | 0.24390244 | Comm&amp;Mgmt | 0 | 0.97916667 | Mkt&amp;Fin | 0.08170915 | 0 | 0.087837838 | 0 |\n| 210 | 210 | M | B | Central | 0.005268704 | Central | Commerce | 0.36585366 | Comm&amp;Mgmt | 0 | 0.35416667 | Mkt&amp;Fin | 0.19790105 | 1 | 0.021621622 | 0 |\n| 214 | 214 | F | B | Others  | 0.004365498 | Others  | Commerce | 0.19512195 | Comm&amp;Mgmt | 0 | 0.41666667 | Mkt&amp;HR  | 0.33808096 | 1 | 0.005405405 | 0 |\n| 215 | 215 | M | B | Central | 0.003161222 | Others  | Science  | 0.07317073 | Comm&amp;Mgmt | 0 | 0.81250000 | Mkt&amp;HR  | 0.33770615 | 0 | 0.087837838 | 0 |\n| 63.1 |  63 | F | A | Others  | 0.004094536 | Others  | Science  | 0.42439024 | Sci&amp;Tech  | 0 | 0.18750000 | Mkt&amp;Fin | 0.31784108 | 1 | 0.054054054 | 0 |\n| 165.1 | 165 | F | B | Central | 0.005343971 | Central | Commerce | 0.32560976 | Comm&amp;Mgmt | 0 | 0.06333333 | Mkt&amp;Fin | 0.53635682 | 1 | 0.067567568 | 0 |\n| 111.1 | 111 | F | B | Central | 0.004967635 | Central | Science  | 0.53658537 | Sci&amp;Tech  | 0 | 0.15000000 | Mkt&amp;HR  | 0.13455772 | 1 | 0.067567568 | 0 |\n| 20.1 |  20 | M | B | Others  | 0.004516032 | Others  | Arts     | 0.48780488 | Comm&amp;Mgmt | 1 | 0.01000000 | Mkt&amp;Fin | 1.00000000 | 1 | 0.048648649 | 0 |\n| 136.1 | 136 | F | B | Central | 0.002860154 | Others  | Science  | 0.46341463 | Comm&amp;Mgmt | 0 | 0.11666667 | Mkt&amp;HR  | 0.54047976 | 1 | 0.000000000 | 0 |\n| 89.1 |  89 | F | B | Central | 0.003763360 | Central | Commerce | 0.56097561 | Comm&amp;Mgmt | 0 | 0.16666667 | Mkt&amp;HR  | 0.49287856 | 1 | 0.013513514 | 0 |\n| 108.1 | 108 | M | A | Others  | 0.007978323 | Others  | Commerce | 0.80487805 | Comm&amp;Mgmt | 0 | 0.62500000 | Mkt&amp;HR  | 0.83620690 | 1 | 0.000000000 | 0 |\n| 90.1 |  90 | F | A | Others  | 0.005720307 | Others  | Science  | 0.46341463 | Sci&amp;Tech  | 1 | 0.25000000 | Mkt&amp;HR  | 0.41791604 | 1 | 0.013513514 | 0 |\n| 20.2 |  20 | M | B | Others  | 0.004516032 | Others  | Arts     | 0.48780488 | Comm&amp;Mgmt | 1 | 0.01000000 | Mkt&amp;Fin | 1.00000000 | 1 | 0.048648649 | 0 |\n| 51.1 |  51 | F | A | Central | 0.005449345 | Central | Science  | 0.44878049 | Comm&amp;Mgmt | 0 | 0.31250000 | Mkt&amp;HR  | 0.44115442 | 1 | 0.000000000 | 0 |\n| 203.1 | 203 | M | B | Central | 0.003913894 | Central | Science  | 0.39024390 | Sci&amp;Tech  | 0 | 0.23500000 | Mkt&amp;HR  | 0.33358321 | 1 | 0.054054054 | 0 |\n| 205.1 | 205 | F | B | Others  | 0.005419238 | Others  | Commerce | 0.56097561 | Comm&amp;Mgmt | 1 | 0.62500000 | Mkt&amp;Fin | 0.61769115 | 1 | 0.013513514 | 0 |\n| 138.1 | 138 | M | B | Others  | 0.003913894 | Central | Commerce | 0.53658537 | Comm&amp;Mgmt | 0 | 0.12500000 | Mkt&amp;HR  | 0.34482759 | 1 | 0.033783784 | 0 |\n| 205.2 | 205 | F | B | Others  | 0.005419238 | Others  | Commerce | 0.56097561 | Comm&amp;Mgmt | 1 | 0.62500000 | Mkt&amp;Fin | 0.61769115 | 1 | 0.013513514 | 0 |\n| 122.1 | 122 | F | B | Central | 0.004516032 | Others  | Science  | 0.47804878 | Sci&amp;Tech  | 1 | 0.11812500 | Mkt&amp;HR  | 0.76011994 | 1 | 0.067567568 | 0 |\n| 206.1 | 206 | M | B | Others  | 0.003763360 | Others  | Commerce | 0.36585366 | Comm&amp;Mgmt | 0 | 0.25000000 | Mkt&amp;Fin | 0.20989505 | 1 | 0.067567568 | 0 |\n| 12.1 |  12 | M | B | Central | 0.004726780 | Central | Commerce | 0.69024390 | Comm&amp;Mgmt | 1 | 0.20833333 | Mkt&amp;Fin | 0.46814093 | 1 | 0.067567568 | 0 |\n| 207.1 | 207 | M | C | Central | 0.000752672 | Central | Science  | 0.24390244 | Comm&amp;Mgmt | 0 | 0.97916667 | Mkt&amp;Fin | 0.08170915 | 0 | 0.087837838 | 0 |\n| 147.1 | 147 | M | B | Central | 0.003913894 | Others  | Science  | 0.39024390 | Comm&amp;Mgmt | 0 | 0.72916667 | Mkt&amp;HR  | 0.14730135 | 1 | 0.044594595 | 0 |\n| 52.1 |  52 | M | C | Central | 0.003630890 | Central | Commerce | 0.15121951 | Comm&amp;Mgmt | 0 | 0.35416667 | Mkt&amp;HR  | 0.42878561 | 0 | 0.087837838 | 0 |\n| 10.1 |  10 | M | C | Central | 0.004967635 | Central | Commerce | 0.26829268 | Comm&amp;Mgmt | 0 | 0.08333333 | Mkt&amp;Fin | 0.03748126 | 0 | 0.087837838 | 0 |\n| 89.2 |  89 | F | B | Central | 0.003763360 | Central | Commerce | 0.56097561 | Comm&amp;Mgmt | 0 | 0.16666667 | Mkt&amp;HR  | 0.49287856 | 1 | 0.013513514 | 0 |\n| 12.2 |  12 | M | B | Central | 0.004726780 | Central | Commerce | 0.69024390 | Comm&amp;Mgmt | 1 | 0.20833333 | Mkt&amp;Fin | 0.46814093 | 1 | 0.067567568 | 0 |\n| 169.1 | 169 | F | C | Central | 0.002107482 | Central | Commerce | 0.19512195 | Comm&amp;Mgmt | 1 | 0.20833333 | Mkt&amp;HR  | 0.28410795 | 0 | 0.087837838 | 0 |\n\n",
            "text/latex": "A data.frame: 240 × 16\n\\begin{tabular}{r|llllllllllllllll}\n  & sl\\_no & gender & ssc\\_p & ssc\\_b & hsc\\_p & hsc\\_b & hsc\\_s & degree\\_p & degree\\_t & workex & etest\\_p & specialisation & mba\\_p & status & salary & class\\\\\n  & <int> & <chr> & <fct> & <chr> & <dbl> & <chr> & <chr> & <dbl> & <chr> & <chr> & <dbl> & <chr> & <dbl> & <dbl> & <dbl> & <int>\\\\\n\\hline\n\t5 &  5 & M & A & Central & 0.0055095589 & Central & Commerce & 0.568292683 & Comm\\&Mgmt & 0 & 0.97500000 & Mkt\\&Fin & 0.160794603 & 1 & 0.30405405 & 1\\\\\n\t6 &  6 & M & C & Others  & 0.0019268403 & Others  & Science  & 0.420731707 & Sci\\&Tech  & 1 & 0.10416667 & Mkt\\&Fin & 0.013868066 & 0 & 0.08783784 & 1\\\\\n\t7 &  7 & F & C & Others  & 0.0018365196 & Others  & Commerce & 0.707317073 & Comm\\&Mgmt & 0 & 0.50583333 & Mkt\\&Fin & 0.077961019 & 0 & 0.08783784 & 1\\\\\n\t17 & 17 & M & B & Central & 0.0043956044 & Central & Commerce & 0.380487805 & Comm\\&Mgmt & 1 & 0.20833333 & Mkt\\&Fin & 0.424662669 & 1 & 0.13513514 & 1\\\\\n\t18 & 18 & F & C & Central & 0.0045160319 & Central & Commerce & 0.341463415 & Comm\\&Mgmt & 0 & 0.20833333 & Mkt\\&Fin & 0.602323838 & 0 & 0.08783784 & 1\\\\\n\t19 & 19 & F & B & Central & 0.0043654975 & Central & Commerce & 0.341463415 & Comm\\&Mgmt & 0 & 0.37500000 & Mkt\\&HR  & 0.482383808 & 0 & 0.08783784 & 1\\\\\n\t21 & 21 & M & B & Others  & 0.0042149631 & Others  & Commerce & 0.390243902 & Comm\\&Mgmt & 0 & 0.00000000 & Mkt\\&HR  & 0.205772114 & 1 & 0.08783784 & 1\\\\\n\t22 & 22 & F & A & Others  & 0.0058708415 & Others  & Commerce & 0.853658537 & Comm\\&Mgmt & 0 & 0.93750000 & Mkt\\&Fin & 0.669040480 & 1 & 0.26081081 & 1\\\\\n\t23 & 23 & F & B & Others  & 0.0035827187 & Others  & Science  & 0.542195122 & Sci\\&Tech  & 0 & 0.11520833 & Mkt\\&HR  & 0.659670165 & 1 & 0.21621622 & 1\\\\\n\t24 & 24 & F & A & Others  & 0.0034622911 & Others  & Science  & 0.359512195 & Sci\\&Tech  & 1 & 0.87500000 & Mkt\\&Fin & 0.465142429 & 1 & 0.13513514 & 1\\\\\n\t25 & 25 & M & A & Others  & 0.0091374379 & Others  & Science  & 0.703902439 & Sci\\&Tech  & 0 & 0.98750000 & Mkt\\&Fin & 0.854572714 & 1 & 0.21621622 & 1\\\\\n\t26 & 26 & F & C & Others  & 0.0026494054 & Central & Commerce & 0.004878049 & Comm\\&Mgmt & 1 & 0.54166667 & Mkt\\&Fin & 0.529235382 & 0 & 0.08783784 & 1\\\\\n\t28 & 28 & M & B & Others  & 0.0045160319 & Others  & Commerce & 0.390243902 & Comm\\&Mgmt & 0 & 0.37500000 & Mkt\\&HR  & 0.242878561 & 1 & 0.08783784 & 1\\\\\n\t29 & 29 & M & A & Others  & 0.0059461087 & Others  & Commerce & 0.426829268 & Comm\\&Mgmt & 1 & 0.48645833 & Mkt\\&Fin & 0.485007496 & 1 & 0.20270270 & 1\\\\\n\t30 & 30 & M & B & Central & 0.0045160319 & Central & Commerce & 0.195121951 & Comm\\&Mgmt & 0 & 0.56250000 & Mkt\\&Fin & 0.002998501 & 0 & 0.08783784 & 1\\\\\n\t33 & 33 & F & B & Central & 0.0066235135 & Central & Commerce & 0.400000000 & Comm\\&Mgmt & 0 & 0.01854167 & Mkt\\&HR  & 0.412293853 & 1 & 0.10540541 & 1\\\\\n\t34 & 34 & F & A & Others  & 0.0042149631 & Others  & Science  & 0.756097561 & Comm\\&Mgmt & 1 & 0.79166667 & Mkt\\&Fin & 0.808470765 & 1 & 0.08108108 & 1\\\\\n\t35 & 35 & M & B & Others  & 0.0021074816 & Others  & Science  & 0.048780488 & Others    & 0 & 0.38416667 & Mkt\\&HR  & 0.433283358 & 0 & 0.08783784 & 1\\\\\n\t36 & 36 & F & B & Central & 0.0061719103 & Central & Commerce & 0.536585366 & Comm\\&Mgmt & 0 & 0.43750000 & Mkt\\&HR  & 0.432158921 & 1 & 0.13513514 & 1\\\\\n\t37 & 37 & M & C & Central & 0.0010537408 & Central & Commerce & 0.170731707 & Comm\\&Mgmt & 0 & 0.29166667 & Mkt\\&Fin & 0.008995502 & 0 & 0.08783784 & 1\\\\\n\t38 & 38 & F & A & Central & 0.0058708415 & Central & Science  & 0.380487805 & Sci\\&Tech  & 0 & 0.16666667 & Mkt\\&HR  & 0.159670165 & 1 & 0.16216216 & 1\\\\\n\t40 & 40 & M & A & Others  & 0.0046665663 & Others  & Science  & 0.341463415 & Sci\\&Tech  & 0 & 0.89583333 & Mkt\\&Fin & 0.425412294 & 1 & 0.28513514 & 1\\\\\n\t41 & 41 & F & A & Central & 0.0060213759 & Others  & Commerce & 0.731707317 & Comm\\&Mgmt & 0 & 0.20833333 & Mkt\\&Fin & 0.581334333 & 1 & 0.11756757 & 1\\\\\n\t42 & 42 & F & B & Others  & 0.0039379798 & Others  & Commerce & 0.365853659 & Comm\\&Mgmt & 1 & 0.31250000 & Mkt\\&HR  & 0.695277361 & 0 & 0.08783784 & 1\\\\\n\t43 & 43 & M & C & Others  & 0.0003010688 & Central & Science  & 0.365853659 & Others    & 0 & 0.27083333 & Mkt\\&Fin & 0.000000000 & 0 & 0.08783784 & 1\\\\\n\t44 & 44 & M & A & Others  & 0.0075267199 & Others  & Commerce & 0.439024390 & Comm\\&Mgmt & 0 & 0.93750000 & Mkt\\&HR  & 0.438155922 & 1 & 0.13513514 & 1\\\\\n\t54 & 54 & M & A & Others  & 0.0049676351 & Others  & Science  & 0.536585366 & Sci\\&Tech  & 0 & 0.77083333 & Mkt\\&HR  & 0.743253373 & 1 & 0.33783784 & 1\\\\\n\t58 & 58 & M & B & Central & 0.0058708415 & Central & Commerce & 0.585365854 & Comm\\&Mgmt & 0 & 0.62500000 & Mkt\\&Fin & 0.464017991 & 1 & 0.21621622 & 1\\\\\n\t59 & 59 & M & B & Central & 0.0037633599 & Others  & Science  & 0.439024390 & Comm\\&Mgmt & 0 & 0.50000000 & Mkt\\&Fin & 0.254122939 & 1 & 0.09189189 & 1\\\\\n\t60 & 60 & M & C & Central & 0.0043022731 & Others  & Science  & 0.539268293 & Sci\\&Tech  & 0 & 0.15833333 & Mkt\\&Fin & 0.204272864 & 1 & 0.08783784 & 1\\\\\n\t⋮ & ⋮ & ⋮ & ⋮ & ⋮ & ⋮ & ⋮ & ⋮ & ⋮ & ⋮ & ⋮ & ⋮ & ⋮ & ⋮ & ⋮ & ⋮ & ⋮\\\\\n\t205 & 205 & F & B & Others  & 0.005419238 & Others  & Commerce & 0.56097561 & Comm\\&Mgmt & 1 & 0.62500000 & Mkt\\&Fin & 0.61769115 & 1 & 0.013513514 & 0\\\\\n\t206 & 206 & M & B & Others  & 0.003763360 & Others  & Commerce & 0.36585366 & Comm\\&Mgmt & 0 & 0.25000000 & Mkt\\&Fin & 0.20989505 & 1 & 0.067567568 & 0\\\\\n\t207 & 207 & M & C & Central & 0.000752672 & Central & Science  & 0.24390244 & Comm\\&Mgmt & 0 & 0.97916667 & Mkt\\&Fin & 0.08170915 & 0 & 0.087837838 & 0\\\\\n\t210 & 210 & M & B & Central & 0.005268704 & Central & Commerce & 0.36585366 & Comm\\&Mgmt & 0 & 0.35416667 & Mkt\\&Fin & 0.19790105 & 1 & 0.021621622 & 0\\\\\n\t214 & 214 & F & B & Others  & 0.004365498 & Others  & Commerce & 0.19512195 & Comm\\&Mgmt & 0 & 0.41666667 & Mkt\\&HR  & 0.33808096 & 1 & 0.005405405 & 0\\\\\n\t215 & 215 & M & B & Central & 0.003161222 & Others  & Science  & 0.07317073 & Comm\\&Mgmt & 0 & 0.81250000 & Mkt\\&HR  & 0.33770615 & 0 & 0.087837838 & 0\\\\\n\t63.1 &  63 & F & A & Others  & 0.004094536 & Others  & Science  & 0.42439024 & Sci\\&Tech  & 0 & 0.18750000 & Mkt\\&Fin & 0.31784108 & 1 & 0.054054054 & 0\\\\\n\t165.1 & 165 & F & B & Central & 0.005343971 & Central & Commerce & 0.32560976 & Comm\\&Mgmt & 0 & 0.06333333 & Mkt\\&Fin & 0.53635682 & 1 & 0.067567568 & 0\\\\\n\t111.1 & 111 & F & B & Central & 0.004967635 & Central & Science  & 0.53658537 & Sci\\&Tech  & 0 & 0.15000000 & Mkt\\&HR  & 0.13455772 & 1 & 0.067567568 & 0\\\\\n\t20.1 &  20 & M & B & Others  & 0.004516032 & Others  & Arts     & 0.48780488 & Comm\\&Mgmt & 1 & 0.01000000 & Mkt\\&Fin & 1.00000000 & 1 & 0.048648649 & 0\\\\\n\t136.1 & 136 & F & B & Central & 0.002860154 & Others  & Science  & 0.46341463 & Comm\\&Mgmt & 0 & 0.11666667 & Mkt\\&HR  & 0.54047976 & 1 & 0.000000000 & 0\\\\\n\t89.1 &  89 & F & B & Central & 0.003763360 & Central & Commerce & 0.56097561 & Comm\\&Mgmt & 0 & 0.16666667 & Mkt\\&HR  & 0.49287856 & 1 & 0.013513514 & 0\\\\\n\t108.1 & 108 & M & A & Others  & 0.007978323 & Others  & Commerce & 0.80487805 & Comm\\&Mgmt & 0 & 0.62500000 & Mkt\\&HR  & 0.83620690 & 1 & 0.000000000 & 0\\\\\n\t90.1 &  90 & F & A & Others  & 0.005720307 & Others  & Science  & 0.46341463 & Sci\\&Tech  & 1 & 0.25000000 & Mkt\\&HR  & 0.41791604 & 1 & 0.013513514 & 0\\\\\n\t20.2 &  20 & M & B & Others  & 0.004516032 & Others  & Arts     & 0.48780488 & Comm\\&Mgmt & 1 & 0.01000000 & Mkt\\&Fin & 1.00000000 & 1 & 0.048648649 & 0\\\\\n\t51.1 &  51 & F & A & Central & 0.005449345 & Central & Science  & 0.44878049 & Comm\\&Mgmt & 0 & 0.31250000 & Mkt\\&HR  & 0.44115442 & 1 & 0.000000000 & 0\\\\\n\t203.1 & 203 & M & B & Central & 0.003913894 & Central & Science  & 0.39024390 & Sci\\&Tech  & 0 & 0.23500000 & Mkt\\&HR  & 0.33358321 & 1 & 0.054054054 & 0\\\\\n\t205.1 & 205 & F & B & Others  & 0.005419238 & Others  & Commerce & 0.56097561 & Comm\\&Mgmt & 1 & 0.62500000 & Mkt\\&Fin & 0.61769115 & 1 & 0.013513514 & 0\\\\\n\t138.1 & 138 & M & B & Others  & 0.003913894 & Central & Commerce & 0.53658537 & Comm\\&Mgmt & 0 & 0.12500000 & Mkt\\&HR  & 0.34482759 & 1 & 0.033783784 & 0\\\\\n\t205.2 & 205 & F & B & Others  & 0.005419238 & Others  & Commerce & 0.56097561 & Comm\\&Mgmt & 1 & 0.62500000 & Mkt\\&Fin & 0.61769115 & 1 & 0.013513514 & 0\\\\\n\t122.1 & 122 & F & B & Central & 0.004516032 & Others  & Science  & 0.47804878 & Sci\\&Tech  & 1 & 0.11812500 & Mkt\\&HR  & 0.76011994 & 1 & 0.067567568 & 0\\\\\n\t206.1 & 206 & M & B & Others  & 0.003763360 & Others  & Commerce & 0.36585366 & Comm\\&Mgmt & 0 & 0.25000000 & Mkt\\&Fin & 0.20989505 & 1 & 0.067567568 & 0\\\\\n\t12.1 &  12 & M & B & Central & 0.004726780 & Central & Commerce & 0.69024390 & Comm\\&Mgmt & 1 & 0.20833333 & Mkt\\&Fin & 0.46814093 & 1 & 0.067567568 & 0\\\\\n\t207.1 & 207 & M & C & Central & 0.000752672 & Central & Science  & 0.24390244 & Comm\\&Mgmt & 0 & 0.97916667 & Mkt\\&Fin & 0.08170915 & 0 & 0.087837838 & 0\\\\\n\t147.1 & 147 & M & B & Central & 0.003913894 & Others  & Science  & 0.39024390 & Comm\\&Mgmt & 0 & 0.72916667 & Mkt\\&HR  & 0.14730135 & 1 & 0.044594595 & 0\\\\\n\t52.1 &  52 & M & C & Central & 0.003630890 & Central & Commerce & 0.15121951 & Comm\\&Mgmt & 0 & 0.35416667 & Mkt\\&HR  & 0.42878561 & 0 & 0.087837838 & 0\\\\\n\t10.1 &  10 & M & C & Central & 0.004967635 & Central & Commerce & 0.26829268 & Comm\\&Mgmt & 0 & 0.08333333 & Mkt\\&Fin & 0.03748126 & 0 & 0.087837838 & 0\\\\\n\t89.2 &  89 & F & B & Central & 0.003763360 & Central & Commerce & 0.56097561 & Comm\\&Mgmt & 0 & 0.16666667 & Mkt\\&HR  & 0.49287856 & 1 & 0.013513514 & 0\\\\\n\t12.2 &  12 & M & B & Central & 0.004726780 & Central & Commerce & 0.69024390 & Comm\\&Mgmt & 1 & 0.20833333 & Mkt\\&Fin & 0.46814093 & 1 & 0.067567568 & 0\\\\\n\t169.1 & 169 & F & C & Central & 0.002107482 & Central & Commerce & 0.19512195 & Comm\\&Mgmt & 1 & 0.20833333 & Mkt\\&HR  & 0.28410795 & 0 & 0.087837838 & 0\\\\\n\\end{tabular}\n",
            "text/plain": [
              "      sl_no gender ssc_p ssc_b   hsc_p        hsc_b   hsc_s    degree_p   \n",
              "5      5    M      A     Central 0.0055095589 Central Commerce 0.568292683\n",
              "6      6    M      C     Others  0.0019268403 Others  Science  0.420731707\n",
              "7      7    F      C     Others  0.0018365196 Others  Commerce 0.707317073\n",
              "17    17    M      B     Central 0.0043956044 Central Commerce 0.380487805\n",
              "18    18    F      C     Central 0.0045160319 Central Commerce 0.341463415\n",
              "19    19    F      B     Central 0.0043654975 Central Commerce 0.341463415\n",
              "21    21    M      B     Others  0.0042149631 Others  Commerce 0.390243902\n",
              "22    22    F      A     Others  0.0058708415 Others  Commerce 0.853658537\n",
              "23    23    F      B     Others  0.0035827187 Others  Science  0.542195122\n",
              "24    24    F      A     Others  0.0034622911 Others  Science  0.359512195\n",
              "25    25    M      A     Others  0.0091374379 Others  Science  0.703902439\n",
              "26    26    F      C     Others  0.0026494054 Central Commerce 0.004878049\n",
              "28    28    M      B     Others  0.0045160319 Others  Commerce 0.390243902\n",
              "29    29    M      A     Others  0.0059461087 Others  Commerce 0.426829268\n",
              "30    30    M      B     Central 0.0045160319 Central Commerce 0.195121951\n",
              "33    33    F      B     Central 0.0066235135 Central Commerce 0.400000000\n",
              "34    34    F      A     Others  0.0042149631 Others  Science  0.756097561\n",
              "35    35    M      B     Others  0.0021074816 Others  Science  0.048780488\n",
              "36    36    F      B     Central 0.0061719103 Central Commerce 0.536585366\n",
              "37    37    M      C     Central 0.0010537408 Central Commerce 0.170731707\n",
              "38    38    F      A     Central 0.0058708415 Central Science  0.380487805\n",
              "40    40    M      A     Others  0.0046665663 Others  Science  0.341463415\n",
              "41    41    F      A     Central 0.0060213759 Others  Commerce 0.731707317\n",
              "42    42    F      B     Others  0.0039379798 Others  Commerce 0.365853659\n",
              "43    43    M      C     Others  0.0003010688 Central Science  0.365853659\n",
              "44    44    M      A     Others  0.0075267199 Others  Commerce 0.439024390\n",
              "54    54    M      A     Others  0.0049676351 Others  Science  0.536585366\n",
              "58    58    M      B     Central 0.0058708415 Central Commerce 0.585365854\n",
              "59    59    M      B     Central 0.0037633599 Others  Science  0.439024390\n",
              "60    60    M      C     Central 0.0043022731 Others  Science  0.539268293\n",
              "⋮     ⋮     ⋮      ⋮     ⋮       ⋮            ⋮       ⋮        ⋮          \n",
              "205   205   F      B     Others  0.005419238  Others  Commerce 0.56097561 \n",
              "206   206   M      B     Others  0.003763360  Others  Commerce 0.36585366 \n",
              "207   207   M      C     Central 0.000752672  Central Science  0.24390244 \n",
              "210   210   M      B     Central 0.005268704  Central Commerce 0.36585366 \n",
              "214   214   F      B     Others  0.004365498  Others  Commerce 0.19512195 \n",
              "215   215   M      B     Central 0.003161222  Others  Science  0.07317073 \n",
              "63.1   63   F      A     Others  0.004094536  Others  Science  0.42439024 \n",
              "165.1 165   F      B     Central 0.005343971  Central Commerce 0.32560976 \n",
              "111.1 111   F      B     Central 0.004967635  Central Science  0.53658537 \n",
              "20.1   20   M      B     Others  0.004516032  Others  Arts     0.48780488 \n",
              "136.1 136   F      B     Central 0.002860154  Others  Science  0.46341463 \n",
              "89.1   89   F      B     Central 0.003763360  Central Commerce 0.56097561 \n",
              "108.1 108   M      A     Others  0.007978323  Others  Commerce 0.80487805 \n",
              "90.1   90   F      A     Others  0.005720307  Others  Science  0.46341463 \n",
              "20.2   20   M      B     Others  0.004516032  Others  Arts     0.48780488 \n",
              "51.1   51   F      A     Central 0.005449345  Central Science  0.44878049 \n",
              "203.1 203   M      B     Central 0.003913894  Central Science  0.39024390 \n",
              "205.1 205   F      B     Others  0.005419238  Others  Commerce 0.56097561 \n",
              "138.1 138   M      B     Others  0.003913894  Central Commerce 0.53658537 \n",
              "205.2 205   F      B     Others  0.005419238  Others  Commerce 0.56097561 \n",
              "122.1 122   F      B     Central 0.004516032  Others  Science  0.47804878 \n",
              "206.1 206   M      B     Others  0.003763360  Others  Commerce 0.36585366 \n",
              "12.1   12   M      B     Central 0.004726780  Central Commerce 0.69024390 \n",
              "207.1 207   M      C     Central 0.000752672  Central Science  0.24390244 \n",
              "147.1 147   M      B     Central 0.003913894  Others  Science  0.39024390 \n",
              "52.1   52   M      C     Central 0.003630890  Central Commerce 0.15121951 \n",
              "10.1   10   M      C     Central 0.004967635  Central Commerce 0.26829268 \n",
              "89.2   89   F      B     Central 0.003763360  Central Commerce 0.56097561 \n",
              "12.2   12   M      B     Central 0.004726780  Central Commerce 0.69024390 \n",
              "169.1 169   F      C     Central 0.002107482  Central Commerce 0.19512195 \n",
              "      degree_t  workex etest_p    specialisation mba_p       status salary     \n",
              "5     Comm&Mgmt 0      0.97500000 Mkt&Fin        0.160794603 1      0.30405405 \n",
              "6     Sci&Tech  1      0.10416667 Mkt&Fin        0.013868066 0      0.08783784 \n",
              "7     Comm&Mgmt 0      0.50583333 Mkt&Fin        0.077961019 0      0.08783784 \n",
              "17    Comm&Mgmt 1      0.20833333 Mkt&Fin        0.424662669 1      0.13513514 \n",
              "18    Comm&Mgmt 0      0.20833333 Mkt&Fin        0.602323838 0      0.08783784 \n",
              "19    Comm&Mgmt 0      0.37500000 Mkt&HR         0.482383808 0      0.08783784 \n",
              "21    Comm&Mgmt 0      0.00000000 Mkt&HR         0.205772114 1      0.08783784 \n",
              "22    Comm&Mgmt 0      0.93750000 Mkt&Fin        0.669040480 1      0.26081081 \n",
              "23    Sci&Tech  0      0.11520833 Mkt&HR         0.659670165 1      0.21621622 \n",
              "24    Sci&Tech  1      0.87500000 Mkt&Fin        0.465142429 1      0.13513514 \n",
              "25    Sci&Tech  0      0.98750000 Mkt&Fin        0.854572714 1      0.21621622 \n",
              "26    Comm&Mgmt 1      0.54166667 Mkt&Fin        0.529235382 0      0.08783784 \n",
              "28    Comm&Mgmt 0      0.37500000 Mkt&HR         0.242878561 1      0.08783784 \n",
              "29    Comm&Mgmt 1      0.48645833 Mkt&Fin        0.485007496 1      0.20270270 \n",
              "30    Comm&Mgmt 0      0.56250000 Mkt&Fin        0.002998501 0      0.08783784 \n",
              "33    Comm&Mgmt 0      0.01854167 Mkt&HR         0.412293853 1      0.10540541 \n",
              "34    Comm&Mgmt 1      0.79166667 Mkt&Fin        0.808470765 1      0.08108108 \n",
              "35    Others    0      0.38416667 Mkt&HR         0.433283358 0      0.08783784 \n",
              "36    Comm&Mgmt 0      0.43750000 Mkt&HR         0.432158921 1      0.13513514 \n",
              "37    Comm&Mgmt 0      0.29166667 Mkt&Fin        0.008995502 0      0.08783784 \n",
              "38    Sci&Tech  0      0.16666667 Mkt&HR         0.159670165 1      0.16216216 \n",
              "40    Sci&Tech  0      0.89583333 Mkt&Fin        0.425412294 1      0.28513514 \n",
              "41    Comm&Mgmt 0      0.20833333 Mkt&Fin        0.581334333 1      0.11756757 \n",
              "42    Comm&Mgmt 1      0.31250000 Mkt&HR         0.695277361 0      0.08783784 \n",
              "43    Others    0      0.27083333 Mkt&Fin        0.000000000 0      0.08783784 \n",
              "44    Comm&Mgmt 0      0.93750000 Mkt&HR         0.438155922 1      0.13513514 \n",
              "54    Sci&Tech  0      0.77083333 Mkt&HR         0.743253373 1      0.33783784 \n",
              "58    Comm&Mgmt 0      0.62500000 Mkt&Fin        0.464017991 1      0.21621622 \n",
              "59    Comm&Mgmt 0      0.50000000 Mkt&Fin        0.254122939 1      0.09189189 \n",
              "60    Sci&Tech  0      0.15833333 Mkt&Fin        0.204272864 1      0.08783784 \n",
              "⋮     ⋮         ⋮      ⋮          ⋮              ⋮           ⋮      ⋮          \n",
              "205   Comm&Mgmt 1      0.62500000 Mkt&Fin        0.61769115  1      0.013513514\n",
              "206   Comm&Mgmt 0      0.25000000 Mkt&Fin        0.20989505  1      0.067567568\n",
              "207   Comm&Mgmt 0      0.97916667 Mkt&Fin        0.08170915  0      0.087837838\n",
              "210   Comm&Mgmt 0      0.35416667 Mkt&Fin        0.19790105  1      0.021621622\n",
              "214   Comm&Mgmt 0      0.41666667 Mkt&HR         0.33808096  1      0.005405405\n",
              "215   Comm&Mgmt 0      0.81250000 Mkt&HR         0.33770615  0      0.087837838\n",
              "63.1  Sci&Tech  0      0.18750000 Mkt&Fin        0.31784108  1      0.054054054\n",
              "165.1 Comm&Mgmt 0      0.06333333 Mkt&Fin        0.53635682  1      0.067567568\n",
              "111.1 Sci&Tech  0      0.15000000 Mkt&HR         0.13455772  1      0.067567568\n",
              "20.1  Comm&Mgmt 1      0.01000000 Mkt&Fin        1.00000000  1      0.048648649\n",
              "136.1 Comm&Mgmt 0      0.11666667 Mkt&HR         0.54047976  1      0.000000000\n",
              "89.1  Comm&Mgmt 0      0.16666667 Mkt&HR         0.49287856  1      0.013513514\n",
              "108.1 Comm&Mgmt 0      0.62500000 Mkt&HR         0.83620690  1      0.000000000\n",
              "90.1  Sci&Tech  1      0.25000000 Mkt&HR         0.41791604  1      0.013513514\n",
              "20.2  Comm&Mgmt 1      0.01000000 Mkt&Fin        1.00000000  1      0.048648649\n",
              "51.1  Comm&Mgmt 0      0.31250000 Mkt&HR         0.44115442  1      0.000000000\n",
              "203.1 Sci&Tech  0      0.23500000 Mkt&HR         0.33358321  1      0.054054054\n",
              "205.1 Comm&Mgmt 1      0.62500000 Mkt&Fin        0.61769115  1      0.013513514\n",
              "138.1 Comm&Mgmt 0      0.12500000 Mkt&HR         0.34482759  1      0.033783784\n",
              "205.2 Comm&Mgmt 1      0.62500000 Mkt&Fin        0.61769115  1      0.013513514\n",
              "122.1 Sci&Tech  1      0.11812500 Mkt&HR         0.76011994  1      0.067567568\n",
              "206.1 Comm&Mgmt 0      0.25000000 Mkt&Fin        0.20989505  1      0.067567568\n",
              "12.1  Comm&Mgmt 1      0.20833333 Mkt&Fin        0.46814093  1      0.067567568\n",
              "207.1 Comm&Mgmt 0      0.97916667 Mkt&Fin        0.08170915  0      0.087837838\n",
              "147.1 Comm&Mgmt 0      0.72916667 Mkt&HR         0.14730135  1      0.044594595\n",
              "52.1  Comm&Mgmt 0      0.35416667 Mkt&HR         0.42878561  0      0.087837838\n",
              "10.1  Comm&Mgmt 0      0.08333333 Mkt&Fin        0.03748126  0      0.087837838\n",
              "89.2  Comm&Mgmt 0      0.16666667 Mkt&HR         0.49287856  1      0.013513514\n",
              "12.2  Comm&Mgmt 1      0.20833333 Mkt&Fin        0.46814093  1      0.067567568\n",
              "169.1 Comm&Mgmt 1      0.20833333 Mkt&HR         0.28410795  0      0.087837838\n",
              "      class\n",
              "5     1    \n",
              "6     1    \n",
              "7     1    \n",
              "17    1    \n",
              "18    1    \n",
              "19    1    \n",
              "21    1    \n",
              "22    1    \n",
              "23    1    \n",
              "24    1    \n",
              "25    1    \n",
              "26    1    \n",
              "28    1    \n",
              "29    1    \n",
              "30    1    \n",
              "33    1    \n",
              "34    1    \n",
              "35    1    \n",
              "36    1    \n",
              "37    1    \n",
              "38    1    \n",
              "40    1    \n",
              "41    1    \n",
              "42    1    \n",
              "43    1    \n",
              "44    1    \n",
              "54    1    \n",
              "58    1    \n",
              "59    1    \n",
              "60    1    \n",
              "⋮     ⋮    \n",
              "205   0    \n",
              "206   0    \n",
              "207   0    \n",
              "210   0    \n",
              "214   0    \n",
              "215   0    \n",
              "63.1  0    \n",
              "165.1 0    \n",
              "111.1 0    \n",
              "20.1  0    \n",
              "136.1 0    \n",
              "89.1  0    \n",
              "108.1 0    \n",
              "90.1  0    \n",
              "20.2  0    \n",
              "51.1  0    \n",
              "203.1 0    \n",
              "205.1 0    \n",
              "138.1 0    \n",
              "205.2 0    \n",
              "122.1 0    \n",
              "206.1 0    \n",
              "12.1  0    \n",
              "207.1 0    \n",
              "147.1 0    \n",
              "52.1  0    \n",
              "10.1  0    \n",
              "89.2  0    \n",
              "12.2  0    \n",
              "169.1 0    "
            ]
          },
          "metadata": {}
        }
      ]
    },
    {
      "cell_type": "markdown",
      "source": [
        "## 12. Split the dataset into training/testing data"
      ],
      "metadata": {
        "id": "tDGiKrTlgNRP"
      }
    },
    {
      "cell_type": "code",
      "source": [
        "# Before splitting\n",
        "cat(\"BEFORE SPLITTING:\\n\")\n",
        "cat(\"Total rows:\", nrow(MyData), \"\\n\")\n",
        "cat(\"Class counts:\\n\")\n",
        "cat(\"Class 0:\", sum(MyData$class == 0), \"\\n\")\n",
        "cat(\"Class 1:\", sum(MyData$class == 1), \"\\n\\n\")\n",
        "\n",
        "# Set seed and split\n",
        "set.seed(123)\n",
        "train_indices <- sample(1:nrow(MyData), size = round(0.8 * nrow(MyData)))\n",
        "train_data <- MyData[train_indices, ]\n",
        "test_data <- MyData[-train_indices, ]\n",
        "\n",
        "# After splitting\n",
        "cat(\"AFTER SPLITTING (80% train, 20% test):\\n\")\n",
        "cat(\"Training set:\", nrow(train_data), \"rows (\",\n",
        "    round(nrow(train_data)/nrow(MyData)*100, 1), \"%)\\n\")\n",
        "cat(\"Class 0:\", sum(train_data$class == 0), \"\\n\")\n",
        "cat(\"Class 1:\", sum(train_data$class == 1), \"\\n\\n\")\n",
        "\n",
        "cat(\"Testing set:\", nrow(test_data), \"rows (\",\n",
        "    round(nrow(test_data)/nrow(MyData)*100, 1), \"%)\\n\")\n",
        "cat(\"Class 0:\", sum(test_data$class == 0), \"\\n\")\n",
        "cat(\"Class 1:\", sum(test_data$class == 1), \"\\n\")\n"
      ],
      "metadata": {
        "id": "SX9AgpyOrKJx",
        "colab": {
          "base_uri": "https://localhost:8080/"
        },
        "outputId": "4656ad75-ebd1-4f0d-bcf9-2bb722853639"
      },
      "execution_count": 49,
      "outputs": [
        {
          "output_type": "stream",
          "name": "stdout",
          "text": [
            "BEFORE SPLITTING:\n",
            "Total rows: 240 \n",
            "Class counts:\n",
            "Class 0: 120 \n",
            "Class 1: 120 \n",
            "\n",
            "AFTER SPLITTING (80% train, 20% test):\n",
            "Training set: 192 rows ( 80 %)\n",
            "Class 0: 93 \n",
            "Class 1: 99 \n",
            "\n",
            "Testing set: 48 rows ( 20 %)\n",
            "Class 0: 27 \n",
            "Class 1: 21 \n"
          ]
        }
      ]
    },
    {
      "cell_type": "markdown",
      "source": [
        "---"
      ],
      "metadata": {
        "id": "eibMbR4EF6Zg"
      }
    }
  ]
}